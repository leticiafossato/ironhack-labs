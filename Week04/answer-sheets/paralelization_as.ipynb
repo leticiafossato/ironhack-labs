{
 "cells": [
  {
   "cell_type": "markdown",
   "metadata": {},
   "source": [
    "![Ironhack logo](https://i.imgur.com/1QgrNNw.png)\n",
    "\n",
    "# Lab | Parallelization\n",
    "\n",
    "## Introduction\n",
    "\n",
    "In the parallelization lesson, we saw two examples of how we could implement parallelization using the multiprocessing library to speed up the tasks that we need to perform.\n",
    "\n",
    "This lab will combine parallelization with some of the other topics you have learned in the Intermediate Python module of this program (list comprehensions, requests library, functional programming, web scraping, etc.). You will write code that extracts a list of links from a web page, requests each URL, and then indexes the page referenced by each link - both sequentially and in parallel.\n",
    "\n",
    "## Resources\n",
    "\n",
    "- [Multiprocessing Library Documentation](https://docs.python.org/3/library/multiprocessing.html?highlight=multiprocessing#module-multiprocessing)\n",
    "- [Python Parallel Computing (in 60 Seconds or less)](https://dbader.org/blog/python-parallel-computing-in-60-seconds)\n",
    "- [Python Multiprocessing: Pool vs Process – Comparative Analysis](https://www.ellicium.com/python-multiprocessing-pool-process/)"
   ]
  },
  {
   "cell_type": "markdown",
   "metadata": {
    "colab_type": "text",
    "id": "n6mRuGX2AWQ2"
   },
   "source": [
    "# Parallelization Lab\n",
    "\n",
    "In this lab, you will be leveraging several concepts you have learned to obtain a list of links from a web page and crawl and index the pages referenced by those links - both sequentially and in parallel. Follow the steps below to complete the lab."
   ]
  },
  {
   "cell_type": "markdown",
   "metadata": {
    "colab_type": "text",
    "id": "YQUSp94RAWQ4"
   },
   "source": [
    "## Step 1: Use the requests library to retrieve the content from the URL below."
   ]
  },
  {
   "cell_type": "code",
   "execution_count": 1,
   "metadata": {
    "ExecuteTime": {
     "end_time": "2020-06-29T20:03:36.690119Z",
     "start_time": "2020-06-29T20:03:36.353312Z"
    },
    "colab": {},
    "colab_type": "code",
    "id": "7yK4Z7r4AWQ4"
   },
   "outputs": [],
   "source": [
    "import requests\n",
    "url = 'https://en.wikipedia.org/wiki/Data_science'"
   ]
  },
  {
   "cell_type": "code",
   "execution_count": 2,
   "metadata": {
    "ExecuteTime": {
     "end_time": "2020-06-29T20:03:37.310177Z",
     "start_time": "2020-06-29T20:03:36.695115Z"
    },
    "colab": {},
    "colab_type": "code",
    "id": "sAQ_os7vAWQ9"
   },
   "outputs": [],
   "source": [
    "html = requests.get(url).content;"
   ]
  },
  {
   "cell_type": "markdown",
   "metadata": {
    "colab_type": "text",
    "id": "X8LfHrmwAWRE"
   },
   "source": [
    "## Step 2: Use BeautifulSoup to extract a list of all the unique links on the page."
   ]
  },
  {
   "cell_type": "code",
   "execution_count": 3,
   "metadata": {
    "ExecuteTime": {
     "end_time": "2020-06-29T20:03:37.552021Z",
     "start_time": "2020-06-29T20:03:37.317159Z"
    },
    "colab": {},
    "colab_type": "code",
    "id": "iZ9gYv9_AWRF"
   },
   "outputs": [],
   "source": [
    "from bs4 import BeautifulSoup;"
   ]
  },
  {
   "cell_type": "code",
   "execution_count": 4,
   "metadata": {
    "ExecuteTime": {
     "end_time": "2020-06-29T20:03:37.694061Z",
     "start_time": "2020-06-29T20:03:37.556126Z"
    },
    "colab": {},
    "colab_type": "code",
    "id": "8W-rZeCvAWRI",
    "scrolled": true
   },
   "outputs": [],
   "source": [
    "soup = BeautifulSoup(html, \"lxml\");\n",
    "link_tags = soup.find_all('a', href=True);\n",
    "links = list(set([link['href'] for link in link_tags]));"
   ]
  },
  {
   "cell_type": "markdown",
   "metadata": {
    "colab_type": "text",
    "id": "4cX7Ysz7AWRL"
   },
   "source": [
    "## Step 3: Use list comprehensions with conditions to clean the link list.\n",
    "\n",
    "There are two types of links, absolute and relative. Absolute links have the full URL and begin with http while relative links begin with a forward slash (/) and point to an internal page within the wikipedia.org domain. Clean the respective types of URLs as follows.\n",
    "\n",
    "- Absolute Links: Create a list of these and remove any that contain a percentage sign (%).\n",
    "- Relative Links: Create a list of these, add the domain to the link so that you have the full URL, and remove any that contain a percentage sign (%).\n",
    "- Combine the list of absolute and relative links and ensure there are no duplicates."
   ]
  },
  {
   "cell_type": "code",
   "execution_count": 5,
   "metadata": {
    "ExecuteTime": {
     "end_time": "2020-06-29T20:03:37.702061Z",
     "start_time": "2020-06-29T20:03:37.699060Z"
    },
    "colab": {},
    "colab_type": "code",
    "id": "7fQlEH72AWRM"
   },
   "outputs": [],
   "source": [
    "domain = 'http://wikipedia.org';"
   ]
  },
  {
   "cell_type": "code",
   "execution_count": 6,
   "metadata": {
    "ExecuteTime": {
     "end_time": "2020-06-29T20:03:37.731043Z",
     "start_time": "2020-06-29T20:03:37.709058Z"
    },
    "colab": {},
    "colab_type": "code",
    "id": "E3WgzEvTAWRQ"
   },
   "outputs": [],
   "source": [
    "absolute = [link for link in links if link.startswith('http') and '%' not in link];"
   ]
  },
  {
   "cell_type": "code",
   "execution_count": 7,
   "metadata": {
    "ExecuteTime": {
     "end_time": "2020-06-29T20:03:37.745036Z",
     "start_time": "2020-06-29T20:03:37.734039Z"
    },
    "colab": {},
    "colab_type": "code",
    "id": "RKruC4gRAWRV"
   },
   "outputs": [],
   "source": [
    "relative = [domain + link for link in links if link.startswith('/') and not link.startswith('//') and '%' not in link];"
   ]
  },
  {
   "cell_type": "code",
   "execution_count": 8,
   "metadata": {
    "ExecuteTime": {
     "end_time": "2020-06-29T20:03:37.758027Z",
     "start_time": "2020-06-29T20:03:37.749030Z"
    },
    "colab": {},
    "colab_type": "code",
    "id": "-fRdXUevAWRZ"
   },
   "outputs": [],
   "source": [
    "urls = list(set(absolute + relative));"
   ]
  },
  {
   "cell_type": "markdown",
   "metadata": {
    "colab_type": "text",
    "id": "5DRkHpKrAWRb"
   },
   "source": [
    "## Step 4: Use the os library to create a folder called *wikipedia* and make that the current working directory."
   ]
  },
  {
   "cell_type": "code",
   "execution_count": 9,
   "metadata": {
    "ExecuteTime": {
     "end_time": "2020-06-29T20:03:37.772019Z",
     "start_time": "2020-06-29T20:03:37.760025Z"
    },
    "colab": {},
    "colab_type": "code",
    "id": "aqOBjdirAWRc"
   },
   "outputs": [],
   "source": [
    "import os;"
   ]
  },
  {
   "cell_type": "code",
   "execution_count": 10,
   "metadata": {
    "ExecuteTime": {
     "end_time": "2020-06-29T20:03:37.791010Z",
     "start_time": "2020-06-29T20:03:37.776016Z"
    },
    "colab": {},
    "colab_type": "code",
    "id": "7ZdltbH6AWRg"
   },
   "outputs": [],
   "source": [
    "folder = './wikipedia'\n",
    "\n",
    "if not os.path.exists(folder):\n",
    "    os.makedirs(folder)\n",
    "\n",
    "os.chdir(folder)\n",
    "path = os.getcwd() "
   ]
  },
  {
   "cell_type": "markdown",
   "metadata": {
    "colab_type": "text",
    "id": "RGyDklfYAWRk"
   },
   "source": [
    "## Step 5: Write a function called index_page that accepts a link and does the following.\n",
    "\n",
    "- Tries to request the content of the page referenced by that link.\n",
    "- Slugifies the filename using the `slugify` function from the [python-slugify](https://pypi.org/project/python-slugify/) library and adds a .html file extension.\n",
    "    - If you don't already have the python-slugify library installed, you can pip install it as follows: `$ pip install python-slugify`.\n",
    "    - To import the slugify function, you would do the following: `from slugify import slugify`.\n",
    "    - You can then slugify a link as follows `slugify(link)`.\n",
    "- Creates a file in the wikipedia folder using the slugified filename and writes the contents of the page to the file.\n",
    "- If an exception occurs during the process above, just `pass`."
   ]
  },
  {
   "cell_type": "code",
   "execution_count": 11,
   "metadata": {
    "ExecuteTime": {
     "end_time": "2020-06-29T20:03:37.833981Z",
     "start_time": "2020-06-29T20:03:37.797004Z"
    },
    "colab": {},
    "colab_type": "code",
    "id": "034SMePJAWRm"
   },
   "outputs": [],
   "source": [
    "from slugify import slugify"
   ]
  },
  {
   "cell_type": "code",
   "execution_count": 12,
   "metadata": {
    "ExecuteTime": {
     "end_time": "2020-06-29T20:03:37.842978Z",
     "start_time": "2020-06-29T20:03:37.835980Z"
    },
    "colab": {},
    "colab_type": "code",
    "id": "K8TjKxI-AWRr"
   },
   "outputs": [],
   "source": [
    "#if you have window you will need to import all libraries and define all variables used inside the function\n",
    "def index_page(url):\n",
    "    #import requests\n",
    "    #from slugify import slugify\n",
    "    #import os\n",
    "    #path = os.getcwd()\n",
    "    try:\n",
    "        html = requests.get(url).content\n",
    "        filename = slugify(url).lower() + \".html\"\n",
    "        with open(path + '/' + filename, \"wb\") as f:\n",
    "            f.write(html)\n",
    "    except:\n",
    "        pass"
   ]
  },
  {
   "cell_type": "markdown",
   "metadata": {
    "colab_type": "text",
    "id": "uOVjV8KWAWRu"
   },
   "source": [
    "## Step 6: Sequentially loop through the list of links, running the index_page function each time.\n",
    "\n",
    "Remember to include `%%time` at the beginning of the cell so that it measures the time it takes for the cell to run."
   ]
  },
  {
   "cell_type": "code",
   "execution_count": 13,
   "metadata": {
    "ExecuteTime": {
     "end_time": "2020-06-29T20:11:28.102014Z",
     "start_time": "2020-06-29T20:03:37.844975Z"
    },
    "colab": {},
    "colab_type": "code",
    "id": "JKIj4pJgAWRu",
    "outputId": "8ef05761-b75e-4bb5-ed34-92bb54cea04a"
   },
   "outputs": [
    {
     "name": "stdout",
     "output_type": "stream",
     "text": [
      "Wall time: 7min 50s\n"
     ]
    }
   ],
   "source": [
    "%%time\n",
    "for url in urls:\n",
    "    index_page(url)"
   ]
  },
  {
   "cell_type": "markdown",
   "metadata": {
    "colab_type": "text",
    "id": "oRo4XekYAWR0"
   },
   "source": [
    "## Step 7: Perform the page indexing in parallel and note the difference in performance.\n",
    "\n",
    "Remember to include `%%time` at the beginning of the cell so that it measures the time it takes for the cell to run."
   ]
  },
  {
   "cell_type": "code",
   "execution_count": 14,
   "metadata": {
    "ExecuteTime": {
     "end_time": "2020-06-29T20:11:28.163980Z",
     "start_time": "2020-06-29T20:11:28.104015Z"
    },
    "colab": {},
    "colab_type": "code",
    "id": "38khI1NqAWR2"
   },
   "outputs": [],
   "source": [
    "import multiprocessing\n",
    "# If you are using windows use the multiprocess library "
   ]
  },
  {
   "cell_type": "code",
   "execution_count": 15,
   "metadata": {
    "ExecuteTime": {
     "end_time": "2020-06-29T20:12:38.398687Z",
     "start_time": "2020-06-29T20:11:28.166978Z"
    },
    "colab": {},
    "colab_type": "code",
    "id": "T1-dvNOfAWR5",
    "outputId": "c91211cd-154a-45cb-81a1-d8b1ba43e037",
    "scrolled": true
   },
   "outputs": [
    {
     "name": "stdout",
     "output_type": "stream",
     "text": [
      "Wall time: 1min 10s\n"
     ]
    }
   ],
   "source": [
    "%%time\n",
    "pool = multiprocessing.Pool()\n",
    "#pool = multiprocess.Pool()\n",
    "result = pool.map(index_page, urls)\n",
    "pool.terminate()"
   ]
  },
  {
   "cell_type": "code",
   "execution_count": null,
   "metadata": {},
   "outputs": [],
   "source": []
  },
  {
   "cell_type": "markdown",
   "metadata": {},
   "source": [
    "**BONUS**: Create a function that counts how many files are there in the wikipedia folder using the `os` module. \n",
    "\n",
    "Delete the files from the folder before you run and perform the above solution asynchronously. \n",
    "\n",
    "Use your function to check how many files are being downloaded."
   ]
  },
  {
   "cell_type": "code",
   "execution_count": 16,
   "metadata": {
    "ExecuteTime": {
     "end_time": "2020-06-29T20:12:38.408683Z",
     "start_time": "2020-06-29T20:12:38.402685Z"
    }
   },
   "outputs": [],
   "source": [
    "def count_itens(path):\n",
    "    return len(os.listdir(path))"
   ]
  },
  {
   "cell_type": "code",
   "execution_count": 17,
   "metadata": {
    "ExecuteTime": {
     "end_time": "2020-06-29T20:12:38.795481Z",
     "start_time": "2020-06-29T20:12:38.416677Z"
    }
   },
   "outputs": [],
   "source": [
    "pool = multiprocessing.Pool()\n",
    "#pool = multiprocess.Pool()\n",
    "result = pool.map_async(index_page, urls)"
   ]
  },
  {
   "cell_type": "code",
   "execution_count": 20,
   "metadata": {
    "ExecuteTime": {
     "end_time": "2020-06-29T20:13:45.454593Z",
     "start_time": "2020-06-29T20:13:45.442600Z"
    }
   },
   "outputs": [
    {
     "data": {
      "text/plain": [
       "24"
      ]
     },
     "execution_count": 20,
     "metadata": {},
     "output_type": "execute_result"
    }
   ],
   "source": [
    "count_itens(path)"
   ]
  },
  {
   "cell_type": "code",
   "execution_count": 21,
   "metadata": {
    "ExecuteTime": {
     "end_time": "2020-06-29T20:13:52.415520Z",
     "start_time": "2020-06-29T20:13:52.409539Z"
    }
   },
   "outputs": [
    {
     "data": {
      "text/plain": [
       "30"
      ]
     },
     "execution_count": 21,
     "metadata": {},
     "output_type": "execute_result"
    }
   ],
   "source": [
    "count_itens(path)"
   ]
  },
  {
   "cell_type": "code",
   "execution_count": null,
   "metadata": {},
   "outputs": [],
   "source": []
  }
 ],
 "metadata": {
  "colab": {
   "collapsed_sections": [],
   "name": "paralelization_as.ipynb",
   "provenance": []
  },
  "hide_input": false,
  "kernelspec": {
   "display_name": "Python 3",
   "language": "python",
   "name": "python3"
  },
  "language_info": {
   "codemirror_mode": {
    "name": "ipython",
    "version": 3
   },
   "file_extension": ".py",
   "mimetype": "text/x-python",
   "name": "python",
   "nbconvert_exporter": "python",
   "pygments_lexer": "ipython3",
   "version": "3.7.4"
  },
  "toc": {
   "base_numbering": 1,
   "nav_menu": {},
   "number_sections": true,
   "sideBar": true,
   "skip_h1_title": false,
   "title_cell": "Table of Contents",
   "title_sidebar": "Contents",
   "toc_cell": false,
   "toc_position": {},
   "toc_section_display": true,
   "toc_window_display": false
  },
  "varInspector": {
   "cols": {
    "lenName": 16,
    "lenType": 16,
    "lenVar": 40
   },
   "kernels_config": {
    "python": {
     "delete_cmd_postfix": "",
     "delete_cmd_prefix": "del ",
     "library": "var_list.py",
     "varRefreshCmd": "print(var_dic_list())"
    },
    "r": {
     "delete_cmd_postfix": ") ",
     "delete_cmd_prefix": "rm(",
     "library": "var_list.r",
     "varRefreshCmd": "cat(var_dic_list()) "
    }
   },
   "types_to_exclude": [
    "module",
    "function",
    "builtin_function_or_method",
    "instance",
    "_Feature"
   ],
   "window_display": false
  }
 },
 "nbformat": 4,
 "nbformat_minor": 1
}
