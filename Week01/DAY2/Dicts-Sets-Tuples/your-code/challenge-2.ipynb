{
 "cells": [
  {
   "cell_type": "markdown",
   "metadata": {},
   "source": [
    "## Challenge 2: Sets\n",
    "\n",
    "There are a lot to learn about Python Sets and the information presented in the lesson is limited due to its length. To learn Python Sets in depth you are strongly encouraged to review the W3Schools tutorial on [Python Sets Examples and Methods](https://www.w3schools.com/python/python_sets.asp) before you work on this lab. Some difficult questions in this lab have their solutions in the W3Schools tutorial.\n",
    "\n",
    "#### First, import the Python `random` library."
   ]
  },
  {
   "cell_type": "code",
   "execution_count": 1,
   "metadata": {},
   "outputs": [],
   "source": [
    "import random"
   ]
  },
  {
   "cell_type": "markdown",
   "metadata": {},
   "source": [
    "#### In the cell below, create a list named `sample_list_1` with 80 random values. \n",
    "\n",
    "Requirements:\n",
    "\n",
    "* Each value is an integer falling between 0 and 100.\n",
    "* Each value in the list is unique.\n",
    "\n",
    "Print `sample_list_1` to review its values\n",
    "\n",
    "*Hint: use `random.sample` ([reference](https://docs.python.org/3/library/random.html#random.sample)).*"
   ]
  },
  {
   "cell_type": "code",
   "execution_count": 2,
   "metadata": {},
   "outputs": [
    {
     "name": "stdout",
     "output_type": "stream",
     "text": [
      "sample_list_1= [87, 37, 27, 14, 8, 4, 35, 59, 38, 6, 11, 65, 31, 30, 12, 74, 13, 57, 10, 44, 80, 84, 90, 45, 24, 95, 25, 67, 53, 69, 50, 72, 18, 93, 2, 66, 89, 22, 76, 64, 5, 39, 62, 36, 51, 81, 79, 3, 99, 78, 96, 0, 91, 68, 88, 17, 40, 70, 92, 58, 63, 73, 46, 32, 82, 94, 71, 16, 55, 28, 48, 54, 43, 21, 41, 49, 47, 61, 33, 34]\n"
     ]
    }
   ],
   "source": [
    "# Your code here\n",
    "sample_list_1= random.sample(range(100), k=80)\n",
    "print(\"sample_list_1=\",sample_list_1)"
   ]
  },
  {
   "cell_type": "markdown",
   "metadata": {},
   "source": [
    "#### Convert `sample_list_1` to a set called `set1`. Print the length of the set. Is its length still 80?"
   ]
  },
  {
   "cell_type": "code",
   "execution_count": 3,
   "metadata": {},
   "outputs": [
    {
     "name": "stdout",
     "output_type": "stream",
     "text": [
      "The length of set1 is: 80\n",
      "The length still 80!\n"
     ]
    }
   ],
   "source": [
    "# Your code here\n",
    "set1=set(sample_list_1)\n",
    "print(\"The length of set1 is:\",len(set1))\n",
    "if(len(set1)==80):\n",
    "    print(\"The length still 80!\")\n",
    "else:\n",
    "    print(\"The length changed!\")     \n",
    "    \n"
   ]
  },
  {
   "cell_type": "markdown",
   "metadata": {},
   "source": [
    "#### Create another list named `sample_list_2` with 80 random values.\n",
    "\n",
    "Requirements:\n",
    "\n",
    "* Each value is an integer falling between 0 and 100.\n",
    "* The values in the list don't have to be unique.\n",
    "\n",
    "*Hint: Use a FOR loop.*"
   ]
  },
  {
   "cell_type": "code",
   "execution_count": 4,
   "metadata": {},
   "outputs": [
    {
     "name": "stdout",
     "output_type": "stream",
     "text": [
      "sample_list 2= [28, 46, 63, 89, 91, 9, 86, 92, 40, 37, 5, 58, 51, 85, 84, 61, 87, 81, 41, 93, 6, 18, 52, 99, 57, 28, 74, 62, 55, 58, 21, 7, 65, 29, 57, 81, 92, 84, 14, 61, 21, 58, 12, 10, 1, 12, 1, 52, 76, 43, 96, 87, 46, 18, 3, 46, 93, 95, 18, 16, 9, 31, 38, 92, 47, 41, 83, 60, 77, 24, 48, 45, 3, 31, 64, 14, 66, 79, 2, 98]\n"
     ]
    }
   ],
   "source": [
    "# Your code here\n",
    "sample_list_2=[]\n",
    "for i in range(0,80):\n",
    "    sample_list_2.append(random.choice(range(100)))\n",
    "print(\"sample_list 2=\",sample_list_2)\n",
    "    \n",
    "#modo 02:\n",
    "#import numpy as np\n",
    "#sample_list_2=np.random.choice(100, 80, replace=True)\n",
    "#print(sample_list_2)"
   ]
  },
  {
   "cell_type": "markdown",
   "metadata": {},
   "source": [
    "#### Convert `sample_list_2` to a set called `set2`. Print the length of the set. Is its length still 80?"
   ]
  },
  {
   "cell_type": "code",
   "execution_count": 5,
   "metadata": {},
   "outputs": [
    {
     "name": "stdout",
     "output_type": "stream",
     "text": [
      "The lenght of set2 is: 56\n",
      "The length changed!\n"
     ]
    }
   ],
   "source": [
    "# Your code here\n",
    "set2=set(sample_list_2)\n",
    "print(\"The lenght of set2 is:\", len(set2))\n",
    "if(len(set2)==80):\n",
    "    print(\"The length still 80!\")\n",
    "else:\n",
    "    print(\"The length changed!\")  "
   ]
  },
  {
   "cell_type": "markdown",
   "metadata": {},
   "source": [
    "#### Identify the elements present in `set1` but not in `set2`. Assign the elements to a new set named `set3`."
   ]
  },
  {
   "cell_type": "code",
   "execution_count": 6,
   "metadata": {},
   "outputs": [
    {
     "name": "stdout",
     "output_type": "stream",
     "text": [
      "{0, 4, 8, 11, 13, 17, 22, 25, 27, 30, 32, 33, 34, 35, 36, 39, 44, 49, 50, 53, 54, 59, 67, 68, 69, 70, 71, 72, 73, 78, 80, 82, 88, 90, 94}\n"
     ]
    }
   ],
   "source": [
    "# Your code here\n",
    "set3=[]\n",
    "\n",
    "for i in range(len(set1)):\n",
    "    if(list(set1)[i] not in list(set2)):\n",
    "        set3.append(list(set1)[i])\n",
    "set3=set(set3) #transformando a lista em set novamente\n",
    "\n",
    "print(set3)"
   ]
  },
  {
   "cell_type": "markdown",
   "metadata": {},
   "source": [
    "#### Identify the elements present in `set2` but not in `set1`. Assign the elements to a new set named `set4`."
   ]
  },
  {
   "cell_type": "code",
   "execution_count": 7,
   "metadata": {},
   "outputs": [
    {
     "name": "stdout",
     "output_type": "stream",
     "text": [
      "{1, 98, 7, 9, 77, 83, 52, 85, 86, 60, 29}\n"
     ]
    }
   ],
   "source": [
    "# Your code here\n",
    "set4=[]\n",
    "\n",
    "for i in range(len(set2)):\n",
    "    if(list(set2)[i] not in list(set1)):\n",
    "        set4.append(list(set2)[i])\n",
    "set4=set(set4) #transformando a lista em set novamente\n",
    "\n",
    "print(set4)"
   ]
  },
  {
   "cell_type": "markdown",
   "metadata": {},
   "source": [
    "#### Now Identify the elements shared between `set1` and `set2`. Assign the elements to a new set named `set5`."
   ]
  },
  {
   "cell_type": "code",
   "execution_count": 8,
   "metadata": {},
   "outputs": [
    {
     "name": "stdout",
     "output_type": "stream",
     "text": [
      "{2, 3, 5, 6, 10, 12, 14, 16, 18, 21, 24, 28, 31, 37, 38, 40, 41, 43, 45, 46, 47, 48, 51, 55, 57, 58, 61, 62, 63, 64, 65, 66, 74, 76, 79, 81, 84, 87, 89, 91, 92, 93, 95, 96, 99}\n"
     ]
    }
   ],
   "source": [
    "# Your code here\n",
    "set5=[]\n",
    "\n",
    "for i in range(len(set1)):\n",
    "    if(list(set1)[i] in list(set2)):\n",
    "        set5.append(list(set1)[i])\n",
    "set5=set(set5) #transformando a lista em set novamente\n",
    "\n",
    "print(set5)"
   ]
  },
  {
   "cell_type": "markdown",
   "metadata": {},
   "source": [
    "#### What is the relationship among the following values:\n",
    "\n",
    "* len(set1)\n",
    "* len(set2)\n",
    "* len(set3)\n",
    "* len(set4)\n",
    "* len(set5)\n",
    "\n",
    "Use a math formular to represent that relationship. Test your formular with Python code."
   ]
  },
  {
   "cell_type": "code",
   "execution_count": 9,
   "metadata": {
    "scrolled": true
   },
   "outputs": [
    {
     "name": "stdout",
     "output_type": "stream",
     "text": [
      "               len(set1)   len(set2)   len(set3)   len(set4)   len(set5)\n",
      " len(set1)       1.00        1.43        2.29        7.27       1.78 \n",
      " len(set2)       0.70        1.00        1.60        5.09       1.24 \n",
      " len(set3)       0.44        0.62        1.00        3.18       0.78 \n",
      " len(set4)       0.14        0.20        0.31        1.00       0.24 \n",
      " len(set5)       0.56        0.80        1.29        4.09       1.00 \n"
     ]
    }
   ],
   "source": [
    "# Your code here\n",
    "\n",
    "def l(a,b):\n",
    "    x=len(a)/len(b)\n",
    "    return x\n",
    "\n",
    "print('               len(set1)   len(set2)   len(set3)   len(set4)   len(set5)') \n",
    "\n",
    "linha = [l(set1,set1), l(set1,set2), l(set1,set3), l(set1,set4), l(set1,set5)]\n",
    "len1, len2, len3, len4, len5 = linha\n",
    "print(f' len(set1)  {len1:>9,.2f}   {len2:>9,.2f}   {len3:>9,.2f}   {len4:>9,.2f} {len5:>10,.2f} ') \n",
    "\n",
    "linha = [l(set2,set1), l(set2,set2), l(set2,set3), l(set2,set4), l(set2,set5)]\n",
    "len1, len2, len3, len4, len5 = linha\n",
    "print(f' len(set2)  {len1:>9,.2f}   {len2:>9,.2f}   {len3:>9,.2f}   {len4:>9,.2f} {len5:>10,.2f} ') \n",
    "\n",
    "linha = [l(set3,set1), l(set3,set2), l(set3,set3), l(set3,set4), l(set3,set5)]\n",
    "len1, len2, len3, len4, len5 = linha\n",
    "print(f' len(set3)  {len1:>9,.2f}   {len2:>9,.2f}   {len3:>9,.2f}   {len4:>9,.2f} {len5:>10,.2f} ') \n",
    "\n",
    "linha = [l(set4,set1), l(set4,set2), l(set4,set3), l(set4,set4), l(set4,set5)]\n",
    "len1, len2, len3, len4, len5 = linha\n",
    "print(f' len(set4)  {len1:>9,.2f}   {len2:>9,.2f}   {len3:>9,.2f}   {len4:>9,.2f} {len5:>10,.2f} ') \n",
    "\n",
    "linha = [l(set5,set1), l(set5,set2), l(set5,set3), l(set5,set4), l(set5,set5)]\n",
    "len1, len2, len3, len4, len5 = linha\n",
    "print(f' len(set5)  {len1:>9,.2f}   {len2:>9,.2f}   {len3:>9,.2f}   {len4:>9,.2f} {len5:>10,.2f} ')\n"
   ]
  },
  {
   "cell_type": "markdown",
   "metadata": {},
   "source": [
    "#### Create an empty set called `set6`."
   ]
  },
  {
   "cell_type": "code",
   "execution_count": 10,
   "metadata": {},
   "outputs": [
    {
     "data": {
      "text/plain": [
       "set"
      ]
     },
     "execution_count": 10,
     "metadata": {},
     "output_type": "execute_result"
    }
   ],
   "source": [
    "# Your code here\n",
    "set6=set()\n",
    "type(set6) #Checking if set6 it's a set"
   ]
  },
  {
   "cell_type": "markdown",
   "metadata": {},
   "source": [
    "#### Add `set3` and `set5` to `set6` using the Python Set `update` method."
   ]
  },
  {
   "cell_type": "code",
   "execution_count": 11,
   "metadata": {},
   "outputs": [
    {
     "name": "stdout",
     "output_type": "stream",
     "text": [
      "{0, 2, 3, 4, 5, 6, 8, 10, 11, 12, 13, 14, 16, 17, 18, 21, 22, 24, 25, 27, 28, 30, 31, 32, 33, 34, 35, 36, 37, 38, 39, 40, 41, 43, 44, 45, 46, 47, 48, 49, 50, 51, 53, 54, 55, 57, 58, 59, 61, 62, 63, 64, 65, 66, 67, 68, 69, 70, 71, 72, 73, 74, 76, 78, 79, 80, 81, 82, 84, 87, 88, 89, 90, 91, 92, 93, 94, 95, 96, 99}\n"
     ]
    }
   ],
   "source": [
    "# Your code here\n",
    "\n",
    "set6.update(set5)\n",
    "set6.update(set3)\n",
    "print(set6)"
   ]
  },
  {
   "cell_type": "markdown",
   "metadata": {},
   "source": [
    "#### Check if `set1` and `set6` are equal."
   ]
  },
  {
   "cell_type": "code",
   "execution_count": 12,
   "metadata": {},
   "outputs": [
    {
     "data": {
      "text/plain": [
       "True"
      ]
     },
     "execution_count": 12,
     "metadata": {},
     "output_type": "execute_result"
    }
   ],
   "source": [
    "# Your code here\n",
    "set1==set6"
   ]
  },
  {
   "cell_type": "markdown",
   "metadata": {},
   "source": [
    "#### Check if `set1` contains `set2` using the Python Set `issubset` method. Then check if `set1` contains `set3`.*"
   ]
  },
  {
   "cell_type": "code",
   "execution_count": 13,
   "metadata": {},
   "outputs": [
    {
     "name": "stdout",
     "output_type": "stream",
     "text": [
      "Set1 contains set2? False\n",
      "Set1 contains set3? True\n"
     ]
    }
   ],
   "source": [
    "# Your code here\n",
    "print(\"Set1 contains set2?\", set2.issubset(set1))\n",
    "print(\"Set1 contains set3?\", set3.issubset(set1))"
   ]
  },
  {
   "cell_type": "markdown",
   "metadata": {},
   "source": [
    "#### Using the Python Set `union` method, aggregate `set3`, `set4`, and `set5`. Then aggregate `set1` and `set2`. \n",
    "\n",
    "#### Check if the aggregated values are equal."
   ]
  },
  {
   "cell_type": "code",
   "execution_count": 14,
   "metadata": {},
   "outputs": [
    {
     "name": "stdout",
     "output_type": "stream",
     "text": [
      "Union of set3, set4, and set5 = {0, 2, 3, 4, 5, 6, 8, 10, 11, 12, 13, 14, 16, 17, 18, 21, 22, 24, 25, 27, 28, 30, 31, 32, 33, 34, 35, 36, 37, 38, 39, 40, 41, 43, 44, 45, 46, 47, 48, 49, 50, 51, 53, 54, 55, 57, 58, 59, 61, 62, 63, 64, 65, 66, 67, 68, 69, 70, 71, 72, 73, 74, 76, 78, 79, 80, 81, 82, 84, 87, 88, 89, 90, 91, 92, 93, 94, 95, 96, 99}\n",
      "Union of set1 and set2 = {0, 1, 2, 3, 4, 5, 6, 7, 8, 9, 10, 11, 12, 13, 14, 16, 17, 18, 21, 22, 24, 25, 27, 28, 29, 30, 31, 32, 33, 34, 35, 36, 37, 38, 39, 40, 41, 43, 44, 45, 46, 47, 48, 49, 50, 51, 52, 53, 54, 55, 57, 58, 59, 60, 61, 62, 63, 64, 65, 66, 67, 68, 69, 70, 71, 72, 73, 74, 76, 77, 78, 79, 80, 81, 82, 83, 84, 85, 86, 87, 88, 89, 90, 91, 92, 93, 94, 95, 96, 98, 99}\n"
     ]
    }
   ],
   "source": [
    "# Your code here\n",
    "\n",
    "print(\"Union of set3, set4, and set5 =\",set3.union(set3,set5))\n",
    "print(\"Union of set1 and set2 =\",set1.union(set2))\n",
    "\n"
   ]
  },
  {
   "cell_type": "markdown",
   "metadata": {},
   "source": [
    "#### Using the `pop` method, remove the first element from `set1`."
   ]
  },
  {
   "cell_type": "code",
   "execution_count": 15,
   "metadata": {},
   "outputs": [
    {
     "name": "stdout",
     "output_type": "stream",
     "text": [
      "set1 =  {2, 3, 4, 5, 6, 8, 10, 11, 12, 13, 14, 16, 17, 18, 21, 22, 24, 25, 27, 28, 30, 31, 32, 33, 34, 35, 36, 37, 38, 39, 40, 41, 43, 44, 45, 46, 47, 48, 49, 50, 51, 53, 54, 55, 57, 58, 59, 61, 62, 63, 64, 65, 66, 67, 68, 69, 70, 71, 72, 73, 74, 76, 78, 79, 80, 81, 82, 84, 87, 88, 89, 90, 91, 92, 93, 94, 95, 96, 99}\n",
      "\n",
      "set1 length = 79\n"
     ]
    }
   ],
   "source": [
    "# Your code here\n",
    "\n",
    "#Removing the first element:\n",
    "list_set1=list(set1)\n",
    "list_set1.pop(0) \n",
    "set1=set(list_set1)\n",
    "\n",
    "#Checking if it works\n",
    "print(\"set1 = \",set1)\n",
    "print(\"\\nset1 length =\",len(set1))"
   ]
  },
  {
   "cell_type": "markdown",
   "metadata": {},
   "source": [
    "#### Remove every element in the following list from `set1` if they are present in the set. Print the remaining elements.\n",
    "\n",
    "```\n",
    "list_to_remove = [1, 9, 11, 19, 21, 29, 31, 39, 41, 49, 51, 59, 61, 69, 71, 79, 81, 89, 91, 99]\n",
    "```"
   ]
  },
  {
   "cell_type": "code",
   "execution_count": 16,
   "metadata": {},
   "outputs": [
    {
     "name": "stdout",
     "output_type": "stream",
     "text": [
      "set1 = {2, 3, 4, 5, 6, 8, 10, 12, 13, 14, 16, 17, 18, 22, 24, 25, 27, 28, 30, 32, 33, 34, 35, 36, 37, 38, 40, 43, 44, 45, 46, 47, 48, 50, 53, 54, 55, 57, 58, 62, 63, 64, 65, 66, 67, 68, 70, 72, 73, 74, 76, 78, 80, 82, 84, 87, 88, 90, 92, 93, 94, 95, 96}\n"
     ]
    }
   ],
   "source": [
    "# Your code here\n",
    "list_to_remove = [1, 9, 11, 19, 21, 29, 31, 39, 41, 49, 51, 59, 61, 69, 71, 79, 81, 89, 91, 99]\n",
    "list_set1=list(set1)\n",
    "\n",
    "for i in range(len(list_to_remove)):             #loop para analisar os elementos de list_to_remove, um a um\n",
    "    if list_to_remove[i] in set1:                #Verifica se o elemento de list_to_remove pertence ao set1\n",
    "        y=list_set1.index(list_to_remove[i])     #Se verdadeiro, retorna o índice da list_set1\n",
    "        list_set1.pop(y)                         #Função pop list_set1 com referência aos índices calculados anteriormente\n",
    "        set1=set(list_set1)                      #Retorna a lista resultante, após o pop, para set\n",
    "\n",
    "print(\"set1 =\",set1)"
   ]
  }
 ],
 "metadata": {
  "kernelspec": {
   "display_name": "Python 3",
   "language": "python",
   "name": "python3"
  },
  "language_info": {
   "codemirror_mode": {
    "name": "ipython",
    "version": 3
   },
   "file_extension": ".py",
   "mimetype": "text/x-python",
   "name": "python",
   "nbconvert_exporter": "python",
   "pygments_lexer": "ipython3",
   "version": "3.8.5"
  }
 },
 "nbformat": 4,
 "nbformat_minor": 2
}
