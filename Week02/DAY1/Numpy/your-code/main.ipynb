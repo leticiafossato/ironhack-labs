{
 "cells": [
  {
   "cell_type": "markdown",
   "metadata": {
    "colab_type": "text",
    "id": "mN9kpE7hMEP-"
   },
   "source": [
    "![Ironhack logo](https://i.imgur.com/1QgrNNw.png)\n",
    "\n",
    "# Lab | Numpy\n",
    "\n",
    "## Introduction\n",
    "\n",
    "An important ability of a data scientist/data engineer is to know where and how to find information that helps you to accomplish your work. In the exercise, you will both practice the Numpy features we discussed in the lesson and learn new features by looking up documentations and references. You will work on your own but remember the teaching staff is at your service whenever you encounter problems.\n",
    "\n",
    "## Getting Started\n",
    "There are a bunch of comments which instruct what you are supposed to do step by step. Follow the order of the instructions from top to bottom. Read each instruction carefully and provide your answer beneath it. You should also test your answers to make sure your responses are correct. If one of your responses is incorrect, you may not be able to proceed because later responses may depend upon previous responses.\n",
    "\n",
    "\n",
    "## Resources\n",
    "\n",
    "Some of the questions in the assignment are not covered in our lesson. You will learn how to efficiently look up the information on your own. Below are some resources you can find the information you need.\n",
    "\n",
    "[Numpy User Guide](https://docs.scipy.org/doc/numpy/user/index.html)\n",
    "\n",
    "[Numpy Reference](https://docs.scipy.org/doc/numpy/reference/)\n",
    "\n",
    "[Google Search](https://www.google.com/search?q=how+to+use+numpy)\n",
    "\n"
   ]
  },
  {
   "cell_type": "markdown",
   "metadata": {
    "colab_type": "text",
    "id": "-we_8UVrwCc1"
   },
   "source": [
    "# Intrduction to NumPy\n",
    "\n",
    "\n",
    "#### 1. Import NumPy under the name np."
   ]
  },
  {
   "cell_type": "code",
   "execution_count": 1,
   "metadata": {
    "colab": {},
    "colab_type": "code",
    "id": "3fRJ8mtHwCc5"
   },
   "outputs": [
    {
     "name": "stdout",
     "output_type": "stream",
     "text": [
      "Requirement already satisfied: numpy in c:\\users\\letic\\appdata\\roaming\\python\\python38\\site-packages (1.19.1)\n"
     ]
    },
    {
     "name": "stderr",
     "output_type": "stream",
     "text": [
      "WARNING: You are using pip version 20.1.1; however, version 20.2.2 is available.\n",
      "You should consider upgrading via the 'c:\\users\\letic\\appdata\\local\\programs\\python\\python38-32\\python.exe -m pip install --upgrade pip' command.\n"
     ]
    }
   ],
   "source": [
    "# your code here\n",
    "!pip install numpy\n",
    "import numpy as np"
   ]
  },
  {
   "cell_type": "markdown",
   "metadata": {
    "colab_type": "text",
    "id": "8Xtbl_EvwCc9"
   },
   "source": [
    "#### 2. Print your NumPy version."
   ]
  },
  {
   "cell_type": "code",
   "execution_count": 11,
   "metadata": {
    "colab": {},
    "colab_type": "code",
    "id": "BlegxuJVwCc-"
   },
   "outputs": [
    {
     "data": {
      "text/plain": [
       "'1.19.1'"
      ]
     },
     "execution_count": 11,
     "metadata": {},
     "output_type": "execute_result"
    }
   ],
   "source": [
    "# your code here\n",
    "np.__version__"
   ]
  },
  {
   "cell_type": "markdown",
   "metadata": {
    "colab_type": "text",
    "id": "FpKgyatowCdC"
   },
   "source": [
    "#### 3. Generate a 3x2x5 3-dimensional array with random values. Assign the array to variable *a*.\n",
    "**Challenge**: there are at least three easy ways that use numpy to generate random arrays. How many ways can you find?\n",
    "\n",
    "**Example of output**:\n",
    "````python\n",
    "[[[0.29932768, 0.85812686, 0.75266145, 0.09278988, 0.78358352],\n",
    "  [0.13437453, 0.65695946, 0.82047594, 0.09764179, 0.52230096]],\n",
    " \n",
    " [[0.54248247, 0.06431281, 0.65902257, 0.92736679, 0.3302839 ],\n",
    "  [0.86867236, 0.33960592, 0.62295821, 0.74563567, 0.24351584]],\n",
    " \n",
    " [[0.21276812, 0.06917533, 0.35106591, 0.82273425, 0.7910178 ],\n",
    "  [0.37768961, 0.56107736, 0.99965953, 0.97615549, 0.2445537 ]]]\n",
    "````"
   ]
  },
  {
   "cell_type": "code",
   "execution_count": 12,
   "metadata": {
    "colab": {},
    "colab_type": "code",
    "id": "q6dKJNO4wCdH"
   },
   "outputs": [
    {
     "data": {
      "text/plain": [
       "array([[[5, 9, 2, 3, 2],\n",
       "        [5, 3, 0, 6, 3]],\n",
       "\n",
       "       [[0, 2, 8, 2, 0],\n",
       "        [6, 9, 5, 0, 6]],\n",
       "\n",
       "       [[0, 3, 9, 8, 1],\n",
       "        [1, 0, 1, 9, 3]]])"
      ]
     },
     "execution_count": 12,
     "metadata": {},
     "output_type": "execute_result"
    }
   ],
   "source": [
    "# Method 1\n",
    "a=np.random.randint(0,10,size=(3,2,5))\n",
    "a"
   ]
  },
  {
   "cell_type": "code",
   "execution_count": 13,
   "metadata": {
    "colab": {},
    "colab_type": "code",
    "id": "xILn36GWwCdK"
   },
   "outputs": [
    {
     "data": {
      "text/plain": [
       "array([[[1, 0, 0, 1, 1],\n",
       "        [1, 1, 0, 0, 1]],\n",
       "\n",
       "       [[1, 1, 0, 1, 0],\n",
       "        [0, 0, 0, 0, 0]],\n",
       "\n",
       "       [[0, 1, 1, 0, 1],\n",
       "        [0, 1, 0, 0, 1]]])"
      ]
     },
     "execution_count": 13,
     "metadata": {},
     "output_type": "execute_result"
    }
   ],
   "source": [
    "# Method 2\n",
    "np.random.choice([0, 1], size=(3,2,5), p=[0.5, 0.5])"
   ]
  },
  {
   "cell_type": "code",
   "execution_count": 14,
   "metadata": {},
   "outputs": [
    {
     "data": {
      "text/plain": [
       "array([[[0.74613522, 0.42307971, 0.27336438, 0.06446082, 0.83692143],\n",
       "        [0.76583375, 0.92720415, 0.19807632, 0.98395152, 0.41910702]],\n",
       "\n",
       "       [[0.11506398, 0.27676418, 0.91471331, 0.62527598, 0.89453859],\n",
       "        [0.90795555, 0.16802186, 0.76177159, 0.60773445, 0.40486619]],\n",
       "\n",
       "       [[0.41023143, 0.06989725, 0.02931532, 0.23889179, 0.59646613],\n",
       "        [0.02337149, 0.38677514, 0.35447234, 0.48550978, 0.39831896]]])"
      ]
     },
     "execution_count": 14,
     "metadata": {},
     "output_type": "execute_result"
    }
   ],
   "source": [
    "# Method 3\n",
    "a=np.random.random((3,2,5))\n",
    "a"
   ]
  },
  {
   "cell_type": "markdown",
   "metadata": {
    "colab_type": "text",
    "id": "aMHxBSCDwCdP"
   },
   "source": [
    "#### 4. Print *a*.\n"
   ]
  },
  {
   "cell_type": "code",
   "execution_count": 15,
   "metadata": {
    "colab": {},
    "colab_type": "code",
    "id": "N_NYL3pHwCdQ"
   },
   "outputs": [
    {
     "name": "stdout",
     "output_type": "stream",
     "text": [
      "[[[0.74613522 0.42307971 0.27336438 0.06446082 0.83692143]\n",
      "  [0.76583375 0.92720415 0.19807632 0.98395152 0.41910702]]\n",
      "\n",
      " [[0.11506398 0.27676418 0.91471331 0.62527598 0.89453859]\n",
      "  [0.90795555 0.16802186 0.76177159 0.60773445 0.40486619]]\n",
      "\n",
      " [[0.41023143 0.06989725 0.02931532 0.23889179 0.59646613]\n",
      "  [0.02337149 0.38677514 0.35447234 0.48550978 0.39831896]]]\n"
     ]
    }
   ],
   "source": [
    "# your code here\n",
    "print(a)"
   ]
  },
  {
   "cell_type": "markdown",
   "metadata": {
    "colab_type": "text",
    "id": "kws-mAPSwCdU"
   },
   "source": [
    "#### 5. Create a 5x2x3 3-dimensional array with all values equaling 1. Assign the array to variable *b*."
   ]
  },
  {
   "cell_type": "markdown",
   "metadata": {
    "colab_type": "text",
    "id": "SMAUJKLwJS-8"
   },
   "source": [
    "Expected output:\n",
    "\n",
    "````python\n",
    "      [[[1, 1, 1],\n",
    "        [1, 1, 1]],\n",
    "\n",
    "       [[1, 1, 1],\n",
    "        [1, 1, 1]],\n",
    "\n",
    "       [[1, 1, 1],\n",
    "        [1, 1, 1]],\n",
    "\n",
    "       [[1, 1, 1],\n",
    "        [1, 1, 1]],\n",
    "\n",
    "       [[1, 1, 1],\n",
    "        [1, 1, 1]]]\n",
    "````"
   ]
  },
  {
   "cell_type": "code",
   "execution_count": 16,
   "metadata": {
    "colab": {},
    "colab_type": "code",
    "id": "anCmbtrtwCdW"
   },
   "outputs": [],
   "source": [
    "# your code here\n",
    "b = np.ones((5,2,3))"
   ]
  },
  {
   "cell_type": "markdown",
   "metadata": {
    "colab_type": "text",
    "id": "FsYdwPxPwCdZ"
   },
   "source": [
    "#### 6. Print *b*.\n"
   ]
  },
  {
   "cell_type": "code",
   "execution_count": 17,
   "metadata": {
    "colab": {},
    "colab_type": "code",
    "id": "Y3rcPurpwCda"
   },
   "outputs": [
    {
     "name": "stdout",
     "output_type": "stream",
     "text": [
      "[[[1. 1. 1.]\n",
      "  [1. 1. 1.]]\n",
      "\n",
      " [[1. 1. 1.]\n",
      "  [1. 1. 1.]]\n",
      "\n",
      " [[1. 1. 1.]\n",
      "  [1. 1. 1.]]\n",
      "\n",
      " [[1. 1. 1.]\n",
      "  [1. 1. 1.]]\n",
      "\n",
      " [[1. 1. 1.]\n",
      "  [1. 1. 1.]]]\n"
     ]
    }
   ],
   "source": [
    "# your code here\n",
    "print(b)"
   ]
  },
  {
   "cell_type": "markdown",
   "metadata": {
    "colab_type": "text",
    "id": "hGblsnk5wCde"
   },
   "source": [
    "#### 7. Do *a* and *b* have the same size? How do you prove that in Python code?"
   ]
  },
  {
   "cell_type": "code",
   "execution_count": 18,
   "metadata": {
    "colab": {},
    "colab_type": "code",
    "id": "YmKeIpGWwCdf"
   },
   "outputs": [
    {
     "name": "stdout",
     "output_type": "stream",
     "text": [
      "(3, 2, 5)\n",
      "(5, 2, 3)\n",
      "No, they don't.\n"
     ]
    }
   ],
   "source": [
    "# your code here\n",
    "print(a.shape)\n",
    "print(b.shape)\n",
    "if a.shape==b.shape:\n",
    "    print('Yes, they have the same size.')\n",
    "else:\n",
    "    print(\"No, they don't.\")"
   ]
  },
  {
   "cell_type": "markdown",
   "metadata": {
    "colab_type": "text",
    "id": "o9UzXk9IwCdi"
   },
   "source": [
    "#### 8. Are you able to add *a* and *b*? Why or why not?\n"
   ]
  },
  {
   "cell_type": "code",
   "execution_count": 19,
   "metadata": {
    "colab": {},
    "colab_type": "code",
    "id": "drdAyKPywCdj"
   },
   "outputs": [
    {
     "ename": "ValueError",
     "evalue": "operands could not be broadcast together with shapes (3,2,5) (5,2,3) ",
     "output_type": "error",
     "traceback": [
      "\u001b[1;31m---------------------------------------------------------------------------\u001b[0m",
      "\u001b[1;31mValueError\u001b[0m                                Traceback (most recent call last)",
      "\u001b[1;32m<ipython-input-19-6cc0ffe8a61f>\u001b[0m in \u001b[0;36m<module>\u001b[1;34m\u001b[0m\n\u001b[0;32m      1\u001b[0m \u001b[1;31m# your answer here\u001b[0m\u001b[1;33m\u001b[0m\u001b[1;33m\u001b[0m\u001b[1;33m\u001b[0m\u001b[0m\n\u001b[1;32m----> 2\u001b[1;33m \u001b[0ma\u001b[0m\u001b[1;33m+\u001b[0m\u001b[0mb\u001b[0m \u001b[1;31m#I can't do it because the arrays have different sizes\u001b[0m\u001b[1;33m\u001b[0m\u001b[1;33m\u001b[0m\u001b[0m\n\u001b[0m",
      "\u001b[1;31mValueError\u001b[0m: operands could not be broadcast together with shapes (3,2,5) (5,2,3) "
     ]
    }
   ],
   "source": [
    "# your answer here\n",
    "a+b #I can't do it because the arrays have different sizes"
   ]
  },
  {
   "cell_type": "markdown",
   "metadata": {
    "colab_type": "text",
    "id": "DTsSOpvYwCdm"
   },
   "source": [
    "#### 9. Reshape *b* so that it has the same structure of *a* (i.e. become a 3x2x5 array). Assign the reshaped array to variable *c*.\n",
    "\n",
    "Expected output:\n",
    "\n",
    "````python\n",
    "      [[[1, 1, 1, 1, 1],\n",
    "        [1, 1, 1, 1, 1]],\n",
    "\n",
    "       [[1, 1, 1, 1, 1],\n",
    "        [1, 1, 1, 1, 1]],\n",
    "\n",
    "       [[1, 1, 1, 1, 1],\n",
    "        [1, 1, 1, 1, 1]]]\n",
    "````"
   ]
  },
  {
   "cell_type": "code",
   "execution_count": 20,
   "metadata": {
    "colab": {},
    "colab_type": "code",
    "id": "DjLlRJUtwCdn"
   },
   "outputs": [
    {
     "data": {
      "text/plain": [
       "array([[[1., 1., 1., 1., 1.],\n",
       "        [1., 1., 1., 1., 1.]],\n",
       "\n",
       "       [[1., 1., 1., 1., 1.],\n",
       "        [1., 1., 1., 1., 1.]],\n",
       "\n",
       "       [[1., 1., 1., 1., 1.],\n",
       "        [1., 1., 1., 1., 1.]]])"
      ]
     },
     "execution_count": 20,
     "metadata": {},
     "output_type": "execute_result"
    }
   ],
   "source": [
    "# your code here\n",
    "c=b.reshape(3,2,5)\n",
    "c"
   ]
  },
  {
   "cell_type": "markdown",
   "metadata": {
    "colab_type": "text",
    "id": "fvHocQ9EwCdq"
   },
   "source": [
    "#### 10. Try to add *a* and *c*. Now it should work. Assign the sum to variable *d*. But why does it work now?"
   ]
  },
  {
   "cell_type": "code",
   "execution_count": 21,
   "metadata": {
    "colab": {},
    "colab_type": "code",
    "id": "Ohf5yh5ZwCdr"
   },
   "outputs": [
    {
     "data": {
      "text/plain": [
       "array([[[1.74613522, 1.42307971, 1.27336438, 1.06446082, 1.83692143],\n",
       "        [1.76583375, 1.92720415, 1.19807632, 1.98395152, 1.41910702]],\n",
       "\n",
       "       [[1.11506398, 1.27676418, 1.91471331, 1.62527598, 1.89453859],\n",
       "        [1.90795555, 1.16802186, 1.76177159, 1.60773445, 1.40486619]],\n",
       "\n",
       "       [[1.41023143, 1.06989725, 1.02931532, 1.23889179, 1.59646613],\n",
       "        [1.02337149, 1.38677514, 1.35447234, 1.48550978, 1.39831896]]])"
      ]
     },
     "execution_count": 21,
     "metadata": {},
     "output_type": "execute_result"
    }
   ],
   "source": [
    "# your code/answer here\n",
    "d=a+c\n",
    "d\n",
    "#Because the both arrays, a and c have the same size (3,2,5)"
   ]
  },
  {
   "cell_type": "markdown",
   "metadata": {
    "colab_type": "text",
    "id": "DuQBMzQBwCdw"
   },
   "source": [
    "#### 11. Print *a* and *d*. Notice the difference and relation of the two array in terms of the values? Explain."
   ]
  },
  {
   "cell_type": "code",
   "execution_count": 22,
   "metadata": {
    "colab": {},
    "colab_type": "code",
    "id": "gEuh7iv1wCdx"
   },
   "outputs": [
    {
     "name": "stdout",
     "output_type": "stream",
     "text": [
      "a= [[[0.74613522 0.42307971 0.27336438 0.06446082 0.83692143]\n",
      "  [0.76583375 0.92720415 0.19807632 0.98395152 0.41910702]]\n",
      "\n",
      " [[0.11506398 0.27676418 0.91471331 0.62527598 0.89453859]\n",
      "  [0.90795555 0.16802186 0.76177159 0.60773445 0.40486619]]\n",
      "\n",
      " [[0.41023143 0.06989725 0.02931532 0.23889179 0.59646613]\n",
      "  [0.02337149 0.38677514 0.35447234 0.48550978 0.39831896]]]\n",
      "d= [[[1.74613522 1.42307971 1.27336438 1.06446082 1.83692143]\n",
      "  [1.76583375 1.92720415 1.19807632 1.98395152 1.41910702]]\n",
      "\n",
      " [[1.11506398 1.27676418 1.91471331 1.62527598 1.89453859]\n",
      "  [1.90795555 1.16802186 1.76177159 1.60773445 1.40486619]]\n",
      "\n",
      " [[1.41023143 1.06989725 1.02931532 1.23889179 1.59646613]\n",
      "  [1.02337149 1.38677514 1.35447234 1.48550978 1.39831896]]]\n"
     ]
    },
    {
     "data": {
      "text/plain": [
       "'The difference is one'"
      ]
     },
     "execution_count": 22,
     "metadata": {},
     "output_type": "execute_result"
    }
   ],
   "source": [
    "# your code/answer here\n",
    "print('a=',a)\n",
    "print('d=',d)\n",
    "d-a\n",
    "'The difference is one'"
   ]
  },
  {
   "cell_type": "markdown",
   "metadata": {
    "colab_type": "text",
    "id": "Ka1popJ3wCd0"
   },
   "source": [
    "#### 12. Multiply *a* and *c*. Assign the result to *e*."
   ]
  },
  {
   "cell_type": "code",
   "execution_count": 23,
   "metadata": {
    "colab": {},
    "colab_type": "code",
    "id": "hLeCMiSEwCd1"
   },
   "outputs": [
    {
     "name": "stdout",
     "output_type": "stream",
     "text": [
      "[[[0.74613522 0.42307971 0.27336438 0.06446082 0.83692143]\n",
      "  [0.76583375 0.92720415 0.19807632 0.98395152 0.41910702]]\n",
      "\n",
      " [[0.11506398 0.27676418 0.91471331 0.62527598 0.89453859]\n",
      "  [0.90795555 0.16802186 0.76177159 0.60773445 0.40486619]]\n",
      "\n",
      " [[0.41023143 0.06989725 0.02931532 0.23889179 0.59646613]\n",
      "  [0.02337149 0.38677514 0.35447234 0.48550978 0.39831896]]]\n"
     ]
    }
   ],
   "source": [
    "# your code here\n",
    "a*c\n",
    "e=a*c\n",
    "print(e)"
   ]
  },
  {
   "cell_type": "markdown",
   "metadata": {
    "colab_type": "text",
    "id": "1QCqP6lMwCd5"
   },
   "source": [
    "#### 13. Does *e* equal to *a*? Why or why not?\n"
   ]
  },
  {
   "cell_type": "code",
   "execution_count": 24,
   "metadata": {
    "colab": {},
    "colab_type": "code",
    "id": "oxoat0cbwCd6"
   },
   "outputs": [
    {
     "name": "stdout",
     "output_type": "stream",
     "text": [
      "[[[0.74613522 0.42307971 0.27336438 0.06446082 0.83692143]\n",
      "  [0.76583375 0.92720415 0.19807632 0.98395152 0.41910702]]\n",
      "\n",
      " [[0.11506398 0.27676418 0.91471331 0.62527598 0.89453859]\n",
      "  [0.90795555 0.16802186 0.76177159 0.60773445 0.40486619]]\n",
      "\n",
      " [[0.41023143 0.06989725 0.02931532 0.23889179 0.59646613]\n",
      "  [0.02337149 0.38677514 0.35447234 0.48550978 0.39831896]]]\n",
      "[[[0.74613522 0.42307971 0.27336438 0.06446082 0.83692143]\n",
      "  [0.76583375 0.92720415 0.19807632 0.98395152 0.41910702]]\n",
      "\n",
      " [[0.11506398 0.27676418 0.91471331 0.62527598 0.89453859]\n",
      "  [0.90795555 0.16802186 0.76177159 0.60773445 0.40486619]]\n",
      "\n",
      " [[0.41023143 0.06989725 0.02931532 0.23889179 0.59646613]\n",
      "  [0.02337149 0.38677514 0.35447234 0.48550978 0.39831896]]]\n"
     ]
    }
   ],
   "source": [
    "# your code/answer here\n",
    "print(e)\n",
    "print(a)\n",
    "#They're equal because e recieve the value of a*c, where c is a array of ones. And one is the neutral element of multiplication,"
   ]
  },
  {
   "cell_type": "markdown",
   "metadata": {
    "colab_type": "text",
    "id": "b7ceZMcswCd9"
   },
   "source": [
    "#### 14. Identify the max, min, and mean values in *d*. Assign those values to variables *d_max*, *d_min* and *d_mean*."
   ]
  },
  {
   "cell_type": "code",
   "execution_count": 25,
   "metadata": {
    "colab": {},
    "colab_type": "code",
    "id": "ljd7J4ucwCd-"
   },
   "outputs": [
    {
     "name": "stdout",
     "output_type": "stream",
     "text": [
      "1.9839515195775292\n",
      "1.023371487441306\n",
      "1.4769363202869608\n"
     ]
    }
   ],
   "source": [
    "# your code here\n",
    "d_max=d.max()\n",
    "d_min=d.min()\n",
    "d_mean=d.mean()\n",
    "print(d_max)\n",
    "print(d_min)\n",
    "print(d_mean)"
   ]
  },
  {
   "cell_type": "markdown",
   "metadata": {
    "colab_type": "text",
    "id": "bBmZ1bg3wCeC"
   },
   "source": [
    "#### 15. Now we want to label the values in *d*. First create an empty array *f* with the same shape (i.e. 3x2x5) as *d* using `np.empty`.\n"
   ]
  },
  {
   "cell_type": "code",
   "execution_count": 26,
   "metadata": {
    "colab": {},
    "colab_type": "code",
    "id": "GVU7znV7wCeD"
   },
   "outputs": [
    {
     "name": "stdout",
     "output_type": "stream",
     "text": [
      "[[[0.74613522 0.42307971 0.27336438 0.06446082 0.83692143]\n",
      "  [0.76583375 0.92720415 0.19807632 0.98395152 0.41910702]]\n",
      "\n",
      " [[0.11506398 0.27676418 0.91471331 0.62527598 0.89453859]\n",
      "  [0.90795555 0.16802186 0.76177159 0.60773445 0.40486619]]\n",
      "\n",
      " [[0.41023143 0.06989725 0.02931532 0.23889179 0.59646613]\n",
      "  [0.02337149 0.38677514 0.35447234 0.48550978 0.39831896]]]\n"
     ]
    }
   ],
   "source": [
    "# your code here\n",
    "f=np.empty([3,2,5])\n",
    "print(f)"
   ]
  },
  {
   "cell_type": "markdown",
   "metadata": {
    "colab_type": "text",
    "id": "cwZMaPTawCeG"
   },
   "source": [
    "#### 16. Populate the values in *f*. \n",
    "\n",
    "For each value in *d*, if it's larger than *d_min* but smaller than *d_mean*, assign 25 to the corresponding value in *f*. If a value in *d* is larger than *d_mean* but smaller than *d_max*, assign 75 to the corresponding value in *f*. If a value equals to *d_mean*, assign 50 to the corresponding value in *f*. Assign 0 to the corresponding value(s) in *f* for *d_min* in *d*. Assign 100 to the corresponding value(s) in *f* for *d_max* in *d*. In the end, f should have only the following values: 0, 25, 50, 75, and 100.\n",
    "\n",
    "**Note**: you don't have to use Numpy in this question."
   ]
  },
  {
   "cell_type": "code",
   "execution_count": 27,
   "metadata": {
    "colab": {},
    "colab_type": "code",
    "id": "He3bA8_vwCeI"
   },
   "outputs": [],
   "source": [
    "# your code here\n",
    "list(d)\n",
    "list(f)\n",
    "for i in range(len(d)):\n",
    "    for x in range(len(d[i])):\n",
    "        for z in range(len(d[i][x])): \n",
    "            if((d[i][x][z]> d_min) & (d[i][x][z]< d_mean)):\n",
    "                f[i][x][z]=25\n",
    "            if((d[i][x][z]> d_mean) & (d[i][x][z]< d_max)):\n",
    "                f[i][x][z]=75\n",
    "            if(d[i][x][z]==d_mean):\n",
    "                f[i][x][z]=50\n",
    "            if(d[i][x][z]==d_min):\n",
    "                f[i][x][z]=0\n",
    "            if(d[i][x][z]==d_max):\n",
    "                f[i][x][z]=100\n",
    "f=np.array(f)"
   ]
  },
  {
   "cell_type": "markdown",
   "metadata": {
    "colab_type": "text",
    "id": "DtXatajMwCeM"
   },
   "source": [
    "#### 17. Print *d* and *f*. Do you have your expected *f*?\n",
    "For instance, if your *d* is:\n",
    "```python\n",
    "[[[1.85836099, 1.67064465, 1.62576044, 1.40243961, 1.88454931],\n",
    "  [1.75354326, 1.69403643, 1.36729252, 1.61415071, 1.12104981]],\n",
    "\n",
    "[[1.72201435, 1.1862918 , 1.87078449, 1.7726778 , 1.88180042],\n",
    "  [1.44747908, 1.31673383, 1.02000951, 1.52218947, 1.97066381]],\n",
    "\n",
    "[[1.79129243, 1.74983003, 1.96028037, 1.85166831, 1.65450881],\n",
    " [1.18068344, 1.9587381 , 1.00656599, 1.93402165, 1.73514584]]]\n",
    "```\n",
    "Your *f* should be:\n",
    "```python\n",
    "[[[ 75.  75.  75.  25.  75.]\n",
    "  [ 75.  75.  25.  25.  25.]]\n",
    "\n",
    " [[ 75.  25.  75.  75.  75.]\n",
    "  [ 25.  25.  25.  25. 100.]]\n",
    "\n",
    " [[ 75.  75.  75.  75.  75.]\n",
    "  [ 25.  75.   0.  75.  75.]]]\n",
    "```"
   ]
  },
  {
   "cell_type": "code",
   "execution_count": 28,
   "metadata": {
    "colab": {},
    "colab_type": "code",
    "id": "wvC83zaUwCeN"
   },
   "outputs": [
    {
     "name": "stdout",
     "output_type": "stream",
     "text": [
      "d= [[[1.74613522 1.42307971 1.27336438 1.06446082 1.83692143]\n",
      "  [1.76583375 1.92720415 1.19807632 1.98395152 1.41910702]]\n",
      "\n",
      " [[1.11506398 1.27676418 1.91471331 1.62527598 1.89453859]\n",
      "  [1.90795555 1.16802186 1.76177159 1.60773445 1.40486619]]\n",
      "\n",
      " [[1.41023143 1.06989725 1.02931532 1.23889179 1.59646613]\n",
      "  [1.02337149 1.38677514 1.35447234 1.48550978 1.39831896]]]\n",
      "\n",
      "f= [[[ 75.  25.  25.  25.  75.]\n",
      "  [ 75.  75.  25. 100.  25.]]\n",
      "\n",
      " [[ 25.  25.  75.  75.  75.]\n",
      "  [ 75.  25.  75.  75.  25.]]\n",
      "\n",
      " [[ 25.  25.  25.  25.  75.]\n",
      "  [  0.  25.  25.  75.  25.]]]\n"
     ]
    }
   ],
   "source": [
    "# your code here\n",
    "print('d=',d)\n",
    "print('\\nf=',f)"
   ]
  },
  {
   "cell_type": "markdown",
   "metadata": {
    "colab_type": "text",
    "id": "ppRoFFJBwCeS"
   },
   "source": [
    "#### 18. Bonus question: instead of using numbers (i.e. 0, 25, 50, 75, and 100), use string values  (\"A\", \"B\", \"C\", \"D\", and \"E\") to label the array elements. For the example above, the expected result is:\n",
    "\n",
    "```python\n",
    "[[['D' 'D' 'D' 'B' 'D']\n",
    "  ['D' 'D' 'B' 'B' 'B']]\n",
    "\n",
    " [['D' 'B' 'D' 'D' 'D']\n",
    "  ['B' 'B' 'B' 'B' 'E']]\n",
    "\n",
    " [['D' 'D' 'D' 'D' 'D']\n",
    "  ['B' 'D' 'A' 'D' 'D']]]\n",
    "```\n",
    "**Note**: you don't have to use Numpy in this question."
   ]
  },
  {
   "cell_type": "code",
   "execution_count": 29,
   "metadata": {
    "colab": {},
    "colab_type": "code",
    "id": "xbBNSrnCwCeU"
   },
   "outputs": [
    {
     "name": "stdout",
     "output_type": "stream",
     "text": [
      "[[['D' 'B' 'B' 'B' 'D']\n",
      "  ['D' 'D' 'B' 'E' 'B']]\n",
      "\n",
      " [['B' 'B' 'D' 'D' 'D']\n",
      "  ['D' 'B' 'D' 'D' 'B']]\n",
      "\n",
      " [['B' 'B' 'B' 'B' 'D']\n",
      "  ['A' 'B' 'B' 'D' 'B']]]\n"
     ]
    }
   ],
   "source": [
    "# your code here\n",
    "# your code here\n",
    "h=[]\n",
    "for i in range(len(d)):\n",
    "    for x in range(len(d[i])):\n",
    "        for z in range(len(d[i][x])): \n",
    "            h.append(int(f[i][x][z]))\n",
    "for i in range(len(h)):\n",
    "    if h[i]==0:\n",
    "        h[i]='A'\n",
    "    if h[i]==25:\n",
    "        h[i]='B'\n",
    "    if h[i]==50:\n",
    "        h[i]='C'\n",
    "    if h[i]==75:\n",
    "        h[i]='D'\n",
    "    if h[i]==100:\n",
    "        h[i]='E'\n",
    "h=np.array(h)\n",
    "h=h.reshape(3,2,5)\n",
    "print(h)"
   ]
  },
  {
   "cell_type": "markdown",
   "metadata": {
    "colab_type": "text",
    "id": "QzJyLQiFMsyT"
   },
   "source": [
    "## Additional Challenges for the Nerds\n",
    "\n",
    "If you are way ahead of your classmates and willing to accept some tough challenges about Numpy, take one or several of the following Codewar *katas*. \tYou need to already possess a good amount of knowledge in Python and statistics because you will need to write Python functions, do loops, write conditionals, and deal with matrices.\n",
    "\n",
    "* [Insert dashes](https://www.codewars.com/kata/insert-dashes)\n",
    "* [Thinkful - Logic Drills: Red and bumpy](https://www.codewars.com/kata/thinkful-logic-drills-red-and-bumpy)"
   ]
  },
  {
   "cell_type": "markdown",
   "metadata": {
    "colab": {},
    "colab_type": "code",
    "id": "fy2EwolQMtfJ"
   },
   "source": [
    "Write a function insertDash(num)/InsertDash(int num) that will insert dashes ('-') between each two odd numbers in num. For example: if num is 454793 the output should be 4547-9-3. Don't count zero as an odd number.\n",
    "\n",
    "Note that the number will always be non-negative (>= 0)."
   ]
  },
  {
   "cell_type": "code",
   "execution_count": 120,
   "metadata": {},
   "outputs": [
    {
     "name": "stdout",
     "output_type": "stream",
     "text": [
      "[1, 3, 4, 5]\n",
      "3\n",
      "4\n",
      "454793\n",
      "['4', '5', '4', '7', '9', '3']\n"
     ]
    }
   ],
   "source": [
    "num=454793\n",
    "lista2=[]\n",
    "lista3=[]\n",
    "num=str(num)\n",
    "for i in num:\n",
    "    lista3.append(i)\n",
    "    if int(i)%2!=0:\n",
    "        x=num.index(i)\n",
    "        lista2.append(x)\n",
    "print(lista2)\n",
    "\n",
    "for a in range(3):\n",
    "    f=lista2[a]-lista2[a+1]\n",
    "    if (f==-1):\n",
    "        print(lista2[a])\n",
    "print(num)\n",
    "type(num)\n",
    "print(lista3)"
   ]
  },
  {
   "cell_type": "code",
   "execution_count": 190,
   "metadata": {},
   "outputs": [
    {
     "name": "stdout",
     "output_type": "stream",
     "text": [
      "[0, 1, 0, 3, 4, 5]\n",
      "['4', '5', '4', '7', '9', '3']\n",
      "[['4', 0], ['5', 1], ['4', 0], ['7', 3], ['9', 4], ['3', 5]]\n",
      "[['5', 1], ['7', 3], ['9', 4], ['3', 5]]\n",
      "1\n",
      "5\n",
      "3\n",
      "1\n",
      "4\n",
      "3\n",
      "['9', 4]\n",
      "5\n",
      "4\n",
      "['3', 5]\n"
     ]
    }
   ],
   "source": [
    "num=454793\n",
    "lista2=[]\n",
    "lista3=[]\n",
    "lista4=[]\n",
    "lista5=[]\n",
    "lista6=[]\n",
    "num=str(num)\n",
    "for i in num:\n",
    "    lista3.append(i)\n",
    "    x=num.index(i)\n",
    "    lista2.append(x)\n",
    "print(lista2)\n",
    "print(lista3)\n",
    "for x in range(len(lista2)):\n",
    "    lista4_element=[lista3[x],lista2[x]]\n",
    "    lista4.append(lista4_element)\n",
    "print(lista4)\n",
    "for z in range(len(lista4)):\n",
    "    if (int(lista4[z][0])%2!=0):\n",
    "        lista6.append(lista4[z])\n",
    "print(lista6)\n",
    "for h in range(len(lista6)):\n",
    "    print(lista6[h][1])\n",
    "    print(lista6[h-1][1])\n",
    "    if (lista6[h][1]-lista6[h-1][1]==1):\n",
    "        print(lista6[h])\n",
    "        "
   ]
  },
  {
   "cell_type": "code",
   "execution_count": 76,
   "metadata": {},
   "outputs": [
    {
     "name": "stdout",
     "output_type": "stream",
     "text": [
      "21\n",
      "[1, 2, 3, 4, 5, 6]\n"
     ]
    }
   ],
   "source": [
    "def soma_digitos(numero):\n",
    "    soma = 0\n",
    "    for digito in numero:\n",
    "        soma = soma + int(digito)\n",
    "\n",
    "    return soma\n",
    "\n",
    "def digito_para_array(numero):\n",
    "    array = []\n",
    "    for digito in numero:\n",
    "        array.append(int(digito))\n",
    "    return array\n",
    "\n",
    "print(soma_digitos(\"123456\"))\n",
    "print(digito_para_array(\"123456\"))"
   ]
  }
 ],
 "metadata": {
  "colab": {
   "collapsed_sections": [],
   "name": "main.ipynb",
   "provenance": []
  },
  "kernelspec": {
   "display_name": "Python 3",
   "language": "python",
   "name": "python3"
  },
  "language_info": {
   "codemirror_mode": {
    "name": "ipython",
    "version": 3
   },
   "file_extension": ".py",
   "mimetype": "text/x-python",
   "name": "python",
   "nbconvert_exporter": "python",
   "pygments_lexer": "ipython3",
   "version": "3.8.5"
  },
  "toc": {
   "base_numbering": 1,
   "nav_menu": {},
   "number_sections": true,
   "sideBar": true,
   "skip_h1_title": false,
   "title_cell": "Table of Contents",
   "title_sidebar": "Contents",
   "toc_cell": false,
   "toc_position": {},
   "toc_section_display": true,
   "toc_window_display": false
  },
  "varInspector": {
   "cols": {
    "lenName": 16,
    "lenType": 16,
    "lenVar": 40
   },
   "kernels_config": {
    "python": {
     "delete_cmd_postfix": "",
     "delete_cmd_prefix": "del ",
     "library": "var_list.py",
     "varRefreshCmd": "print(var_dic_list())"
    },
    "r": {
     "delete_cmd_postfix": ") ",
     "delete_cmd_prefix": "rm(",
     "library": "var_list.r",
     "varRefreshCmd": "cat(var_dic_list()) "
    }
   },
   "types_to_exclude": [
    "module",
    "function",
    "builtin_function_or_method",
    "instance",
    "_Feature"
   ],
   "window_display": false
  }
 },
 "nbformat": 4,
 "nbformat_minor": 1
}
