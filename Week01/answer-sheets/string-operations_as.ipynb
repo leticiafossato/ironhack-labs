{
 "cells": [
  {
   "cell_type": "markdown",
   "metadata": {
    "colab_type": "text",
    "id": "4Ji-Fr_q26HY"
   },
   "source": [
    "# String Operations Lab\n",
    "\n",
    "**Before your start:**\n",
    "\n",
    "- Read the README.md file\n",
    "- Comment as much as you can and use the resources in the README.md file\n",
    "- Happy learning!"
   ]
  },
  {
   "cell_type": "markdown",
   "metadata": {
    "colab_type": "text",
    "id": "s5EBQwuZ26Hc"
   },
   "source": [
    "__Regular Expression__, also called regex, regexp or rational expression is a sequence of characteres used to search for patterns.\n",
    "* It is used in several programming languages, and, in Python, we can used it by importing the module re."
   ]
  },
  {
   "cell_type": "code",
   "execution_count": 1,
   "metadata": {
    "ExecuteTime": {
     "end_time": "2020-08-27T20:10:27.550260Z",
     "start_time": "2020-08-27T20:10:27.546247Z"
    },
    "colab": {},
    "colab_type": "code",
    "id": "sQX-wI5W26He"
   },
   "outputs": [],
   "source": [
    "import re"
   ]
  },
  {
   "cell_type": "markdown",
   "metadata": {
    "colab_type": "text",
    "id": "lcCb_FOT26Hk"
   },
   "source": [
    "# Challenge 1 - Combining Strings\n",
    "\n",
    "Combining strings is an important skill to acquire. There are multiple ways of combining strings in Python, as well as combining strings with variables. We will explore this in the first challenge. In the cell below, combine the strings in the list and add spaces between the strings (do not add a space after the last string). Insert a period after the last string."
   ]
  },
  {
   "cell_type": "markdown",
   "metadata": {
    "colab_type": "text",
    "id": "e5KF0cAS26Hm"
   },
   "source": [
    "* Tip: we can check a list of string methods over here: https://www.w3schools.com/python/python_ref_string.asp"
   ]
  },
  {
   "cell_type": "code",
   "execution_count": 2,
   "metadata": {
    "ExecuteTime": {
     "end_time": "2020-08-27T20:10:27.566235Z",
     "start_time": "2020-08-27T20:10:27.558239Z"
    },
    "colab": {},
    "colab_type": "code",
    "id": "zuPAV9UM26Hn"
   },
   "outputs": [],
   "source": [
    "str_list = ['Durante', 'un', 'tiempo', 'no', 'estuvo', 'segura', 'de', 'si', 'su', 'marido', 'era', 'su', 'marido']"
   ]
  },
  {
   "cell_type": "code",
   "execution_count": 3,
   "metadata": {
    "ExecuteTime": {
     "end_time": "2020-08-27T20:10:27.590221Z",
     "start_time": "2020-08-27T20:10:27.569233Z"
    },
    "colab": {},
    "colab_type": "code",
    "id": "rsKv35z_26Hr",
    "outputId": "12ac5e30-4b7d-43c9-bb8e-983332ba20c2"
   },
   "outputs": [
    {
     "data": {
      "text/plain": [
       "list"
      ]
     },
     "execution_count": 3,
     "metadata": {},
     "output_type": "execute_result"
    }
   ],
   "source": [
    "# checking the type for str_list\n",
    "type(str_list)"
   ]
  },
  {
   "cell_type": "code",
   "execution_count": 4,
   "metadata": {
    "ExecuteTime": {
     "end_time": "2020-08-27T20:10:27.605212Z",
     "start_time": "2020-08-27T20:10:27.592220Z"
    },
    "colab": {},
    "colab_type": "code",
    "id": "SkkSUYlF26Hz"
   },
   "outputs": [],
   "source": [
    "# using join to concat the elements inside str_list\n",
    "str_join = ' '.join(str_list)"
   ]
  },
  {
   "cell_type": "code",
   "execution_count": 5,
   "metadata": {
    "ExecuteTime": {
     "end_time": "2020-08-27T20:10:27.619205Z",
     "start_time": "2020-08-27T20:10:27.607213Z"
    },
    "colab": {},
    "colab_type": "code",
    "id": "gild-hAt26H4",
    "outputId": "1c588a2a-63bf-48b9-9a43-ca02285b7312"
   },
   "outputs": [
    {
     "data": {
      "text/plain": [
       "str"
      ]
     },
     "execution_count": 5,
     "metadata": {},
     "output_type": "execute_result"
    }
   ],
   "source": [
    "# print the str_join type\n",
    "type(str_join)"
   ]
  },
  {
   "cell_type": "markdown",
   "metadata": {
    "colab_type": "text",
    "id": "TfXQN_oJ26IA"
   },
   "source": [
    "* __IMPORTANT__: after applying a string method to a list, we have transformed the data structures from list to a string"
   ]
  },
  {
   "cell_type": "code",
   "execution_count": 6,
   "metadata": {
    "ExecuteTime": {
     "end_time": "2020-08-27T20:10:27.659182Z",
     "start_time": "2020-08-27T20:10:27.624206Z"
    },
    "colab": {},
    "colab_type": "code",
    "id": "-_oZ4F4H26IB",
    "outputId": "87d838ad-d3e6-4cf3-b7bd-6b76440e112b"
   },
   "outputs": [
    {
     "name": "stdout",
     "output_type": "stream",
     "text": [
      "Durante un tiempo no estuvo segura de si su marido era su marido\n"
     ]
    }
   ],
   "source": [
    "# print the new string\n",
    "print(str_join)"
   ]
  },
  {
   "cell_type": "code",
   "execution_count": 7,
   "metadata": {
    "ExecuteTime": {
     "end_time": "2020-08-27T20:10:27.675173Z",
     "start_time": "2020-08-27T20:10:27.663179Z"
    },
    "colab": {},
    "colab_type": "code",
    "id": "cfsIP5mk26IN"
   },
   "outputs": [],
   "source": [
    "# adding a '.' in the end\n",
    "str_join_2 = str_join + '.'"
   ]
  },
  {
   "cell_type": "code",
   "execution_count": 8,
   "metadata": {
    "ExecuteTime": {
     "end_time": "2020-08-27T20:10:27.692165Z",
     "start_time": "2020-08-27T20:10:27.678171Z"
    },
    "colab": {},
    "colab_type": "code",
    "id": "ZmZsdEQT26IS",
    "outputId": "ffde4843-2b91-4ebe-b488-d38cd4592c05"
   },
   "outputs": [
    {
     "data": {
      "text/plain": [
       "str"
      ]
     },
     "execution_count": 8,
     "metadata": {},
     "output_type": "execute_result"
    }
   ],
   "source": [
    "# checking the type\n",
    "type(str_join_2)"
   ]
  },
  {
   "cell_type": "code",
   "execution_count": 9,
   "metadata": {
    "ExecuteTime": {
     "end_time": "2020-08-27T20:10:27.748131Z",
     "start_time": "2020-08-27T20:10:27.695162Z"
    },
    "colab": {},
    "colab_type": "code",
    "id": "n07u7RR526IZ",
    "outputId": "b98e7add-8c0a-47a9-bfeb-d9f00abded9f"
   },
   "outputs": [
    {
     "name": "stdout",
     "output_type": "stream",
     "text": [
      "Durante un tiempo no estuvo segura de si su marido era su marido.\n"
     ]
    }
   ],
   "source": [
    "print(str_join_2)"
   ]
  },
  {
   "cell_type": "markdown",
   "metadata": {
    "colab_type": "text",
    "id": "sMgtgtAR26Ih"
   },
   "source": [
    "In the cell below, use the list of strings to create a grocery list. Start the list with the string `Grocery list: ` and include a comma and a space between each item except for the last one. Include a period at the end. Only include foods in the list that start with the letter 'b' and ensure all foods are lower case."
   ]
  },
  {
   "cell_type": "code",
   "execution_count": 10,
   "metadata": {
    "ExecuteTime": {
     "end_time": "2020-08-27T20:10:27.762123Z",
     "start_time": "2020-08-27T20:10:27.750130Z"
    },
    "colab": {},
    "colab_type": "code",
    "id": "hbJg-ejj26Ii"
   },
   "outputs": [],
   "source": [
    "food_list = ['Bananas', 'Chocolate', 'bread', 'diapers', 'Ice Cream', 'Brownie Mix', 'broccoli']"
   ]
  },
  {
   "cell_type": "code",
   "execution_count": 11,
   "metadata": {
    "ExecuteTime": {
     "end_time": "2020-08-27T20:10:27.778115Z",
     "start_time": "2020-08-27T20:10:27.764121Z"
    }
   },
   "outputs": [
    {
     "name": "stdout",
     "output_type": "stream",
     "text": [
      "Grocery list: bananas, bread, brownie mix, broccoli.\n"
     ]
    }
   ],
   "source": [
    "# method 1\n",
    "\n",
    "# create empty list\n",
    "only_b = []\n",
    "\n",
    "# iterate through list food_list\n",
    "for word in food_list:\n",
    "    # create lowercase word\n",
    "    word_low = word.lower()\n",
    "    # check if word_low starts with 'b'\n",
    "    if word_low.startswith('b'):\n",
    "        only_b.append(word_low)\n",
    "        \n",
    "grocery_list = 'Grocery list: ' + \", \".join(only_b) + '.'\n",
    "print(grocery_list)\n"
   ]
  },
  {
   "cell_type": "code",
   "execution_count": 12,
   "metadata": {
    "ExecuteTime": {
     "end_time": "2020-08-27T20:10:27.792106Z",
     "start_time": "2020-08-27T20:10:27.780113Z"
    },
    "colab": {},
    "colab_type": "code",
    "id": "z2OeN4OX26Im"
   },
   "outputs": [],
   "source": [
    "# method 2\n",
    "# with list comprehension\n",
    "\n",
    "# join \n",
    "grocery_list = \", \".join(['Grocery list:']+\n",
    "                         [i.lower() \n",
    "                          for i in food_list \n",
    "                          if i.lower().startswith('b')])+'.'\n",
    "\n",
    "grocery_list = grocery_list.replace(':,', ':')"
   ]
  },
  {
   "cell_type": "code",
   "execution_count": 13,
   "metadata": {
    "ExecuteTime": {
     "end_time": "2020-08-27T20:10:27.820090Z",
     "start_time": "2020-08-27T20:10:27.794105Z"
    },
    "colab": {},
    "colab_type": "code",
    "id": "TQkZMAET26Ip",
    "outputId": "bd62b1e2-3702-44c5-9eaf-b73d5eb71cc1"
   },
   "outputs": [
    {
     "name": "stdout",
     "output_type": "stream",
     "text": [
      "Grocery list: bananas, bread, brownie mix, broccoli.\n"
     ]
    }
   ],
   "source": [
    "print(grocery_list)"
   ]
  },
  {
   "cell_type": "markdown",
   "metadata": {
    "colab_type": "text",
    "id": "UW36j5l_26It"
   },
   "source": [
    "In the cell below, write a function that computes the area of a circle using its radius. Compute the area of the circle and insert the radius and the area between the two strings. Make sure to include spaces between the variable and the strings. \n",
    "\n",
    "Note: You can use the techniques we have learned so far or use f-strings. F-strings allow us to embed code inside strings. You can read more about f-strings [here](https://www.python.org/dev/peps/pep-0498/)."
   ]
  },
  {
   "cell_type": "code",
   "execution_count": 14,
   "metadata": {
    "ExecuteTime": {
     "end_time": "2020-08-27T20:10:27.836080Z",
     "start_time": "2020-08-27T20:10:27.822089Z"
    },
    "colab": {},
    "colab_type": "code",
    "id": "mLs-34cK26Iu",
    "outputId": "e540e7e6-98d7-4c06-b70b-5c8a11f71733"
   },
   "outputs": [
    {
     "name": "stdout",
     "output_type": "stream",
     "text": [
      "The area of the circle with radius 4.5 is: 63.61725123519331\n"
     ]
    }
   ],
   "source": [
    "import math\n",
    "\n",
    "string1 = \"The area of the circle with radius\"\n",
    "string2  = \"is:\"\n",
    "radius = 4.5\n",
    "\n",
    "def area(x, pi = math.pi):\n",
    "    # This function takes a radius and returns the area of a circle. \n",
    "    # We also pass a default value for pi.\n",
    "    # Input: Float (and default value for pi)\n",
    "    # Output: Float\n",
    "    \n",
    "    # Sample input: 5.0\n",
    "    # Sample Output: 78.53981633\n",
    "    \n",
    "    area = pi*(x**2)\n",
    "    return(area)\n",
    "        \n",
    "# Your output string here:\n",
    "print(f'{string1} {radius} {string2} {area(radius)}')"
   ]
  },
  {
   "cell_type": "markdown",
   "metadata": {
    "colab_type": "text",
    "id": "blkvXlTQ26I0"
   },
   "source": [
    "# Challenge 2 - Splitting Strings\n",
    "\n",
    "We have first looked at combining strings into one long string. There are situations in which we need to do the opposite from challenge 1 and split the string into smaller components for further analysis. \n",
    "\n",
    "In the cell below, split the string into a list of strings using the space delimiter. Count the frequency of each word in the string in a dictionary. Strip the periods, line breaks and commas from the text. Make sure to remove empty strings from your dictionary."
   ]
  },
  {
   "cell_type": "code",
   "execution_count": 15,
   "metadata": {
    "ExecuteTime": {
     "end_time": "2020-08-27T20:10:27.849072Z",
     "start_time": "2020-08-27T20:10:27.838079Z"
    },
    "colab": {},
    "colab_type": "code",
    "id": "vnGWCW_Q26I2"
   },
   "outputs": [],
   "source": [
    "poem = \"\"\"Some say the world will end in fire,\n",
    "Some say in ice.\n",
    "From what I’ve tasted of desire\n",
    "I hold with those who favor fire.\n",
    "But if it had to perish twice,\n",
    "I think I know enough of hate\n",
    "To say that for destruction ice\n",
    "Is also great\n",
    "And would suffice.\"\"\""
   ]
  },
  {
   "cell_type": "code",
   "execution_count": 16,
   "metadata": {
    "ExecuteTime": {
     "end_time": "2020-08-27T20:10:27.866063Z",
     "start_time": "2020-08-27T20:10:27.851073Z"
    },
    "colab": {},
    "colab_type": "code",
    "id": "1yH47HQr26I5"
   },
   "outputs": [],
   "source": [
    "# lower the string, replace commas, dots paragraphs and split the string\n",
    "poem_list = poem.lower().replace(',', '').replace('.', '').replace('\\n', '').split()"
   ]
  },
  {
   "cell_type": "code",
   "execution_count": 17,
   "metadata": {
    "ExecuteTime": {
     "end_time": "2020-08-27T20:10:27.880055Z",
     "start_time": "2020-08-27T20:10:27.869062Z"
    }
   },
   "outputs": [
    {
     "name": "stdout",
     "output_type": "stream",
     "text": [
      "['some', 'say', 'the', 'world', 'will', 'end', 'in', 'firesome', 'say', 'in', 'icefrom', 'what', 'i’ve', 'tasted', 'of', 'desirei', 'hold', 'with', 'those', 'who', 'favor', 'firebut', 'if', 'it', 'had', 'to', 'perish', 'twicei', 'think', 'i', 'know', 'enough', 'of', 'hateto', 'say', 'that', 'for', 'destruction', 'iceis', 'also', 'greatand', 'would', 'suffice']\n"
     ]
    }
   ],
   "source": [
    "print(poem_list)"
   ]
  },
  {
   "cell_type": "code",
   "execution_count": 18,
   "metadata": {
    "ExecuteTime": {
     "end_time": "2020-08-27T20:10:27.893049Z",
     "start_time": "2020-08-27T20:10:27.883054Z"
    },
    "colab": {},
    "colab_type": "code",
    "id": "mktvT6yu26I9"
   },
   "outputs": [],
   "source": [
    "# create an empty dictionary\n",
    "poem_dict = {}\n",
    "\n",
    "# count the frequency of each word\n",
    "for word in poem_list:\n",
    "    if word not in poem_dict.keys():\n",
    "        poem_dict[word] = 1\n",
    "    else:\n",
    "        poem_dict[word] = poem_dict[word] + 1\n"
   ]
  },
  {
   "cell_type": "code",
   "execution_count": 19,
   "metadata": {
    "ExecuteTime": {
     "end_time": "2020-08-27T20:10:27.908041Z",
     "start_time": "2020-08-27T20:10:27.896048Z"
    },
    "colab": {},
    "colab_type": "code",
    "id": "Mt5Vq-mD26JB",
    "outputId": "6fea4204-94d0-47a2-9dd6-074aa812fd19"
   },
   "outputs": [
    {
     "name": "stdout",
     "output_type": "stream",
     "text": [
      "{'some': 1, 'say': 3, 'the': 1, 'world': 1, 'will': 1, 'end': 1, 'in': 2, 'firesome': 1, 'icefrom': 1, 'what': 1, 'i’ve': 1, 'tasted': 1, 'of': 2, 'desirei': 1, 'hold': 1, 'with': 1, 'those': 1, 'who': 1, 'favor': 1, 'firebut': 1, 'if': 1, 'it': 1, 'had': 1, 'to': 1, 'perish': 1, 'twicei': 1, 'think': 1, 'i': 1, 'know': 1, 'enough': 1, 'hateto': 1, 'that': 1, 'for': 1, 'destruction': 1, 'iceis': 1, 'also': 1, 'greatand': 1, 'would': 1, 'suffice': 1}\n"
     ]
    }
   ],
   "source": [
    "print(poem_dict)"
   ]
  },
  {
   "cell_type": "markdown",
   "metadata": {
    "colab_type": "text",
    "id": "puIc-fke26JH"
   },
   "source": [
    "In the cell below, find all the words that appear in the text and do not appear in the blacklist. You must parse the string but can choose any data structure you wish for the words that do not appear in the blacklist. Remove all non letter characters and convert all words to lower case."
   ]
  },
  {
   "cell_type": "code",
   "execution_count": 20,
   "metadata": {
    "ExecuteTime": {
     "end_time": "2020-08-27T20:10:27.924030Z",
     "start_time": "2020-08-27T20:10:27.910037Z"
    },
    "colab": {},
    "colab_type": "code",
    "id": "_Oo13dmp26JI"
   },
   "outputs": [],
   "source": [
    "blacklist = ['and', 'as', 'an', 'a', 'the', 'in', 'it']\n",
    "\n",
    "poem = \"\"\"I was angry with my friend; \n",
    "I told my wrath, my wrath did end.\n",
    "I was angry with my foe: \n",
    "I told it not, my wrath did grow. \n",
    "\n",
    "And I waterd it in fears,\n",
    "Night & morning with my tears: \n",
    "And I sunned it with smiles,\n",
    "And with soft deceitful wiles. \n",
    "\n",
    "And it grew both day and night. \n",
    "Till it bore an apple bright. \n",
    "And my foe beheld it shine,\n",
    "And he knew that it was mine. \n",
    "\n",
    "And into my garden stole, \n",
    "When the night had veild the pole; \n",
    "In the morning glad I see; \n",
    "My foe outstretched beneath the tree.\"\"\""
   ]
  },
  {
   "cell_type": "code",
   "execution_count": 21,
   "metadata": {
    "ExecuteTime": {
     "end_time": "2020-08-27T20:10:27.940021Z",
     "start_time": "2020-08-27T20:10:27.926029Z"
    },
    "colab": {},
    "colab_type": "code",
    "id": "gARF-hyp26JO"
   },
   "outputs": [],
   "source": [
    "poem_set = poem.replace(\".\", \" \").replace(\",\", \" \").replace(\"\\n\", \" \").replace(\":\", \" \").replace(\";\", \" \").replace(\"&\", \" \").split()\n",
    "\n",
    "# method 1\n",
    "poem_set_lower = []\n",
    "for word in poem_set:\n",
    "    poem_set_lower.append(word.lower())\n",
    "    \n",
    "# or method 2\n",
    "poem_set_lower = [word.lower() for word in poem_set]\n",
    "\n",
    "poem_set = set(poem_set_lower)\n",
    "poem_set = poem_set - set(blacklist)"
   ]
  },
  {
   "cell_type": "code",
   "execution_count": 22,
   "metadata": {
    "ExecuteTime": {
     "end_time": "2020-08-27T20:10:27.954013Z",
     "start_time": "2020-08-27T20:10:27.942021Z"
    },
    "colab": {},
    "colab_type": "code",
    "id": "PaY9mbHX26JR",
    "outputId": "6ac4d5ae-6393-4372-decc-1506c328667b"
   },
   "outputs": [
    {
     "name": "stdout",
     "output_type": "stream",
     "text": [
      "{'not', 'grow', 'bright', 'i', 'deceitful', 'wrath', 'friend', 'waterd', 'he', 'had', 'stole', 'did', 'bore', 'shine', 'beheld', 'tree', 'wiles', 'when', 'morning', 'that', 'knew', 'mine', 'night', 'see', 'into', 'apple', 'pole', 'soft', 'grew', 'angry', 'tears', 'both', 'garden', 'with', 'my', 'fears', 'end', 'outstretched', 'beneath', 'sunned', 'day', 'till', 'foe', 'veild', 'told', 'smiles', 'was', 'glad'}\n"
     ]
    }
   ],
   "source": [
    "print(poem_set)"
   ]
  },
  {
   "cell_type": "markdown",
   "metadata": {
    "colab_type": "text",
    "id": "q1n2Fjjx26JX"
   },
   "source": [
    "# Challenge 3 -  Regex\n",
    "\n",
    "Obtain a list containing all phone numbers in the text below:\n",
    "\n",
    "Note: there should be 5 of them.\n"
   ]
  },
  {
   "cell_type": "code",
   "execution_count": 23,
   "metadata": {
    "ExecuteTime": {
     "end_time": "2020-08-27T20:10:27.971017Z",
     "start_time": "2020-08-27T20:10:27.957014Z"
    },
    "colab": {},
    "colab_type": "code",
    "id": "dILf4dmR26JY"
   },
   "outputs": [
    {
     "data": {
      "text/plain": [
       "['9789-0984', '4222-0901', '4312-5701', '9413 1383', '8993-1031']"
      ]
     },
     "execution_count": 23,
     "metadata": {},
     "output_type": "execute_result"
    }
   ],
   "source": [
    "text = \"\"\"\n",
    "Henry's phone number is 9789-0984\n",
    "Darlene's phone number is 4222-0901\n",
    "Andrew's phone number is 4312-5701\n",
    "James' phone number is 9413 1383\n",
    "Erica's phone number is 8993-1031\n",
    "\"\"\"\n",
    "\n",
    "# Your code here\n",
    "\n",
    "re.findall('\\d{4}[-\\s]?\\d{4}', text)"
   ]
  },
  {
   "cell_type": "markdown",
   "metadata": {
    "colab_type": "text",
    "id": "9AFg3zt026Jf"
   },
   "source": [
    "In the cell below, filter the list provided and return all elements of the list containing a number. To filter the list, use the `re.search` function. Check if the function does not return `None`. You can read more about the `re.search` function [here](https://docs.python.org/3/library/re.html)."
   ]
  },
  {
   "cell_type": "code",
   "execution_count": 24,
   "metadata": {
    "ExecuteTime": {
     "end_time": "2020-08-27T20:10:27.983998Z",
     "start_time": "2020-08-27T20:10:27.973002Z"
    },
    "colab": {},
    "colab_type": "code",
    "id": "ZMy87idP26Jg"
   },
   "outputs": [],
   "source": [
    "data = ['123abc', 'abc123', 'JohnSmith1', 'ABBY4', 'JANE']"
   ]
  },
  {
   "cell_type": "code",
   "execution_count": 25,
   "metadata": {
    "ExecuteTime": {
     "end_time": "2020-08-27T20:10:27.997989Z",
     "start_time": "2020-08-27T20:10:27.986994Z"
    }
   },
   "outputs": [
    {
     "name": "stdout",
     "output_type": "stream",
     "text": [
      "123abc\n",
      "abc123\n",
      "JohnSmith1\n",
      "ABBY4\n"
     ]
    }
   ],
   "source": [
    "for word in data:\n",
    "    if re.search(\"\\d\", word):\n",
    "        print(word)"
   ]
  },
  {
   "cell_type": "code",
   "execution_count": 26,
   "metadata": {
    "ExecuteTime": {
     "end_time": "2020-08-27T20:10:28.014981Z",
     "start_time": "2020-08-27T20:10:28.006982Z"
    },
    "colab": {},
    "colab_type": "code",
    "id": "li46rnCQ26Jk",
    "outputId": "e6a864a2-2026-4777-8ff6-15679802efc9"
   },
   "outputs": [
    {
     "name": "stdout",
     "output_type": "stream",
     "text": [
      "['123abc', 'abc123', 'JohnSmith1', 'ABBY4']\n"
     ]
    }
   ],
   "source": [
    "print([word for word in data if re.search(\"\\d\", word)])"
   ]
  },
  {
   "cell_type": "markdown",
   "metadata": {
    "colab_type": "text",
    "id": "dsm0SbOx26Jn"
   },
   "source": [
    "# Bonus Challenge - Regular Expressions II\n",
    "\n",
    "In the cell below, filter the list provided to keep only strings containing at least one digit and at least one lower case letter. As in the previous question, use the `re.search` function and check that the result is not `None`.\n",
    "\n",
    "To read more about regular expressions, check out [this link](https://developers.google.com/edu/python/regular-expressions)."
   ]
  },
  {
   "cell_type": "code",
   "execution_count": 27,
   "metadata": {
    "ExecuteTime": {
     "end_time": "2020-08-27T20:10:28.029971Z",
     "start_time": "2020-08-27T20:10:28.018976Z"
    },
    "colab": {},
    "colab_type": "code",
    "id": "9VOhXO9V26Jo"
   },
   "outputs": [],
   "source": [
    "data = ['123abc', 'abc123', 'JohnSmith1', 'ABBY4', 'JANE']"
   ]
  },
  {
   "cell_type": "code",
   "execution_count": 28,
   "metadata": {
    "ExecuteTime": {
     "end_time": "2020-08-27T20:10:28.045962Z",
     "start_time": "2020-08-27T20:10:28.032968Z"
    },
    "colab": {},
    "colab_type": "code",
    "id": "ovTGOpnL26Jr",
    "outputId": "5ceb5b0e-b9f3-4c74-8f96-86cb60119bbc"
   },
   "outputs": [
    {
     "name": "stdout",
     "output_type": "stream",
     "text": [
      "['123abc', 'abc123', 'JohnSmith1']\n"
     ]
    }
   ],
   "source": [
    "# Method 1\n",
    "print([word for word in data \n",
    "       if re.search(\"\\d\", word) \n",
    "       and re.search(\"[a-z]\", word)])"
   ]
  },
  {
   "cell_type": "code",
   "execution_count": 29,
   "metadata": {
    "ExecuteTime": {
     "end_time": "2020-08-27T20:10:28.060951Z",
     "start_time": "2020-08-27T20:10:28.047961Z"
    }
   },
   "outputs": [
    {
     "name": "stdout",
     "output_type": "stream",
     "text": [
      "['123abc', 'abc123', 'JohnSmith1']\n"
     ]
    }
   ],
   "source": [
    "# method 2\n",
    "\n",
    "filtered_list = []\n",
    "\n",
    "for word in data:\n",
    "    if re.search('\\d', word) and re.search('[a-z]', word):\n",
    "        filtered_list.append(word)\n",
    "        \n",
    "print(filtered_list)"
   ]
  },
  {
   "cell_type": "code",
   "execution_count": 30,
   "metadata": {
    "ExecuteTime": {
     "end_time": "2020-08-27T20:10:28.076943Z",
     "start_time": "2020-08-27T20:10:28.062950Z"
    },
    "colab": {},
    "colab_type": "code",
    "id": "6eMyloSs26Jy",
    "outputId": "3c762375-6def-4a6c-892e-2a97297698ad"
   },
   "outputs": [
    {
     "name": "stdout",
     "output_type": "stream",
     "text": [
      "['123abc', 'abc123', 'JohnSmith1']\n"
     ]
    }
   ],
   "source": [
    "# Method 3\n",
    "print([x for x in data \n",
    "       if re.search(\"(?=.*\\d)(?=.*[a-z]).*\", x)])"
   ]
  },
  {
   "cell_type": "code",
   "execution_count": null,
   "metadata": {},
   "outputs": [],
   "source": []
  },
  {
   "cell_type": "markdown",
   "metadata": {},
   "source": [
    "# Bonus for Nerds\n",
    "Given a list of reviews, a list of keywords and an integer k. Find the most popular k keywords in order of most to least frequently mentioned.\n",
    "\n",
    "The comparison of strings is case-insensitive. Multiple occurances of a keyword in a review should be considred as a single mention.\n",
    "\n",
    "Example Input:"
   ]
  },
  {
   "cell_type": "markdown",
   "metadata": {},
   "source": [
    "```python\n",
    "k = 2\n",
    "keywords = [\"anacell\", \"cetracular\", \"betacellular\"]\n",
    "reviews = [\n",
    "  \"Anacell provides the best services in the city whereas betacellular is the best of the world\",\n",
    "  \"cetracular has awesome services, cetracular is good, cetracular is awesome!\",\n",
    "  \"Best services provided by anacell, everyone should use anacell\",\n",
    "  \"Wow, betacellular services are good.\",\n",
    "]\n",
    "\n",
    "Expected Output:\n",
    "\n",
    "[\"anacell\", \"betacellular\"]\n",
    "\n",
    "# Explanation:\n",
    "# \"anacell\" and \"betacellular\" are occuring in 2 different reviews and \"cetracular\" is only occuring in 1 review, despite having so many repetitions.\n",
    "# The order doesnt matter for now\n",
    "\n",
    "```"
   ]
  },
  {
   "cell_type": "code",
   "execution_count": 31,
   "metadata": {
    "ExecuteTime": {
     "end_time": "2020-08-27T20:10:28.097933Z",
     "start_time": "2020-08-27T20:10:28.079940Z"
    }
   },
   "outputs": [],
   "source": [
    "k = 2\n",
    "keywords = [\"anacell\", \"cetracular\", \"betacellular\"]\n",
    "reviews = [\n",
    "  \"Anacell provides the best services in the city whereas betacellular is the best of the world\",\n",
    "  \"cetracular has awesome services, cetracular is good, cetracular is awesome!\",\n",
    "  \"Best services provided by anacell, everyone should use anacell\",\n",
    "  \"Wow, betacellular services are good.\",\n",
    "]"
   ]
  },
  {
   "cell_type": "code",
   "execution_count": 32,
   "metadata": {
    "ExecuteTime": {
     "end_time": "2020-08-27T20:10:28.115921Z",
     "start_time": "2020-08-27T20:10:28.099929Z"
    }
   },
   "outputs": [
    {
     "data": {
      "text/plain": [
       "['anacell', 'betacellular']"
      ]
     },
     "execution_count": 32,
     "metadata": {},
     "output_type": "execute_result"
    }
   ],
   "source": [
    "results = {keyword: 0 for keyword in keywords}\n",
    "\n",
    "for keyword in keywords:\n",
    "    for review in reviews:\n",
    "        if keyword in review.lower():\n",
    "            results[keyword] += 1\n",
    "            \n",
    "final = [item[0] for item in results.items() if item[1] == 2]\n",
    "final"
   ]
  },
  {
   "cell_type": "code",
   "execution_count": null,
   "metadata": {},
   "outputs": [],
   "source": []
  }
 ],
 "metadata": {
  "colab": {
   "collapsed_sections": [],
   "name": "04_lab_string_operations_challenge_01.ipynb",
   "provenance": []
  },
  "hide_input": false,
  "kernelspec": {
   "display_name": "Python 3",
   "language": "python",
   "name": "python3"
  },
  "language_info": {
   "codemirror_mode": {
    "name": "ipython",
    "version": 3
   },
   "file_extension": ".py",
   "mimetype": "text/x-python",
   "name": "python",
   "nbconvert_exporter": "python",
   "pygments_lexer": "ipython3",
   "version": "3.7.4"
  },
  "toc": {
   "base_numbering": 1,
   "nav_menu": {},
   "number_sections": true,
   "sideBar": true,
   "skip_h1_title": false,
   "title_cell": "Table of Contents",
   "title_sidebar": "Contents",
   "toc_cell": false,
   "toc_position": {},
   "toc_section_display": true,
   "toc_window_display": false
  },
  "varInspector": {
   "cols": {
    "lenName": 16,
    "lenType": 16,
    "lenVar": 40
   },
   "kernels_config": {
    "python": {
     "delete_cmd_postfix": "",
     "delete_cmd_prefix": "del ",
     "library": "var_list.py",
     "varRefreshCmd": "print(var_dic_list())"
    },
    "r": {
     "delete_cmd_postfix": ") ",
     "delete_cmd_prefix": "rm(",
     "library": "var_list.r",
     "varRefreshCmd": "cat(var_dic_list()) "
    }
   },
   "types_to_exclude": [
    "module",
    "function",
    "builtin_function_or_method",
    "instance",
    "_Feature"
   ],
   "window_display": false
  }
 },
 "nbformat": 4,
 "nbformat_minor": 1
}
