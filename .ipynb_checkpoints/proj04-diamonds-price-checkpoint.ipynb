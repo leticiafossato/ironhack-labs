{
 "cells": [
  {
   "cell_type": "markdown",
   "metadata": {},
   "source": [
    "# Setup"
   ]
  },
  {
   "cell_type": "code",
   "execution_count": 1,
   "metadata": {
    "ExecuteTime": {
     "end_time": "2020-09-24T15:55:38.224572Z",
     "start_time": "2020-09-24T15:55:38.219586Z"
    }
   },
   "outputs": [],
   "source": [
    "import matplotlib.pyplot as plt\n",
    "import numpy as np\n",
    "import pandas as pd\n",
    "import seaborn as sns\n",
    "\n",
    "from scipy.stats import iqr\n",
    "from sklearn.linear_model import LinearRegression\n",
    "from sklearn.metrics import mean_squared_error, r2_score"
   ]
  },
  {
   "cell_type": "code",
   "execution_count": null,
   "metadata": {},
   "outputs": [],
   "source": []
  },
  {
   "cell_type": "markdown",
   "metadata": {},
   "source": [
    "# Baseline"
   ]
  },
  {
   "cell_type": "code",
   "execution_count": 2,
   "metadata": {
    "ExecuteTime": {
     "end_time": "2020-09-24T15:42:37.381892Z",
     "start_time": "2020-09-24T15:42:37.319076Z"
    }
   },
   "outputs": [
    {
     "ename": "FileNotFoundError",
     "evalue": "[Errno 2] No such file or directory: '00-diamonds.csv'",
     "output_type": "error",
     "traceback": [
      "\u001b[1;31m---------------------------------------------------------------------------\u001b[0m",
      "\u001b[1;31mFileNotFoundError\u001b[0m                         Traceback (most recent call last)",
      "\u001b[1;32m<ipython-input-2-be0719aea38f>\u001b[0m in \u001b[0;36m<module>\u001b[1;34m\u001b[0m\n\u001b[1;32m----> 1\u001b[1;33m \u001b[0mdiamonds_history\u001b[0m \u001b[1;33m=\u001b[0m \u001b[0mpd\u001b[0m\u001b[1;33m.\u001b[0m\u001b[0mread_csv\u001b[0m\u001b[1;33m(\u001b[0m\u001b[1;34m'00-diamonds.csv'\u001b[0m\u001b[1;33m)\u001b[0m\u001b[1;33m\u001b[0m\u001b[1;33m\u001b[0m\u001b[0m\n\u001b[0m",
      "\u001b[1;32m~\\AppData\\Roaming\\Python\\Python38\\site-packages\\pandas\\io\\parsers.py\u001b[0m in \u001b[0;36mread_csv\u001b[1;34m(filepath_or_buffer, sep, delimiter, header, names, index_col, usecols, squeeze, prefix, mangle_dupe_cols, dtype, engine, converters, true_values, false_values, skipinitialspace, skiprows, skipfooter, nrows, na_values, keep_default_na, na_filter, verbose, skip_blank_lines, parse_dates, infer_datetime_format, keep_date_col, date_parser, dayfirst, cache_dates, iterator, chunksize, compression, thousands, decimal, lineterminator, quotechar, quoting, doublequote, escapechar, comment, encoding, dialect, error_bad_lines, warn_bad_lines, delim_whitespace, low_memory, memory_map, float_precision)\u001b[0m\n\u001b[0;32m    684\u001b[0m     )\n\u001b[0;32m    685\u001b[0m \u001b[1;33m\u001b[0m\u001b[0m\n\u001b[1;32m--> 686\u001b[1;33m     \u001b[1;32mreturn\u001b[0m \u001b[0m_read\u001b[0m\u001b[1;33m(\u001b[0m\u001b[0mfilepath_or_buffer\u001b[0m\u001b[1;33m,\u001b[0m \u001b[0mkwds\u001b[0m\u001b[1;33m)\u001b[0m\u001b[1;33m\u001b[0m\u001b[1;33m\u001b[0m\u001b[0m\n\u001b[0m\u001b[0;32m    687\u001b[0m \u001b[1;33m\u001b[0m\u001b[0m\n\u001b[0;32m    688\u001b[0m \u001b[1;33m\u001b[0m\u001b[0m\n",
      "\u001b[1;32m~\\AppData\\Roaming\\Python\\Python38\\site-packages\\pandas\\io\\parsers.py\u001b[0m in \u001b[0;36m_read\u001b[1;34m(filepath_or_buffer, kwds)\u001b[0m\n\u001b[0;32m    450\u001b[0m \u001b[1;33m\u001b[0m\u001b[0m\n\u001b[0;32m    451\u001b[0m     \u001b[1;31m# Create the parser.\u001b[0m\u001b[1;33m\u001b[0m\u001b[1;33m\u001b[0m\u001b[1;33m\u001b[0m\u001b[0m\n\u001b[1;32m--> 452\u001b[1;33m     \u001b[0mparser\u001b[0m \u001b[1;33m=\u001b[0m \u001b[0mTextFileReader\u001b[0m\u001b[1;33m(\u001b[0m\u001b[0mfp_or_buf\u001b[0m\u001b[1;33m,\u001b[0m \u001b[1;33m**\u001b[0m\u001b[0mkwds\u001b[0m\u001b[1;33m)\u001b[0m\u001b[1;33m\u001b[0m\u001b[1;33m\u001b[0m\u001b[0m\n\u001b[0m\u001b[0;32m    453\u001b[0m \u001b[1;33m\u001b[0m\u001b[0m\n\u001b[0;32m    454\u001b[0m     \u001b[1;32mif\u001b[0m \u001b[0mchunksize\u001b[0m \u001b[1;32mor\u001b[0m \u001b[0miterator\u001b[0m\u001b[1;33m:\u001b[0m\u001b[1;33m\u001b[0m\u001b[1;33m\u001b[0m\u001b[0m\n",
      "\u001b[1;32m~\\AppData\\Roaming\\Python\\Python38\\site-packages\\pandas\\io\\parsers.py\u001b[0m in \u001b[0;36m__init__\u001b[1;34m(self, f, engine, **kwds)\u001b[0m\n\u001b[0;32m    934\u001b[0m             \u001b[0mself\u001b[0m\u001b[1;33m.\u001b[0m\u001b[0moptions\u001b[0m\u001b[1;33m[\u001b[0m\u001b[1;34m\"has_index_names\"\u001b[0m\u001b[1;33m]\u001b[0m \u001b[1;33m=\u001b[0m \u001b[0mkwds\u001b[0m\u001b[1;33m[\u001b[0m\u001b[1;34m\"has_index_names\"\u001b[0m\u001b[1;33m]\u001b[0m\u001b[1;33m\u001b[0m\u001b[1;33m\u001b[0m\u001b[0m\n\u001b[0;32m    935\u001b[0m \u001b[1;33m\u001b[0m\u001b[0m\n\u001b[1;32m--> 936\u001b[1;33m         \u001b[0mself\u001b[0m\u001b[1;33m.\u001b[0m\u001b[0m_make_engine\u001b[0m\u001b[1;33m(\u001b[0m\u001b[0mself\u001b[0m\u001b[1;33m.\u001b[0m\u001b[0mengine\u001b[0m\u001b[1;33m)\u001b[0m\u001b[1;33m\u001b[0m\u001b[1;33m\u001b[0m\u001b[0m\n\u001b[0m\u001b[0;32m    937\u001b[0m \u001b[1;33m\u001b[0m\u001b[0m\n\u001b[0;32m    938\u001b[0m     \u001b[1;32mdef\u001b[0m \u001b[0mclose\u001b[0m\u001b[1;33m(\u001b[0m\u001b[0mself\u001b[0m\u001b[1;33m)\u001b[0m\u001b[1;33m:\u001b[0m\u001b[1;33m\u001b[0m\u001b[1;33m\u001b[0m\u001b[0m\n",
      "\u001b[1;32m~\\AppData\\Roaming\\Python\\Python38\\site-packages\\pandas\\io\\parsers.py\u001b[0m in \u001b[0;36m_make_engine\u001b[1;34m(self, engine)\u001b[0m\n\u001b[0;32m   1166\u001b[0m     \u001b[1;32mdef\u001b[0m \u001b[0m_make_engine\u001b[0m\u001b[1;33m(\u001b[0m\u001b[0mself\u001b[0m\u001b[1;33m,\u001b[0m \u001b[0mengine\u001b[0m\u001b[1;33m=\u001b[0m\u001b[1;34m\"c\"\u001b[0m\u001b[1;33m)\u001b[0m\u001b[1;33m:\u001b[0m\u001b[1;33m\u001b[0m\u001b[1;33m\u001b[0m\u001b[0m\n\u001b[0;32m   1167\u001b[0m         \u001b[1;32mif\u001b[0m \u001b[0mengine\u001b[0m \u001b[1;33m==\u001b[0m \u001b[1;34m\"c\"\u001b[0m\u001b[1;33m:\u001b[0m\u001b[1;33m\u001b[0m\u001b[1;33m\u001b[0m\u001b[0m\n\u001b[1;32m-> 1168\u001b[1;33m             \u001b[0mself\u001b[0m\u001b[1;33m.\u001b[0m\u001b[0m_engine\u001b[0m \u001b[1;33m=\u001b[0m \u001b[0mCParserWrapper\u001b[0m\u001b[1;33m(\u001b[0m\u001b[0mself\u001b[0m\u001b[1;33m.\u001b[0m\u001b[0mf\u001b[0m\u001b[1;33m,\u001b[0m \u001b[1;33m**\u001b[0m\u001b[0mself\u001b[0m\u001b[1;33m.\u001b[0m\u001b[0moptions\u001b[0m\u001b[1;33m)\u001b[0m\u001b[1;33m\u001b[0m\u001b[1;33m\u001b[0m\u001b[0m\n\u001b[0m\u001b[0;32m   1169\u001b[0m         \u001b[1;32melse\u001b[0m\u001b[1;33m:\u001b[0m\u001b[1;33m\u001b[0m\u001b[1;33m\u001b[0m\u001b[0m\n\u001b[0;32m   1170\u001b[0m             \u001b[1;32mif\u001b[0m \u001b[0mengine\u001b[0m \u001b[1;33m==\u001b[0m \u001b[1;34m\"python\"\u001b[0m\u001b[1;33m:\u001b[0m\u001b[1;33m\u001b[0m\u001b[1;33m\u001b[0m\u001b[0m\n",
      "\u001b[1;32m~\\AppData\\Roaming\\Python\\Python38\\site-packages\\pandas\\io\\parsers.py\u001b[0m in \u001b[0;36m__init__\u001b[1;34m(self, src, **kwds)\u001b[0m\n\u001b[0;32m   1996\u001b[0m         \u001b[0mkwds\u001b[0m\u001b[1;33m[\u001b[0m\u001b[1;34m\"usecols\"\u001b[0m\u001b[1;33m]\u001b[0m \u001b[1;33m=\u001b[0m \u001b[0mself\u001b[0m\u001b[1;33m.\u001b[0m\u001b[0musecols\u001b[0m\u001b[1;33m\u001b[0m\u001b[1;33m\u001b[0m\u001b[0m\n\u001b[0;32m   1997\u001b[0m \u001b[1;33m\u001b[0m\u001b[0m\n\u001b[1;32m-> 1998\u001b[1;33m         \u001b[0mself\u001b[0m\u001b[1;33m.\u001b[0m\u001b[0m_reader\u001b[0m \u001b[1;33m=\u001b[0m \u001b[0mparsers\u001b[0m\u001b[1;33m.\u001b[0m\u001b[0mTextReader\u001b[0m\u001b[1;33m(\u001b[0m\u001b[0msrc\u001b[0m\u001b[1;33m,\u001b[0m \u001b[1;33m**\u001b[0m\u001b[0mkwds\u001b[0m\u001b[1;33m)\u001b[0m\u001b[1;33m\u001b[0m\u001b[1;33m\u001b[0m\u001b[0m\n\u001b[0m\u001b[0;32m   1999\u001b[0m         \u001b[0mself\u001b[0m\u001b[1;33m.\u001b[0m\u001b[0munnamed_cols\u001b[0m \u001b[1;33m=\u001b[0m \u001b[0mself\u001b[0m\u001b[1;33m.\u001b[0m\u001b[0m_reader\u001b[0m\u001b[1;33m.\u001b[0m\u001b[0munnamed_cols\u001b[0m\u001b[1;33m\u001b[0m\u001b[1;33m\u001b[0m\u001b[0m\n\u001b[0;32m   2000\u001b[0m \u001b[1;33m\u001b[0m\u001b[0m\n",
      "\u001b[1;32mpandas\\_libs\\parsers.pyx\u001b[0m in \u001b[0;36mpandas._libs.parsers.TextReader.__cinit__\u001b[1;34m()\u001b[0m\n",
      "\u001b[1;32mpandas\\_libs\\parsers.pyx\u001b[0m in \u001b[0;36mpandas._libs.parsers.TextReader._setup_parser_source\u001b[1;34m()\u001b[0m\n",
      "\u001b[1;31mFileNotFoundError\u001b[0m: [Errno 2] No such file or directory: '00-diamonds.csv'"
     ]
    }
   ],
   "source": [
    "diamonds_history = pd.read_csv('00-diamonds.csv')"
   ]
  },
  {
   "cell_type": "code",
   "execution_count": null,
   "metadata": {
    "ExecuteTime": {
     "end_time": "2020-09-24T15:42:37.405828Z",
     "start_time": "2020-09-24T15:42:37.383889Z"
    }
   },
   "outputs": [],
   "source": [
    "diamonds_history"
   ]
  },
  {
   "cell_type": "code",
   "execution_count": null,
   "metadata": {
    "ExecuteTime": {
     "end_time": "2020-09-24T15:42:37.454697Z",
     "start_time": "2020-09-24T15:42:37.407824Z"
    }
   },
   "outputs": [],
   "source": [
    "diamonds_history.describe()"
   ]
  },
  {
   "cell_type": "code",
   "execution_count": null,
   "metadata": {
    "ExecuteTime": {
     "end_time": "2020-09-24T15:42:37.473647Z",
     "start_time": "2020-09-24T15:42:37.456693Z"
    }
   },
   "outputs": [],
   "source": [
    "# Check missing values\n",
    "diamonds_history.isna().sum()"
   ]
  },
  {
   "cell_type": "code",
   "execution_count": null,
   "metadata": {
    "ExecuteTime": {
     "end_time": "2020-09-24T15:42:37.495589Z",
     "start_time": "2020-09-24T15:42:37.474644Z"
    }
   },
   "outputs": [],
   "source": [
    "# Backup original dataset\n",
    "raw_diamond_history = diamonds_history.copy()\n",
    "raw_diamond_history"
   ]
  },
  {
   "cell_type": "code",
   "execution_count": null,
   "metadata": {
    "ExecuteTime": {
     "end_time": "2020-09-24T15:42:37.505561Z",
     "start_time": "2020-09-24T15:42:37.499585Z"
    }
   },
   "outputs": [],
   "source": [
    "# Mean price for the original dataset\n",
    "raw_mean_price = raw_diamond_history.price.mean()\n",
    "raw_mean_price"
   ]
  },
  {
   "cell_type": "code",
   "execution_count": null,
   "metadata": {
    "ExecuteTime": {
     "end_time": "2020-09-24T15:42:37.533487Z",
     "start_time": "2020-09-24T15:42:37.506559Z"
    }
   },
   "outputs": [],
   "source": [
    "# Import Rick's dataset\n",
    "rick_diamonds = pd.read_csv('00-rick_diamonds.csv')\n",
    "\n",
    "# Check the result\n",
    "rick_diamonds"
   ]
  },
  {
   "cell_type": "code",
   "execution_count": null,
   "metadata": {
    "ExecuteTime": {
     "end_time": "2020-09-24T15:42:37.554432Z",
     "start_time": "2020-09-24T15:42:37.534484Z"
    }
   },
   "outputs": [],
   "source": [
    "# Baseline\n",
    "raw_rick_price = rick_diamonds.copy()\n",
    "raw_rick_price['price_predicted'] = raw_mean_price\n",
    "raw_rick_price"
   ]
  },
  {
   "cell_type": "code",
   "execution_count": null,
   "metadata": {
    "ExecuteTime": {
     "end_time": "2020-09-24T15:42:37.600309Z",
     "start_time": "2020-09-24T15:42:37.556426Z"
    }
   },
   "outputs": [],
   "source": [
    "# Export the dataset\n",
    "raw_rick_price.to_csv('LG-baseline_model-0.csv', index=False)"
   ]
  },
  {
   "cell_type": "markdown",
   "metadata": {},
   "source": [
    "RMSE = 3969"
   ]
  },
  {
   "cell_type": "markdown",
   "metadata": {},
   "source": [
    "# Exploratory Data Analysis"
   ]
  },
  {
   "cell_type": "code",
   "execution_count": null,
   "metadata": {
    "ExecuteTime": {
     "end_time": "2020-09-24T15:42:37.617264Z",
     "start_time": "2020-09-24T15:42:37.602303Z"
    }
   },
   "outputs": [],
   "source": [
    "diamonds_history.info()"
   ]
  },
  {
   "cell_type": "markdown",
   "metadata": {},
   "source": [
    "There are 3 categorical variables and their values need to be converted to numbers."
   ]
  },
  {
   "cell_type": "markdown",
   "metadata": {},
   "source": [
    "## Convert categorical variables"
   ]
  },
  {
   "cell_type": "markdown",
   "metadata": {},
   "source": [
    "### History"
   ]
  },
  {
   "cell_type": "markdown",
   "metadata": {},
   "source": [
    "#### Cut"
   ]
  },
  {
   "cell_type": "code",
   "execution_count": null,
   "metadata": {
    "ExecuteTime": {
     "end_time": "2020-09-24T15:42:37.629232Z",
     "start_time": "2020-09-24T15:42:37.619258Z"
    }
   },
   "outputs": [],
   "source": [
    "diamonds_history['cut'].unique()"
   ]
  },
  {
   "cell_type": "code",
   "execution_count": null,
   "metadata": {
    "ExecuteTime": {
     "end_time": "2020-09-24T15:42:37.649184Z",
     "start_time": "2020-09-24T15:42:37.630235Z"
    }
   },
   "outputs": [],
   "source": [
    "[index + 1 for index in range(len(diamonds_history['cut'].unique()))]"
   ]
  },
  {
   "cell_type": "code",
   "execution_count": null,
   "metadata": {
    "ExecuteTime": {
     "end_time": "2020-09-24T15:42:37.662144Z",
     "start_time": "2020-09-24T15:42:37.653171Z"
    }
   },
   "outputs": [],
   "source": [
    "cut_num = {'Fair': '1', 'Good': '2', 'Very Good': '3', 'Premium': '4', 'Ideal': '5'}"
   ]
  },
  {
   "cell_type": "code",
   "execution_count": null,
   "metadata": {
    "ExecuteTime": {
     "end_time": "2020-09-24T15:42:37.701957Z",
     "start_time": "2020-09-24T15:42:37.668127Z"
    }
   },
   "outputs": [],
   "source": [
    "diamonds_history['cut_num'] = diamonds_history['cut'].apply(lambda x : int(x.replace(x, cut_num[x])))"
   ]
  },
  {
   "cell_type": "code",
   "execution_count": null,
   "metadata": {
    "ExecuteTime": {
     "end_time": "2020-09-24T15:42:37.726888Z",
     "start_time": "2020-09-24T15:42:37.704945Z"
    }
   },
   "outputs": [],
   "source": [
    "diamonds_history"
   ]
  },
  {
   "cell_type": "markdown",
   "metadata": {},
   "source": [
    "#### Color"
   ]
  },
  {
   "cell_type": "code",
   "execution_count": null,
   "metadata": {
    "ExecuteTime": {
     "end_time": "2020-09-24T15:42:37.736859Z",
     "start_time": "2020-09-24T15:42:37.728882Z"
    }
   },
   "outputs": [],
   "source": [
    "color_cat = list(diamonds_history['color'].unique())\n",
    "color_cat.sort(reverse=True)\n",
    "color_cat"
   ]
  },
  {
   "cell_type": "code",
   "execution_count": null,
   "metadata": {
    "ExecuteTime": {
     "end_time": "2020-09-24T15:42:37.744838Z",
     "start_time": "2020-09-24T15:42:37.737857Z"
    }
   },
   "outputs": [],
   "source": [
    "color_cat_num = {letter: str(index + 1) for index, letter in enumerate(color_cat)}\n",
    "color_cat_num"
   ]
  },
  {
   "cell_type": "code",
   "execution_count": null,
   "metadata": {
    "ExecuteTime": {
     "end_time": "2020-09-24T15:42:37.775755Z",
     "start_time": "2020-09-24T15:42:37.746833Z"
    }
   },
   "outputs": [],
   "source": [
    "diamonds_history['color_num'] = diamonds_history['color'].apply(lambda x : int(x.replace(x, color_cat_num[x])))"
   ]
  },
  {
   "cell_type": "code",
   "execution_count": null,
   "metadata": {
    "ExecuteTime": {
     "end_time": "2020-09-24T15:42:37.805675Z",
     "start_time": "2020-09-24T15:42:37.779748Z"
    }
   },
   "outputs": [],
   "source": [
    "diamonds_history"
   ]
  },
  {
   "cell_type": "markdown",
   "metadata": {},
   "source": [
    "#### Clarity"
   ]
  },
  {
   "cell_type": "markdown",
   "metadata": {},
   "source": [
    "A measurement of how clear the diamond is (I1 (worst), SI2, SI1, VS2, VS1, VVS2, VVS1, IF (best))"
   ]
  },
  {
   "cell_type": "code",
   "execution_count": null,
   "metadata": {
    "ExecuteTime": {
     "end_time": "2020-09-24T15:42:37.810661Z",
     "start_time": "2020-09-24T15:42:37.806673Z"
    }
   },
   "outputs": [],
   "source": [
    "clarity_cat = {'I1': '1', 'SI2': '2', 'SI1': '3', 'VS2': '4', 'VS1': '5', 'VVS2': '6', 'VVS1': '7', 'IF': '8'}"
   ]
  },
  {
   "cell_type": "code",
   "execution_count": null,
   "metadata": {
    "ExecuteTime": {
     "end_time": "2020-09-24T15:42:37.860531Z",
     "start_time": "2020-09-24T15:42:37.811659Z"
    }
   },
   "outputs": [],
   "source": [
    "diamonds_history['clarity_num'] = diamonds_history['clarity'].apply(lambda x : int(x.replace(x, clarity_cat[x])))\n",
    "diamonds_history"
   ]
  },
  {
   "cell_type": "code",
   "execution_count": null,
   "metadata": {},
   "outputs": [],
   "source": []
  },
  {
   "cell_type": "markdown",
   "metadata": {},
   "source": [
    "### Rick"
   ]
  },
  {
   "cell_type": "code",
   "execution_count": null,
   "metadata": {
    "ExecuteTime": {
     "end_time": "2020-09-24T15:42:37.868513Z",
     "start_time": "2020-09-24T15:42:37.862524Z"
    }
   },
   "outputs": [],
   "source": [
    "# Create a backup\n",
    "raw_rick_diamonds = rick_diamonds.copy()"
   ]
  },
  {
   "cell_type": "markdown",
   "metadata": {},
   "source": [
    "#### Cut"
   ]
  },
  {
   "cell_type": "code",
   "execution_count": null,
   "metadata": {
    "ExecuteTime": {
     "end_time": "2020-09-24T15:42:37.889451Z",
     "start_time": "2020-09-24T15:42:37.869505Z"
    }
   },
   "outputs": [],
   "source": [
    "rick_diamonds['cut_num'] = rick_diamonds['cut'].apply(lambda x : int(x.replace(x, cut_num[x])))\n",
    "rick_diamonds"
   ]
  },
  {
   "cell_type": "code",
   "execution_count": null,
   "metadata": {
    "ExecuteTime": {
     "end_time": "2020-09-24T15:42:37.911393Z",
     "start_time": "2020-09-24T15:42:37.890448Z"
    }
   },
   "outputs": [],
   "source": [
    "rick_diamonds['color_num'] = rick_diamonds['color'].apply(lambda x : int(x.replace(x, color_cat_num[x])))\n",
    "rick_diamonds"
   ]
  },
  {
   "cell_type": "code",
   "execution_count": null,
   "metadata": {
    "ExecuteTime": {
     "end_time": "2020-09-24T15:42:37.946784Z",
     "start_time": "2020-09-24T15:42:37.912391Z"
    }
   },
   "outputs": [],
   "source": [
    "rick_diamonds['clarity_num'] = rick_diamonds['clarity'].apply(lambda x : int(x.replace(x, clarity_cat[x])))\n",
    "rick_diamonds"
   ]
  },
  {
   "cell_type": "code",
   "execution_count": null,
   "metadata": {},
   "outputs": [],
   "source": []
  },
  {
   "cell_type": "code",
   "execution_count": null,
   "metadata": {},
   "outputs": [],
   "source": []
  },
  {
   "cell_type": "code",
   "execution_count": null,
   "metadata": {},
   "outputs": [],
   "source": []
  },
  {
   "cell_type": "code",
   "execution_count": null,
   "metadata": {},
   "outputs": [],
   "source": []
  },
  {
   "cell_type": "code",
   "execution_count": null,
   "metadata": {},
   "outputs": [],
   "source": []
  },
  {
   "cell_type": "markdown",
   "metadata": {},
   "source": [
    "# First Linear Regression"
   ]
  },
  {
   "cell_type": "code",
   "execution_count": null,
   "metadata": {
    "ExecuteTime": {
     "end_time": "2020-09-24T15:42:37.976707Z",
     "start_time": "2020-09-24T15:42:37.948779Z"
    }
   },
   "outputs": [],
   "source": [
    "# Instance the model\n",
    "model = LinearRegression()\n",
    "\n",
    "X = diamonds_history[['carat', 'cut_num', 'color_num', 'clarity_num', 'depth', 'table', 'x', 'y', 'z']]\n",
    "y = diamonds_history['price']\n",
    "\n",
    "model.fit(X, y)"
   ]
  },
  {
   "cell_type": "code",
   "execution_count": null,
   "metadata": {
    "ExecuteTime": {
     "end_time": "2020-09-24T15:42:37.988672Z",
     "start_time": "2020-09-24T15:42:37.978699Z"
    }
   },
   "outputs": [],
   "source": [
    "rick_predicted = model.predict(rick_diamonds[['carat', 'cut_num', 'color_num', 'clarity_num', 'depth', 'table', 'x',\n",
    "                                              'y', 'z']])"
   ]
  },
  {
   "cell_type": "code",
   "execution_count": null,
   "metadata": {
    "ExecuteTime": {
     "end_time": "2020-09-24T15:42:37.995653Z",
     "start_time": "2020-09-24T15:42:37.990666Z"
    }
   },
   "outputs": [],
   "source": [
    "rick_predicted"
   ]
  },
  {
   "cell_type": "code",
   "execution_count": null,
   "metadata": {
    "ExecuteTime": {
     "end_time": "2020-09-24T15:42:38.020589Z",
     "start_time": "2020-09-24T15:42:37.997649Z"
    }
   },
   "outputs": [],
   "source": [
    "rick_final = raw_rick_diamonds.copy()\n",
    "rick_final['price_predicted'] = rick_predicted\n",
    "rick_final"
   ]
  },
  {
   "cell_type": "code",
   "execution_count": null,
   "metadata": {
    "ExecuteTime": {
     "end_time": "2020-09-24T15:42:38.075440Z",
     "start_time": "2020-09-24T15:42:38.022584Z"
    }
   },
   "outputs": [],
   "source": [
    "rick_final.to_csv('LG-price-predicted.csv', index=False)"
   ]
  },
  {
   "cell_type": "markdown",
   "metadata": {},
   "source": [
    "RMSE = 1230\n",
    "\n",
    "R² = 90.40%"
   ]
  },
  {
   "cell_type": "markdown",
   "metadata": {},
   "source": [
    "# Exploratory Data Analysis"
   ]
  },
  {
   "cell_type": "code",
   "execution_count": null,
   "metadata": {
    "ExecuteTime": {
     "end_time": "2020-09-24T15:42:38.112341Z",
     "start_time": "2020-09-24T15:42:38.078433Z"
    }
   },
   "outputs": [],
   "source": [
    "diamonds_history.corr()"
   ]
  },
  {
   "cell_type": "code",
   "execution_count": null,
   "metadata": {
    "ExecuteTime": {
     "end_time": "2020-09-24T15:42:39.064912Z",
     "start_time": "2020-09-24T15:42:38.113339Z"
    }
   },
   "outputs": [],
   "source": [
    "# Correlation\n",
    "corr = diamonds_history[['carat', 'cut_num', 'color_num', 'clarity_num', 'depth', 'table', 'x', 'y', 'z', 'price']].corr()\n",
    "\n",
    "# Generate a mask for the upper triangle\n",
    "mask = np.triu(np.ones_like(corr, dtype=bool))\n",
    "\n",
    "# Generate a custom diverging colormap\n",
    "cmap = sns.diverging_palette(230, 20, as_cmap=True)\n",
    "\n",
    "# Plot the heatmap\n",
    "fig, ax = plt.subplots(figsize=(20,10))\n",
    "sns.heatmap(corr, mask=mask, cmap=cmap, vmax=1, vmin=-1, center=0, square=True, linewidths=.5, cbar_kws={\"shrink\": .5}, annot=True);"
   ]
  },
  {
   "cell_type": "markdown",
   "metadata": {},
   "source": [
    "- Carat, x, y and z are the variables that influency the most in the price.\n",
    "- The depth is the least relevant e seria redundante usá-lo no modelo, pois ele já é dependente/composto pelas variáveis x, y e z"
   ]
  },
  {
   "cell_type": "markdown",
   "metadata": {},
   "source": [
    "# Modelo usando carat, x, y, z"
   ]
  },
  {
   "cell_type": "code",
   "execution_count": null,
   "metadata": {
    "ExecuteTime": {
     "end_time": "2020-09-24T15:42:39.135723Z",
     "start_time": "2020-09-24T15:42:39.065877Z"
    }
   },
   "outputs": [],
   "source": [
    "# Instance the model\n",
    "model = LinearRegression()\n",
    "\n",
    "X = diamonds_history[['carat', 'x', 'y', 'z']]\n",
    "y = diamonds_history['price']\n",
    "\n",
    "# Performe the model\n",
    "model.fit(X, y)\n",
    "\n",
    "# Predict\n",
    "rick_predicted = model.predict(rick_diamonds[['carat', 'x', 'y', 'z']])\n",
    "\n",
    "# Create a new dataset\n",
    "rick_final = raw_rick_diamonds.copy()\n",
    "rick_final['price_predicted'] = rick_predicted\n",
    "rick_final\n",
    "\n",
    "# Export the dataset\n",
    "rick_final.to_csv('LG-price-predicted.csv', index=False)"
   ]
  },
  {
   "cell_type": "code",
   "execution_count": null,
   "metadata": {
    "ExecuteTime": {
     "end_time": "2020-09-24T15:42:39.140712Z",
     "start_time": "2020-09-24T15:42:39.136688Z"
    }
   },
   "outputs": [],
   "source": [
    "rick_predicted"
   ]
  },
  {
   "cell_type": "markdown",
   "metadata": {},
   "source": [
    "RMSE = 1538"
   ]
  },
  {
   "cell_type": "markdown",
   "metadata": {},
   "source": [
    "# Modelo no depth"
   ]
  },
  {
   "cell_type": "code",
   "execution_count": null,
   "metadata": {
    "ExecuteTime": {
     "end_time": "2020-09-24T15:42:39.214480Z",
     "start_time": "2020-09-24T15:42:39.142673Z"
    }
   },
   "outputs": [],
   "source": [
    "# Instance the model\n",
    "model = LinearRegression()\n",
    "\n",
    "X = diamonds_history[['carat', 'cut_num', 'color_num', 'clarity_num', 'table', 'x', 'y', 'z']]\n",
    "y = diamonds_history['price']\n",
    "\n",
    "# Performe the model\n",
    "model.fit(X, y)\n",
    "\n",
    "# Predict\n",
    "rick_predicted = model.predict(rick_diamonds[['carat', 'cut_num', 'color_num', 'clarity_num', 'table', 'x', 'y', 'z']])\n",
    "\n",
    "# Create a new dataset\n",
    "rick_final = raw_rick_diamonds.copy()\n",
    "rick_final['price_predicted'] = rick_predicted\n",
    "rick_final\n",
    "\n",
    "# Export the dataset\n",
    "rick_final.to_csv('LG-price-predicted.csv', index=False)"
   ]
  },
  {
   "cell_type": "markdown",
   "metadata": {},
   "source": [
    "RMSE = 1232\n",
    "\n",
    "R² = 90.36%"
   ]
  },
  {
   "cell_type": "markdown",
   "metadata": {},
   "source": [
    "# Modelo no x, y, z"
   ]
  },
  {
   "cell_type": "code",
   "execution_count": null,
   "metadata": {
    "ExecuteTime": {
     "end_time": "2020-09-24T15:42:39.281965Z",
     "start_time": "2020-09-24T15:42:39.215478Z"
    }
   },
   "outputs": [],
   "source": [
    "# Instance the model\n",
    "model = LinearRegression()\n",
    "\n",
    "X = diamonds_history[['carat', 'cut_num', 'color_num', 'clarity_num', 'depth', 'table']]\n",
    "y = diamonds_history['price']\n",
    "\n",
    "# Performe the model\n",
    "model.fit(X, y)\n",
    "\n",
    "# Predict\n",
    "rick_predicted = model.predict(rick_diamonds[['carat', 'cut_num', 'color_num', 'clarity_num', 'depth', 'table']])\n",
    "\n",
    "# Create a new dataset\n",
    "rick_final = raw_rick_diamonds.copy()\n",
    "rick_final['price_predicted'] = rick_predicted\n",
    "rick_final\n",
    "\n",
    "# Export the dataset\n",
    "rick_final.to_csv('LG-price-predicted.csv', index=False)"
   ]
  },
  {
   "cell_type": "markdown",
   "metadata": {},
   "source": [
    "RMSE = 1247\n",
    "\n",
    "\n",
    "R² = 90.17%"
   ]
  },
  {
   "cell_type": "markdown",
   "metadata": {},
   "source": [
    "# Exploratory Data Analysis"
   ]
  },
  {
   "cell_type": "code",
   "execution_count": null,
   "metadata": {
    "ExecuteTime": {
     "end_time": "2020-09-24T15:42:39.287949Z",
     "start_time": "2020-09-24T15:42:39.282963Z"
    }
   },
   "outputs": [],
   "source": [
    "diamonds_history.shape"
   ]
  },
  {
   "cell_type": "code",
   "execution_count": null,
   "metadata": {
    "ExecuteTime": {
     "end_time": "2020-09-24T15:42:39.329840Z",
     "start_time": "2020-09-24T15:42:39.288946Z"
    }
   },
   "outputs": [],
   "source": [
    "diamonds_history.describe()"
   ]
  },
  {
   "cell_type": "markdown",
   "metadata": {},
   "source": [
    "## Check min x, y and z"
   ]
  },
  {
   "cell_type": "code",
   "execution_count": null,
   "metadata": {
    "ExecuteTime": {
     "end_time": "2020-09-24T15:42:39.347790Z",
     "start_time": "2020-09-24T15:42:39.330835Z"
    }
   },
   "outputs": [],
   "source": [
    "diamonds_history[(diamonds_history.x == 0) | (diamonds_history.y == 0) | (diamonds_history.z == 0)]"
   ]
  },
  {
   "cell_type": "code",
   "execution_count": null,
   "metadata": {
    "ExecuteTime": {
     "end_time": "2020-09-24T15:42:39.363746Z",
     "start_time": "2020-09-24T15:42:39.348788Z"
    }
   },
   "outputs": [],
   "source": [
    "diamonds_history[(diamonds_history.x == 0) | (diamonds_history.y == 0) & (diamonds_history.z == 0)]"
   ]
  },
  {
   "cell_type": "code",
   "execution_count": null,
   "metadata": {
    "ExecuteTime": {
     "end_time": "2020-09-24T15:43:05.295074Z",
     "start_time": "2020-09-24T15:43:05.267099Z"
    }
   },
   "outputs": [],
   "source": [
    "diamonds_history = diamonds_history[~((diamonds_history.x == 0) | (diamonds_history.y == 0) & (diamonds_history.z == 0))].reset_index(drop=True)\n",
    "diamonds_history"
   ]
  },
  {
   "cell_type": "code",
   "execution_count": null,
   "metadata": {
    "ExecuteTime": {
     "end_time": "2020-09-24T15:43:09.904647Z",
     "start_time": "2020-09-24T15:43:09.834851Z"
    }
   },
   "outputs": [],
   "source": [
    "# Instance the model\n",
    "model = LinearRegression()\n",
    "\n",
    "X = diamonds_history[['carat', 'cut_num', 'color_num', 'clarity_num', 'table', 'x', 'y', 'z']]\n",
    "y = diamonds_history['price']\n",
    "\n",
    "# Performe the model\n",
    "model.fit(X, y)\n",
    "\n",
    "# Predict\n",
    "rick_predicted = model.predict(rick_diamonds[['carat', 'cut_num', 'color_num', 'clarity_num', 'table', 'x', 'y', 'z']])\n",
    "\n",
    "# Create a new dataset\n",
    "rick_final = raw_rick_diamonds.copy()\n",
    "rick_final['price_predicted'] = rick_predicted\n",
    "rick_final\n",
    "\n",
    "# Export the dataset\n",
    "rick_final.to_csv('LG-price-predicted.csv', index=False)"
   ]
  },
  {
   "cell_type": "markdown",
   "metadata": {},
   "source": [
    "RMSE = 1232\n",
    "\n",
    "R² = 90.36%"
   ]
  },
  {
   "cell_type": "markdown",
   "metadata": {},
   "source": [
    "# Exploratory Data Analysis"
   ]
  },
  {
   "cell_type": "markdown",
   "metadata": {},
   "source": [
    "| Column  | Description  |\n",
    "|---|---|\n",
    "| Price  | Price in US dollars (326-18,823)  |\n",
    "| Carat  | Weight of the diamond (0.2--5.01)  |\n",
    "| Cut  | Quality of the cut (Fair, Good, Very Good, Premium, Ideal)  |\n",
    "| Color  | Diamond colour, from J (worst) to D (best)  |\n",
    "| Clarity  | A measurement of how clear the diamond is (I1 (worst), SI2, SI1, VS2, VS1, VVS2, VVS1, IF (best))   |\n",
    "| x  | Length in mm (0--10.74)  |\n",
    "| y  | Width in mm (0--58.9)  |\n",
    "| z  | Depth in mm (0--31.8)  |\n",
    "| Depth  | Total depth percentage = z / mean(x, y) = 2 * z / (x + y) (43--79)  |\n",
    "| Table  | Width of top of diamond relative to widest point (43--95)  |"
   ]
  },
  {
   "cell_type": "code",
   "execution_count": null,
   "metadata": {
    "ExecuteTime": {
     "end_time": "2020-09-24T15:43:15.271446Z",
     "start_time": "2020-09-24T15:43:15.252472Z"
    }
   },
   "outputs": [],
   "source": [
    "diamonds_history[(diamonds_history.x == 0) | (diamonds_history.y == 0) | (diamonds_history.z == 0)]"
   ]
  },
  {
   "cell_type": "code",
   "execution_count": null,
   "metadata": {
    "ExecuteTime": {
     "end_time": "2020-09-24T15:28:25.238006Z",
     "start_time": "2020-09-24T15:28:25.233982Z"
    }
   },
   "outputs": [],
   "source": [
    "np.mean([3, 4])"
   ]
  },
  {
   "cell_type": "code",
   "execution_count": null,
   "metadata": {
    "ExecuteTime": {
     "end_time": "2020-09-24T15:35:30.407299Z",
     "start_time": "2020-09-24T15:35:30.403278Z"
    }
   },
   "outputs": [],
   "source": [
    "diamonds_history.index"
   ]
  },
  {
   "cell_type": "code",
   "execution_count": null,
   "metadata": {
    "ExecuteTime": {
     "end_time": "2020-09-24T15:43:24.032424Z",
     "start_time": "2020-09-24T15:43:24.029397Z"
    }
   },
   "outputs": [],
   "source": [
    "diamonds_history.shape"
   ]
  },
  {
   "cell_type": "code",
   "execution_count": null,
   "metadata": {
    "ExecuteTime": {
     "end_time": "2020-09-24T15:48:47.706612Z",
     "start_time": "2020-09-24T15:48:46.130333Z"
    }
   },
   "outputs": [],
   "source": [
    "diamonds_history['z_calc'] = [diamonds_history.iloc[index, 4] * np.mean([diamonds_history.iloc[index, 7],diamonds_history.iloc[index, 8]]) / 100 if diamonds_history.iloc[index, 9] == 0 else diamonds_history.iloc[index, 9] for index in diamonds_history.index]\n",
    "diamonds_history"
   ]
  },
  {
   "cell_type": "code",
   "execution_count": null,
   "metadata": {
    "ExecuteTime": {
     "end_time": "2020-09-24T15:48:49.348387Z",
     "start_time": "2020-09-24T15:48:49.329405Z"
    }
   },
   "outputs": [],
   "source": [
    "diamonds_history[(diamonds_history.x == 0) | (diamonds_history.y == 0) | (diamonds_history.z == 0)]"
   ]
  },
  {
   "cell_type": "code",
   "execution_count": null,
   "metadata": {
    "ExecuteTime": {
     "end_time": "2020-09-24T15:49:23.590524Z",
     "start_time": "2020-09-24T15:49:23.521689Z"
    }
   },
   "outputs": [],
   "source": [
    "# Instance the model\n",
    "model = LinearRegression()\n",
    "\n",
    "X = diamonds_history[['carat', 'cut_num', 'color_num', 'clarity_num', 'table', 'x', 'y', 'z']]\n",
    "y = diamonds_history['price']\n",
    "\n",
    "# Performe the model\n",
    "model.fit(X, y)\n",
    "\n",
    "# Predict\n",
    "rick_predicted = model.predict(rick_diamonds[['carat', 'cut_num', 'color_num', 'clarity_num', 'table', 'x', 'y', 'z']])\n",
    "\n",
    "# Create a new dataset\n",
    "rick_final = raw_rick_diamonds.copy()\n",
    "rick_final['price_predicted'] = rick_predicted\n",
    "rick_final\n",
    "\n",
    "# Export the dataset\n",
    "rick_final.to_csv('LG-price-predicted.csv', index=False)"
   ]
  },
  {
   "cell_type": "markdown",
   "metadata": {},
   "source": [
    "RMSE = 1232\n",
    "\n",
    "R² = 90.36%"
   ]
  },
  {
   "cell_type": "code",
   "execution_count": null,
   "metadata": {},
   "outputs": [],
   "source": []
  },
  {
   "cell_type": "markdown",
   "metadata": {},
   "source": [
    "# Exploratory Data Analysis"
   ]
  },
  {
   "cell_type": "markdown",
   "metadata": {},
   "source": [
    "## Check z"
   ]
  },
  {
   "cell_type": "code",
   "execution_count": null,
   "metadata": {
    "ExecuteTime": {
     "end_time": "2020-09-24T15:50:30.920377Z",
     "start_time": "2020-09-24T15:50:30.819648Z"
    }
   },
   "outputs": [],
   "source": [
    "sns.boxplot(y=diamonds_history.z)"
   ]
  },
  {
   "cell_type": "code",
   "execution_count": null,
   "metadata": {},
   "outputs": [],
   "source": [
    "diamonds_history[diamonds_history.z > 25]"
   ]
  },
  {
   "cell_type": "code",
   "execution_count": null,
   "metadata": {
    "ExecuteTime": {
     "end_time": "2020-09-24T15:55:50.632676Z",
     "start_time": "2020-09-24T15:55:50.626693Z"
    }
   },
   "outputs": [],
   "source": [
    "iqr(diamonds_history.z)"
   ]
  },
  {
   "cell_type": "code",
   "execution_count": null,
   "metadata": {},
   "outputs": [],
   "source": []
  },
  {
   "cell_type": "code",
   "execution_count": null,
   "metadata": {},
   "outputs": [],
   "source": []
  },
  {
   "cell_type": "code",
   "execution_count": null,
   "metadata": {},
   "outputs": [],
   "source": []
  },
  {
   "cell_type": "markdown",
   "metadata": {},
   "source": [
    "# Exploratory Data Analysis"
   ]
  },
  {
   "cell_type": "code",
   "execution_count": null,
   "metadata": {},
   "outputs": [],
   "source": []
  },
  {
   "cell_type": "markdown",
   "metadata": {},
   "source": [
    "# Exploratory Data Analysis"
   ]
  },
  {
   "cell_type": "code",
   "execution_count": null,
   "metadata": {},
   "outputs": [],
   "source": []
  },
  {
   "cell_type": "markdown",
   "metadata": {},
   "source": [
    "# Exploratory Data Analysis"
   ]
  },
  {
   "cell_type": "code",
   "execution_count": null,
   "metadata": {},
   "outputs": [],
   "source": []
  },
  {
   "cell_type": "code",
   "execution_count": null,
   "metadata": {},
   "outputs": [],
   "source": []
  },
  {
   "cell_type": "code",
   "execution_count": null,
   "metadata": {},
   "outputs": [],
   "source": []
  },
  {
   "cell_type": "code",
   "execution_count": null,
   "metadata": {},
   "outputs": [],
   "source": []
  },
  {
   "cell_type": "code",
   "execution_count": null,
   "metadata": {},
   "outputs": [],
   "source": []
  },
  {
   "cell_type": "code",
   "execution_count": null,
   "metadata": {},
   "outputs": [],
   "source": []
  },
  {
   "cell_type": "code",
   "execution_count": null,
   "metadata": {},
   "outputs": [],
   "source": []
  },
  {
   "cell_type": "code",
   "execution_count": null,
   "metadata": {
    "ExecuteTime": {
     "end_time": "2020-09-24T15:00:01.658573Z",
     "start_time": "2020-09-24T14:59:40.773108Z"
    }
   },
   "outputs": [],
   "source": [
    "sns.pairplot(diamonds_history[['carat', 'cut_num', 'color_num', 'clarity_num', 'depth', 'table', 'x', 'y', 'z', 'price']])"
   ]
  },
  {
   "cell_type": "code",
   "execution_count": null,
   "metadata": {
    "ExecuteTime": {
     "end_time": "2020-09-24T15:06:25.507948Z",
     "start_time": "2020-09-24T15:06:25.046202Z"
    }
   },
   "outputs": [],
   "source": [
    "# Plot boxplot\n",
    "fig, axes = plt.subplots(nrows=1, ncols=6, figsize=(20, 10))\n",
    "sns.boxplot(y=diamonds_history.carat, ax=ax[0])\n",
    "sns.boxplot(y=diamonds_history.depth, ax=ax[1])\n",
    "sns.boxplot(y=diamonds_history.table, ax=ax[2])\n",
    "sns.boxplot(y=diamonds_history.x, ax=ax[3])\n",
    "sns.boxplot(y=diamonds_history.y, ax=ax[4])\n",
    "sns.boxplot(y=diamonds_history.z, ax=ax[5])\n",
    "plt.subplots_adjust(wspace=0.5)"
   ]
  },
  {
   "cell_type": "code",
   "execution_count": null,
   "metadata": {
    "ExecuteTime": {
     "end_time": "2020-09-24T15:06:44.306620Z",
     "start_time": "2020-09-24T15:06:44.195882Z"
    }
   },
   "outputs": [],
   "source": [
    "sns.boxplot(y=diamonds_history.carat)"
   ]
  },
  {
   "cell_type": "code",
   "execution_count": null,
   "metadata": {
    "ExecuteTime": {
     "end_time": "2020-09-24T15:07:46.935352Z",
     "start_time": "2020-09-24T15:07:46.827126Z"
    }
   },
   "outputs": [],
   "source": [
    "sns.boxplot(y=diamonds_history.depth)"
   ]
  },
  {
   "cell_type": "code",
   "execution_count": null,
   "metadata": {
    "ExecuteTime": {
     "end_time": "2020-09-24T15:08:07.394233Z",
     "start_time": "2020-09-24T15:08:07.284518Z"
    }
   },
   "outputs": [],
   "source": [
    "sns.boxplot(y=diamonds_history.table)"
   ]
  },
  {
   "cell_type": "code",
   "execution_count": null,
   "metadata": {
    "ExecuteTime": {
     "end_time": "2020-09-24T15:08:14.726187Z",
     "start_time": "2020-09-24T15:08:14.622432Z"
    }
   },
   "outputs": [],
   "source": [
    "sns.boxplot(y=diamonds_history.x)"
   ]
  },
  {
   "cell_type": "code",
   "execution_count": null,
   "metadata": {
    "ExecuteTime": {
     "end_time": "2020-09-24T15:08:19.071030Z",
     "start_time": "2020-09-24T15:08:18.970299Z"
    }
   },
   "outputs": [],
   "source": [
    "sns.boxplot(y=diamonds_history.y)"
   ]
  },
  {
   "cell_type": "code",
   "execution_count": null,
   "metadata": {
    "ExecuteTime": {
     "end_time": "2020-09-24T15:08:23.423636Z",
     "start_time": "2020-09-24T15:08:23.316922Z"
    }
   },
   "outputs": [],
   "source": [
    "sns.boxplot(y=diamonds_history.z)"
   ]
  },
  {
   "cell_type": "code",
   "execution_count": null,
   "metadata": {},
   "outputs": [],
   "source": []
  },
  {
   "cell_type": "code",
   "execution_count": null,
   "metadata": {},
   "outputs": [],
   "source": []
  },
  {
   "cell_type": "code",
   "execution_count": null,
   "metadata": {},
   "outputs": [],
   "source": []
  },
  {
   "cell_type": "code",
   "execution_count": null,
   "metadata": {},
   "outputs": [],
   "source": []
  },
  {
   "cell_type": "code",
   "execution_count": null,
   "metadata": {},
   "outputs": [],
   "source": []
  },
  {
   "cell_type": "code",
   "execution_count": null,
   "metadata": {},
   "outputs": [],
   "source": []
  },
  {
   "cell_type": "code",
   "execution_count": null,
   "metadata": {},
   "outputs": [],
   "source": []
  },
  {
   "cell_type": "code",
   "execution_count": null,
   "metadata": {},
   "outputs": [],
   "source": []
  }
 ],
 "metadata": {
  "hide_input": false,
  "kernelspec": {
   "display_name": "Python 3",
   "language": "python",
   "name": "python3"
  },
  "language_info": {
   "codemirror_mode": {
    "name": "ipython",
    "version": 3
   },
   "file_extension": ".py",
   "mimetype": "text/x-python",
   "name": "python",
   "nbconvert_exporter": "python",
   "pygments_lexer": "ipython3",
   "version": "3.8.3"
  },
  "toc": {
   "base_numbering": 1,
   "nav_menu": {},
   "number_sections": true,
   "sideBar": true,
   "skip_h1_title": false,
   "title_cell": "Table of Contents",
   "title_sidebar": "Contents",
   "toc_cell": false,
   "toc_position": {},
   "toc_section_display": true,
   "toc_window_display": true
  },
  "varInspector": {
   "cols": {
    "lenName": 16,
    "lenType": 16,
    "lenVar": 40
   },
   "kernels_config": {
    "python": {
     "delete_cmd_postfix": "",
     "delete_cmd_prefix": "del ",
     "library": "var_list.py",
     "varRefreshCmd": "print(var_dic_list())"
    },
    "r": {
     "delete_cmd_postfix": ") ",
     "delete_cmd_prefix": "rm(",
     "library": "var_list.r",
     "varRefreshCmd": "cat(var_dic_list()) "
    }
   },
   "types_to_exclude": [
    "module",
    "function",
    "builtin_function_or_method",
    "instance",
    "_Feature"
   ],
   "window_display": false
  }
 },
 "nbformat": 4,
 "nbformat_minor": 4
}
