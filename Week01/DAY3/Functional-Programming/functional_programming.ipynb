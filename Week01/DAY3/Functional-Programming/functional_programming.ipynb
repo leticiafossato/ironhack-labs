{
 "cells": [
  {
   "cell_type": "markdown",
   "metadata": {
    "colab_type": "text",
    "id": "6I1W1y5zDCIN"
   },
   "source": [
    "# Before your start:\n",
    "- Comment as much as you can\n",
    "- Happy learning!"
   ]
  },
  {
   "cell_type": "code",
   "execution_count": 2,
   "metadata": {
    "colab": {},
    "colab_type": "code",
    "id": "1t-NDi5NDCIW"
   },
   "outputs": [],
   "source": [
    "import numpy as np\n",
    "import pandas as pd"
   ]
  },
  {
   "cell_type": "markdown",
   "metadata": {
    "colab_type": "text",
    "id": "P53qCn3xDCIg"
   },
   "source": [
    "# Challenge - Inside a function\n",
    "You are already familiar with several built in functions on python as well as libraries. Let's try to figure out how they are made in pure python. "
   ]
  },
  {
   "cell_type": "markdown",
   "metadata": {
    "colab_type": "text",
    "id": "7Vq9tOLcDCIi"
   },
   "source": [
    "Create a function that returns the count of a list of numbers"
   ]
  },
  {
   "cell_type": "code",
   "execution_count": 33,
   "metadata": {
    "colab": {},
    "colab_type": "code",
    "id": "usAQavx0DCIl"
   },
   "outputs": [
    {
     "data": {
      "text/plain": [
       "6"
      ]
     },
     "execution_count": 33,
     "metadata": {},
     "output_type": "execute_result"
    }
   ],
   "source": [
    "# Your code here:\n",
    "list_numbers=[1,2,3,4,5,6] #lista criada somente para testar o resultado\n",
    "def count(lista):\n",
    "    \"\"\"This function calculate the lenght of a list\"\"\"\n",
    "    x=len(lista)\n",
    "    return x\n",
    "count(list_numbers)"
   ]
  },
  {
   "cell_type": "markdown",
   "metadata": {
    "colab_type": "text",
    "id": "02PYrNc5DCIt"
   },
   "source": [
    "Create a function that returns the mean of a list of numbers"
   ]
  },
  {
   "cell_type": "code",
   "execution_count": 36,
   "metadata": {
    "colab": {},
    "colab_type": "code",
    "id": "nQpYuTmgDCIx"
   },
   "outputs": [
    {
     "data": {
      "text/plain": [
       "3.5"
      ]
     },
     "execution_count": 36,
     "metadata": {},
     "output_type": "execute_result"
    }
   ],
   "source": [
    "# Your code here:\n",
    "list_numbers=[1,2,3,4,5,6] #lista criada somente para testar o resultado\n",
    "def mean(lista):\n",
    "    \"\"\"This function calculate the mean of a list\"\"\"\n",
    "    mean=sum(list_numbers)/len(lista)\n",
    "    return mean\n",
    "mean(list_numbers)"
   ]
  },
  {
   "cell_type": "markdown",
   "metadata": {
    "colab_type": "text",
    "id": "xy1rA4EeDCI5"
   },
   "source": [
    "Create a function that returns the standard deviation of a list of numbers using the previous functions you created. "
   ]
  },
  {
   "cell_type": "code",
   "execution_count": 59,
   "metadata": {
    "colab": {},
    "colab_type": "code",
    "id": "jmvcGVIwDCI7"
   },
   "outputs": [
    {
     "data": {
      "text/plain": [
       "1.707825127659933"
      ]
     },
     "execution_count": 59,
     "metadata": {},
     "output_type": "execute_result"
    }
   ],
   "source": [
    "# Your code here:\n",
    "\n",
    "list_numbers=[1,2,3,4,5,6] #lista criada somente para testar o resultado\n",
    "\n",
    "# Função:\n",
    "def standard_deviation(lista):\n",
    "    soma=0\n",
    "    for i in range(len(lista)):\n",
    "        soma=soma+(lista[i]-mean(lista))**2\n",
    "    sd=(soma/count(lista))**(1/2)\n",
    "    return sd\n",
    "\n",
    "standard_deviation(list_numbers)"
   ]
  },
  {
   "cell_type": "markdown",
   "metadata": {
    "colab_type": "text",
    "id": "Dro2ll4WDCJB"
   },
   "source": [
    "Create a function that returns the count, mean and standard deviation of a given list. Document this function using triple quotes, your documentation should have description, parameters, returns and examples. "
   ]
  },
  {
   "cell_type": "code",
   "execution_count": 157,
   "metadata": {
    "colab": {},
    "colab_type": "code",
    "id": "FQEugvUuDCJE"
   },
   "outputs": [],
   "source": [
    "# Your code here:\n",
    "def triple(lista):\n",
    "    \"\"\"This function return the count, mean and standard deviation of a given list, in this sequence.\n",
    "    Parameters: lista\n",
    "    Returns: count - returns the count the lenght of the list\n",
    "             mean  - returns the mean the of the list\n",
    "             sd    - returns the standard deviation of the list\n",
    "    Exemple: \n",
    "             triple([1,2,3,4,5,6])= (6, 3.5, 1.707825127659933)\"\"\"\n",
    "    count=len(lista)\n",
    "    mean=sum(list_numbers)/len(lista)\n",
    "    soma=0\n",
    "    for i in range(len(lista)):\n",
    "        soma=soma+(lista[i]-(sum(lista)/len(lista)))**2\n",
    "    sd=(soma/len(lista))**(1/2)\n",
    "    return count, mean, sd\n"
   ]
  },
  {
   "cell_type": "markdown",
   "metadata": {
    "colab_type": "text",
    "id": "-_YUdHo7DCJJ"
   },
   "source": [
    "# Challenge  - String Cleaning\n",
    "When working with textual data you will often have to clean it before being able to analyze it. Create a function that receives a string and returns that string in all lower case, without special characters and in alphabetical order. "
   ]
  },
  {
   "cell_type": "code",
   "execution_count": 1,
   "metadata": {
    "colab": {},
    "colab_type": "code",
    "id": "Lv7ztTkEDCJK"
   },
   "outputs": [],
   "source": [
    "# Your code here:\n",
    "\n",
    "import re\n",
    "\n",
    "def function(string):\n",
    "    \"\"\" This function receives a string and returns that string in all lower case, without special characters and in alphabetical order.\n",
    "    Input Type:string\n",
    "    Output type: string\n",
    "    \n",
    "    Example:\n",
    "    Input: function('Hello WoRlD!)' \n",
    "    Output: 'helloworld' \"\"\"\n",
    "    y=string.split() #separa as palavras\n",
    "    y.sort() #cria uma lista em ordem alfabética\n",
    "    y=' '.join(y)  #transforma a lista em string\n",
    "    y = string.lower() #passa todos os caracteres para letra minúscula\n",
    "    y = re.findall('\\w', y) #mantém somente letras e números, em forma de lista\n",
    "    y=''.join(y) #transforma a lista em string \n",
    "    return y\n",
    "\n",
    "\n",
    "\n",
    "\n",
    "\n",
    "\n"
   ]
  },
  {
   "cell_type": "markdown",
   "metadata": {
    "colab_type": "text",
    "id": "23s3vEQ-DCJO"
   },
   "source": [
    "# Challenge  - Classification\n",
    "Sometimes datasets provide very good and precise information but not in the way we need to use it. In this challenge, make a function that takes a numeric value (age or income for example) and turns it into a category (could be from Very Low to Very High or rated from 0 to 10). \n"
   ]
  },
  {
   "cell_type": "code",
   "execution_count": 146,
   "metadata": {
    "colab": {},
    "colab_type": "code",
    "id": "M4tbB_zFDCJP"
   },
   "outputs": [
    {
     "name": "stdout",
     "output_type": "stream",
     "text": [
      "Digit your age:100\n",
      "Very high\n"
     ]
    }
   ],
   "source": [
    "# Your code here:\n",
    "\n",
    "x=int(input(\"Digit your age:\"))\n",
    "if x<50:\n",
    "    print('Very low')\n",
    "elif x>=50:\n",
    "    print('Very high')\n"
   ]
  },
  {
   "cell_type": "markdown",
   "metadata": {
    "colab_type": "text",
    "id": "qgCz4w1XDCJU"
   },
   "source": [
    "# Challenge  - Recursion \n",
    "In some cases it is interesting to build a function that calls itself. Use a recursive function that asks for an input from the users age and keeps asking for it until the input is a number between 0 and 150. "
   ]
  },
  {
   "cell_type": "code",
   "execution_count": 53,
   "metadata": {
    "colab": {},
    "colab_type": "code",
    "id": "ncLwOUUhDCJV"
   },
   "outputs": [
    {
     "name": "stdout",
     "output_type": "stream",
     "text": [
      "Digit your age:150\n",
      "Digit your age:149\n",
      "Number is now 149\n"
     ]
    },
    {
     "data": {
      "text/plain": [
       "149"
      ]
     },
     "execution_count": 53,
     "metadata": {},
     "output_type": "execute_result"
    }
   ],
   "source": [
    "# Your code here:\n",
    "\n",
    "def function_rule():\n",
    "    users_age=int(input(\"Digit your age:\")) \n",
    "\n",
    "    while users_age not in range(1,150):\n",
    "        users_age=function_rule()\n",
    "        print(f'Number is now {users_age}')\n",
    "    \n",
    "    return users_age\n",
    "\n",
    "function_rule()\n"
   ]
  },
  {
   "cell_type": "markdown",
   "metadata": {
    "colab_type": "text",
    "id": "k0oT8Xo2DCJa"
   },
   "source": [
    "# Challenge - Global and local variables "
   ]
  },
  {
   "cell_type": "markdown",
   "metadata": {
    "colab_type": "text",
    "id": "rBQkdI76DCJb"
   },
   "source": [
    "Make a function that returns the buzz string in alphabetical order  \n",
    "\n",
    "Expected output:\n",
    "````python\n",
    "'AI Big Data Data Warehouse Machine Learning Pipeline'\n",
    "````"
   ]
  },
  {
   "cell_type": "code",
   "execution_count": 90,
   "metadata": {
    "colab": {},
    "colab_type": "code",
    "id": "L4BnnsLnDCJc"
   },
   "outputs": [
    {
     "data": {
      "text/plain": [
       "'AI Big Data Data Learning Machine Pipeline Warehouse'"
      ]
     },
     "execution_count": 90,
     "metadata": {},
     "output_type": "execute_result"
    }
   ],
   "source": [
    "buzz = \"Big Data, Machine Learning, AI, Data Warehouse, Pipeline\"\n",
    "\n",
    "def alphabetical(buzz):\n",
    "    x=buzz.split() #separa a string por frases\n",
    "    x.sort() #ordena a string em ordem alfabética\n",
    "    x=' '.join(x) #transforma de lista em texto\n",
    "    x=x.replace(\",\", \"\"); #remove as vírgulas\n",
    "    return x\n",
    "\n",
    "alphabetical(buzz)"
   ]
  },
  {
   "cell_type": "markdown",
   "metadata": {
    "colab_type": "text",
    "id": "b5b4z7e4DCJg"
   },
   "source": [
    "Make a function without return that modifies the buzz string and puts it in alphabetical order\n",
    "\n",
    "Expected output:\n",
    "````python\n",
    "'AI Big Data Data Warehouse Machine Learning Pipeline'\n",
    "````"
   ]
  },
  {
   "cell_type": "code",
   "execution_count": 92,
   "metadata": {
    "colab": {},
    "colab_type": "code",
    "id": "PxCWhN7IDCJi"
   },
   "outputs": [],
   "source": [
    "buzz = \"Big Data, Machine Learning, AI, Data Warehouse, Pipeline\"\n",
    "\n",
    "def alphabetical(buzz):\n",
    "    x=buzz.split() #separa a string por frases\n",
    "    x.sort() #ordena a string em ordem alfabética\n",
    "    x=' '.join(x) #transforma de lista em texto\n",
    "    x=x.replace(\",\", \"\"); #remove as vírgulas\n",
    "    return\n",
    "\n",
    "alphabetical(buzz)"
   ]
  },
  {
   "cell_type": "markdown",
   "metadata": {
    "colab_type": "text",
    "id": "fw4vO7R-DCJr"
   },
   "source": [
    "# Bonus Challenge  - Applying Functions to DataFrames\n",
    "\n",
    "In this challenge, we will look at how to transform cells or entire columns at once.\n"
   ]
  },
  {
   "cell_type": "code",
   "execution_count": 77,
   "metadata": {
    "colab": {},
    "colab_type": "code",
    "id": "05TgMvpdDCJs"
   },
   "outputs": [],
   "source": [
    "import pandas as pd"
   ]
  },
  {
   "cell_type": "code",
   "execution_count": 97,
   "metadata": {
    "colab": {},
    "colab_type": "code",
    "id": "1N9fNV98DCJw"
   },
   "outputs": [],
   "source": [
    "iris_numeric = pd.DataFrame(data =[[5.1,3.5,1.4,0.2], [4.9,3,1.4,0.2],[4.7,3.2,1.3,0.2],[4.6,3.1,1.5,0.2],[5,3.6,1.4,0.2],[5.4,3.9,1.7,0.4],[4.6,3.4,1.4,0.3],[5,3.4,1.5,0.2],[4.4,2.9,1.4,0.2],[4.9,3.1,1.5,0.1]],columns = ['sepal_length', 'sepal_width', 'petal_length','petal_width'])"
   ]
  },
  {
   "cell_type": "markdown",
   "metadata": {
    "colab_type": "text",
    "id": "62v-80yZDCJ1"
   },
   "source": [
    "Let's look at the dataset using the `head` function.\n",
    "\n",
    "Expected output:\n",
    "\n",
    "|    |   sepal_length |   sepal_width |   petal_length |   petal_width |\n",
    "|---:|---------------:|--------------:|---------------:|--------------:|\n",
    "|  0 |            5.1 |           3.5 |            1.4 |           0.2 |\n",
    "|  1 |            4.9 |           3   |            1.4 |           0.2 |\n",
    "|  2 |            4.7 |           3.2 |            1.3 |           0.2 |\n",
    "|  3 |            4.6 |           3.1 |            1.5 |           0.2 |\n",
    "|  4 |            5   |           3.6 |            1.4 |           0.2 |"
   ]
  },
  {
   "cell_type": "code",
   "execution_count": 98,
   "metadata": {
    "colab": {},
    "colab_type": "code",
    "id": "hTlLCpp_DCJ2"
   },
   "outputs": [
    {
     "data": {
      "text/html": [
       "<div>\n",
       "<style scoped>\n",
       "    .dataframe tbody tr th:only-of-type {\n",
       "        vertical-align: middle;\n",
       "    }\n",
       "\n",
       "    .dataframe tbody tr th {\n",
       "        vertical-align: top;\n",
       "    }\n",
       "\n",
       "    .dataframe thead th {\n",
       "        text-align: right;\n",
       "    }\n",
       "</style>\n",
       "<table border=\"1\" class=\"dataframe\">\n",
       "  <thead>\n",
       "    <tr style=\"text-align: right;\">\n",
       "      <th></th>\n",
       "      <th>sepal_length</th>\n",
       "      <th>sepal_width</th>\n",
       "      <th>petal_length</th>\n",
       "      <th>petal_width</th>\n",
       "    </tr>\n",
       "  </thead>\n",
       "  <tbody>\n",
       "    <tr>\n",
       "      <th>0</th>\n",
       "      <td>5.1</td>\n",
       "      <td>3.5</td>\n",
       "      <td>1.4</td>\n",
       "      <td>0.2</td>\n",
       "    </tr>\n",
       "    <tr>\n",
       "      <th>1</th>\n",
       "      <td>4.9</td>\n",
       "      <td>3.0</td>\n",
       "      <td>1.4</td>\n",
       "      <td>0.2</td>\n",
       "    </tr>\n",
       "    <tr>\n",
       "      <th>2</th>\n",
       "      <td>4.7</td>\n",
       "      <td>3.2</td>\n",
       "      <td>1.3</td>\n",
       "      <td>0.2</td>\n",
       "    </tr>\n",
       "    <tr>\n",
       "      <th>3</th>\n",
       "      <td>4.6</td>\n",
       "      <td>3.1</td>\n",
       "      <td>1.5</td>\n",
       "      <td>0.2</td>\n",
       "    </tr>\n",
       "    <tr>\n",
       "      <th>4</th>\n",
       "      <td>5.0</td>\n",
       "      <td>3.6</td>\n",
       "      <td>1.4</td>\n",
       "      <td>0.2</td>\n",
       "    </tr>\n",
       "  </tbody>\n",
       "</table>\n",
       "</div>"
      ],
      "text/plain": [
       "   sepal_length  sepal_width  petal_length  petal_width\n",
       "0           5.1          3.5           1.4          0.2\n",
       "1           4.9          3.0           1.4          0.2\n",
       "2           4.7          3.2           1.3          0.2\n",
       "3           4.6          3.1           1.5          0.2\n",
       "4           5.0          3.6           1.4          0.2"
      ]
     },
     "execution_count": 98,
     "metadata": {},
     "output_type": "execute_result"
    }
   ],
   "source": [
    "# Your code here:\n",
    "iris_numeric.head(5)"
   ]
  },
  {
   "cell_type": "markdown",
   "metadata": {
    "colab_type": "text",
    "id": "y1VDf8KSDCJ6"
   },
   "source": [
    "Let's start off by using built-in functions. Try to use the numpy mean function and describe what happens in the comments of the code.\n",
    "\n",
    "Expected output:\n",
    "````python\n",
    "sepal_length    4.86\n",
    "sepal_width     3.31\n",
    "petal_length    1.45\n",
    "petal_width     0.22\n",
    "dtype: float64\n",
    "````"
   ]
  },
  {
   "cell_type": "code",
   "execution_count": 99,
   "metadata": {
    "colab": {},
    "colab_type": "code",
    "id": "55QqDcFkDCJ7"
   },
   "outputs": [
    {
     "name": "stdout",
     "output_type": "stream",
     "text": [
      "sepal_length    4.86\n",
      "sepal_width     3.28\n",
      "petal_length    1.40\n",
      "petal_width     0.20\n",
      "dtype: float64\n"
     ]
    }
   ],
   "source": [
    "import numpy as np \n",
    "     \n",
    "print(np.mean(iris_numeric.head(5)))  #This function returns the mean of each column\n"
   ]
  },
  {
   "cell_type": "markdown",
   "metadata": {
    "colab_type": "text",
    "id": "qrCDudyHDCJ_"
   },
   "source": [
    "Next, we'll use the standard deviation function in numpy (np.std). Describe what happened in the comments.\n",
    "\n",
    "Expected output:\n",
    "````python\n",
    "sepal_length    0.291357\n",
    "sepal_width     0.307137\n",
    "petal_length    0.108012\n",
    "petal_width     0.078881\n",
    "dtype: float64\n",
    "````"
   ]
  },
  {
   "cell_type": "code",
   "execution_count": 100,
   "metadata": {
    "colab": {},
    "colab_type": "code",
    "id": "00RaSSBVDCKA"
   },
   "outputs": [
    {
     "name": "stdout",
     "output_type": "stream",
     "text": [
      "sepal_length    0.185472\n",
      "sepal_width     0.231517\n",
      "petal_length    0.063246\n",
      "petal_width     0.000000\n",
      "dtype: float64\n"
     ]
    }
   ],
   "source": [
    "print(np.std(iris_numeric.head(5))) "
   ]
  },
  {
   "cell_type": "markdown",
   "metadata": {
    "colab_type": "text",
    "id": "68F-SuOnDCKD"
   },
   "source": [
    "The measurements are in centimeters. Let's convert them all to inches. We will write a function that converts centimeters to inches in the cell below. Recall that 1cm = 0.393701in."
   ]
  },
  {
   "cell_type": "code",
   "execution_count": 108,
   "metadata": {
    "colab": {},
    "colab_type": "code",
    "id": "T8tvoXdCDCKE"
   },
   "outputs": [
    {
     "data": {
      "text/plain": [
       "0.787402"
      ]
     },
     "execution_count": 108,
     "metadata": {},
     "output_type": "execute_result"
    }
   ],
   "source": [
    "def cm_to_in(x):\n",
    "    # This function takes in a numeric value in centimeters and converts it to inches\n",
    "    # Input: numeric value\n",
    "    # Output: float\n",
    "    \n",
    "    # Sample Input: 1.0\n",
    "    # Sample Output: 0.393701\n",
    "    \n",
    "    # Your code here:\n",
    "    y=x*0.393701\n",
    "    return y\n",
    "\n",
    "#Testando o funcionamento\n",
    "cm_to_in(2)"
   ]
  },
  {
   "cell_type": "markdown",
   "metadata": {
    "colab_type": "text",
    "id": "poXtnmphDCKK"
   },
   "source": [
    "Now convert all columns in `iris_numeric` to inches in the cell below. We like to think of functional transformations as immutable. Therefore, save the transformed data in a dataframe called `iris_inch`."
   ]
  },
  {
   "cell_type": "code",
   "execution_count": 115,
   "metadata": {
    "colab": {},
    "colab_type": "code",
    "id": "GnW2yEsDDCKL"
   },
   "outputs": [
    {
     "data": {
      "text/html": [
       "<div>\n",
       "<style scoped>\n",
       "    .dataframe tbody tr th:only-of-type {\n",
       "        vertical-align: middle;\n",
       "    }\n",
       "\n",
       "    .dataframe tbody tr th {\n",
       "        vertical-align: top;\n",
       "    }\n",
       "\n",
       "    .dataframe thead th {\n",
       "        text-align: right;\n",
       "    }\n",
       "</style>\n",
       "<table border=\"1\" class=\"dataframe\">\n",
       "  <thead>\n",
       "    <tr style=\"text-align: right;\">\n",
       "      <th></th>\n",
       "      <th>sepal_length</th>\n",
       "      <th>sepal_width</th>\n",
       "      <th>petal_length</th>\n",
       "      <th>petal_width</th>\n",
       "    </tr>\n",
       "  </thead>\n",
       "  <tbody>\n",
       "    <tr>\n",
       "      <th>0</th>\n",
       "      <td>2.007875</td>\n",
       "      <td>1.377954</td>\n",
       "      <td>0.551181</td>\n",
       "      <td>0.07874</td>\n",
       "    </tr>\n",
       "    <tr>\n",
       "      <th>1</th>\n",
       "      <td>1.929135</td>\n",
       "      <td>1.181103</td>\n",
       "      <td>0.551181</td>\n",
       "      <td>0.07874</td>\n",
       "    </tr>\n",
       "    <tr>\n",
       "      <th>2</th>\n",
       "      <td>1.850395</td>\n",
       "      <td>1.259843</td>\n",
       "      <td>0.511811</td>\n",
       "      <td>0.07874</td>\n",
       "    </tr>\n",
       "    <tr>\n",
       "      <th>3</th>\n",
       "      <td>1.811025</td>\n",
       "      <td>1.220473</td>\n",
       "      <td>0.590552</td>\n",
       "      <td>0.07874</td>\n",
       "    </tr>\n",
       "    <tr>\n",
       "      <th>4</th>\n",
       "      <td>1.968505</td>\n",
       "      <td>1.417324</td>\n",
       "      <td>0.551181</td>\n",
       "      <td>0.07874</td>\n",
       "    </tr>\n",
       "    <tr>\n",
       "      <th>5</th>\n",
       "      <td>2.125985</td>\n",
       "      <td>1.535434</td>\n",
       "      <td>0.669292</td>\n",
       "      <td>0.15748</td>\n",
       "    </tr>\n",
       "    <tr>\n",
       "      <th>6</th>\n",
       "      <td>1.811025</td>\n",
       "      <td>1.338583</td>\n",
       "      <td>0.551181</td>\n",
       "      <td>0.11811</td>\n",
       "    </tr>\n",
       "    <tr>\n",
       "      <th>7</th>\n",
       "      <td>1.968505</td>\n",
       "      <td>1.338583</td>\n",
       "      <td>0.590552</td>\n",
       "      <td>0.07874</td>\n",
       "    </tr>\n",
       "    <tr>\n",
       "      <th>8</th>\n",
       "      <td>1.732284</td>\n",
       "      <td>1.141733</td>\n",
       "      <td>0.551181</td>\n",
       "      <td>0.07874</td>\n",
       "    </tr>\n",
       "    <tr>\n",
       "      <th>9</th>\n",
       "      <td>1.929135</td>\n",
       "      <td>1.220473</td>\n",
       "      <td>0.590552</td>\n",
       "      <td>0.03937</td>\n",
       "    </tr>\n",
       "  </tbody>\n",
       "</table>\n",
       "</div>"
      ],
      "text/plain": [
       "   sepal_length  sepal_width  petal_length  petal_width\n",
       "0      2.007875     1.377954      0.551181      0.07874\n",
       "1      1.929135     1.181103      0.551181      0.07874\n",
       "2      1.850395     1.259843      0.511811      0.07874\n",
       "3      1.811025     1.220473      0.590552      0.07874\n",
       "4      1.968505     1.417324      0.551181      0.07874\n",
       "5      2.125985     1.535434      0.669292      0.15748\n",
       "6      1.811025     1.338583      0.551181      0.11811\n",
       "7      1.968505     1.338583      0.590552      0.07874\n",
       "8      1.732284     1.141733      0.551181      0.07874\n",
       "9      1.929135     1.220473      0.590552      0.03937"
      ]
     },
     "execution_count": 115,
     "metadata": {},
     "output_type": "execute_result"
    }
   ],
   "source": [
    "# Your code here:\n",
    "\n",
    "iris_inch=cm_to_in(iris_numeric)\n",
    "iris_inch\n"
   ]
  },
  {
   "cell_type": "markdown",
   "metadata": {
    "colab_type": "text",
    "id": "PgrWISNFDCKN"
   },
   "source": [
    "We have just found that the original measurements were off by a constant. Define the global constant `error` and set it to 2. Write a function that uses the global constant and adds it to each cell in the dataframe. Apply this function to `iris_numeric` and save the result in `iris_constant`."
   ]
  },
  {
   "cell_type": "code",
   "execution_count": 117,
   "metadata": {
    "colab": {},
    "colab_type": "code",
    "id": "Wy9RKxHfDCKO"
   },
   "outputs": [
    {
     "data": {
      "text/html": [
       "<div>\n",
       "<style scoped>\n",
       "    .dataframe tbody tr th:only-of-type {\n",
       "        vertical-align: middle;\n",
       "    }\n",
       "\n",
       "    .dataframe tbody tr th {\n",
       "        vertical-align: top;\n",
       "    }\n",
       "\n",
       "    .dataframe thead th {\n",
       "        text-align: right;\n",
       "    }\n",
       "</style>\n",
       "<table border=\"1\" class=\"dataframe\">\n",
       "  <thead>\n",
       "    <tr style=\"text-align: right;\">\n",
       "      <th></th>\n",
       "      <th>sepal_length</th>\n",
       "      <th>sepal_width</th>\n",
       "      <th>petal_length</th>\n",
       "      <th>petal_width</th>\n",
       "    </tr>\n",
       "  </thead>\n",
       "  <tbody>\n",
       "    <tr>\n",
       "      <th>0</th>\n",
       "      <td>7.1</td>\n",
       "      <td>5.5</td>\n",
       "      <td>3.4</td>\n",
       "      <td>2.2</td>\n",
       "    </tr>\n",
       "    <tr>\n",
       "      <th>1</th>\n",
       "      <td>6.9</td>\n",
       "      <td>5.0</td>\n",
       "      <td>3.4</td>\n",
       "      <td>2.2</td>\n",
       "    </tr>\n",
       "    <tr>\n",
       "      <th>2</th>\n",
       "      <td>6.7</td>\n",
       "      <td>5.2</td>\n",
       "      <td>3.3</td>\n",
       "      <td>2.2</td>\n",
       "    </tr>\n",
       "    <tr>\n",
       "      <th>3</th>\n",
       "      <td>6.6</td>\n",
       "      <td>5.1</td>\n",
       "      <td>3.5</td>\n",
       "      <td>2.2</td>\n",
       "    </tr>\n",
       "    <tr>\n",
       "      <th>4</th>\n",
       "      <td>7.0</td>\n",
       "      <td>5.6</td>\n",
       "      <td>3.4</td>\n",
       "      <td>2.2</td>\n",
       "    </tr>\n",
       "    <tr>\n",
       "      <th>5</th>\n",
       "      <td>7.4</td>\n",
       "      <td>5.9</td>\n",
       "      <td>3.7</td>\n",
       "      <td>2.4</td>\n",
       "    </tr>\n",
       "    <tr>\n",
       "      <th>6</th>\n",
       "      <td>6.6</td>\n",
       "      <td>5.4</td>\n",
       "      <td>3.4</td>\n",
       "      <td>2.3</td>\n",
       "    </tr>\n",
       "    <tr>\n",
       "      <th>7</th>\n",
       "      <td>7.0</td>\n",
       "      <td>5.4</td>\n",
       "      <td>3.5</td>\n",
       "      <td>2.2</td>\n",
       "    </tr>\n",
       "    <tr>\n",
       "      <th>8</th>\n",
       "      <td>6.4</td>\n",
       "      <td>4.9</td>\n",
       "      <td>3.4</td>\n",
       "      <td>2.2</td>\n",
       "    </tr>\n",
       "    <tr>\n",
       "      <th>9</th>\n",
       "      <td>6.9</td>\n",
       "      <td>5.1</td>\n",
       "      <td>3.5</td>\n",
       "      <td>2.1</td>\n",
       "    </tr>\n",
       "  </tbody>\n",
       "</table>\n",
       "</div>"
      ],
      "text/plain": [
       "   sepal_length  sepal_width  petal_length  petal_width\n",
       "0           7.1          5.5           3.4          2.2\n",
       "1           6.9          5.0           3.4          2.2\n",
       "2           6.7          5.2           3.3          2.2\n",
       "3           6.6          5.1           3.5          2.2\n",
       "4           7.0          5.6           3.4          2.2\n",
       "5           7.4          5.9           3.7          2.4\n",
       "6           6.6          5.4           3.4          2.3\n",
       "7           7.0          5.4           3.5          2.2\n",
       "8           6.4          4.9           3.4          2.2\n",
       "9           6.9          5.1           3.5          2.1"
      ]
     },
     "execution_count": 117,
     "metadata": {},
     "output_type": "execute_result"
    }
   ],
   "source": [
    "# Define constant below:\n",
    "\n",
    "\n",
    "def add_constant(x):\n",
    "    # This function adds a global constant to our input.\n",
    "    # Input: numeric value\n",
    "    # Output: numeric value\n",
    "    \n",
    "    # Your code here:\n",
    "    y=x+2\n",
    "    return y\n",
    "\n",
    "iris_constant=add_constant(iris_numeric)\n",
    "iris_constant"
   ]
  },
  {
   "cell_type": "markdown",
   "metadata": {
    "colab_type": "text",
    "id": "-AYaBeqqDCKT"
   },
   "source": [
    "Read more about applying functions to either rows or columns [here](https://pandas.pydata.org/pandas-docs/stable/generated/pandas.DataFrame.apply.html) and write a function that computes the maximum value for each row of `iris_numeric`"
   ]
  },
  {
   "cell_type": "code",
   "execution_count": 120,
   "metadata": {
    "colab": {},
    "colab_type": "code",
    "id": "tTmz2p6LDCKV"
   },
   "outputs": [
    {
     "data": {
      "text/plain": [
       "0    5.1\n",
       "1    4.9\n",
       "2    4.7\n",
       "3    4.6\n",
       "4    5.0\n",
       "5    5.4\n",
       "6    4.6\n",
       "7    5.0\n",
       "8    4.4\n",
       "9    4.9\n",
       "dtype: float64"
      ]
     },
     "execution_count": 120,
     "metadata": {},
     "output_type": "execute_result"
    }
   ],
   "source": [
    "# Your code here:\n",
    "iris_numeric.apply(np.max, axis=1)\n"
   ]
  },
  {
   "cell_type": "markdown",
   "metadata": {
    "colab_type": "text",
    "id": "ItoYvDlqDCKZ"
   },
   "source": [
    "Compute the combined lengths for each row and the combined widths for each row using a function. Assign these values to new columns `total_length` and `total_width`."
   ]
  },
  {
   "cell_type": "code",
   "execution_count": 128,
   "metadata": {
    "colab": {},
    "colab_type": "code",
    "id": "7g8Cl7jgDCKa"
   },
   "outputs": [
    {
     "data": {
      "text/html": [
       "<div>\n",
       "<style scoped>\n",
       "    .dataframe tbody tr th:only-of-type {\n",
       "        vertical-align: middle;\n",
       "    }\n",
       "\n",
       "    .dataframe tbody tr th {\n",
       "        vertical-align: top;\n",
       "    }\n",
       "\n",
       "    .dataframe thead th {\n",
       "        text-align: right;\n",
       "    }\n",
       "</style>\n",
       "<table border=\"1\" class=\"dataframe\">\n",
       "  <thead>\n",
       "    <tr style=\"text-align: right;\">\n",
       "      <th></th>\n",
       "      <th>sepal_length</th>\n",
       "      <th>sepal_width</th>\n",
       "      <th>petal_length</th>\n",
       "      <th>petal_width</th>\n",
       "      <th>total_length</th>\n",
       "      <th>total_width</th>\n",
       "    </tr>\n",
       "  </thead>\n",
       "  <tbody>\n",
       "    <tr>\n",
       "      <th>0</th>\n",
       "      <td>5.1</td>\n",
       "      <td>3.5</td>\n",
       "      <td>1.4</td>\n",
       "      <td>0.2</td>\n",
       "      <td>6.5</td>\n",
       "      <td>3.7</td>\n",
       "    </tr>\n",
       "    <tr>\n",
       "      <th>1</th>\n",
       "      <td>4.9</td>\n",
       "      <td>3.0</td>\n",
       "      <td>1.4</td>\n",
       "      <td>0.2</td>\n",
       "      <td>6.3</td>\n",
       "      <td>3.2</td>\n",
       "    </tr>\n",
       "    <tr>\n",
       "      <th>2</th>\n",
       "      <td>4.7</td>\n",
       "      <td>3.2</td>\n",
       "      <td>1.3</td>\n",
       "      <td>0.2</td>\n",
       "      <td>6.0</td>\n",
       "      <td>3.4</td>\n",
       "    </tr>\n",
       "    <tr>\n",
       "      <th>3</th>\n",
       "      <td>4.6</td>\n",
       "      <td>3.1</td>\n",
       "      <td>1.5</td>\n",
       "      <td>0.2</td>\n",
       "      <td>6.1</td>\n",
       "      <td>3.3</td>\n",
       "    </tr>\n",
       "    <tr>\n",
       "      <th>4</th>\n",
       "      <td>5.0</td>\n",
       "      <td>3.6</td>\n",
       "      <td>1.4</td>\n",
       "      <td>0.2</td>\n",
       "      <td>6.4</td>\n",
       "      <td>3.8</td>\n",
       "    </tr>\n",
       "    <tr>\n",
       "      <th>5</th>\n",
       "      <td>5.4</td>\n",
       "      <td>3.9</td>\n",
       "      <td>1.7</td>\n",
       "      <td>0.4</td>\n",
       "      <td>7.1</td>\n",
       "      <td>4.3</td>\n",
       "    </tr>\n",
       "    <tr>\n",
       "      <th>6</th>\n",
       "      <td>4.6</td>\n",
       "      <td>3.4</td>\n",
       "      <td>1.4</td>\n",
       "      <td>0.3</td>\n",
       "      <td>6.0</td>\n",
       "      <td>3.7</td>\n",
       "    </tr>\n",
       "    <tr>\n",
       "      <th>7</th>\n",
       "      <td>5.0</td>\n",
       "      <td>3.4</td>\n",
       "      <td>1.5</td>\n",
       "      <td>0.2</td>\n",
       "      <td>6.5</td>\n",
       "      <td>3.6</td>\n",
       "    </tr>\n",
       "    <tr>\n",
       "      <th>8</th>\n",
       "      <td>4.4</td>\n",
       "      <td>2.9</td>\n",
       "      <td>1.4</td>\n",
       "      <td>0.2</td>\n",
       "      <td>5.8</td>\n",
       "      <td>3.1</td>\n",
       "    </tr>\n",
       "    <tr>\n",
       "      <th>9</th>\n",
       "      <td>4.9</td>\n",
       "      <td>3.1</td>\n",
       "      <td>1.5</td>\n",
       "      <td>0.1</td>\n",
       "      <td>6.4</td>\n",
       "      <td>3.2</td>\n",
       "    </tr>\n",
       "  </tbody>\n",
       "</table>\n",
       "</div>"
      ],
      "text/plain": [
       "   sepal_length  sepal_width  petal_length  petal_width  total_length  \\\n",
       "0           5.1          3.5           1.4          0.2           6.5   \n",
       "1           4.9          3.0           1.4          0.2           6.3   \n",
       "2           4.7          3.2           1.3          0.2           6.0   \n",
       "3           4.6          3.1           1.5          0.2           6.1   \n",
       "4           5.0          3.6           1.4          0.2           6.4   \n",
       "5           5.4          3.9           1.7          0.4           7.1   \n",
       "6           4.6          3.4           1.4          0.3           6.0   \n",
       "7           5.0          3.4           1.5          0.2           6.5   \n",
       "8           4.4          2.9           1.4          0.2           5.8   \n",
       "9           4.9          3.1           1.5          0.1           6.4   \n",
       "\n",
       "   total_width  \n",
       "0          3.7  \n",
       "1          3.2  \n",
       "2          3.4  \n",
       "3          3.3  \n",
       "4          3.8  \n",
       "5          4.3  \n",
       "6          3.7  \n",
       "7          3.6  \n",
       "8          3.1  \n",
       "9          3.2  "
      ]
     },
     "execution_count": 128,
     "metadata": {},
     "output_type": "execute_result"
    }
   ],
   "source": [
    "# Your code here:\n",
    "#df = pd.DataFrame({'a': [1,2,3], 'b': [2,3,4], 'c':['dd','ee','ff'], 'd':[5,9,1]})\n",
    "iris_numeric['total_length'] = iris_numeric['sepal_length']+iris_numeric['petal_length']\n",
    "iris_numeric['total_width'] = iris_numeric['sepal_width']+iris_numeric['petal_width']\n",
    "#df\n",
    "iris_numeric\n",
    "\n",
    "#'sepal_length', 'sepal_width', 'petal_length','petal_width"
   ]
  }
 ],
 "metadata": {
  "colab": {
   "name": "functional_programming.ipynb",
   "provenance": []
  },
  "kernelspec": {
   "display_name": "Python 3",
   "language": "python",
   "name": "python3"
  },
  "language_info": {
   "codemirror_mode": {
    "name": "ipython",
    "version": 3
   },
   "file_extension": ".py",
   "mimetype": "text/x-python",
   "name": "python",
   "nbconvert_exporter": "python",
   "pygments_lexer": "ipython3",
   "version": "3.8.5"
  },
  "toc": {
   "base_numbering": 1,
   "nav_menu": {},
   "number_sections": true,
   "sideBar": true,
   "skip_h1_title": false,
   "title_cell": "Table of Contents",
   "title_sidebar": "Contents",
   "toc_cell": false,
   "toc_position": {},
   "toc_section_display": true,
   "toc_window_display": false
  },
  "varInspector": {
   "cols": {
    "lenName": 16,
    "lenType": 16,
    "lenVar": 40
   },
   "kernels_config": {
    "python": {
     "delete_cmd_postfix": "",
     "delete_cmd_prefix": "del ",
     "library": "var_list.py",
     "varRefreshCmd": "print(var_dic_list())"
    },
    "r": {
     "delete_cmd_postfix": ") ",
     "delete_cmd_prefix": "rm(",
     "library": "var_list.r",
     "varRefreshCmd": "cat(var_dic_list()) "
    }
   },
   "types_to_exclude": [
    "module",
    "function",
    "builtin_function_or_method",
    "instance",
    "_Feature"
   ],
   "window_display": false
  }
 },
 "nbformat": 4,
 "nbformat_minor": 1
}
