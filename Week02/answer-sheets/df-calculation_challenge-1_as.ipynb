{
 "cells": [
  {
   "cell_type": "markdown",
   "metadata": {},
   "source": [
    "![Ironhack logo](https://i.imgur.com/1QgrNNw.png)\n",
    "\n",
    "# Lab | Dataframe Calculation and Transformation\n",
    "\n",
    "## Introduction\n",
    "\n",
    "We have learned the basics of dataframe calculation, aggregation, and summarization in the lesson. In this lab you will practice the functions covered in the lessons and learn more advanced ones by solving a series of challenges.\n",
    "\n",
    "In this lab we also want you to focus on refining your problem-solving process in addition to completing the challenges. Data analysis is an iterative problem-solving process. You will need to break down a complex problem into a subset of less complex problems, then tackle each sub problems in a progressive order. You may need to further break down the sub problems into sub-sub problems and so on so forth depending on the complexity of those problems. You will keep breaking down the problems until you are able to solve each of them.\n",
    "\n",
    "During the problem-solving process, you are required to constantly test your solutions and reflect on your goals and problem-solving strategies. You may be required to revise the problem-solving strategies and sometimes redefine the problem subsets based on your latest discoveries.\n",
    "\n",
    "Keep in mind the general guidelines above when you conduct data analysis in this lab and in the future. You need to learn this scientific research methodology if you want to become a successful data analyst. For a detailed explanation of the iterative data analysis workflow, watch [this YouTube video](https://www.youtube.com/watch?v=xOomNicqbkk).\n",
    "\n",
    "**You are required to watch the above video before proceeding.**\n",
    "\n",
    "\n",
    "## Resources\n",
    "\n",
    "[Data Analysis Iteration](https://www.youtube.com/watch?v=xOomNicqbkk)\n",
    "\n",
    "[Pokemon with Stats](https://www.kaggle.com/abcsds/pokemon)\n",
    "\n",
    "[Google Search: get all numeric columns in dataframe](https://www.google.com/search?q=pandas+dataframe+get+all+numeric+columns)\n",
    "\n",
    "[One Hot Encoding](https://hackernoon.com/what-is-one-hot-encoding-why-and-when-do-you-have-to-use-it-e3c6186d008f)\n"
   ]
  },
  {
   "cell_type": "markdown",
   "metadata": {},
   "source": [
    "# Challenge 1\n",
    "\n",
    "In this challenge you will be working on **pokemons**. You will answer a series of questions in order to practice dataframe calculation, aggregation, and transformation.\n",
    "\n",
    "![Pokemon](../images/pokemon.jpg)\n",
    "\n",
    "Follow the instructions below and enter your code.\n",
    "\n",
    "### Import all required libraries"
   ]
  },
  {
   "cell_type": "code",
   "execution_count": 1,
   "metadata": {
    "ExecuteTime": {
     "end_time": "2020-08-28T12:32:33.835013Z",
     "start_time": "2020-08-28T12:32:26.518422Z"
    }
   },
   "outputs": [],
   "source": [
    "# import libraries\n",
    "import pandas as pd\n",
    "import numpy as np"
   ]
  },
  {
   "cell_type": "markdown",
   "metadata": {},
   "source": [
    "### Import data set\n",
    "\n",
    "Import data set `Pokemon` from Ironhack's database. Read the data into a dataframe called `pokemon`.\n",
    "\n",
    "*Data set attributed to [Alberto Barradas](https://www.kaggle.com/abcsds/pokemon/)*"
   ]
  },
  {
   "cell_type": "code",
   "execution_count": 2,
   "metadata": {
    "ExecuteTime": {
     "end_time": "2020-08-28T12:32:34.091866Z",
     "start_time": "2020-08-28T12:32:33.853002Z"
    }
   },
   "outputs": [],
   "source": [
    "# import data set\n",
    "pokemon = pd.read_csv('../data/Pokemon.csv')"
   ]
  },
  {
   "cell_type": "markdown",
   "metadata": {},
   "source": [
    "### Print first 10 rows of `pokemon`"
   ]
  },
  {
   "cell_type": "markdown",
   "metadata": {
    "ExecuteTime": {
     "end_time": "2020-06-11T14:23:17.903166Z",
     "start_time": "2020-06-11T14:23:17.819197Z"
    }
   },
   "source": [
    "Expected output:\n",
    "    \n",
    ">\n",
    ">|    |   # | Name                      | Type 1   | Type 2   |   Total |   HP |   Attack |   Defense |   Sp. Atk |   Sp. Def |   Speed |   Generation | Legendary   |\n",
    "|---:|----:|:--------------------------|:---------|:---------|--------:|-----:|---------:|----------:|----------:|----------:|--------:|-------------:|:------------|\n",
    "|  0 |   1 | Bulbasaur                 | Grass    | Poison   |     318 |   45 |       49 |        49 |        65 |        65 |      45 |            1 | False       |\n",
    "|  1 |   2 | Ivysaur                   | Grass    | Poison   |     405 |   60 |       62 |        63 |        80 |        80 |      60 |            1 | False       |\n",
    "|  2 |   3 | Venusaur                  | Grass    | Poison   |     525 |   80 |       82 |        83 |       100 |       100 |      80 |            1 | False       |\n",
    "|  3 |   3 | VenusaurMega Venusaur     | Grass    | Poison   |     625 |   80 |      100 |       123 |       122 |       120 |      80 |            1 | False       |\n",
    "|  4 |   4 | Charmander                | Fire     | nan      |     309 |   39 |       52 |        43 |        60 |        50 |      65 |            1 | False       |\n",
    "|  5 |   5 | Charmeleon                | Fire     | nan      |     405 |   58 |       64 |        58 |        80 |        65 |      80 |            1 | False       |\n",
    "|  6 |   6 | Charizard                 | Fire     | Flying   |     534 |   78 |       84 |        78 |       109 |        85 |     100 |            1 | False       |\n",
    "|  7 |   6 | CharizardMega Charizard X | Fire     | Dragon   |     634 |   78 |      130 |       111 |       130 |        85 |     100 |            1 | False       |\n",
    "|  8 |   6 | CharizardMega Charizard Y | Fire     | Flying   |     634 |   78 |      104 |        78 |       159 |       115 |     100 |            1 | False       |\n",
    "|  9 |   7 | Squirtle                  | Water    | nan      |     314 |   44 |       48 |        65 |        50 |        64 |      43 |            1 | False       |"
   ]
  },
  {
   "cell_type": "code",
   "execution_count": 3,
   "metadata": {
    "ExecuteTime": {
     "end_time": "2020-08-28T12:32:34.346239Z",
     "start_time": "2020-08-28T12:32:34.106863Z"
    }
   },
   "outputs": [
    {
     "data": {
      "text/html": [
       "<div>\n",
       "<style scoped>\n",
       "    .dataframe tbody tr th:only-of-type {\n",
       "        vertical-align: middle;\n",
       "    }\n",
       "\n",
       "    .dataframe tbody tr th {\n",
       "        vertical-align: top;\n",
       "    }\n",
       "\n",
       "    .dataframe thead th {\n",
       "        text-align: right;\n",
       "    }\n",
       "</style>\n",
       "<table border=\"1\" class=\"dataframe\">\n",
       "  <thead>\n",
       "    <tr style=\"text-align: right;\">\n",
       "      <th></th>\n",
       "      <th>#</th>\n",
       "      <th>Name</th>\n",
       "      <th>Type 1</th>\n",
       "      <th>Type 2</th>\n",
       "      <th>Total</th>\n",
       "      <th>HP</th>\n",
       "      <th>Attack</th>\n",
       "      <th>Defense</th>\n",
       "      <th>Sp. Atk</th>\n",
       "      <th>Sp. Def</th>\n",
       "      <th>Speed</th>\n",
       "      <th>Generation</th>\n",
       "      <th>Legendary</th>\n",
       "    </tr>\n",
       "  </thead>\n",
       "  <tbody>\n",
       "    <tr>\n",
       "      <th>0</th>\n",
       "      <td>1</td>\n",
       "      <td>Bulbasaur</td>\n",
       "      <td>Grass</td>\n",
       "      <td>Poison</td>\n",
       "      <td>318</td>\n",
       "      <td>45</td>\n",
       "      <td>49</td>\n",
       "      <td>49</td>\n",
       "      <td>65</td>\n",
       "      <td>65</td>\n",
       "      <td>45</td>\n",
       "      <td>1</td>\n",
       "      <td>False</td>\n",
       "    </tr>\n",
       "    <tr>\n",
       "      <th>1</th>\n",
       "      <td>2</td>\n",
       "      <td>Ivysaur</td>\n",
       "      <td>Grass</td>\n",
       "      <td>Poison</td>\n",
       "      <td>405</td>\n",
       "      <td>60</td>\n",
       "      <td>62</td>\n",
       "      <td>63</td>\n",
       "      <td>80</td>\n",
       "      <td>80</td>\n",
       "      <td>60</td>\n",
       "      <td>1</td>\n",
       "      <td>False</td>\n",
       "    </tr>\n",
       "    <tr>\n",
       "      <th>2</th>\n",
       "      <td>3</td>\n",
       "      <td>Venusaur</td>\n",
       "      <td>Grass</td>\n",
       "      <td>Poison</td>\n",
       "      <td>525</td>\n",
       "      <td>80</td>\n",
       "      <td>82</td>\n",
       "      <td>83</td>\n",
       "      <td>100</td>\n",
       "      <td>100</td>\n",
       "      <td>80</td>\n",
       "      <td>1</td>\n",
       "      <td>False</td>\n",
       "    </tr>\n",
       "    <tr>\n",
       "      <th>3</th>\n",
       "      <td>3</td>\n",
       "      <td>VenusaurMega Venusaur</td>\n",
       "      <td>Grass</td>\n",
       "      <td>Poison</td>\n",
       "      <td>625</td>\n",
       "      <td>80</td>\n",
       "      <td>100</td>\n",
       "      <td>123</td>\n",
       "      <td>122</td>\n",
       "      <td>120</td>\n",
       "      <td>80</td>\n",
       "      <td>1</td>\n",
       "      <td>False</td>\n",
       "    </tr>\n",
       "    <tr>\n",
       "      <th>4</th>\n",
       "      <td>4</td>\n",
       "      <td>Charmander</td>\n",
       "      <td>Fire</td>\n",
       "      <td>NaN</td>\n",
       "      <td>309</td>\n",
       "      <td>39</td>\n",
       "      <td>52</td>\n",
       "      <td>43</td>\n",
       "      <td>60</td>\n",
       "      <td>50</td>\n",
       "      <td>65</td>\n",
       "      <td>1</td>\n",
       "      <td>False</td>\n",
       "    </tr>\n",
       "    <tr>\n",
       "      <th>5</th>\n",
       "      <td>5</td>\n",
       "      <td>Charmeleon</td>\n",
       "      <td>Fire</td>\n",
       "      <td>NaN</td>\n",
       "      <td>405</td>\n",
       "      <td>58</td>\n",
       "      <td>64</td>\n",
       "      <td>58</td>\n",
       "      <td>80</td>\n",
       "      <td>65</td>\n",
       "      <td>80</td>\n",
       "      <td>1</td>\n",
       "      <td>False</td>\n",
       "    </tr>\n",
       "    <tr>\n",
       "      <th>6</th>\n",
       "      <td>6</td>\n",
       "      <td>Charizard</td>\n",
       "      <td>Fire</td>\n",
       "      <td>Flying</td>\n",
       "      <td>534</td>\n",
       "      <td>78</td>\n",
       "      <td>84</td>\n",
       "      <td>78</td>\n",
       "      <td>109</td>\n",
       "      <td>85</td>\n",
       "      <td>100</td>\n",
       "      <td>1</td>\n",
       "      <td>False</td>\n",
       "    </tr>\n",
       "    <tr>\n",
       "      <th>7</th>\n",
       "      <td>6</td>\n",
       "      <td>CharizardMega Charizard X</td>\n",
       "      <td>Fire</td>\n",
       "      <td>Dragon</td>\n",
       "      <td>634</td>\n",
       "      <td>78</td>\n",
       "      <td>130</td>\n",
       "      <td>111</td>\n",
       "      <td>130</td>\n",
       "      <td>85</td>\n",
       "      <td>100</td>\n",
       "      <td>1</td>\n",
       "      <td>False</td>\n",
       "    </tr>\n",
       "    <tr>\n",
       "      <th>8</th>\n",
       "      <td>6</td>\n",
       "      <td>CharizardMega Charizard Y</td>\n",
       "      <td>Fire</td>\n",
       "      <td>Flying</td>\n",
       "      <td>634</td>\n",
       "      <td>78</td>\n",
       "      <td>104</td>\n",
       "      <td>78</td>\n",
       "      <td>159</td>\n",
       "      <td>115</td>\n",
       "      <td>100</td>\n",
       "      <td>1</td>\n",
       "      <td>False</td>\n",
       "    </tr>\n",
       "    <tr>\n",
       "      <th>9</th>\n",
       "      <td>7</td>\n",
       "      <td>Squirtle</td>\n",
       "      <td>Water</td>\n",
       "      <td>NaN</td>\n",
       "      <td>314</td>\n",
       "      <td>44</td>\n",
       "      <td>48</td>\n",
       "      <td>65</td>\n",
       "      <td>50</td>\n",
       "      <td>64</td>\n",
       "      <td>43</td>\n",
       "      <td>1</td>\n",
       "      <td>False</td>\n",
       "    </tr>\n",
       "  </tbody>\n",
       "</table>\n",
       "</div>"
      ],
      "text/plain": [
       "   #                       Name Type 1  Type 2  Total  HP  Attack  Defense  \\\n",
       "0  1                  Bulbasaur  Grass  Poison    318  45      49       49   \n",
       "1  2                    Ivysaur  Grass  Poison    405  60      62       63   \n",
       "2  3                   Venusaur  Grass  Poison    525  80      82       83   \n",
       "3  3      VenusaurMega Venusaur  Grass  Poison    625  80     100      123   \n",
       "4  4                 Charmander   Fire     NaN    309  39      52       43   \n",
       "5  5                 Charmeleon   Fire     NaN    405  58      64       58   \n",
       "6  6                  Charizard   Fire  Flying    534  78      84       78   \n",
       "7  6  CharizardMega Charizard X   Fire  Dragon    634  78     130      111   \n",
       "8  6  CharizardMega Charizard Y   Fire  Flying    634  78     104       78   \n",
       "9  7                   Squirtle  Water     NaN    314  44      48       65   \n",
       "\n",
       "   Sp. Atk  Sp. Def  Speed  Generation  Legendary  \n",
       "0       65       65     45           1      False  \n",
       "1       80       80     60           1      False  \n",
       "2      100      100     80           1      False  \n",
       "3      122      120     80           1      False  \n",
       "4       60       50     65           1      False  \n",
       "5       80       65     80           1      False  \n",
       "6      109       85    100           1      False  \n",
       "7      130       85    100           1      False  \n",
       "8      159      115    100           1      False  \n",
       "9       50       64     43           1      False  "
      ]
     },
     "execution_count": 3,
     "metadata": {},
     "output_type": "execute_result"
    }
   ],
   "source": [
    "pokemon.head(10)"
   ]
  },
  {
   "cell_type": "markdown",
   "metadata": {},
   "source": [
    "When you look at a data set, you often wonder what each column means. Some open-source data sets provide descriptions of the data set. In many cases, data descriptions are extremely useful for data analysts to perform work efficiently and successfully.\n",
    "\n",
    "For the `Pokemon.csv` data set, fortunately, the owner provided descriptions which you can see [here](https://www.kaggle.com/abcsds/pokemon/home). For your convenience, we are including the descriptions below. Read the descriptions and understand what each column means. This knowledge is helpful in your work with the data.\n",
    "\n",
    "| Column | Description |\n",
    "| --- | --- |\n",
    "| # | ID for each pokemon |\n",
    "| Name | Name of each pokemon |\n",
    "| Type 1 | Each pokemon has a type, this determines weakness/resistance to attacks |\n",
    "| Type 2 | Some pokemon are dual type and have 2 |\n",
    "| Total | A general guide to how strong a pokemon is |\n",
    "| HP | Hit points, or health, defines how much damage a pokemon can withstand before fainting |\n",
    "| Attack | The base modifier for normal attacks (eg. Scratch, Punch) |\n",
    "| Defense | The base damage resistance against normal attacks |\n",
    "| SP Atk | Special attack, the base modifier for special attacks (e.g. fire blast, bubble beam) |\n",
    "| SP Def | The base damage resistance against special attacks |\n",
    "| Speed | Determines which pokemon attacks first each round |\n",
    "| Generation | Number of generation |\n",
    "| Legendary | True if Legendary Pokemon False if not |"
   ]
  },
  {
   "cell_type": "markdown",
   "metadata": {},
   "source": [
    "### Obtain the distinct values across `Type 1` and `Type 2`\n",
    "\n",
    "Exctract all the values in `Type 1` and `Type 2`. Then create an array containing the distinct values across both fields."
   ]
  },
  {
   "cell_type": "code",
   "execution_count": 4,
   "metadata": {
    "ExecuteTime": {
     "end_time": "2020-08-28T12:32:34.382218Z",
     "start_time": "2020-08-28T12:32:34.356233Z"
    }
   },
   "outputs": [],
   "source": [
    "# Method 1: use set theory by selecting the unique values from 'Type 1' and the union() with 'Type 2'\n",
    "types_m1 = (set(pokemon['Type 1']).union(set(pokemon['Type 2'])))"
   ]
  },
  {
   "cell_type": "code",
   "execution_count": 5,
   "metadata": {
    "ExecuteTime": {
     "end_time": "2020-08-28T12:32:34.448180Z",
     "start_time": "2020-08-28T12:32:34.419197Z"
    }
   },
   "outputs": [
    {
     "name": "stdout",
     "output_type": "stream",
     "text": [
      "{nan, 'Bug', 'Water', 'Poison', 'Grass', 'Electric', 'Normal', 'Ground', 'Psychic', 'Flying', 'Ice', 'Steel', 'Fighting', 'Fire', 'Dragon', 'Ghost', 'Rock', 'Fairy', 'Dark'}\n"
     ]
    }
   ],
   "source": [
    "print(types_m1)"
   ]
  },
  {
   "cell_type": "code",
   "execution_count": 6,
   "metadata": {
    "ExecuteTime": {
     "end_time": "2020-08-28T12:32:34.634267Z",
     "start_time": "2020-08-28T12:32:34.552316Z"
    }
   },
   "outputs": [],
   "source": [
    "# Method 2: collect the unique values from 'Type 1' and 'Type 2', \n",
    "# than flat the array with the values.ravel() function\n",
    "types_m2 = pd.unique(pokemon[['Type 1', 'Type 2']].values.ravel())"
   ]
  },
  {
   "cell_type": "code",
   "execution_count": 7,
   "metadata": {
    "ExecuteTime": {
     "end_time": "2020-08-28T12:32:34.670248Z",
     "start_time": "2020-08-28T12:32:34.649259Z"
    }
   },
   "outputs": [
    {
     "data": {
      "text/plain": [
       "array(['Grass', 'Poison', 'Fire', nan, 'Flying', 'Dragon', 'Water', 'Bug',\n",
       "       'Normal', 'Electric', 'Ground', 'Fairy', 'Fighting', 'Psychic',\n",
       "       'Rock', 'Steel', 'Ice', 'Ghost', 'Dark'], dtype=object)"
      ]
     },
     "execution_count": 7,
     "metadata": {},
     "output_type": "execute_result"
    }
   ],
   "source": [
    "types_m2"
   ]
  },
  {
   "cell_type": "markdown",
   "metadata": {},
   "source": [
    "### Cleanup `Name` that contain \"Mega\"\n",
    "\n",
    "If you have checked out the pokemon names carefully enough, you should have found there are junk texts in the pokemon names which contain \"Mega\". We want to clean up the pokemon names. For instance, \"VenusaurMega Venusaur\" should be \"Mega Venusaur\", and \"CharizardMega Charizard X\" should be \"Mega Charizard X\"."
   ]
  },
  {
   "cell_type": "markdown",
   "metadata": {},
   "source": [
    "#### Regular expressions:\n",
    "\n",
    "* .\n",
    "* *\n",
    "* (\n",
    "* ?\n",
    "* =\n",
    "* Mega\n",
    "* )"
   ]
  },
  {
   "cell_type": "markdown",
   "metadata": {
    "ExecuteTime": {
     "end_time": "2020-06-11T14:42:20.886161Z",
     "start_time": "2020-06-11T14:42:20.860175Z"
    }
   },
   "source": [
    "**Example of output (You can create a new column or reassign the column 'Name'):**\n",
    "\n",
    ">\n",
    ">|    |   # | Name                  | Type 1   | Type 2   |   Total |   HP |   Attack |   Defense |   Sp. Atk |   Sp. Def |   Speed |   Generation | Legendary   | name_rec      |\n",
    "|---:|----:|:----------------------|:---------|:---------|--------:|-----:|---------:|----------:|----------:|----------:|--------:|-------------:|:------------|:--------------|\n",
    "|  0 |   1 | Bulbasaur             | Grass    | Poison   |     318 |   45 |       49 |        49 |        65 |        65 |      45 |            1 | False       | Bulbasaur     |\n",
    "|  1 |   2 | Ivysaur               | Grass    | Poison   |     405 |   60 |       62 |        63 |        80 |        80 |      60 |            1 | False       | Ivysaur       |\n",
    "|  2 |   3 | Venusaur              | Grass    | Poison   |     525 |   80 |       82 |        83 |       100 |       100 |      80 |            1 | False       | Venusaur      |\n",
    "|  3 |   3 | VenusaurMega Venusaur | Grass    | Poison   |     625 |   80 |      100 |       123 |       122 |       120 |      80 |            1 | False       | Mega Venusaur |\n",
    "|  4 |   4 | Charmander            | Fire     | nan      |     309 |   39 |       52 |        43 |        60 |        50 |      65 |            1 | False       | Charmander    |\n",
    "|  ... |  ... |  ... |  ... |  ... |  ... |  ... |  ... |  ... |  ... |  ... |  ... |  ... |  ... |  ... |"
   ]
  },
  {
   "cell_type": "code",
   "execution_count": 8,
   "metadata": {
    "ExecuteTime": {
     "end_time": "2020-08-28T12:32:34.742207Z",
     "start_time": "2020-08-28T12:32:34.682239Z"
    }
   },
   "outputs": [],
   "source": [
    "# use a string method to clean up the data\n",
    "pokemon['name_rec'] = pokemon['Name'].str.replace(\".*(?=Mega)\", \"\")\n"
   ]
  },
  {
   "cell_type": "code",
   "execution_count": 9,
   "metadata": {
    "ExecuteTime": {
     "end_time": "2020-08-28T12:32:34.792178Z",
     "start_time": "2020-08-28T12:32:34.758196Z"
    }
   },
   "outputs": [],
   "source": [
    "import re\n",
    "pokemon['name_rec'] = [re.sub('\\w*Mega', 'Mega', word) for word in pokemon['Name']]"
   ]
  },
  {
   "cell_type": "code",
   "execution_count": 10,
   "metadata": {
    "ExecuteTime": {
     "end_time": "2020-08-28T12:32:34.958084Z",
     "start_time": "2020-08-28T12:32:34.803170Z"
    },
    "scrolled": true
   },
   "outputs": [
    {
     "data": {
      "text/html": [
       "<div>\n",
       "<style scoped>\n",
       "    .dataframe tbody tr th:only-of-type {\n",
       "        vertical-align: middle;\n",
       "    }\n",
       "\n",
       "    .dataframe tbody tr th {\n",
       "        vertical-align: top;\n",
       "    }\n",
       "\n",
       "    .dataframe thead th {\n",
       "        text-align: right;\n",
       "    }\n",
       "</style>\n",
       "<table border=\"1\" class=\"dataframe\">\n",
       "  <thead>\n",
       "    <tr style=\"text-align: right;\">\n",
       "      <th></th>\n",
       "      <th>#</th>\n",
       "      <th>Name</th>\n",
       "      <th>Type 1</th>\n",
       "      <th>Type 2</th>\n",
       "      <th>Total</th>\n",
       "      <th>HP</th>\n",
       "      <th>Attack</th>\n",
       "      <th>Defense</th>\n",
       "      <th>Sp. Atk</th>\n",
       "      <th>Sp. Def</th>\n",
       "      <th>Speed</th>\n",
       "      <th>Generation</th>\n",
       "      <th>Legendary</th>\n",
       "      <th>name_rec</th>\n",
       "    </tr>\n",
       "  </thead>\n",
       "  <tbody>\n",
       "    <tr>\n",
       "      <th>0</th>\n",
       "      <td>1</td>\n",
       "      <td>Bulbasaur</td>\n",
       "      <td>Grass</td>\n",
       "      <td>Poison</td>\n",
       "      <td>318</td>\n",
       "      <td>45</td>\n",
       "      <td>49</td>\n",
       "      <td>49</td>\n",
       "      <td>65</td>\n",
       "      <td>65</td>\n",
       "      <td>45</td>\n",
       "      <td>1</td>\n",
       "      <td>False</td>\n",
       "      <td>Bulbasaur</td>\n",
       "    </tr>\n",
       "    <tr>\n",
       "      <th>1</th>\n",
       "      <td>2</td>\n",
       "      <td>Ivysaur</td>\n",
       "      <td>Grass</td>\n",
       "      <td>Poison</td>\n",
       "      <td>405</td>\n",
       "      <td>60</td>\n",
       "      <td>62</td>\n",
       "      <td>63</td>\n",
       "      <td>80</td>\n",
       "      <td>80</td>\n",
       "      <td>60</td>\n",
       "      <td>1</td>\n",
       "      <td>False</td>\n",
       "      <td>Ivysaur</td>\n",
       "    </tr>\n",
       "    <tr>\n",
       "      <th>2</th>\n",
       "      <td>3</td>\n",
       "      <td>Venusaur</td>\n",
       "      <td>Grass</td>\n",
       "      <td>Poison</td>\n",
       "      <td>525</td>\n",
       "      <td>80</td>\n",
       "      <td>82</td>\n",
       "      <td>83</td>\n",
       "      <td>100</td>\n",
       "      <td>100</td>\n",
       "      <td>80</td>\n",
       "      <td>1</td>\n",
       "      <td>False</td>\n",
       "      <td>Venusaur</td>\n",
       "    </tr>\n",
       "    <tr>\n",
       "      <th>3</th>\n",
       "      <td>3</td>\n",
       "      <td>VenusaurMega Venusaur</td>\n",
       "      <td>Grass</td>\n",
       "      <td>Poison</td>\n",
       "      <td>625</td>\n",
       "      <td>80</td>\n",
       "      <td>100</td>\n",
       "      <td>123</td>\n",
       "      <td>122</td>\n",
       "      <td>120</td>\n",
       "      <td>80</td>\n",
       "      <td>1</td>\n",
       "      <td>False</td>\n",
       "      <td>Mega Venusaur</td>\n",
       "    </tr>\n",
       "    <tr>\n",
       "      <th>4</th>\n",
       "      <td>4</td>\n",
       "      <td>Charmander</td>\n",
       "      <td>Fire</td>\n",
       "      <td>NaN</td>\n",
       "      <td>309</td>\n",
       "      <td>39</td>\n",
       "      <td>52</td>\n",
       "      <td>43</td>\n",
       "      <td>60</td>\n",
       "      <td>50</td>\n",
       "      <td>65</td>\n",
       "      <td>1</td>\n",
       "      <td>False</td>\n",
       "      <td>Charmander</td>\n",
       "    </tr>\n",
       "    <tr>\n",
       "      <th>5</th>\n",
       "      <td>5</td>\n",
       "      <td>Charmeleon</td>\n",
       "      <td>Fire</td>\n",
       "      <td>NaN</td>\n",
       "      <td>405</td>\n",
       "      <td>58</td>\n",
       "      <td>64</td>\n",
       "      <td>58</td>\n",
       "      <td>80</td>\n",
       "      <td>65</td>\n",
       "      <td>80</td>\n",
       "      <td>1</td>\n",
       "      <td>False</td>\n",
       "      <td>Charmeleon</td>\n",
       "    </tr>\n",
       "    <tr>\n",
       "      <th>6</th>\n",
       "      <td>6</td>\n",
       "      <td>Charizard</td>\n",
       "      <td>Fire</td>\n",
       "      <td>Flying</td>\n",
       "      <td>534</td>\n",
       "      <td>78</td>\n",
       "      <td>84</td>\n",
       "      <td>78</td>\n",
       "      <td>109</td>\n",
       "      <td>85</td>\n",
       "      <td>100</td>\n",
       "      <td>1</td>\n",
       "      <td>False</td>\n",
       "      <td>Charizard</td>\n",
       "    </tr>\n",
       "    <tr>\n",
       "      <th>7</th>\n",
       "      <td>6</td>\n",
       "      <td>CharizardMega Charizard X</td>\n",
       "      <td>Fire</td>\n",
       "      <td>Dragon</td>\n",
       "      <td>634</td>\n",
       "      <td>78</td>\n",
       "      <td>130</td>\n",
       "      <td>111</td>\n",
       "      <td>130</td>\n",
       "      <td>85</td>\n",
       "      <td>100</td>\n",
       "      <td>1</td>\n",
       "      <td>False</td>\n",
       "      <td>Mega Charizard X</td>\n",
       "    </tr>\n",
       "    <tr>\n",
       "      <th>8</th>\n",
       "      <td>6</td>\n",
       "      <td>CharizardMega Charizard Y</td>\n",
       "      <td>Fire</td>\n",
       "      <td>Flying</td>\n",
       "      <td>634</td>\n",
       "      <td>78</td>\n",
       "      <td>104</td>\n",
       "      <td>78</td>\n",
       "      <td>159</td>\n",
       "      <td>115</td>\n",
       "      <td>100</td>\n",
       "      <td>1</td>\n",
       "      <td>False</td>\n",
       "      <td>Mega Charizard Y</td>\n",
       "    </tr>\n",
       "    <tr>\n",
       "      <th>9</th>\n",
       "      <td>7</td>\n",
       "      <td>Squirtle</td>\n",
       "      <td>Water</td>\n",
       "      <td>NaN</td>\n",
       "      <td>314</td>\n",
       "      <td>44</td>\n",
       "      <td>48</td>\n",
       "      <td>65</td>\n",
       "      <td>50</td>\n",
       "      <td>64</td>\n",
       "      <td>43</td>\n",
       "      <td>1</td>\n",
       "      <td>False</td>\n",
       "      <td>Squirtle</td>\n",
       "    </tr>\n",
       "  </tbody>\n",
       "</table>\n",
       "</div>"
      ],
      "text/plain": [
       "   #                       Name Type 1  Type 2  Total  HP  Attack  Defense  \\\n",
       "0  1                  Bulbasaur  Grass  Poison    318  45      49       49   \n",
       "1  2                    Ivysaur  Grass  Poison    405  60      62       63   \n",
       "2  3                   Venusaur  Grass  Poison    525  80      82       83   \n",
       "3  3      VenusaurMega Venusaur  Grass  Poison    625  80     100      123   \n",
       "4  4                 Charmander   Fire     NaN    309  39      52       43   \n",
       "5  5                 Charmeleon   Fire     NaN    405  58      64       58   \n",
       "6  6                  Charizard   Fire  Flying    534  78      84       78   \n",
       "7  6  CharizardMega Charizard X   Fire  Dragon    634  78     130      111   \n",
       "8  6  CharizardMega Charizard Y   Fire  Flying    634  78     104       78   \n",
       "9  7                   Squirtle  Water     NaN    314  44      48       65   \n",
       "\n",
       "   Sp. Atk  Sp. Def  Speed  Generation  Legendary          name_rec  \n",
       "0       65       65     45           1      False         Bulbasaur  \n",
       "1       80       80     60           1      False           Ivysaur  \n",
       "2      100      100     80           1      False          Venusaur  \n",
       "3      122      120     80           1      False     Mega Venusaur  \n",
       "4       60       50     65           1      False        Charmander  \n",
       "5       80       65     80           1      False        Charmeleon  \n",
       "6      109       85    100           1      False         Charizard  \n",
       "7      130       85    100           1      False  Mega Charizard X  \n",
       "8      159      115    100           1      False  Mega Charizard Y  \n",
       "9       50       64     43           1      False          Squirtle  "
      ]
     },
     "execution_count": 10,
     "metadata": {},
     "output_type": "execute_result"
    }
   ],
   "source": [
    "pokemon.head(10)"
   ]
  },
  {
   "cell_type": "markdown",
   "metadata": {},
   "source": [
    "### Create a new column called `A/D Ratio` whose value equals to `Attack` devided by `Defense`\n",
    "\n",
    "For instance, if a pokemon has the Attack score 49 and Defense score 49, the corresponding `A/D Ratio` is 49/49=1.\n",
    "\n",
    "Expected output:\n",
    "\n",
    ">\n",
    ">|    |   # | Name      | Type 1   | Type 2   |   Total |   HP |   Attack |   Defense |   Sp. Atk |   Sp. Def |   Speed |   Generation | Legendary   | name_rec   |   A/D Ratio |\n",
    "|---:|----:|:----------|:---------|:---------|--------:|-----:|---------:|----------:|----------:|----------:|--------:|-------------:|:------------|:-----------|------------:|\n",
    "|  0 |   1 | Bulbasaur | Grass    | Poison   |     318 |   45 |       49 |        49 |        65 |        65 |      45 |            1 | False       | Bulbasaur  |    1        |\n",
    "|  1 |   2 | Ivysaur   | Grass    | Poison   |     405 |   60 |       62 |        63 |        80 |        80 |      60 |            1 | False       | Ivysaur    |    0.984127 |\n",
    "| ... | ... | ... | ... | ... | ... | ... | ... | ... | ... | ... | ... | ... | ... | ... | ... |"
   ]
  },
  {
   "cell_type": "code",
   "execution_count": 11,
   "metadata": {
    "ExecuteTime": {
     "end_time": "2020-08-28T12:32:34.992069Z",
     "start_time": "2020-08-28T12:32:34.973073Z"
    }
   },
   "outputs": [],
   "source": [
    "# Method 1: use the div() function\n",
    "pokemon['A/D Ratio'] = pokemon.Attack.div(pokemon.Defense)"
   ]
  },
  {
   "cell_type": "code",
   "execution_count": 12,
   "metadata": {
    "ExecuteTime": {
     "end_time": "2020-08-28T12:32:35.168963Z",
     "start_time": "2020-08-28T12:32:35.018048Z"
    }
   },
   "outputs": [
    {
     "data": {
      "text/html": [
       "<div>\n",
       "<style scoped>\n",
       "    .dataframe tbody tr th:only-of-type {\n",
       "        vertical-align: middle;\n",
       "    }\n",
       "\n",
       "    .dataframe tbody tr th {\n",
       "        vertical-align: top;\n",
       "    }\n",
       "\n",
       "    .dataframe thead th {\n",
       "        text-align: right;\n",
       "    }\n",
       "</style>\n",
       "<table border=\"1\" class=\"dataframe\">\n",
       "  <thead>\n",
       "    <tr style=\"text-align: right;\">\n",
       "      <th></th>\n",
       "      <th>#</th>\n",
       "      <th>Name</th>\n",
       "      <th>Type 1</th>\n",
       "      <th>Type 2</th>\n",
       "      <th>Total</th>\n",
       "      <th>HP</th>\n",
       "      <th>Attack</th>\n",
       "      <th>Defense</th>\n",
       "      <th>Sp. Atk</th>\n",
       "      <th>Sp. Def</th>\n",
       "      <th>Speed</th>\n",
       "      <th>Generation</th>\n",
       "      <th>Legendary</th>\n",
       "      <th>name_rec</th>\n",
       "      <th>A/D Ratio</th>\n",
       "    </tr>\n",
       "  </thead>\n",
       "  <tbody>\n",
       "    <tr>\n",
       "      <th>0</th>\n",
       "      <td>1</td>\n",
       "      <td>Bulbasaur</td>\n",
       "      <td>Grass</td>\n",
       "      <td>Poison</td>\n",
       "      <td>318</td>\n",
       "      <td>45</td>\n",
       "      <td>49</td>\n",
       "      <td>49</td>\n",
       "      <td>65</td>\n",
       "      <td>65</td>\n",
       "      <td>45</td>\n",
       "      <td>1</td>\n",
       "      <td>False</td>\n",
       "      <td>Bulbasaur</td>\n",
       "      <td>1.000000</td>\n",
       "    </tr>\n",
       "    <tr>\n",
       "      <th>1</th>\n",
       "      <td>2</td>\n",
       "      <td>Ivysaur</td>\n",
       "      <td>Grass</td>\n",
       "      <td>Poison</td>\n",
       "      <td>405</td>\n",
       "      <td>60</td>\n",
       "      <td>62</td>\n",
       "      <td>63</td>\n",
       "      <td>80</td>\n",
       "      <td>80</td>\n",
       "      <td>60</td>\n",
       "      <td>1</td>\n",
       "      <td>False</td>\n",
       "      <td>Ivysaur</td>\n",
       "      <td>0.984127</td>\n",
       "    </tr>\n",
       "  </tbody>\n",
       "</table>\n",
       "</div>"
      ],
      "text/plain": [
       "   #       Name Type 1  Type 2  Total  HP  Attack  Defense  Sp. Atk  Sp. Def  \\\n",
       "0  1  Bulbasaur  Grass  Poison    318  45      49       49       65       65   \n",
       "1  2    Ivysaur  Grass  Poison    405  60      62       63       80       80   \n",
       "\n",
       "   Speed  Generation  Legendary   name_rec  A/D Ratio  \n",
       "0     45           1      False  Bulbasaur   1.000000  \n",
       "1     60           1      False    Ivysaur   0.984127  "
      ]
     },
     "execution_count": 12,
     "metadata": {},
     "output_type": "execute_result"
    }
   ],
   "source": [
    "pokemon.head(2)"
   ]
  },
  {
   "cell_type": "code",
   "execution_count": 13,
   "metadata": {
    "ExecuteTime": {
     "end_time": "2020-08-28T12:32:35.539270Z",
     "start_time": "2020-08-28T12:32:35.180954Z"
    }
   },
   "outputs": [],
   "source": [
    "# Method 2:\n",
    "pokemon['A/D Ratio'] = pokemon.Attack / pokemon.Defense"
   ]
  },
  {
   "cell_type": "code",
   "execution_count": 14,
   "metadata": {
    "ExecuteTime": {
     "end_time": "2020-08-28T12:32:35.658454Z",
     "start_time": "2020-08-28T12:32:35.554782Z"
    },
    "scrolled": true
   },
   "outputs": [
    {
     "data": {
      "text/html": [
       "<div>\n",
       "<style scoped>\n",
       "    .dataframe tbody tr th:only-of-type {\n",
       "        vertical-align: middle;\n",
       "    }\n",
       "\n",
       "    .dataframe tbody tr th {\n",
       "        vertical-align: top;\n",
       "    }\n",
       "\n",
       "    .dataframe thead th {\n",
       "        text-align: right;\n",
       "    }\n",
       "</style>\n",
       "<table border=\"1\" class=\"dataframe\">\n",
       "  <thead>\n",
       "    <tr style=\"text-align: right;\">\n",
       "      <th></th>\n",
       "      <th>#</th>\n",
       "      <th>Name</th>\n",
       "      <th>Type 1</th>\n",
       "      <th>Type 2</th>\n",
       "      <th>Total</th>\n",
       "      <th>HP</th>\n",
       "      <th>Attack</th>\n",
       "      <th>Defense</th>\n",
       "      <th>Sp. Atk</th>\n",
       "      <th>Sp. Def</th>\n",
       "      <th>Speed</th>\n",
       "      <th>Generation</th>\n",
       "      <th>Legendary</th>\n",
       "      <th>name_rec</th>\n",
       "      <th>A/D Ratio</th>\n",
       "    </tr>\n",
       "  </thead>\n",
       "  <tbody>\n",
       "    <tr>\n",
       "      <th>0</th>\n",
       "      <td>1</td>\n",
       "      <td>Bulbasaur</td>\n",
       "      <td>Grass</td>\n",
       "      <td>Poison</td>\n",
       "      <td>318</td>\n",
       "      <td>45</td>\n",
       "      <td>49</td>\n",
       "      <td>49</td>\n",
       "      <td>65</td>\n",
       "      <td>65</td>\n",
       "      <td>45</td>\n",
       "      <td>1</td>\n",
       "      <td>False</td>\n",
       "      <td>Bulbasaur</td>\n",
       "      <td>1.000000</td>\n",
       "    </tr>\n",
       "    <tr>\n",
       "      <th>1</th>\n",
       "      <td>2</td>\n",
       "      <td>Ivysaur</td>\n",
       "      <td>Grass</td>\n",
       "      <td>Poison</td>\n",
       "      <td>405</td>\n",
       "      <td>60</td>\n",
       "      <td>62</td>\n",
       "      <td>63</td>\n",
       "      <td>80</td>\n",
       "      <td>80</td>\n",
       "      <td>60</td>\n",
       "      <td>1</td>\n",
       "      <td>False</td>\n",
       "      <td>Ivysaur</td>\n",
       "      <td>0.984127</td>\n",
       "    </tr>\n",
       "  </tbody>\n",
       "</table>\n",
       "</div>"
      ],
      "text/plain": [
       "   #       Name Type 1  Type 2  Total  HP  Attack  Defense  Sp. Atk  Sp. Def  \\\n",
       "0  1  Bulbasaur  Grass  Poison    318  45      49       49       65       65   \n",
       "1  2    Ivysaur  Grass  Poison    405  60      62       63       80       80   \n",
       "\n",
       "   Speed  Generation  Legendary   name_rec  A/D Ratio  \n",
       "0     45           1      False  Bulbasaur   1.000000  \n",
       "1     60           1      False    Ivysaur   0.984127  "
      ]
     },
     "execution_count": 14,
     "metadata": {},
     "output_type": "execute_result"
    }
   ],
   "source": [
    "pokemon.head(2)"
   ]
  },
  {
   "cell_type": "markdown",
   "metadata": {},
   "source": [
    "### Identify the pokemon with the highest `A/D Ratio`"
   ]
  },
  {
   "cell_type": "code",
   "execution_count": 15,
   "metadata": {
    "ExecuteTime": {
     "end_time": "2020-08-28T12:32:35.709421Z",
     "start_time": "2020-08-28T12:32:35.669444Z"
    }
   },
   "outputs": [
    {
     "data": {
      "text/plain": [
       "429"
      ]
     },
     "execution_count": 15,
     "metadata": {},
     "output_type": "execute_result"
    }
   ],
   "source": [
    "# use the idxmax() function\n",
    "pokemon['A/D Ratio'].idxmax()"
   ]
  },
  {
   "cell_type": "code",
   "execution_count": 16,
   "metadata": {
    "ExecuteTime": {
     "end_time": "2020-08-28T12:32:35.747401Z",
     "start_time": "2020-08-28T12:32:35.719416Z"
    }
   },
   "outputs": [
    {
     "data": {
      "text/plain": [
       "#                            386\n",
       "Name          DeoxysAttack Forme\n",
       "Type 1                   Psychic\n",
       "Type 2                       NaN\n",
       "Total                        600\n",
       "HP                            50\n",
       "Attack                       180\n",
       "Defense                       20\n",
       "Sp. Atk                      180\n",
       "Sp. Def                       20\n",
       "Speed                        150\n",
       "Generation                     3\n",
       "Legendary                   True\n",
       "name_rec      DeoxysAttack Forme\n",
       "A/D Ratio                      9\n",
       "Name: 429, dtype: object"
      ]
     },
     "execution_count": 16,
     "metadata": {},
     "output_type": "execute_result"
    }
   ],
   "source": [
    "pokemon.iloc[429]"
   ]
  },
  {
   "cell_type": "code",
   "execution_count": 17,
   "metadata": {
    "ExecuteTime": {
     "end_time": "2020-08-28T12:32:35.972439Z",
     "start_time": "2020-08-28T12:32:35.759395Z"
    },
    "scrolled": true
   },
   "outputs": [
    {
     "data": {
      "text/html": [
       "<div>\n",
       "<style scoped>\n",
       "    .dataframe tbody tr th:only-of-type {\n",
       "        vertical-align: middle;\n",
       "    }\n",
       "\n",
       "    .dataframe tbody tr th {\n",
       "        vertical-align: top;\n",
       "    }\n",
       "\n",
       "    .dataframe thead th {\n",
       "        text-align: right;\n",
       "    }\n",
       "</style>\n",
       "<table border=\"1\" class=\"dataframe\">\n",
       "  <thead>\n",
       "    <tr style=\"text-align: right;\">\n",
       "      <th></th>\n",
       "      <th>#</th>\n",
       "      <th>Name</th>\n",
       "      <th>Type 1</th>\n",
       "      <th>Type 2</th>\n",
       "      <th>Total</th>\n",
       "      <th>HP</th>\n",
       "      <th>Attack</th>\n",
       "      <th>Defense</th>\n",
       "      <th>Sp. Atk</th>\n",
       "      <th>Sp. Def</th>\n",
       "      <th>Speed</th>\n",
       "      <th>Generation</th>\n",
       "      <th>Legendary</th>\n",
       "      <th>name_rec</th>\n",
       "      <th>A/D Ratio</th>\n",
       "    </tr>\n",
       "  </thead>\n",
       "  <tbody>\n",
       "    <tr>\n",
       "      <th>429</th>\n",
       "      <td>386</td>\n",
       "      <td>DeoxysAttack Forme</td>\n",
       "      <td>Psychic</td>\n",
       "      <td>NaN</td>\n",
       "      <td>600</td>\n",
       "      <td>50</td>\n",
       "      <td>180</td>\n",
       "      <td>20</td>\n",
       "      <td>180</td>\n",
       "      <td>20</td>\n",
       "      <td>150</td>\n",
       "      <td>3</td>\n",
       "      <td>True</td>\n",
       "      <td>DeoxysAttack Forme</td>\n",
       "      <td>9.0</td>\n",
       "    </tr>\n",
       "  </tbody>\n",
       "</table>\n",
       "</div>"
      ],
      "text/plain": [
       "       #                Name   Type 1 Type 2  Total  HP  Attack  Defense  \\\n",
       "429  386  DeoxysAttack Forme  Psychic    NaN    600  50     180       20   \n",
       "\n",
       "     Sp. Atk  Sp. Def  Speed  Generation  Legendary            name_rec  \\\n",
       "429      180       20    150           3       True  DeoxysAttack Forme   \n",
       "\n",
       "     A/D Ratio  \n",
       "429        9.0  "
      ]
     },
     "execution_count": 17,
     "metadata": {},
     "output_type": "execute_result"
    }
   ],
   "source": [
    "# other way\n",
    "\n",
    "pokemon[pokemon['A/D Ratio'] == pokemon['A/D Ratio'].max()]"
   ]
  },
  {
   "cell_type": "markdown",
   "metadata": {},
   "source": [
    "### Identify the pokemon with the lowest A/D Ratio"
   ]
  },
  {
   "cell_type": "code",
   "execution_count": 18,
   "metadata": {
    "ExecuteTime": {
     "end_time": "2020-08-28T12:32:36.015413Z",
     "start_time": "2020-08-28T12:32:35.990429Z"
    }
   },
   "outputs": [
    {
     "data": {
      "text/plain": [
       "230"
      ]
     },
     "execution_count": 18,
     "metadata": {},
     "output_type": "execute_result"
    }
   ],
   "source": [
    "# use the idxmin() function\n",
    "pokemon['A/D Ratio'].idxmin()"
   ]
  },
  {
   "cell_type": "code",
   "execution_count": 19,
   "metadata": {
    "ExecuteTime": {
     "end_time": "2020-08-28T12:32:36.062389Z",
     "start_time": "2020-08-28T12:32:36.026407Z"
    }
   },
   "outputs": [
    {
     "data": {
      "text/plain": [
       "#                   213\n",
       "Name            Shuckle\n",
       "Type 1              Bug\n",
       "Type 2             Rock\n",
       "Total               505\n",
       "HP                   20\n",
       "Attack               10\n",
       "Defense             230\n",
       "Sp. Atk              10\n",
       "Sp. Def             230\n",
       "Speed                 5\n",
       "Generation            2\n",
       "Legendary         False\n",
       "name_rec        Shuckle\n",
       "A/D Ratio     0.0434783\n",
       "Name: 230, dtype: object"
      ]
     },
     "execution_count": 19,
     "metadata": {},
     "output_type": "execute_result"
    }
   ],
   "source": [
    "pokemon.iloc[230]"
   ]
  },
  {
   "cell_type": "code",
   "execution_count": 20,
   "metadata": {
    "ExecuteTime": {
     "end_time": "2020-08-28T12:32:36.169410Z",
     "start_time": "2020-08-28T12:32:36.075380Z"
    }
   },
   "outputs": [
    {
     "data": {
      "text/html": [
       "<div>\n",
       "<style scoped>\n",
       "    .dataframe tbody tr th:only-of-type {\n",
       "        vertical-align: middle;\n",
       "    }\n",
       "\n",
       "    .dataframe tbody tr th {\n",
       "        vertical-align: top;\n",
       "    }\n",
       "\n",
       "    .dataframe thead th {\n",
       "        text-align: right;\n",
       "    }\n",
       "</style>\n",
       "<table border=\"1\" class=\"dataframe\">\n",
       "  <thead>\n",
       "    <tr style=\"text-align: right;\">\n",
       "      <th></th>\n",
       "      <th>#</th>\n",
       "      <th>Name</th>\n",
       "      <th>Type 1</th>\n",
       "      <th>Type 2</th>\n",
       "      <th>Total</th>\n",
       "      <th>HP</th>\n",
       "      <th>Attack</th>\n",
       "      <th>Defense</th>\n",
       "      <th>Sp. Atk</th>\n",
       "      <th>Sp. Def</th>\n",
       "      <th>Speed</th>\n",
       "      <th>Generation</th>\n",
       "      <th>Legendary</th>\n",
       "      <th>name_rec</th>\n",
       "      <th>A/D Ratio</th>\n",
       "    </tr>\n",
       "  </thead>\n",
       "  <tbody>\n",
       "    <tr>\n",
       "      <th>230</th>\n",
       "      <td>213</td>\n",
       "      <td>Shuckle</td>\n",
       "      <td>Bug</td>\n",
       "      <td>Rock</td>\n",
       "      <td>505</td>\n",
       "      <td>20</td>\n",
       "      <td>10</td>\n",
       "      <td>230</td>\n",
       "      <td>10</td>\n",
       "      <td>230</td>\n",
       "      <td>5</td>\n",
       "      <td>2</td>\n",
       "      <td>False</td>\n",
       "      <td>Shuckle</td>\n",
       "      <td>0.043478</td>\n",
       "    </tr>\n",
       "  </tbody>\n",
       "</table>\n",
       "</div>"
      ],
      "text/plain": [
       "       #     Name Type 1 Type 2  Total  HP  Attack  Defense  Sp. Atk  Sp. Def  \\\n",
       "230  213  Shuckle    Bug   Rock    505  20      10      230       10      230   \n",
       "\n",
       "     Speed  Generation  Legendary name_rec  A/D Ratio  \n",
       "230      5           2      False  Shuckle   0.043478  "
      ]
     },
     "execution_count": 20,
     "metadata": {},
     "output_type": "execute_result"
    }
   ],
   "source": [
    "# other way\n",
    "\n",
    "pokemon[pokemon['A/D Ratio'] == pokemon['A/D Ratio'].min()]"
   ]
  },
  {
   "cell_type": "markdown",
   "metadata": {},
   "source": [
    "### Create a new column called `Combo Type` whose value combines `Type 1` and `Type 2`.\n",
    "\n",
    "Rules:\n",
    "\n",
    "* If both `Type 1` and `Type 2` have valid values, the `Combo Type` value should contain both values in the form of `<Type 1> <Type 2>`. For example, if `Type 1` value is `Grass` and `Type 2` value is `Poison`, `Combo Type` will be `Grass-Poison`.\n",
    "\n",
    "* If `Type 1` has valid value but `Type 2` is not, `Combo Type` will be the same as `Type 1`. For example, if `Type 1` is `Fire` whereas `Type 2` is `NaN`, `Combo Type` will be `Fire`.\n",
    "\n",
    "Expected output:\n",
    "\n",
    ">\n",
    ">|    |   # | Name      | Type 1   | Type 2   |   Total |   HP |   Attack |   Defense |   Sp. Atk |   Sp. Def |   Speed |   Generation | Legendary   | name_rec   |   A/D Ratio | Combo Type   |\n",
    "|---:|----:|:----------|:---------|:---------|--------:|-----:|---------:|----------:|----------:|----------:|--------:|-------------:|:------------|:-----------|------------:|:-------------|\n",
    "|  0 |   1 | Bulbasaur | Grass    | Poison   |     318 |   45 |       49 |        49 |        65 |        65 |      45 |            1 | False       | Bulbasaur  |    1        | Grass-Poison |\n",
    "|  1 |   2 | Ivysaur   | Grass    | Poison   |     405 |   60 |       62 |        63 |        80 |        80 |      60 |            1 | False       | Ivysaur    |    0.984127 | Grass-Poison |\n",
    "| ... | ... | ... | ... | ... | ... | ... | ... | ... | ... | ... | ... | ... | ... | ... | ... | ... |\n"
   ]
  },
  {
   "cell_type": "code",
   "execution_count": 21,
   "metadata": {
    "ExecuteTime": {
     "end_time": "2020-08-28T12:32:36.237622Z",
     "start_time": "2020-08-28T12:32:36.192398Z"
    }
   },
   "outputs": [],
   "source": [
    "def combo_type(x):\n",
    "    # check if 'Type 2' is null\n",
    "    if pd.isnull(x['Type 2']):\n",
    "        # if it is null, returns 'Type 1'\n",
    "        return(x['Type 1'])\n",
    "\n",
    "    # if none of the strings are null, returns formated string of type1, -, and type2, putting the longest word\n",
    "    #first (avoids repetitions like Bug-Poisson and Poisson-Bug)\n",
    "    if x['Type 1'] > x['Type 2']:\n",
    "        y = x['Type 2']+ '-' + x['Type 1']\n",
    "    else :\n",
    "        y = x['Type 1']+ '-' + x['Type 2']\n",
    "    return y\n",
    "    "
   ]
  },
  {
   "cell_type": "markdown",
   "metadata": {},
   "source": [
    "For more information about formating strings:\n",
    "*  https://realpython.com/python-f-strings/"
   ]
  },
  {
   "cell_type": "code",
   "execution_count": 22,
   "metadata": {
    "ExecuteTime": {
     "end_time": "2020-08-28T12:32:36.681355Z",
     "start_time": "2020-08-28T12:32:36.256611Z"
    }
   },
   "outputs": [],
   "source": [
    "# calling the apply method to iterate over all rows\n",
    "pokemon['Combo Type'] = pokemon.apply(\n",
    "    # lambda goes withing each string applying the combo_function\n",
    "    lambda x: combo_type(x), axis=1)\n"
   ]
  },
  {
   "cell_type": "code",
   "execution_count": 23,
   "metadata": {
    "ExecuteTime": {
     "end_time": "2020-08-28T12:32:36.795294Z",
     "start_time": "2020-08-28T12:32:36.694349Z"
    }
   },
   "outputs": [
    {
     "data": {
      "text/html": [
       "<div>\n",
       "<style scoped>\n",
       "    .dataframe tbody tr th:only-of-type {\n",
       "        vertical-align: middle;\n",
       "    }\n",
       "\n",
       "    .dataframe tbody tr th {\n",
       "        vertical-align: top;\n",
       "    }\n",
       "\n",
       "    .dataframe thead th {\n",
       "        text-align: right;\n",
       "    }\n",
       "</style>\n",
       "<table border=\"1\" class=\"dataframe\">\n",
       "  <thead>\n",
       "    <tr style=\"text-align: right;\">\n",
       "      <th></th>\n",
       "      <th>#</th>\n",
       "      <th>Name</th>\n",
       "      <th>Type 1</th>\n",
       "      <th>Type 2</th>\n",
       "      <th>Total</th>\n",
       "      <th>HP</th>\n",
       "      <th>Attack</th>\n",
       "      <th>Defense</th>\n",
       "      <th>Sp. Atk</th>\n",
       "      <th>Sp. Def</th>\n",
       "      <th>Speed</th>\n",
       "      <th>Generation</th>\n",
       "      <th>Legendary</th>\n",
       "      <th>name_rec</th>\n",
       "      <th>A/D Ratio</th>\n",
       "      <th>Combo Type</th>\n",
       "    </tr>\n",
       "  </thead>\n",
       "  <tbody>\n",
       "    <tr>\n",
       "      <th>0</th>\n",
       "      <td>1</td>\n",
       "      <td>Bulbasaur</td>\n",
       "      <td>Grass</td>\n",
       "      <td>Poison</td>\n",
       "      <td>318</td>\n",
       "      <td>45</td>\n",
       "      <td>49</td>\n",
       "      <td>49</td>\n",
       "      <td>65</td>\n",
       "      <td>65</td>\n",
       "      <td>45</td>\n",
       "      <td>1</td>\n",
       "      <td>False</td>\n",
       "      <td>Bulbasaur</td>\n",
       "      <td>1.000000</td>\n",
       "      <td>Grass-Poison</td>\n",
       "    </tr>\n",
       "    <tr>\n",
       "      <th>1</th>\n",
       "      <td>2</td>\n",
       "      <td>Ivysaur</td>\n",
       "      <td>Grass</td>\n",
       "      <td>Poison</td>\n",
       "      <td>405</td>\n",
       "      <td>60</td>\n",
       "      <td>62</td>\n",
       "      <td>63</td>\n",
       "      <td>80</td>\n",
       "      <td>80</td>\n",
       "      <td>60</td>\n",
       "      <td>1</td>\n",
       "      <td>False</td>\n",
       "      <td>Ivysaur</td>\n",
       "      <td>0.984127</td>\n",
       "      <td>Grass-Poison</td>\n",
       "    </tr>\n",
       "  </tbody>\n",
       "</table>\n",
       "</div>"
      ],
      "text/plain": [
       "   #       Name Type 1  Type 2  Total  HP  Attack  Defense  Sp. Atk  Sp. Def  \\\n",
       "0  1  Bulbasaur  Grass  Poison    318  45      49       49       65       65   \n",
       "1  2    Ivysaur  Grass  Poison    405  60      62       63       80       80   \n",
       "\n",
       "   Speed  Generation  Legendary   name_rec  A/D Ratio    Combo Type  \n",
       "0     45           1      False  Bulbasaur   1.000000  Grass-Poison  \n",
       "1     60           1      False    Ivysaur   0.984127  Grass-Poison  "
      ]
     },
     "execution_count": 23,
     "metadata": {},
     "output_type": "execute_result"
    }
   ],
   "source": [
    "pokemon.head(2)"
   ]
  },
  {
   "cell_type": "code",
   "execution_count": 24,
   "metadata": {
    "ExecuteTime": {
     "end_time": "2020-08-28T12:32:38.337521Z",
     "start_time": "2020-08-28T12:32:36.809283Z"
    }
   },
   "outputs": [
    {
     "data": {
      "text/html": [
       "<div>\n",
       "<style scoped>\n",
       "    .dataframe tbody tr th:only-of-type {\n",
       "        vertical-align: middle;\n",
       "    }\n",
       "\n",
       "    .dataframe tbody tr th {\n",
       "        vertical-align: top;\n",
       "    }\n",
       "\n",
       "    .dataframe thead th {\n",
       "        text-align: right;\n",
       "    }\n",
       "</style>\n",
       "<table border=\"1\" class=\"dataframe\">\n",
       "  <thead>\n",
       "    <tr style=\"text-align: right;\">\n",
       "      <th></th>\n",
       "      <th>#</th>\n",
       "      <th>Name</th>\n",
       "      <th>Type 1</th>\n",
       "      <th>Type 2</th>\n",
       "      <th>Total</th>\n",
       "      <th>HP</th>\n",
       "      <th>Attack</th>\n",
       "      <th>Defense</th>\n",
       "      <th>Sp. Atk</th>\n",
       "      <th>Sp. Def</th>\n",
       "      <th>Speed</th>\n",
       "      <th>Generation</th>\n",
       "      <th>Legendary</th>\n",
       "      <th>name_rec</th>\n",
       "      <th>A/D Ratio</th>\n",
       "      <th>Combo Type</th>\n",
       "    </tr>\n",
       "  </thead>\n",
       "  <tbody>\n",
       "    <tr>\n",
       "      <th>0</th>\n",
       "      <td>1</td>\n",
       "      <td>Bulbasaur</td>\n",
       "      <td>Grass</td>\n",
       "      <td>Poison</td>\n",
       "      <td>318</td>\n",
       "      <td>45</td>\n",
       "      <td>49</td>\n",
       "      <td>49</td>\n",
       "      <td>65</td>\n",
       "      <td>65</td>\n",
       "      <td>45</td>\n",
       "      <td>1</td>\n",
       "      <td>False</td>\n",
       "      <td>Bulbasaur</td>\n",
       "      <td>1.000000</td>\n",
       "      <td>Grass-Poison</td>\n",
       "    </tr>\n",
       "    <tr>\n",
       "      <th>1</th>\n",
       "      <td>2</td>\n",
       "      <td>Ivysaur</td>\n",
       "      <td>Grass</td>\n",
       "      <td>Poison</td>\n",
       "      <td>405</td>\n",
       "      <td>60</td>\n",
       "      <td>62</td>\n",
       "      <td>63</td>\n",
       "      <td>80</td>\n",
       "      <td>80</td>\n",
       "      <td>60</td>\n",
       "      <td>1</td>\n",
       "      <td>False</td>\n",
       "      <td>Ivysaur</td>\n",
       "      <td>0.984127</td>\n",
       "      <td>Grass-Poison</td>\n",
       "    </tr>\n",
       "  </tbody>\n",
       "</table>\n",
       "</div>"
      ],
      "text/plain": [
       "   #       Name Type 1  Type 2  Total  HP  Attack  Defense  Sp. Atk  Sp. Def  \\\n",
       "0  1  Bulbasaur  Grass  Poison    318  45      49       49       65       65   \n",
       "1  2    Ivysaur  Grass  Poison    405  60      62       63       80       80   \n",
       "\n",
       "   Speed  Generation  Legendary   name_rec  A/D Ratio    Combo Type  \n",
       "0     45           1      False  Bulbasaur   1.000000  Grass-Poison  \n",
       "1     60           1      False    Ivysaur   0.984127  Grass-Poison  "
      ]
     },
     "execution_count": 24,
     "metadata": {},
     "output_type": "execute_result"
    }
   ],
   "source": [
    "# another way\n",
    "\n",
    "pokemon['Combo Type'] = [combo_type(pokemon.iloc[x]) for x in range(len(pokemon))]\n",
    "pokemon.head(2)"
   ]
  },
  {
   "cell_type": "markdown",
   "metadata": {},
   "source": [
    "### Identify the pokemons whose `A/D Ratio` are among the top 5 "
   ]
  },
  {
   "cell_type": "markdown",
   "metadata": {
    "ExecuteTime": {
     "end_time": "2020-06-11T15:08:54.978301Z",
     "start_time": "2020-06-11T15:08:54.961307Z"
    }
   },
   "source": [
    "Expected output:\n",
    "    \n",
    ">\n",
    ">|     |   # | Name                  | Type 1   | Type 2   |   Total |   HP |   Attack |   Defense |   Sp. Atk |   Sp. Def |   Speed |   Generation | Legendary   | name_rec           |   A/D Ratio | Combo Type   |\n",
    "|----:|----:|:----------------------|:---------|:---------|--------:|-----:|---------:|----------:|----------:|----------:|--------:|-------------:|:------------|:-------------------|------------:|:-------------|\n",
    "| 429 | 386 | DeoxysAttack Forme    | Psychic  | nan      |     600 |   50 |      180 |        20 |       180 |        20 |     150 |            3 | True        | DeoxysAttack Forme |       9     | Psychic      |\n",
    "| 347 | 318 | Carvanha              | Water    | Dark     |     305 |   45 |       90 |        20 |        65 |        20 |      65 |            3 | False       | Carvanha           |       4.5   | Dark-Water   |\n",
    "|  19 |  15 | BeedrillMega Beedrill | Bug      | Poison   |     495 |   65 |      150 |        40 |        15 |        80 |     145 |            1 | False       | Mega Beedrill      |       3.75  | Bug-Poison   |\n",
    "| 453 | 408 | Cranidos              | Rock     | nan      |     350 |   67 |      125 |        40 |        30 |        30 |      58 |            4 | False       | Cranidos           |       3.125 | Rock         |\n",
    "| 348 | 319 | Sharpedo              | Water    | Dark     |     460 |   70 |      120 |        40 |        95 |        40 |      95 |            3 | False       | Sharpedo           |       3     | Dark-Water   |"
   ]
  },
  {
   "cell_type": "code",
   "execution_count": 25,
   "metadata": {
    "ExecuteTime": {
     "end_time": "2020-08-28T12:32:38.478532Z",
     "start_time": "2020-08-28T12:32:38.356513Z"
    }
   },
   "outputs": [
    {
     "data": {
      "text/html": [
       "<div>\n",
       "<style scoped>\n",
       "    .dataframe tbody tr th:only-of-type {\n",
       "        vertical-align: middle;\n",
       "    }\n",
       "\n",
       "    .dataframe tbody tr th {\n",
       "        vertical-align: top;\n",
       "    }\n",
       "\n",
       "    .dataframe thead th {\n",
       "        text-align: right;\n",
       "    }\n",
       "</style>\n",
       "<table border=\"1\" class=\"dataframe\">\n",
       "  <thead>\n",
       "    <tr style=\"text-align: right;\">\n",
       "      <th></th>\n",
       "      <th>#</th>\n",
       "      <th>Name</th>\n",
       "      <th>Type 1</th>\n",
       "      <th>Type 2</th>\n",
       "      <th>Total</th>\n",
       "      <th>HP</th>\n",
       "      <th>Attack</th>\n",
       "      <th>Defense</th>\n",
       "      <th>Sp. Atk</th>\n",
       "      <th>Sp. Def</th>\n",
       "      <th>Speed</th>\n",
       "      <th>Generation</th>\n",
       "      <th>Legendary</th>\n",
       "      <th>name_rec</th>\n",
       "      <th>A/D Ratio</th>\n",
       "      <th>Combo Type</th>\n",
       "    </tr>\n",
       "  </thead>\n",
       "  <tbody>\n",
       "    <tr>\n",
       "      <th>429</th>\n",
       "      <td>386</td>\n",
       "      <td>DeoxysAttack Forme</td>\n",
       "      <td>Psychic</td>\n",
       "      <td>NaN</td>\n",
       "      <td>600</td>\n",
       "      <td>50</td>\n",
       "      <td>180</td>\n",
       "      <td>20</td>\n",
       "      <td>180</td>\n",
       "      <td>20</td>\n",
       "      <td>150</td>\n",
       "      <td>3</td>\n",
       "      <td>True</td>\n",
       "      <td>DeoxysAttack Forme</td>\n",
       "      <td>9.000</td>\n",
       "      <td>Psychic</td>\n",
       "    </tr>\n",
       "    <tr>\n",
       "      <th>347</th>\n",
       "      <td>318</td>\n",
       "      <td>Carvanha</td>\n",
       "      <td>Water</td>\n",
       "      <td>Dark</td>\n",
       "      <td>305</td>\n",
       "      <td>45</td>\n",
       "      <td>90</td>\n",
       "      <td>20</td>\n",
       "      <td>65</td>\n",
       "      <td>20</td>\n",
       "      <td>65</td>\n",
       "      <td>3</td>\n",
       "      <td>False</td>\n",
       "      <td>Carvanha</td>\n",
       "      <td>4.500</td>\n",
       "      <td>Dark-Water</td>\n",
       "    </tr>\n",
       "    <tr>\n",
       "      <th>19</th>\n",
       "      <td>15</td>\n",
       "      <td>BeedrillMega Beedrill</td>\n",
       "      <td>Bug</td>\n",
       "      <td>Poison</td>\n",
       "      <td>495</td>\n",
       "      <td>65</td>\n",
       "      <td>150</td>\n",
       "      <td>40</td>\n",
       "      <td>15</td>\n",
       "      <td>80</td>\n",
       "      <td>145</td>\n",
       "      <td>1</td>\n",
       "      <td>False</td>\n",
       "      <td>Mega Beedrill</td>\n",
       "      <td>3.750</td>\n",
       "      <td>Bug-Poison</td>\n",
       "    </tr>\n",
       "    <tr>\n",
       "      <th>453</th>\n",
       "      <td>408</td>\n",
       "      <td>Cranidos</td>\n",
       "      <td>Rock</td>\n",
       "      <td>NaN</td>\n",
       "      <td>350</td>\n",
       "      <td>67</td>\n",
       "      <td>125</td>\n",
       "      <td>40</td>\n",
       "      <td>30</td>\n",
       "      <td>30</td>\n",
       "      <td>58</td>\n",
       "      <td>4</td>\n",
       "      <td>False</td>\n",
       "      <td>Cranidos</td>\n",
       "      <td>3.125</td>\n",
       "      <td>Rock</td>\n",
       "    </tr>\n",
       "    <tr>\n",
       "      <th>348</th>\n",
       "      <td>319</td>\n",
       "      <td>Sharpedo</td>\n",
       "      <td>Water</td>\n",
       "      <td>Dark</td>\n",
       "      <td>460</td>\n",
       "      <td>70</td>\n",
       "      <td>120</td>\n",
       "      <td>40</td>\n",
       "      <td>95</td>\n",
       "      <td>40</td>\n",
       "      <td>95</td>\n",
       "      <td>3</td>\n",
       "      <td>False</td>\n",
       "      <td>Sharpedo</td>\n",
       "      <td>3.000</td>\n",
       "      <td>Dark-Water</td>\n",
       "    </tr>\n",
       "  </tbody>\n",
       "</table>\n",
       "</div>"
      ],
      "text/plain": [
       "       #                   Name   Type 1  Type 2  Total  HP  Attack  Defense  \\\n",
       "429  386     DeoxysAttack Forme  Psychic     NaN    600  50     180       20   \n",
       "347  318               Carvanha    Water    Dark    305  45      90       20   \n",
       "19    15  BeedrillMega Beedrill      Bug  Poison    495  65     150       40   \n",
       "453  408               Cranidos     Rock     NaN    350  67     125       40   \n",
       "348  319               Sharpedo    Water    Dark    460  70     120       40   \n",
       "\n",
       "     Sp. Atk  Sp. Def  Speed  Generation  Legendary            name_rec  \\\n",
       "429      180       20    150           3       True  DeoxysAttack Forme   \n",
       "347       65       20     65           3      False            Carvanha   \n",
       "19        15       80    145           1      False       Mega Beedrill   \n",
       "453       30       30     58           4      False            Cranidos   \n",
       "348       95       40     95           3      False            Sharpedo   \n",
       "\n",
       "     A/D Ratio  Combo Type  \n",
       "429      9.000     Psychic  \n",
       "347      4.500  Dark-Water  \n",
       "19       3.750  Bug-Poison  \n",
       "453      3.125        Rock  \n",
       "348      3.000  Dark-Water  "
      ]
     },
     "execution_count": 25,
     "metadata": {},
     "output_type": "execute_result"
    }
   ],
   "source": [
    "# Method\n",
    "\n",
    "pokemon.sort_values(by = 'A/D Ratio', ascending = False).head(5)"
   ]
  },
  {
   "cell_type": "code",
   "execution_count": 26,
   "metadata": {
    "ExecuteTime": {
     "end_time": "2020-08-28T12:32:38.534502Z",
     "start_time": "2020-08-28T12:32:38.490523Z"
    },
    "scrolled": true
   },
   "outputs": [
    {
     "data": {
      "text/plain": [
       "429    9.000\n",
       "347    4.500\n",
       "19     3.750\n",
       "453    3.125\n",
       "428    3.000\n",
       "Name: A/D Ratio, dtype: float64"
      ]
     },
     "execution_count": 26,
     "metadata": {},
     "output_type": "execute_result"
    }
   ],
   "source": [
    "# Method 1:\n",
    "pokemon['A/D Ratio'].sort_values(ascending=False).head(5)"
   ]
  },
  {
   "cell_type": "code",
   "execution_count": 27,
   "metadata": {
    "ExecuteTime": {
     "end_time": "2020-08-28T12:32:38.615453Z",
     "start_time": "2020-08-28T12:32:38.546492Z"
    }
   },
   "outputs": [
    {
     "data": {
      "text/html": [
       "<div>\n",
       "<style scoped>\n",
       "    .dataframe tbody tr th:only-of-type {\n",
       "        vertical-align: middle;\n",
       "    }\n",
       "\n",
       "    .dataframe tbody tr th {\n",
       "        vertical-align: top;\n",
       "    }\n",
       "\n",
       "    .dataframe thead th {\n",
       "        text-align: right;\n",
       "    }\n",
       "</style>\n",
       "<table border=\"1\" class=\"dataframe\">\n",
       "  <thead>\n",
       "    <tr style=\"text-align: right;\">\n",
       "      <th></th>\n",
       "      <th>Name</th>\n",
       "      <th>A/D Ratio</th>\n",
       "    </tr>\n",
       "  </thead>\n",
       "  <tbody>\n",
       "    <tr>\n",
       "      <th>429</th>\n",
       "      <td>DeoxysAttack Forme</td>\n",
       "      <td>9.000</td>\n",
       "    </tr>\n",
       "    <tr>\n",
       "      <th>347</th>\n",
       "      <td>Carvanha</td>\n",
       "      <td>4.500</td>\n",
       "    </tr>\n",
       "    <tr>\n",
       "      <th>19</th>\n",
       "      <td>BeedrillMega Beedrill</td>\n",
       "      <td>3.750</td>\n",
       "    </tr>\n",
       "    <tr>\n",
       "      <th>453</th>\n",
       "      <td>Cranidos</td>\n",
       "      <td>3.125</td>\n",
       "    </tr>\n",
       "    <tr>\n",
       "      <th>348</th>\n",
       "      <td>Sharpedo</td>\n",
       "      <td>3.000</td>\n",
       "    </tr>\n",
       "  </tbody>\n",
       "</table>\n",
       "</div>"
      ],
      "text/plain": [
       "                      Name  A/D Ratio\n",
       "429     DeoxysAttack Forme      9.000\n",
       "347               Carvanha      4.500\n",
       "19   BeedrillMega Beedrill      3.750\n",
       "453               Cranidos      3.125\n",
       "348               Sharpedo      3.000"
      ]
     },
     "execution_count": 27,
     "metadata": {},
     "output_type": "execute_result"
    }
   ],
   "source": [
    "# Method 2:\n",
    "pokemon.sort_values(by='A/D Ratio', ascending=False)[['Name', 'A/D Ratio']].head(5)"
   ]
  },
  {
   "cell_type": "code",
   "execution_count": 28,
   "metadata": {
    "ExecuteTime": {
     "end_time": "2020-08-28T12:32:38.748374Z",
     "start_time": "2020-08-28T12:32:38.628447Z"
    }
   },
   "outputs": [
    {
     "data": {
      "text/html": [
       "<div>\n",
       "<style scoped>\n",
       "    .dataframe tbody tr th:only-of-type {\n",
       "        vertical-align: middle;\n",
       "    }\n",
       "\n",
       "    .dataframe tbody tr th {\n",
       "        vertical-align: top;\n",
       "    }\n",
       "\n",
       "    .dataframe thead th {\n",
       "        text-align: right;\n",
       "    }\n",
       "</style>\n",
       "<table border=\"1\" class=\"dataframe\">\n",
       "  <thead>\n",
       "    <tr style=\"text-align: right;\">\n",
       "      <th></th>\n",
       "      <th>Name</th>\n",
       "      <th>Combo Type</th>\n",
       "    </tr>\n",
       "  </thead>\n",
       "  <tbody>\n",
       "    <tr>\n",
       "      <th>429</th>\n",
       "      <td>DeoxysAttack Forme</td>\n",
       "      <td>Psychic</td>\n",
       "    </tr>\n",
       "    <tr>\n",
       "      <th>347</th>\n",
       "      <td>Carvanha</td>\n",
       "      <td>Dark-Water</td>\n",
       "    </tr>\n",
       "    <tr>\n",
       "      <th>19</th>\n",
       "      <td>BeedrillMega Beedrill</td>\n",
       "      <td>Bug-Poison</td>\n",
       "    </tr>\n",
       "    <tr>\n",
       "      <th>453</th>\n",
       "      <td>Cranidos</td>\n",
       "      <td>Rock</td>\n",
       "    </tr>\n",
       "    <tr>\n",
       "      <th>348</th>\n",
       "      <td>Sharpedo</td>\n",
       "      <td>Dark-Water</td>\n",
       "    </tr>\n",
       "  </tbody>\n",
       "</table>\n",
       "</div>"
      ],
      "text/plain": [
       "                      Name  Combo Type\n",
       "429     DeoxysAttack Forme     Psychic\n",
       "347               Carvanha  Dark-Water\n",
       "19   BeedrillMega Beedrill  Bug-Poison\n",
       "453               Cranidos        Rock\n",
       "348               Sharpedo  Dark-Water"
      ]
     },
     "execution_count": 28,
     "metadata": {},
     "output_type": "execute_result"
    }
   ],
   "source": [
    "# Method 3:\n",
    "pokemon.nlargest(5, 'A/D Ratio')[['Name', 'Combo Type']]"
   ]
  },
  {
   "cell_type": "markdown",
   "metadata": {},
   "source": [
    "### For the 5 pokemons printed above, aggregate `Combo Type` and use a list to store the unique values.\n",
    "\n",
    "Your end product is a list containing the distinct `Combo Type` values of the 5 pokemons with the highest `A/D Ratio`."
   ]
  },
  {
   "cell_type": "code",
   "execution_count": 29,
   "metadata": {
    "ExecuteTime": {
     "end_time": "2020-08-28T12:32:38.801347Z",
     "start_time": "2020-08-28T12:32:38.760369Z"
    }
   },
   "outputs": [],
   "source": [
    "top5 = list(pokemon.nlargest(5, 'A/D Ratio')['Combo Type'].unique())"
   ]
  },
  {
   "cell_type": "code",
   "execution_count": 30,
   "metadata": {
    "ExecuteTime": {
     "end_time": "2020-08-28T12:32:38.836326Z",
     "start_time": "2020-08-28T12:32:38.813339Z"
    }
   },
   "outputs": [
    {
     "data": {
      "text/plain": [
       "['Psychic', 'Dark-Water', 'Bug-Poison', 'Rock']"
      ]
     },
     "execution_count": 30,
     "metadata": {},
     "output_type": "execute_result"
    }
   ],
   "source": [
    "top5"
   ]
  },
  {
   "cell_type": "code",
   "execution_count": 31,
   "metadata": {
    "ExecuteTime": {
     "end_time": "2020-08-28T12:32:38.956778Z",
     "start_time": "2020-08-28T12:32:38.857835Z"
    }
   },
   "outputs": [
    {
     "data": {
      "text/plain": [
       "['Psychic', 'Dark-Water', 'Bug-Poison', 'Rock']"
      ]
     },
     "execution_count": 31,
     "metadata": {},
     "output_type": "execute_result"
    }
   ],
   "source": [
    "# other way\n",
    "\n",
    "pokemon.sort_values(by = 'A/D Ratio', ascending = False).head(5)['Combo Type'].unique().tolist()"
   ]
  },
  {
   "cell_type": "markdown",
   "metadata": {},
   "source": [
    "### For each of the `Combo Type` values obtained from the previous question, calculate the mean scores of all numeric fields across all pokemons.\n",
    "\n",
    "Your output should look like below:\n",
    "\n",
    "![Aggregate](../images/aggregated-mean.png)"
   ]
  },
  {
   "cell_type": "code",
   "execution_count": 32,
   "metadata": {
    "ExecuteTime": {
     "end_time": "2020-08-28T12:32:39.145670Z",
     "start_time": "2020-08-28T12:32:39.128680Z"
    }
   },
   "outputs": [],
   "source": [
    "# create a boolean mask to select elements from top5 list\n",
    "top5_mask = pokemon['Combo Type'].isin(top5)"
   ]
  },
  {
   "cell_type": "code",
   "execution_count": 33,
   "metadata": {
    "ExecuteTime": {
     "end_time": "2020-08-28T12:32:39.217629Z",
     "start_time": "2020-08-28T12:32:39.188644Z"
    }
   },
   "outputs": [
    {
     "data": {
      "text/plain": [
       "0    False\n",
       "1    False\n",
       "2    False\n",
       "3    False\n",
       "4    False\n",
       "Name: Combo Type, dtype: bool"
      ]
     },
     "execution_count": 33,
     "metadata": {},
     "output_type": "execute_result"
    }
   ],
   "source": [
    "# the top5_mask returns a list of booleans\n",
    "top5_mask.head()"
   ]
  },
  {
   "cell_type": "code",
   "execution_count": 34,
   "metadata": {
    "ExecuteTime": {
     "end_time": "2020-08-28T12:32:39.245612Z",
     "start_time": "2020-08-28T12:32:39.228623Z"
    }
   },
   "outputs": [],
   "source": [
    "# subset the dataframe with the top5_mask\n",
    "top5_pokemon = pokemon[top5_mask]"
   ]
  },
  {
   "cell_type": "code",
   "execution_count": 35,
   "metadata": {
    "ExecuteTime": {
     "end_time": "2020-08-28T12:32:39.349599Z",
     "start_time": "2020-08-28T12:32:39.257604Z"
    }
   },
   "outputs": [
    {
     "data": {
      "text/html": [
       "<div>\n",
       "<style scoped>\n",
       "    .dataframe tbody tr th:only-of-type {\n",
       "        vertical-align: middle;\n",
       "    }\n",
       "\n",
       "    .dataframe tbody tr th {\n",
       "        vertical-align: top;\n",
       "    }\n",
       "\n",
       "    .dataframe thead th {\n",
       "        text-align: right;\n",
       "    }\n",
       "</style>\n",
       "<table border=\"1\" class=\"dataframe\">\n",
       "  <thead>\n",
       "    <tr style=\"text-align: right;\">\n",
       "      <th></th>\n",
       "      <th>#</th>\n",
       "      <th>Name</th>\n",
       "      <th>Type 1</th>\n",
       "      <th>Type 2</th>\n",
       "      <th>Total</th>\n",
       "      <th>HP</th>\n",
       "      <th>Attack</th>\n",
       "      <th>Defense</th>\n",
       "      <th>Sp. Atk</th>\n",
       "      <th>Sp. Def</th>\n",
       "      <th>Speed</th>\n",
       "      <th>Generation</th>\n",
       "      <th>Legendary</th>\n",
       "      <th>name_rec</th>\n",
       "      <th>A/D Ratio</th>\n",
       "      <th>Combo Type</th>\n",
       "    </tr>\n",
       "  </thead>\n",
       "  <tbody>\n",
       "    <tr>\n",
       "      <th>16</th>\n",
       "      <td>13</td>\n",
       "      <td>Weedle</td>\n",
       "      <td>Bug</td>\n",
       "      <td>Poison</td>\n",
       "      <td>195</td>\n",
       "      <td>40</td>\n",
       "      <td>35</td>\n",
       "      <td>30</td>\n",
       "      <td>20</td>\n",
       "      <td>20</td>\n",
       "      <td>50</td>\n",
       "      <td>1</td>\n",
       "      <td>False</td>\n",
       "      <td>Weedle</td>\n",
       "      <td>1.166667</td>\n",
       "      <td>Bug-Poison</td>\n",
       "    </tr>\n",
       "  </tbody>\n",
       "</table>\n",
       "</div>"
      ],
      "text/plain": [
       "     #    Name Type 1  Type 2  Total  HP  Attack  Defense  Sp. Atk  Sp. Def  \\\n",
       "16  13  Weedle    Bug  Poison    195  40      35       30       20       20   \n",
       "\n",
       "    Speed  Generation  Legendary name_rec  A/D Ratio  Combo Type  \n",
       "16     50           1      False   Weedle   1.166667  Bug-Poison  "
      ]
     },
     "execution_count": 35,
     "metadata": {},
     "output_type": "execute_result"
    }
   ],
   "source": [
    "top5_pokemon.head(1)"
   ]
  },
  {
   "cell_type": "code",
   "execution_count": 36,
   "metadata": {
    "ExecuteTime": {
     "end_time": "2020-08-28T12:32:39.503551Z",
     "start_time": "2020-08-28T12:32:39.360111Z"
    }
   },
   "outputs": [
    {
     "data": {
      "text/html": [
       "<div>\n",
       "<style scoped>\n",
       "    .dataframe tbody tr th:only-of-type {\n",
       "        vertical-align: middle;\n",
       "    }\n",
       "\n",
       "    .dataframe tbody tr th {\n",
       "        vertical-align: top;\n",
       "    }\n",
       "\n",
       "    .dataframe thead th {\n",
       "        text-align: right;\n",
       "    }\n",
       "</style>\n",
       "<table border=\"1\" class=\"dataframe\">\n",
       "  <thead>\n",
       "    <tr style=\"text-align: right;\">\n",
       "      <th></th>\n",
       "      <th>#</th>\n",
       "      <th>Total</th>\n",
       "      <th>HP</th>\n",
       "      <th>Attack</th>\n",
       "      <th>Defense</th>\n",
       "      <th>Sp. Atk</th>\n",
       "      <th>Sp. Def</th>\n",
       "      <th>Speed</th>\n",
       "      <th>Generation</th>\n",
       "      <th>Legendary</th>\n",
       "      <th>A/D Ratio</th>\n",
       "    </tr>\n",
       "    <tr>\n",
       "      <th>Combo Type</th>\n",
       "      <th></th>\n",
       "      <th></th>\n",
       "      <th></th>\n",
       "      <th></th>\n",
       "      <th></th>\n",
       "      <th></th>\n",
       "      <th></th>\n",
       "      <th></th>\n",
       "      <th></th>\n",
       "      <th></th>\n",
       "      <th></th>\n",
       "    </tr>\n",
       "  </thead>\n",
       "  <tbody>\n",
       "    <tr>\n",
       "      <th>Bug-Poison</th>\n",
       "      <td>218.538462</td>\n",
       "      <td>346.538462</td>\n",
       "      <td>52.692308</td>\n",
       "      <td>66.923077</td>\n",
       "      <td>60.538462</td>\n",
       "      <td>41.538462</td>\n",
       "      <td>59.000000</td>\n",
       "      <td>65.846154</td>\n",
       "      <td>2.461538</td>\n",
       "      <td>0.000000</td>\n",
       "      <td>1.257494</td>\n",
       "    </tr>\n",
       "    <tr>\n",
       "      <th>Dark-Water</th>\n",
       "      <td>347.666667</td>\n",
       "      <td>493.833333</td>\n",
       "      <td>69.166667</td>\n",
       "      <td>120.000000</td>\n",
       "      <td>65.166667</td>\n",
       "      <td>88.833333</td>\n",
       "      <td>63.500000</td>\n",
       "      <td>87.166667</td>\n",
       "      <td>3.166667</td>\n",
       "      <td>0.000000</td>\n",
       "      <td>2.291949</td>\n",
       "    </tr>\n",
       "    <tr>\n",
       "      <th>Psychic</th>\n",
       "      <td>381.973684</td>\n",
       "      <td>464.552632</td>\n",
       "      <td>72.552632</td>\n",
       "      <td>64.947368</td>\n",
       "      <td>67.236842</td>\n",
       "      <td>98.552632</td>\n",
       "      <td>82.394737</td>\n",
       "      <td>78.868421</td>\n",
       "      <td>3.342105</td>\n",
       "      <td>0.236842</td>\n",
       "      <td>1.164196</td>\n",
       "    </tr>\n",
       "    <tr>\n",
       "      <th>Rock</th>\n",
       "      <td>410.111111</td>\n",
       "      <td>409.444444</td>\n",
       "      <td>67.111111</td>\n",
       "      <td>103.333333</td>\n",
       "      <td>107.222222</td>\n",
       "      <td>40.555556</td>\n",
       "      <td>58.333333</td>\n",
       "      <td>32.888889</td>\n",
       "      <td>3.888889</td>\n",
       "      <td>0.111111</td>\n",
       "      <td>1.260091</td>\n",
       "    </tr>\n",
       "  </tbody>\n",
       "</table>\n",
       "</div>"
      ],
      "text/plain": [
       "                     #       Total         HP      Attack     Defense  \\\n",
       "Combo Type                                                              \n",
       "Bug-Poison  218.538462  346.538462  52.692308   66.923077   60.538462   \n",
       "Dark-Water  347.666667  493.833333  69.166667  120.000000   65.166667   \n",
       "Psychic     381.973684  464.552632  72.552632   64.947368   67.236842   \n",
       "Rock        410.111111  409.444444  67.111111  103.333333  107.222222   \n",
       "\n",
       "              Sp. Atk    Sp. Def      Speed  Generation  Legendary  A/D Ratio  \n",
       "Combo Type                                                                     \n",
       "Bug-Poison  41.538462  59.000000  65.846154    2.461538   0.000000   1.257494  \n",
       "Dark-Water  88.833333  63.500000  87.166667    3.166667   0.000000   2.291949  \n",
       "Psychic     98.552632  82.394737  78.868421    3.342105   0.236842   1.164196  \n",
       "Rock        40.555556  58.333333  32.888889    3.888889   0.111111   1.260091  "
      ]
     },
     "execution_count": 36,
     "metadata": {},
     "output_type": "execute_result"
    }
   ],
   "source": [
    "# groupby new dataset\n",
    "top5_pokemon.groupby('Combo Type').mean()"
   ]
  },
  {
   "cell_type": "code",
   "execution_count": null,
   "metadata": {},
   "outputs": [],
   "source": []
  }
 ],
 "metadata": {
  "hide_input": false,
  "kernelspec": {
   "display_name": "Python 3",
   "language": "python",
   "name": "python3"
  },
  "language_info": {
   "codemirror_mode": {
    "name": "ipython",
    "version": 3
   },
   "file_extension": ".py",
   "mimetype": "text/x-python",
   "name": "python",
   "nbconvert_exporter": "python",
   "pygments_lexer": "ipython3",
   "version": "3.7.4"
  },
  "toc": {
   "base_numbering": 1,
   "nav_menu": {},
   "number_sections": true,
   "sideBar": true,
   "skip_h1_title": false,
   "title_cell": "Table of Contents",
   "title_sidebar": "Contents",
   "toc_cell": false,
   "toc_position": {},
   "toc_section_display": true,
   "toc_window_display": false
  },
  "varInspector": {
   "cols": {
    "lenName": 16,
    "lenType": 16,
    "lenVar": 40
   },
   "kernels_config": {
    "python": {
     "delete_cmd_postfix": "",
     "delete_cmd_prefix": "del ",
     "library": "var_list.py",
     "varRefreshCmd": "print(var_dic_list())"
    },
    "r": {
     "delete_cmd_postfix": ") ",
     "delete_cmd_prefix": "rm(",
     "library": "var_list.r",
     "varRefreshCmd": "cat(var_dic_list()) "
    }
   },
   "types_to_exclude": [
    "module",
    "function",
    "builtin_function_or_method",
    "instance",
    "_Feature"
   ],
   "window_display": false
  }
 },
 "nbformat": 4,
 "nbformat_minor": 2
}
