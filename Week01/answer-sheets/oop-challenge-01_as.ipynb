{
 "cells": [
  {
   "cell_type": "markdown",
   "metadata": {
    "colab_type": "text",
    "id": "E9HAPYhJdIqb"
   },
   "source": [
    "# Lab - Object Oriented Programming"
   ]
  },
  {
   "cell_type": "markdown",
   "metadata": {
    "colab_type": "text",
    "id": "F7CB4k7MdIqi"
   },
   "source": [
    "# Challenge 1"
   ]
  },
  {
   "cell_type": "markdown",
   "metadata": {
    "colab_type": "text",
    "id": "tpzaDoK8dIql"
   },
   "source": [
    "## Creating a class"
   ]
  },
  {
   "cell_type": "markdown",
   "metadata": {
    "colab_type": "text",
    "id": "mzuPFAtBdIqo"
   },
   "source": [
    "First of all, let's create a simple class. Name this class `Car`. ([PEP8](https://www.python.org/dev/peps/pep-0008/#class-names) suggests using CamelCase for class names, i.e., using the first letter of each name as upper-case.)\n",
    "\n",
    "That should be as simple as possible. Use the class syntax to create it and its content should be only the \n",
    "```python \n",
    "pass\n",
    "```\n",
    "statement.\n",
    "\n",
    "\n",
    "The `pass` statement is used just as a placeholder. This will be a class that doesn't do anything (yet)."
   ]
  },
  {
   "cell_type": "code",
   "execution_count": 1,
   "metadata": {
    "ExecuteTime": {
     "end_time": "2020-08-20T19:16:21.525696Z",
     "start_time": "2020-08-20T19:16:21.520700Z"
    },
    "colab": {},
    "colab_type": "code",
    "id": "U3sQIX8jdIqr"
   },
   "outputs": [],
   "source": [
    "# your code here"
   ]
  },
  {
   "cell_type": "code",
   "execution_count": 2,
   "metadata": {
    "ExecuteTime": {
     "end_time": "2020-08-20T19:16:21.549684Z",
     "start_time": "2020-08-20T19:16:21.542686Z"
    },
    "colab": {},
    "colab_type": "code",
    "id": "OkP5zcp8dIq2"
   },
   "outputs": [],
   "source": [
    "class Car:\n",
    "    pass"
   ]
  },
  {
   "cell_type": "code",
   "execution_count": 3,
   "metadata": {
    "ExecuteTime": {
     "end_time": "2020-08-20T19:16:21.566672Z",
     "start_time": "2020-08-20T19:16:21.560677Z"
    },
    "colab": {},
    "colab_type": "code",
    "id": "XcaxD2g_dIq-"
   },
   "outputs": [],
   "source": [
    "my_car = Car()"
   ]
  },
  {
   "cell_type": "markdown",
   "metadata": {
    "colab_type": "text",
    "id": "1sKKTHuqdIrG"
   },
   "source": [
    "## Let's think of which attributes should a car have\n",
    "\n",
    "Think of attributes that are intrinsic of a car. Think of 5 attributes that all cars have and their possible values. Write down these 5 attributes for later use."
   ]
  },
  {
   "cell_type": "code",
   "execution_count": 4,
   "metadata": {
    "ExecuteTime": {
     "end_time": "2020-08-20T19:16:21.583663Z",
     "start_time": "2020-08-20T19:16:21.576666Z"
    },
    "colab": {},
    "colab_type": "code",
    "id": "sD-nmWMUdIrK"
   },
   "outputs": [],
   "source": [
    "# write the attributes name you've chosen as a comment here."
   ]
  },
  {
   "cell_type": "markdown",
   "metadata": {
    "colab_type": "text",
    "id": "FpEfqD2ldIrc"
   },
   "source": [
    "\n",
    "We will create the `__init(self,)__` special method. This is the first thing that is run when you instantiate a new object (by calling `Car()` for example).\n",
    "\n",
    "So each object that you are creating will instantly do whatever operation you perfom inside `__init(self,)__`. If you create new attributes over there, it will be accessible as soon as you create it. If you, instead, run some internal methods, it will perform as soon as the variable is created.\n",
    "\n",
    "Let's check that."
   ]
  },
  {
   "cell_type": "markdown",
   "metadata": {
    "colab_type": "text",
    "id": "IfwpJH-NdIri"
   },
   "source": [
    "### Create a `__init__(self)` special method inside your `Car` class and then perform a `for loop`  inside of it. \n"
   ]
  },
  {
   "cell_type": "markdown",
   "metadata": {
    "colab_type": "text",
    "id": "7DHdL8hldIrn"
   },
   "source": [
    "To see the what happens when you initialize your class when a `__init__(self)` method exists, define this function and plug the following piece of code inside of it.\n",
    "\n",
    "```python\n",
    "from tqdm.auto import tqdm\n",
    "import time\n",
    "\n",
    "for i in tqdm(range(10), desc='__init__ is running, yay'):\n",
    "    time.sleep(.1)\n",
    "```"
   ]
  },
  {
   "cell_type": "code",
   "execution_count": 5,
   "metadata": {
    "ExecuteTime": {
     "end_time": "2020-08-20T19:16:21.602653Z",
     "start_time": "2020-08-20T19:16:21.595657Z"
    },
    "colab": {},
    "colab_type": "code",
    "id": "umWFLYRmdIru"
   },
   "outputs": [],
   "source": [
    "# your code here"
   ]
  },
  {
   "cell_type": "code",
   "execution_count": 6,
   "metadata": {
    "ExecuteTime": {
     "end_time": "2020-08-20T19:16:21.663618Z",
     "start_time": "2020-08-20T19:16:21.607649Z"
    },
    "colab": {},
    "colab_type": "code",
    "id": "DhNZrmhqdIr8"
   },
   "outputs": [],
   "source": [
    "class Car:\n",
    "    def __init__(self):\n",
    "        from tqdm.auto import tqdm\n",
    "        import time\n",
    "        \n",
    "        for i in tqdm(range(10), desc='__init__ is running, yay'):\n",
    "            time.sleep(.1)"
   ]
  },
  {
   "cell_type": "markdown",
   "metadata": {
    "colab_type": "text",
    "id": "hameDgD5dIsJ"
   },
   "source": [
    "### Afterwards, instantiate your `Car` class and see this beauty."
   ]
  },
  {
   "cell_type": "code",
   "execution_count": 7,
   "metadata": {
    "ExecuteTime": {
     "end_time": "2020-08-20T19:16:23.375745Z",
     "start_time": "2020-08-20T19:16:21.670614Z"
    },
    "colab": {
     "referenced_widgets": [
      "38b70e84d68e4cc591483c3e8fcd8db1"
     ]
    },
    "colab_type": "code",
    "id": "pvY-5baZdIsO",
    "outputId": "ed51cb00-ed6d-40c5-d0a0-0c0ff5e332a6"
   },
   "outputs": [
    {
     "data": {
      "application/vnd.jupyter.widget-view+json": {
       "model_id": "67980efa2cbb4ad48f70f5c71d4461a8",
       "version_major": 2,
       "version_minor": 0
      },
      "text/plain": [
       "HBox(children=(FloatProgress(value=0.0, description='__init__ is running, yay', max=10.0, style=ProgressStyle(…"
      ]
     },
     "metadata": {},
     "output_type": "display_data"
    },
    {
     "name": "stdout",
     "output_type": "stream",
     "text": [
      "\n"
     ]
    }
   ],
   "source": [
    "my_car = Car()"
   ]
  },
  {
   "cell_type": "markdown",
   "metadata": {
    "colab_type": "text",
    "id": "0UmvxYOedIss"
   },
   "source": [
    "## Understanding the self argument"
   ]
  },
  {
   "cell_type": "markdown",
   "metadata": {
    "colab_type": "text",
    "id": "SEH3YT7FdIsv"
   },
   "source": [
    "Now, below the `for loop` you've created, let's create the attributes of the `Car` class. Remember the attributes you wrote down earlier? Let's put them as arguments of the `__init__(self,)` function.\n",
    "\n",
    "Remember, the first argument of the `__init__(self,)` function should always be the `self` keyword. \n",
    "\n",
    "The `self` argument represents the object itself. That is a way for you to have access to the objects own attribute. \n"
   ]
  },
  {
   "cell_type": "markdown",
   "metadata": {
    "colab_type": "text",
    "id": "aKVK0bLIdIsx"
   },
   "source": [
    "### First, let's start creating one single attribute of this car."
   ]
  },
  {
   "cell_type": "markdown",
   "metadata": {
    "colab_type": "text",
    "id": "wndf2jYkdIs0"
   },
   "source": [
    "Let's say you have chosen `name` as a car attribute (what? can't a car have a name?). \n",
    "\n",
    "If you want your class to receive a specific car name as an argument, you have to put this variable as the argument of the `__init__` function. So, to add `name`, the results of your special function definition would be:\n",
    "\n",
    "```python\n",
    "def __init__(self, name):\n",
    "    pass\n",
    "```\n",
    "\n",
    "Now, when you instantiate your Car class, the syntax would be similar to calling a function (which, by now, you should now that it is what you are effectively doing - you are calling the __init__ method), so what the syntax would be:\n",
    "\n",
    "*Hint: If you don't specify an argument, the python interpreter will complain that your class requires one argument (try that - if you don't try it now, it is not a problem, you'll try in future, even when you don't want to).*\n"
   ]
  },
  {
   "cell_type": "code",
   "execution_count": 8,
   "metadata": {
    "ExecuteTime": {
     "end_time": "2020-08-20T19:16:23.390732Z",
     "start_time": "2020-08-20T19:16:23.384735Z"
    },
    "colab": {},
    "colab_type": "code",
    "id": "7Fv_GgAQdIs3"
   },
   "outputs": [],
   "source": [
    "# your code here\n",
    "class Car:\n",
    "    def __init__(self, name):\n",
    "        pass"
   ]
  },
  {
   "cell_type": "markdown",
   "metadata": {
    "colab_type": "text",
    "id": "ohnCIzIWdIs_"
   },
   "source": [
    "### Now let's store that new argument\n",
    "\n",
    "By now, you are only receiving the name of the car as an argument, but you are not doing anything specifically with that variable called `name`.\n",
    "\n",
    "Let's store that in the object. That's the first use of the `self` keyword.\n",
    "\n",
    "To store the variable in a way that the user can access via a `car.SOMETHING`, you have to specify that the object itself is receiving the attribute `name` (for example)\n",
    "\n",
    "Then, **create a variable called `name` that receives the argument `name`** (keep in mind that the name of the variable need not necessarily be the same, you could assing the argument `name` to an attribute called `chimpanze` for example).\n",
    "\n",
    "Also **create the other 5 attributes that you previously had in mind**\n"
   ]
  },
  {
   "cell_type": "code",
   "execution_count": 9,
   "metadata": {
    "ExecuteTime": {
     "end_time": "2020-08-20T19:16:23.408722Z",
     "start_time": "2020-08-20T19:16:23.394731Z"
    },
    "colab": {},
    "colab_type": "code",
    "id": "ei-iBItpdItB"
   },
   "outputs": [],
   "source": [
    "# your code here\n",
    "\n",
    "#Example (you can use here the attributes you have created)\n",
    "class Car:\n",
    "    def __init__(self, name: str, passngr: int, horsepower: int, airbag: bool, price: float, manual:bool):\n",
    "        self.name = name\n",
    "        self.passngr = passngr\n",
    "        self.horsepower = horsepower\n",
    "        self.airbag = airbag\n",
    "        self.price = price\n",
    "        self.manual = manual\n",
    "        \n",
    "my_car = Car(\"Uno\", 5, 10, False, 500, False)"
   ]
  },
  {
   "cell_type": "markdown",
   "metadata": {
    "colab_type": "text",
    "id": "7dIueNd3dItK"
   },
   "source": [
    "### Access the attribute\n",
    "\n",
    "You should now be able to access the object's attribute once you instantiate it as `my_car.name`\n",
    "\n",
    "You can try to write `my_car.<TAB>` to check what attributes or methods your object contains."
   ]
  },
  {
   "cell_type": "code",
   "execution_count": 10,
   "metadata": {
    "ExecuteTime": {
     "end_time": "2020-08-20T19:16:23.445702Z",
     "start_time": "2020-08-20T19:16:23.414720Z"
    },
    "colab": {},
    "colab_type": "code",
    "id": "iGCf_6X5dItN"
   },
   "outputs": [
    {
     "data": {
      "text/plain": [
       "'Uno'"
      ]
     },
     "execution_count": 10,
     "metadata": {},
     "output_type": "execute_result"
    }
   ],
   "source": [
    "my_car.name"
   ]
  },
  {
   "cell_type": "markdown",
   "metadata": {
    "colab_type": "text",
    "id": "JP-NVBRkdItV"
   },
   "source": [
    "## Understanding special methods"
   ]
  },
  {
   "cell_type": "markdown",
   "metadata": {
    "colab_type": "text",
    "id": "a7cHPvPBdItX"
   },
   "source": [
    "Special methods are the ones that start with double underlines (usually called `dunder`), for example the `__init__` method, the `__doc__` method or `__repr__` method (called as `dunder init`, `dunder doc`, `dunder repr`)."
   ]
  },
  {
   "cell_type": "markdown",
   "metadata": {
    "colab_type": "text",
    "id": "lIMsv5bxdIta"
   },
   "source": [
    "The `__repr__` method is responsible to show how your class will be displayed on screen when you display it.\n",
    "Let's create a `__repr__(self)` function on our `Car` class that returns the following string below (copy the string below):\n",
    "\n",
    "```python\n",
    "    car = f'''\n",
    "                  ______--------___\n",
    "                 /|             / |\n",
    "      o___________|_\\__________/__|\n",
    "     ]|___     |  |=   ||  =|___  |\"\n",
    "     //   \\\\    |  |____||_///   \\\\|\"\n",
    "    |  X  |\\--------------/|  X  |\\\"\n",
    "     \\___/                  \\___/\n",
    "    '''\n",
    "```\n",
    "\n",
    "Your class should now have two special methods, `__init__` and `__repr__`"
   ]
  },
  {
   "cell_type": "code",
   "execution_count": 11,
   "metadata": {
    "ExecuteTime": {
     "end_time": "2020-08-20T19:16:23.460691Z",
     "start_time": "2020-08-20T19:16:23.449700Z"
    },
    "colab": {},
    "colab_type": "code",
    "id": "D94waQgKdItd"
   },
   "outputs": [],
   "source": [
    "class Car:\n",
    "    \n",
    "    def __init__(self, car_name):\n",
    "        self.car_name = car_name\n",
    "    \n",
    "    def __repr__(self):\n",
    "        \n",
    "        car = f'''\n",
    "                      ______--------___\n",
    "                     /|             / |\n",
    "          o___________|_\\__________/__|\n",
    "         ]|___     |  |=   ||  =|___  |\"\n",
    "         //   \\\\    |  |____||_///   \\\\|\"\n",
    "        |  X  |\\--------------/|  X  |\\\"\n",
    "         \\___/                  \\___/\n",
    "        '''\n",
    "        \n",
    "        return car"
   ]
  },
  {
   "cell_type": "markdown",
   "metadata": {
    "colab_type": "text",
    "id": "nfvp0-EMdItj"
   },
   "source": [
    "### Now instantiate your Car class again"
   ]
  },
  {
   "cell_type": "code",
   "execution_count": 12,
   "metadata": {
    "ExecuteTime": {
     "end_time": "2020-08-20T19:16:23.480684Z",
     "start_time": "2020-08-20T19:16:23.465688Z"
    },
    "colab": {},
    "colab_type": "code",
    "id": "Vb6etfuSdItl"
   },
   "outputs": [],
   "source": [
    "my_car = Car('Uno')"
   ]
  },
  {
   "cell_type": "markdown",
   "metadata": {
    "colab_type": "text",
    "id": "dcFtJL4OdItr"
   },
   "source": [
    "### And check what happens when you print your object on screen"
   ]
  },
  {
   "cell_type": "code",
   "execution_count": 13,
   "metadata": {
    "ExecuteTime": {
     "end_time": "2020-08-20T19:16:23.499668Z",
     "start_time": "2020-08-20T19:16:23.485678Z"
    },
    "colab": {},
    "colab_type": "code",
    "id": "jgdr2HvldItt",
    "outputId": "ef5bf212-0417-4d71-a350-ad09d2243cd5"
   },
   "outputs": [
    {
     "name": "stdout",
     "output_type": "stream",
     "text": [
      "\n",
      "                      ______--------___\n",
      "                     /|             / |\n",
      "          o___________|_\\__________/__|\n",
      "         ]|___     |  |=   ||  =|___  |\"\n",
      "         //   \\    |  |____||_///   \\|\"\n",
      "        |  X  |\\--------------/|  X  |\"\n",
      "         \\___/                  \\___/\n",
      "        \n"
     ]
    }
   ],
   "source": [
    "print(my_car)"
   ]
  },
  {
   "cell_type": "markdown",
   "metadata": {
    "colab_type": "text",
    "id": "zzmxeaY8dIt2"
   },
   "source": [
    "### Now create a simple method to receive and return the `self` variable\n",
    "\n",
    "Create a simple method inside your `class Car` and return `self` the self argument. Name this method `get_itself`."
   ]
  },
  {
   "cell_type": "code",
   "execution_count": 14,
   "metadata": {
    "ExecuteTime": {
     "end_time": "2020-08-20T19:16:23.519659Z",
     "start_time": "2020-08-20T19:16:23.505666Z"
    },
    "colab": {},
    "colab_type": "code",
    "id": "lSvowyB6dIt4"
   },
   "outputs": [],
   "source": [
    "class Car:\n",
    "    \n",
    "    def __init__(self, car_name):\n",
    "        self.car_name = car_name\n",
    "    \n",
    "    def __repr__(self):\n",
    "        \n",
    "        car = f'''\n",
    "                      ______--------___\n",
    "                     /|             / |\n",
    "          o___________|_\\__________/__|\n",
    "         ]|___     |  |=   ||  =|___  |\"\n",
    "         //   \\\\    |  |____||_///   \\\\|\"\n",
    "        |  X  |\\--------------/|  X  |\\\"\n",
    "         \\___/                  \\___/\n",
    "        '''\n",
    "        \n",
    "        return car\n",
    "    \n",
    "    def get_itself(self):\n",
    "        return self"
   ]
  },
  {
   "cell_type": "markdown",
   "metadata": {
    "colab_type": "text",
    "id": "ER2a77MxdIt_"
   },
   "source": [
    "#### Now instantiate the Car class and call `get_itself()`"
   ]
  },
  {
   "cell_type": "code",
   "execution_count": 15,
   "metadata": {
    "ExecuteTime": {
     "end_time": "2020-08-20T19:16:23.536649Z",
     "start_time": "2020-08-20T19:16:23.525657Z"
    },
    "colab": {},
    "colab_type": "code",
    "id": "WhK_TVN7dIuC"
   },
   "outputs": [],
   "source": [
    "my_car = Car('andre')"
   ]
  },
  {
   "cell_type": "code",
   "execution_count": 16,
   "metadata": {
    "ExecuteTime": {
     "end_time": "2020-08-20T19:16:23.562635Z",
     "start_time": "2020-08-20T19:16:23.549640Z"
    },
    "colab": {},
    "colab_type": "code",
    "id": "zkLEXn3GdIuL",
    "outputId": "045d9b18-77a9-4428-caf2-f0dab4eec850"
   },
   "outputs": [
    {
     "data": {
      "text/plain": [
       "\n",
       "                      ______--------___\n",
       "                     /|             / |\n",
       "          o___________|_\\__________/__|\n",
       "         ]|___     |  |=   ||  =|___  |\"\n",
       "         //   \\    |  |____||_///   \\|\"\n",
       "        |  X  |\\--------------/|  X  |\"\n",
       "         \\___/                  \\___/\n",
       "        "
      ]
     },
     "execution_count": 16,
     "metadata": {},
     "output_type": "execute_result"
    }
   ],
   "source": [
    "my_car.get_itself()"
   ]
  },
  {
   "cell_type": "markdown",
   "metadata": {
    "colab_type": "text",
    "id": "mAmHqG1CdIuT"
   },
   "source": [
    "This happens because you are print this specific object. "
   ]
  },
  {
   "cell_type": "markdown",
   "metadata": {
    "colab_type": "text",
    "id": "Qf2Px4wQdIuV"
   },
   "source": [
    "# Bonus 1"
   ]
  },
  {
   "cell_type": "markdown",
   "metadata": {
    "colab_type": "text",
    "id": "KSSWsiqYdIuX"
   },
   "source": [
    "### Now let's parametrize this drawing."
   ]
  },
  {
   "cell_type": "markdown",
   "metadata": {
    "colab_type": "text",
    "id": "mB12PYDHdIuZ"
   },
   "source": [
    "Change your class to receive the drawing you want to output as a parameter. Modify your __repr__ method to use that parameter instead of the fixed drawing we used upwards."
   ]
  },
  {
   "cell_type": "code",
   "execution_count": 17,
   "metadata": {
    "ExecuteTime": {
     "end_time": "2020-08-20T19:16:23.586620Z",
     "start_time": "2020-08-20T19:16:23.577627Z"
    },
    "colab": {},
    "colab_type": "code",
    "id": "fnFuI9GxdIub"
   },
   "outputs": [],
   "source": [
    "class Car:\n",
    "    \n",
    "    def __init__(self, car_name, car):\n",
    "        self.car_name = car_name\n",
    "        self.car = car\n",
    "        \n",
    "    def __repr__(self):\n",
    "        \n",
    "        car = self.car\n",
    "        \n",
    "        return car\n",
    "    \n",
    "    def get_itself(self):\n",
    "        return self"
   ]
  },
  {
   "cell_type": "code",
   "execution_count": 18,
   "metadata": {
    "ExecuteTime": {
     "end_time": "2020-08-20T19:16:23.609606Z",
     "start_time": "2020-08-20T19:16:23.592616Z"
    },
    "colab": {},
    "colab_type": "code",
    "id": "ZCvyzGvrdIuh",
    "outputId": "8e171eae-afee-47f6-c69c-2b9542ab95e8"
   },
   "outputs": [
    {
     "data": {
      "text/plain": [
       "\n",
       "              ______--------___\n",
       "             /|             / |\n",
       "  o___________|_\\__________/__|\n",
       " ]|___     |  |=   ||  =|___  |\"\n",
       " //   \\    |  |____||_///   \\|\"\n",
       "|  X  |\\--------------/|  X  |\"\n",
       " \\___/                  \\___/"
      ]
     },
     "execution_count": 18,
     "metadata": {},
     "output_type": "execute_result"
    }
   ],
   "source": [
    "car = f'''\n",
    "              ______--------___\n",
    "             /|             / |\n",
    "  o___________|_\\__________/__|\n",
    " ]|___     |  |=   ||  =|___  |\"\n",
    " //   \\\\    |  |____||_///   \\\\|\"\n",
    "|  X  |\\--------------/|  X  |\\\"\n",
    " \\___/                  \\___/\n",
    "'''\n",
    "\n",
    "my_car = Car(car_name = 'A', car=car)\n",
    "my_car"
   ]
  },
  {
   "cell_type": "code",
   "execution_count": null,
   "metadata": {},
   "outputs": [],
   "source": []
  },
  {
   "cell_type": "code",
   "execution_count": 19,
   "metadata": {
    "ExecuteTime": {
     "end_time": "2020-08-20T19:16:23.627598Z",
     "start_time": "2020-08-20T19:16:23.614604Z"
    },
    "code_folding": [
     5
    ],
    "colab": {},
    "colab_type": "code",
    "id": "SwsNDxrHdIun",
    "outputId": "57b713fe-c65e-4d69-8d1b-3cb449f96365"
   },
   "outputs": [
    {
     "data": {
      "text/plain": [
       "\n",
       "                   _\n",
       " _________________| \\_\n",
       "|   ___    |  ,|   ___`-.\n",
       "|  /   \\   |___/  /   \\  `-.\n",
       "|_| (O) |________| (O) |____|\n",
       "   \\___/          \\___/"
      ]
     },
     "execution_count": 19,
     "metadata": {},
     "output_type": "execute_result"
    }
   ],
   "source": [
    "car = '''\n",
    "                   _\n",
    " _________________| \\_\n",
    "|   ___    |  ,|   ___`-.\n",
    "|  /   \\   |___/  /   \\  `-.\n",
    "|_| (O) |________| (O) |____|\n",
    "   \\___/          \\___/\n",
    "'''\n",
    "\n",
    "my_car = Car(car_name = 'B', car=car)\n",
    "my_car"
   ]
  },
  {
   "cell_type": "markdown",
   "metadata": {
    "colab_type": "text",
    "id": "nM4NhsmvdIuz"
   },
   "source": [
    "# Bonus 2"
   ]
  },
  {
   "cell_type": "markdown",
   "metadata": {
    "colab_type": "text",
    "id": "x_RmWrbgdIu1"
   },
   "source": [
    "## Create a specialized version of a car - an Uber"
   ]
  },
  {
   "cell_type": "markdown",
   "metadata": {
    "colab_type": "text",
    "id": "fBbEC60edIu3"
   },
   "source": [
    "You'll now create a specific version of a car. It contains the same attributes and functions of the class of cars, but it is specifically a Uber."
   ]
  },
  {
   "cell_type": "markdown",
   "metadata": {
    "colab_type": "text",
    "id": "g10PJRfVdIu5"
   },
   "source": [
    "### Create a class called `Uber` that inherits from a `Car`"
   ]
  },
  {
   "cell_type": "code",
   "execution_count": 20,
   "metadata": {
    "ExecuteTime": {
     "end_time": "2020-08-20T19:16:23.651582Z",
     "start_time": "2020-08-20T19:16:23.633594Z"
    },
    "colab": {},
    "colab_type": "code",
    "id": "tvSLrI0jdIu7"
   },
   "outputs": [],
   "source": [
    "# your code here\n",
    "\n",
    "#Example (you can use here the attributes you have created)\n",
    "class Car:\n",
    "    def __init__(self, name: str, passngr: int, horsepower: int, airbag: bool, price: float, manual:bool):\n",
    "        self.name = name\n",
    "        self.passngr = passngr\n",
    "        self.horsepower = horsepower\n",
    "        self.airbag = airbag\n",
    "        self.price = price\n",
    "        self.manual = manual\n",
    "\n",
    "class Uber(Car):\n",
    "    pass\n",
    "        \n"
   ]
  },
  {
   "cell_type": "markdown",
   "metadata": {
    "colab_type": "text",
    "id": "_JO_MyMWdIvD"
   },
   "source": [
    "### Extending the `Car` class. \n",
    "\n",
    "When you create a new class based on another and create new attributes and methods for it, you are extending it. \n",
    "\n",
    "#### Let's create 2 new attributes that only `Uber cars` have. \n",
    "\n",
    "Create the `category` of the Uber (`Black`, `Platinun`, etc) and one more attribute of your choice."
   ]
  },
  {
   "cell_type": "code",
   "execution_count": 21,
   "metadata": {
    "ExecuteTime": {
     "end_time": "2020-08-20T19:16:23.670573Z",
     "start_time": "2020-08-20T19:16:23.658578Z"
    }
   },
   "outputs": [],
   "source": [
    "class Uber(Car):\n",
    "    def __init__(self, name: str, passngr: int, horsepower: int, airbag: bool, price: float, manual:bool, category:str):\n",
    "        Car.__init__(self, name, passngr, horsepower, airbag, price, manual)\n",
    "        self.category = category\n",
    "        \n",
    "        "
   ]
  },
  {
   "cell_type": "markdown",
   "metadata": {
    "colab_type": "text",
    "id": "IOqQTmbwdIvF"
   },
   "source": [
    "#### Let's create a method for this new `Uber` class that calculates the price of the run given the distance in km and time spent (in minutes) in the run. \n",
    "\n",
    "Suppose each km costs `R$ 1,00` and 1 minute costs `R$ 0,50` for `Uber` Black and `R$ 1,20` and 1 minute costs `R$ 0,60` for `Uber`  Platinum.  The final price is the max between the two.\n",
    "\n",
    "```python\n",
    "def get_price(km, time):\n",
    "    ...\n",
    "    return final_price\n",
    "```\n",
    "\n",
    "Then calculate the price of your `Uber` from:\n",
    "\n",
    "1. A `Uber Black` going from Ironhack to Guarulhos Airport (`1h:20min, 30.5km`)\n",
    "1. A `Uber Platinum` going from Ironhack to Guarulhos Airport (`1h:20min, 30.5km`)"
   ]
  },
  {
   "cell_type": "code",
   "execution_count": 22,
   "metadata": {
    "ExecuteTime": {
     "end_time": "2020-08-20T19:16:23.695559Z",
     "start_time": "2020-08-20T19:16:23.675568Z"
    }
   },
   "outputs": [],
   "source": [
    "class Uber(Car):\n",
    "    def __init__(self, name: str, passngr: int, horsepower: int, airbag: bool, price: float, manual:bool, category:str):\n",
    "        Car.__init__(self, name, passngr, horsepower, airbag, price, manual)\n",
    "        self.category = category\n",
    "        \n",
    "    def get_price(self, km, time):\n",
    "        if self.category == 'Black':\n",
    "            return km + .5*time\n",
    "        elif self.category == 'Platinum':\n",
    "            return 1.2*km + .6*time\n",
    "        else:\n",
    "            print(\"Can't have this category for calculate price\")"
   ]
  },
  {
   "cell_type": "code",
   "execution_count": 23,
   "metadata": {
    "ExecuteTime": {
     "end_time": "2020-08-20T19:16:23.717545Z",
     "start_time": "2020-08-20T19:16:23.700556Z"
    },
    "colab": {},
    "colab_type": "code",
    "id": "IkPWze80dIvH"
   },
   "outputs": [
    {
     "data": {
      "text/plain": [
       "80.5"
      ]
     },
     "execution_count": 23,
     "metadata": {},
     "output_type": "execute_result"
    }
   ],
   "source": [
    "black = Uber(category='Black', name = 'Honda', passngr = 5, horsepower = 75, airbag = True, price = 30000, manual = False)\n",
    "black.get_price(30.5, 100)"
   ]
  },
  {
   "cell_type": "code",
   "execution_count": 24,
   "metadata": {
    "ExecuteTime": {
     "end_time": "2020-08-20T19:16:23.739533Z",
     "start_time": "2020-08-20T19:16:23.723543Z"
    },
    "colab": {},
    "colab_type": "code",
    "id": "dJm4Hw_IdIvS",
    "outputId": "1046b054-2ef7-44c7-ef33-836c681e639b",
    "scrolled": false
   },
   "outputs": [
    {
     "data": {
      "text/plain": [
       "96.6"
      ]
     },
     "execution_count": 24,
     "metadata": {},
     "output_type": "execute_result"
    }
   ],
   "source": [
    "platinum = Uber(category='Platinum', name = 'BMW', passngr = 5, horsepower = 110, airbag = True, price = 60000, manual = False)\n",
    "platinum.get_price(30.5, 100)"
   ]
  }
 ],
 "metadata": {
  "colab": {
   "name": "07_lab_oop_challenge_01_solutions.ipynb",
   "provenance": []
  },
  "hide_input": false,
  "kernelspec": {
   "display_name": "Python 3",
   "language": "python",
   "name": "python3"
  },
  "language_info": {
   "codemirror_mode": {
    "name": "ipython",
    "version": 3
   },
   "file_extension": ".py",
   "mimetype": "text/x-python",
   "name": "python",
   "nbconvert_exporter": "python",
   "pygments_lexer": "ipython3",
   "version": "3.7.4"
  },
  "toc": {
   "base_numbering": 1,
   "nav_menu": {},
   "number_sections": true,
   "sideBar": true,
   "skip_h1_title": false,
   "title_cell": "Table of Contents",
   "title_sidebar": "Contents",
   "toc_cell": false,
   "toc_position": {},
   "toc_section_display": true,
   "toc_window_display": false
  },
  "varInspector": {
   "cols": {
    "lenName": 16,
    "lenType": 16,
    "lenVar": 40
   },
   "kernels_config": {
    "python": {
     "delete_cmd_postfix": "",
     "delete_cmd_prefix": "del ",
     "library": "var_list.py",
     "varRefreshCmd": "print(var_dic_list())"
    },
    "r": {
     "delete_cmd_postfix": ") ",
     "delete_cmd_prefix": "rm(",
     "library": "var_list.r",
     "varRefreshCmd": "cat(var_dic_list()) "
    }
   },
   "types_to_exclude": [
    "module",
    "function",
    "builtin_function_or_method",
    "instance",
    "_Feature"
   ],
   "window_display": false
  }
 },
 "nbformat": 4,
 "nbformat_minor": 1
}
