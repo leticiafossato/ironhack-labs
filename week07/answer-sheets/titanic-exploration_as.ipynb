{
 "cells": [
  {
   "cell_type": "code",
   "execution_count": null,
   "metadata": {
    "ExecuteTime": {
     "end_time": "2020-07-21T17:12:04.722555Z",
     "start_time": "2020-07-21T17:12:04.715556Z"
    },
    "colab": {},
    "colab_type": "code",
    "id": "JmG9FI8c1b2L"
   },
   "outputs": [],
   "source": [
    "# !pip install -U scikit-learn"
   ]
  },
  {
   "cell_type": "code",
   "execution_count": 3,
   "metadata": {
    "ExecuteTime": {
     "end_time": "2020-09-30T19:38:42.913652Z",
     "start_time": "2020-09-30T19:38:42.910651Z"
    },
    "colab": {},
    "colab_type": "code",
    "id": "G_1enECO1b2S"
   },
   "outputs": [],
   "source": [
    "import sklearn\n",
    "import pandas as pd\n",
    "import numpy as np\n",
    "import matplotlib.pyplot as plt\n",
    "import seaborn as sns"
   ]
  },
  {
   "cell_type": "markdown",
   "metadata": {
    "colab_type": "text",
    "id": "FUATbY1G1b2W"
   },
   "source": [
    "# The Titanic dataset\n",
    "\n",
    "Source: https://www.kaggle.com/c/titanic/data"
   ]
  },
  {
   "cell_type": "markdown",
   "metadata": {
    "colab_type": "text",
    "id": "8u68jfFs1b2X"
   },
   "source": [
    "Read the dataframe into a variable called titanic"
   ]
  },
  {
   "cell_type": "code",
   "execution_count": 4,
   "metadata": {
    "ExecuteTime": {
     "end_time": "2020-09-30T19:39:15.938923Z",
     "start_time": "2020-09-30T19:39:15.923922Z"
    },
    "colab": {},
    "colab_type": "code",
    "id": "GhSsG-5K1b2X"
   },
   "outputs": [],
   "source": [
    "# your code here\n",
    "titanic=pd.read_csv(\"data/supervised/titanic.csv\")"
   ]
  },
  {
   "cell_type": "code",
   "execution_count": 5,
   "metadata": {
    "ExecuteTime": {
     "end_time": "2020-09-30T19:39:16.631921Z",
     "start_time": "2020-09-30T19:39:16.612921Z"
    },
    "colab": {},
    "colab_type": "code",
    "id": "4m9ROU_r1b2b",
    "outputId": "c473aa58-e82f-46fb-8bb6-1ebabffeb7fb"
   },
   "outputs": [
    {
     "data": {
      "text/html": [
       "<div>\n",
       "<style scoped>\n",
       "    .dataframe tbody tr th:only-of-type {\n",
       "        vertical-align: middle;\n",
       "    }\n",
       "\n",
       "    .dataframe tbody tr th {\n",
       "        vertical-align: top;\n",
       "    }\n",
       "\n",
       "    .dataframe thead th {\n",
       "        text-align: right;\n",
       "    }\n",
       "</style>\n",
       "<table border=\"1\" class=\"dataframe\">\n",
       "  <thead>\n",
       "    <tr style=\"text-align: right;\">\n",
       "      <th></th>\n",
       "      <th>PassengerId</th>\n",
       "      <th>Survived</th>\n",
       "      <th>Pclass</th>\n",
       "      <th>Name</th>\n",
       "      <th>Sex</th>\n",
       "      <th>Age</th>\n",
       "      <th>SibSp</th>\n",
       "      <th>Parch</th>\n",
       "      <th>Ticket</th>\n",
       "      <th>Fare</th>\n",
       "      <th>Cabin</th>\n",
       "      <th>Embarked</th>\n",
       "    </tr>\n",
       "  </thead>\n",
       "  <tbody>\n",
       "    <tr>\n",
       "      <th>0</th>\n",
       "      <td>1</td>\n",
       "      <td>0</td>\n",
       "      <td>3</td>\n",
       "      <td>Braund, Mr. Owen Harris</td>\n",
       "      <td>male</td>\n",
       "      <td>22.0</td>\n",
       "      <td>1</td>\n",
       "      <td>0</td>\n",
       "      <td>A/5 21171</td>\n",
       "      <td>7.2500</td>\n",
       "      <td>NaN</td>\n",
       "      <td>S</td>\n",
       "    </tr>\n",
       "    <tr>\n",
       "      <th>1</th>\n",
       "      <td>2</td>\n",
       "      <td>1</td>\n",
       "      <td>1</td>\n",
       "      <td>Cumings, Mrs. John Bradley (Florence Briggs Th...</td>\n",
       "      <td>female</td>\n",
       "      <td>38.0</td>\n",
       "      <td>1</td>\n",
       "      <td>0</td>\n",
       "      <td>PC 17599</td>\n",
       "      <td>71.2833</td>\n",
       "      <td>C85</td>\n",
       "      <td>C</td>\n",
       "    </tr>\n",
       "    <tr>\n",
       "      <th>2</th>\n",
       "      <td>3</td>\n",
       "      <td>1</td>\n",
       "      <td>3</td>\n",
       "      <td>Heikkinen, Miss. Laina</td>\n",
       "      <td>female</td>\n",
       "      <td>26.0</td>\n",
       "      <td>0</td>\n",
       "      <td>0</td>\n",
       "      <td>STON/O2. 3101282</td>\n",
       "      <td>7.9250</td>\n",
       "      <td>NaN</td>\n",
       "      <td>S</td>\n",
       "    </tr>\n",
       "    <tr>\n",
       "      <th>3</th>\n",
       "      <td>4</td>\n",
       "      <td>1</td>\n",
       "      <td>1</td>\n",
       "      <td>Futrelle, Mrs. Jacques Heath (Lily May Peel)</td>\n",
       "      <td>female</td>\n",
       "      <td>35.0</td>\n",
       "      <td>1</td>\n",
       "      <td>0</td>\n",
       "      <td>113803</td>\n",
       "      <td>53.1000</td>\n",
       "      <td>C123</td>\n",
       "      <td>S</td>\n",
       "    </tr>\n",
       "    <tr>\n",
       "      <th>4</th>\n",
       "      <td>5</td>\n",
       "      <td>0</td>\n",
       "      <td>3</td>\n",
       "      <td>Allen, Mr. William Henry</td>\n",
       "      <td>male</td>\n",
       "      <td>35.0</td>\n",
       "      <td>0</td>\n",
       "      <td>0</td>\n",
       "      <td>373450</td>\n",
       "      <td>8.0500</td>\n",
       "      <td>NaN</td>\n",
       "      <td>S</td>\n",
       "    </tr>\n",
       "  </tbody>\n",
       "</table>\n",
       "</div>"
      ],
      "text/plain": [
       "   PassengerId  Survived  Pclass  \\\n",
       "0            1         0       3   \n",
       "1            2         1       1   \n",
       "2            3         1       3   \n",
       "3            4         1       1   \n",
       "4            5         0       3   \n",
       "\n",
       "                                                Name     Sex   Age  SibSp  \\\n",
       "0                            Braund, Mr. Owen Harris    male  22.0      1   \n",
       "1  Cumings, Mrs. John Bradley (Florence Briggs Th...  female  38.0      1   \n",
       "2                             Heikkinen, Miss. Laina  female  26.0      0   \n",
       "3       Futrelle, Mrs. Jacques Heath (Lily May Peel)  female  35.0      1   \n",
       "4                           Allen, Mr. William Henry    male  35.0      0   \n",
       "\n",
       "   Parch            Ticket     Fare Cabin Embarked  \n",
       "0      0         A/5 21171   7.2500   NaN        S  \n",
       "1      0          PC 17599  71.2833   C85        C  \n",
       "2      0  STON/O2. 3101282   7.9250   NaN        S  \n",
       "3      0            113803  53.1000  C123        S  \n",
       "4      0            373450   8.0500   NaN        S  "
      ]
     },
     "execution_count": 5,
     "metadata": {},
     "output_type": "execute_result"
    }
   ],
   "source": [
    "titanic.head()"
   ]
  },
  {
   "cell_type": "markdown",
   "metadata": {
    "colab_type": "text",
    "id": "G3EhkLyM1b2j"
   },
   "source": [
    "# Drop the 'Cabin' for now. \n",
    "\n",
    "The problem with Cabin is it has a lot of missing values. We'll see how to handle it later."
   ]
  },
  {
   "cell_type": "code",
   "execution_count": 6,
   "metadata": {
    "ExecuteTime": {
     "end_time": "2020-09-30T19:39:17.627922Z",
     "start_time": "2020-09-30T19:39:17.622920Z"
    },
    "colab": {},
    "colab_type": "code",
    "id": "Mq8wib1h1b2n"
   },
   "outputs": [],
   "source": [
    "# your code here\n",
    "titanic.drop(\"Cabin\",axis=1, inplace=True)"
   ]
  },
  {
   "cell_type": "markdown",
   "metadata": {
    "colab_type": "text",
    "id": "cwo_20Fx1b27"
   },
   "source": [
    "# Count the number of missing on the dataset\n",
    "\n",
    "After counting the number of missings, drop the them. We'll come back at them later."
   ]
  },
  {
   "cell_type": "code",
   "execution_count": 7,
   "metadata": {
    "ExecuteTime": {
     "end_time": "2020-09-30T19:39:18.469921Z",
     "start_time": "2020-09-30T19:39:18.464922Z"
    },
    "colab": {},
    "colab_type": "code",
    "id": "VZUIQqCD1b29",
    "outputId": "5bfdc025-cb26-42d4-933b-d7ad81963231"
   },
   "outputs": [
    {
     "data": {
      "text/plain": [
       "PassengerId      0\n",
       "Survived         0\n",
       "Pclass           0\n",
       "Name             0\n",
       "Sex              0\n",
       "Age            177\n",
       "SibSp            0\n",
       "Parch            0\n",
       "Ticket           0\n",
       "Fare             0\n",
       "Embarked         2\n",
       "dtype: int64"
      ]
     },
     "execution_count": 7,
     "metadata": {},
     "output_type": "execute_result"
    }
   ],
   "source": [
    "titanic.isna().sum()"
   ]
  },
  {
   "cell_type": "code",
   "execution_count": 8,
   "metadata": {
    "ExecuteTime": {
     "end_time": "2020-09-30T19:39:18.947920Z",
     "start_time": "2020-09-30T19:39:18.716922Z"
    },
    "colab": {},
    "colab_type": "code",
    "id": "LzZBFmTd1b3F",
    "outputId": "0b2df6c8-bd83-44d3-d2bb-de814177c5eb"
   },
   "outputs": [
    {
     "data": {
      "text/plain": [
       "<matplotlib.axes._subplots.AxesSubplot at 0x1cd903ec198>"
      ]
     },
     "execution_count": 8,
     "metadata": {},
     "output_type": "execute_result"
    },
    {
     "data": {
      "image/png": "[encoded data removed]",
      "text/plain": [
       "<Figure size 432x288 with 2 Axes>"
      ]
     },
     "metadata": {
      "needs_background": "light"
     },
     "output_type": "display_data"
    }
   ],
   "source": [
    "# your code here\n",
    "sns.heatmap(titanic.isna())"
   ]
  },
  {
   "cell_type": "code",
   "execution_count": 9,
   "metadata": {
    "ExecuteTime": {
     "end_time": "2020-09-30T19:39:26.442963Z",
     "start_time": "2020-09-30T19:39:26.439963Z"
    },
    "colab": {},
    "colab_type": "code",
    "id": "CSHHWbHR1b3L",
    "outputId": "e97a9743-76a0-4d0e-fed1-f652d59d9461"
   },
   "outputs": [
    {
     "data": {
      "text/plain": [
       "(891, 11)"
      ]
     },
     "execution_count": 9,
     "metadata": {},
     "output_type": "execute_result"
    }
   ],
   "source": [
    "titanic.shape"
   ]
  },
  {
   "cell_type": "code",
   "execution_count": 10,
   "metadata": {
    "ExecuteTime": {
     "end_time": "2020-09-30T19:39:26.852965Z",
     "start_time": "2020-09-30T19:39:26.780963Z"
    },
    "colab": {},
    "colab_type": "code",
    "id": "ZrNGY99q1b3P"
   },
   "outputs": [],
   "source": [
    "titanic.dropna(inplace=True)"
   ]
  },
  {
   "cell_type": "markdown",
   "metadata": {
    "colab_type": "text",
    "id": "YI21X4nA1b3U"
   },
   "source": [
    "Check how much data we've dropped. And check the number of missings in the dataset again just to check if you droped it correctly."
   ]
  },
  {
   "cell_type": "code",
   "execution_count": 11,
   "metadata": {
    "ExecuteTime": {
     "end_time": "2020-09-30T19:39:28.280963Z",
     "start_time": "2020-09-30T19:39:28.275993Z"
    },
    "colab": {},
    "colab_type": "code",
    "id": "zwt3ncvi1b3V",
    "outputId": "ef8a1103-2b99-4714-a645-daa6851a7847"
   },
   "outputs": [
    {
     "data": {
      "text/plain": [
       "(712, 11)"
      ]
     },
     "execution_count": 11,
     "metadata": {},
     "output_type": "execute_result"
    }
   ],
   "source": [
    "titanic.shape\n",
    "# we dropped 179 lines, everything seems to be right"
   ]
  },
  {
   "cell_type": "code",
   "execution_count": 15,
   "metadata": {
    "ExecuteTime": {
     "end_time": "2020-09-30T19:40:18.753144Z",
     "start_time": "2020-09-30T19:40:18.749144Z"
    },
    "colab": {},
    "colab_type": "code",
    "id": "rcXA5yDn1b3Z",
    "outputId": "e5be1412-f4b3-4056-fff4-af30e37aaa3f"
   },
   "outputs": [
    {
     "data": {
      "text/plain": [
       "PassengerId    0\n",
       "Survived       0\n",
       "Pclass         0\n",
       "Name           0\n",
       "Sex            0\n",
       "Age            0\n",
       "SibSp          0\n",
       "Parch          0\n",
       "Ticket         0\n",
       "Fare           0\n",
       "Embarked       0\n",
       "dtype: int64"
      ]
     },
     "execution_count": 15,
     "metadata": {},
     "output_type": "execute_result"
    }
   ],
   "source": [
    "# your code here\n",
    "titanic.isna().sum()"
   ]
  },
  {
   "cell_type": "markdown",
   "metadata": {
    "colab_type": "text",
    "id": "eVYrdJO11b3g"
   },
   "source": [
    "# Check some statistics of the dataset\n",
    "\n",
    "Use `.describe()` on the resulting dataset to check some patterns on the numerical columns"
   ]
  },
  {
   "cell_type": "code",
   "execution_count": 12,
   "metadata": {
    "ExecuteTime": {
     "end_time": "2020-07-21T17:13:17.883657Z",
     "start_time": "2020-07-21T17:13:17.844679Z"
    },
    "colab": {},
    "colab_type": "code",
    "id": "HhVRo69x1b3h",
    "outputId": "6a7eb6f8-7aa8-407c-ee99-c27459265112"
   },
   "outputs": [
    {
     "data": {
      "text/html": [
       "<div>\n",
       "<style scoped>\n",
       "    .dataframe tbody tr th:only-of-type {\n",
       "        vertical-align: middle;\n",
       "    }\n",
       "\n",
       "    .dataframe tbody tr th {\n",
       "        vertical-align: top;\n",
       "    }\n",
       "\n",
       "    .dataframe thead th {\n",
       "        text-align: right;\n",
       "    }\n",
       "</style>\n",
       "<table border=\"1\" class=\"dataframe\">\n",
       "  <thead>\n",
       "    <tr style=\"text-align: right;\">\n",
       "      <th></th>\n",
       "      <th>PassengerId</th>\n",
       "      <th>Survived</th>\n",
       "      <th>Pclass</th>\n",
       "      <th>Age</th>\n",
       "      <th>SibSp</th>\n",
       "      <th>Parch</th>\n",
       "      <th>Fare</th>\n",
       "    </tr>\n",
       "  </thead>\n",
       "  <tbody>\n",
       "    <tr>\n",
       "      <th>count</th>\n",
       "      <td>712.000000</td>\n",
       "      <td>712.000000</td>\n",
       "      <td>712.000000</td>\n",
       "      <td>712.000000</td>\n",
       "      <td>712.000000</td>\n",
       "      <td>712.000000</td>\n",
       "      <td>712.000000</td>\n",
       "    </tr>\n",
       "    <tr>\n",
       "      <th>mean</th>\n",
       "      <td>448.589888</td>\n",
       "      <td>0.404494</td>\n",
       "      <td>2.240169</td>\n",
       "      <td>29.642093</td>\n",
       "      <td>0.514045</td>\n",
       "      <td>0.432584</td>\n",
       "      <td>34.567251</td>\n",
       "    </tr>\n",
       "    <tr>\n",
       "      <th>std</th>\n",
       "      <td>258.683191</td>\n",
       "      <td>0.491139</td>\n",
       "      <td>0.836854</td>\n",
       "      <td>14.492933</td>\n",
       "      <td>0.930692</td>\n",
       "      <td>0.854181</td>\n",
       "      <td>52.938648</td>\n",
       "    </tr>\n",
       "    <tr>\n",
       "      <th>min</th>\n",
       "      <td>1.000000</td>\n",
       "      <td>0.000000</td>\n",
       "      <td>1.000000</td>\n",
       "      <td>0.420000</td>\n",
       "      <td>0.000000</td>\n",
       "      <td>0.000000</td>\n",
       "      <td>0.000000</td>\n",
       "    </tr>\n",
       "    <tr>\n",
       "      <th>25%</th>\n",
       "      <td>222.750000</td>\n",
       "      <td>0.000000</td>\n",
       "      <td>1.000000</td>\n",
       "      <td>20.000000</td>\n",
       "      <td>0.000000</td>\n",
       "      <td>0.000000</td>\n",
       "      <td>8.050000</td>\n",
       "    </tr>\n",
       "    <tr>\n",
       "      <th>50%</th>\n",
       "      <td>445.000000</td>\n",
       "      <td>0.000000</td>\n",
       "      <td>2.000000</td>\n",
       "      <td>28.000000</td>\n",
       "      <td>0.000000</td>\n",
       "      <td>0.000000</td>\n",
       "      <td>15.645850</td>\n",
       "    </tr>\n",
       "    <tr>\n",
       "      <th>75%</th>\n",
       "      <td>677.250000</td>\n",
       "      <td>1.000000</td>\n",
       "      <td>3.000000</td>\n",
       "      <td>38.000000</td>\n",
       "      <td>1.000000</td>\n",
       "      <td>1.000000</td>\n",
       "      <td>33.000000</td>\n",
       "    </tr>\n",
       "    <tr>\n",
       "      <th>max</th>\n",
       "      <td>891.000000</td>\n",
       "      <td>1.000000</td>\n",
       "      <td>3.000000</td>\n",
       "      <td>80.000000</td>\n",
       "      <td>5.000000</td>\n",
       "      <td>6.000000</td>\n",
       "      <td>512.329200</td>\n",
       "    </tr>\n",
       "  </tbody>\n",
       "</table>\n",
       "</div>"
      ],
      "text/plain": [
       "       PassengerId    Survived      Pclass         Age       SibSp  \\\n",
       "count   712.000000  712.000000  712.000000  712.000000  712.000000   \n",
       "mean    448.589888    0.404494    2.240169   29.642093    0.514045   \n",
       "std     258.683191    0.491139    0.836854   14.492933    0.930692   \n",
       "min       1.000000    0.000000    1.000000    0.420000    0.000000   \n",
       "25%     222.750000    0.000000    1.000000   20.000000    0.000000   \n",
       "50%     445.000000    0.000000    2.000000   28.000000    0.000000   \n",
       "75%     677.250000    1.000000    3.000000   38.000000    1.000000   \n",
       "max     891.000000    1.000000    3.000000   80.000000    5.000000   \n",
       "\n",
       "            Parch        Fare  \n",
       "count  712.000000  712.000000  \n",
       "mean     0.432584   34.567251  \n",
       "std      0.854181   52.938648  \n",
       "min      0.000000    0.000000  \n",
       "25%      0.000000    8.050000  \n",
       "50%      0.000000   15.645850  \n",
       "75%      1.000000   33.000000  \n",
       "max      6.000000  512.329200  "
      ]
     },
     "execution_count": 12,
     "metadata": {},
     "output_type": "execute_result"
    }
   ],
   "source": [
    "# your code here\n",
    "titanic.describe()"
   ]
  },
  {
   "cell_type": "markdown",
   "metadata": {
    "colab_type": "text",
    "id": "Q-vv9rxW1b3o"
   },
   "source": [
    "What can you conclude from that? Check for example the average of survivals, the minimum and maximum Ages."
   ]
  },
  {
   "cell_type": "code",
   "execution_count": 13,
   "metadata": {
    "ExecuteTime": {
     "end_time": "2020-07-21T17:13:17.894651Z",
     "start_time": "2020-07-21T17:13:17.891652Z"
    },
    "colab": {},
    "colab_type": "code",
    "id": "0yxeV0PI1b3o"
   },
   "outputs": [],
   "source": [
    "# your code here\n",
    "#It looks like we have a little less survivors, and our age range goes from babies to elders\n"
   ]
  },
  {
   "cell_type": "markdown",
   "metadata": {
    "colab_type": "text",
    "id": "oOWuh4WU1b3v"
   },
   "source": [
    "# Visualizing relationships"
   ]
  },
  {
   "cell_type": "markdown",
   "metadata": {
    "colab_type": "text",
    "id": "0QJFPxfu1b33"
   },
   "source": [
    "Try to use a scatterplot on the dataframe columns 'Age' vs 'Survived' to see if you can have some insights"
   ]
  },
  {
   "cell_type": "code",
   "execution_count": 14,
   "metadata": {
    "ExecuteTime": {
     "end_time": "2020-07-21T17:13:18.170490Z",
     "start_time": "2020-07-21T17:13:17.897649Z"
    },
    "colab": {},
    "colab_type": "code",
    "id": "NQwGjwwf1b38",
    "outputId": "38e34911-60ee-4362-f2c6-3014c5b9b034"
   },
   "outputs": [
    {
     "data": {
      "text/plain": [
       "<matplotlib.axes._subplots.AxesSubplot at 0x1e5ffc35188>"
      ]
     },
     "execution_count": 14,
     "metadata": {},
     "output_type": "execute_result"
    },
    {
     "data": {
      "image/png": "[encoded data removed]",
      "text/plain": [
       "<Figure size 432x288 with 1 Axes>"
      ]
     },
     "metadata": {
      "needs_background": "light"
     },
     "output_type": "display_data"
    }
   ],
   "source": [
    "# your code here\n",
    "sns.scatterplot(\"Survived\",\"Age\",data=titanic)\n",
    "#it seems to be evenly distributed with fewer higher ages in the number 1 survival"
   ]
  },
  {
   "cell_type": "markdown",
   "metadata": {
    "colab_type": "text",
    "id": "YEtabpLP1b4I"
   },
   "source": [
    "Now do the same for the columns 'Fare' and 'Survived'"
   ]
  },
  {
   "cell_type": "code",
   "execution_count": 15,
   "metadata": {
    "ExecuteTime": {
     "end_time": "2020-07-21T17:13:18.419345Z",
     "start_time": "2020-07-21T17:13:18.173487Z"
    },
    "colab": {},
    "colab_type": "code",
    "id": "hsFaQbiO1b4J",
    "outputId": "c4384161-d02e-4afc-e410-d83da4d21e19"
   },
   "outputs": [
    {
     "data": {
      "text/plain": [
       "<matplotlib.axes._subplots.AxesSubplot at 0x1e5ffca9b08>"
      ]
     },
     "execution_count": 15,
     "metadata": {},
     "output_type": "execute_result"
    },
    {
     "data": {
      "image/png": "[encoded data removed]",
      "text/plain": [
       "<Figure size 432x288 with 1 Axes>"
      ]
     },
     "metadata": {
      "needs_background": "light"
     },
     "output_type": "display_data"
    }
   ],
   "source": [
    "# your code here\n",
    "sns.scatterplot(\"Survived\",\"Fare\",data=titanic)\n",
    "# they also seem to be similar except for the fact that the richest "
   ]
  },
  {
   "cell_type": "markdown",
   "metadata": {
    "colab_type": "text",
    "id": "HWXgOczH1b4O"
   },
   "source": [
    "# Is there any better visualization technique to handle binary data? If so, use it to try to understand the effect of Age in the variable Survived"
   ]
  },
  {
   "cell_type": "code",
   "execution_count": 16,
   "metadata": {
    "ExecuteTime": {
     "end_time": "2020-07-21T17:13:18.638219Z",
     "start_time": "2020-07-21T17:13:18.422360Z"
    },
    "colab": {},
    "colab_type": "code",
    "id": "JJDKxuk61b4Q",
    "outputId": "9fcce48f-7d51-4491-ad43-55d591b011b2"
   },
   "outputs": [
    {
     "data": {
      "text/plain": [
       "<matplotlib.axes._subplots.AxesSubplot at 0x1e5ffd24ac8>"
      ]
     },
     "execution_count": 16,
     "metadata": {},
     "output_type": "execute_result"
    },
    {
     "data": {
      "image/png": "[encoded data removed]",
      "text/plain": [
       "<Figure size 432x288 with 1 Axes>"
      ]
     },
     "metadata": {
      "needs_background": "light"
     },
     "output_type": "display_data"
    }
   ],
   "source": [
    "# your code here\n",
    "sns.boxplot(\"Survived\",\"Age\",data=titanic)"
   ]
  },
  {
   "cell_type": "markdown",
   "metadata": {
    "colab_type": "text",
    "id": "bcdRBpG71b4U"
   },
   "source": [
    "# Cross Tab\n",
    "\n",
    "Sometimes the plots above can reveal some important insights - specially if you have used some kind of, however, a better way to obtain these insights would be to use the `pd.crosstab()` \n",
    "function. Use it to explore the relations between `Age` and `Survived`. "
   ]
  },
  {
   "cell_type": "code",
   "execution_count": 17,
   "metadata": {
    "ExecuteTime": {
     "end_time": "2020-07-21T17:13:18.686193Z",
     "start_time": "2020-07-21T17:13:18.641217Z"
    },
    "colab": {},
    "colab_type": "code",
    "id": "jSb2jukA1b4U",
    "outputId": "cecb0343-cd49-4441-829e-dc28089cd383"
   },
   "outputs": [
    {
     "data": {
      "text/html": [
       "<div>\n",
       "<style scoped>\n",
       "    .dataframe tbody tr th:only-of-type {\n",
       "        vertical-align: middle;\n",
       "    }\n",
       "\n",
       "    .dataframe tbody tr th {\n",
       "        vertical-align: top;\n",
       "    }\n",
       "\n",
       "    .dataframe thead th {\n",
       "        text-align: right;\n",
       "    }\n",
       "</style>\n",
       "<table border=\"1\" class=\"dataframe\">\n",
       "  <thead>\n",
       "    <tr style=\"text-align: right;\">\n",
       "      <th>Survived</th>\n",
       "      <th>0</th>\n",
       "      <th>1</th>\n",
       "    </tr>\n",
       "    <tr>\n",
       "      <th>Age</th>\n",
       "      <th></th>\n",
       "      <th></th>\n",
       "    </tr>\n",
       "  </thead>\n",
       "  <tbody>\n",
       "    <tr>\n",
       "      <th>0.42</th>\n",
       "      <td>0</td>\n",
       "      <td>1</td>\n",
       "    </tr>\n",
       "    <tr>\n",
       "      <th>0.67</th>\n",
       "      <td>0</td>\n",
       "      <td>1</td>\n",
       "    </tr>\n",
       "    <tr>\n",
       "      <th>0.75</th>\n",
       "      <td>0</td>\n",
       "      <td>2</td>\n",
       "    </tr>\n",
       "    <tr>\n",
       "      <th>0.83</th>\n",
       "      <td>0</td>\n",
       "      <td>2</td>\n",
       "    </tr>\n",
       "    <tr>\n",
       "      <th>0.92</th>\n",
       "      <td>0</td>\n",
       "      <td>1</td>\n",
       "    </tr>\n",
       "    <tr>\n",
       "      <th>...</th>\n",
       "      <td>...</td>\n",
       "      <td>...</td>\n",
       "    </tr>\n",
       "    <tr>\n",
       "      <th>70.00</th>\n",
       "      <td>2</td>\n",
       "      <td>0</td>\n",
       "    </tr>\n",
       "    <tr>\n",
       "      <th>70.50</th>\n",
       "      <td>1</td>\n",
       "      <td>0</td>\n",
       "    </tr>\n",
       "    <tr>\n",
       "      <th>71.00</th>\n",
       "      <td>2</td>\n",
       "      <td>0</td>\n",
       "    </tr>\n",
       "    <tr>\n",
       "      <th>74.00</th>\n",
       "      <td>1</td>\n",
       "      <td>0</td>\n",
       "    </tr>\n",
       "    <tr>\n",
       "      <th>80.00</th>\n",
       "      <td>0</td>\n",
       "      <td>1</td>\n",
       "    </tr>\n",
       "  </tbody>\n",
       "</table>\n",
       "<p>88 rows × 2 columns</p>\n",
       "</div>"
      ],
      "text/plain": [
       "Survived  0  1\n",
       "Age           \n",
       "0.42      0  1\n",
       "0.67      0  1\n",
       "0.75      0  2\n",
       "0.83      0  2\n",
       "0.92      0  1\n",
       "...      .. ..\n",
       "70.00     2  0\n",
       "70.50     1  0\n",
       "71.00     2  0\n",
       "74.00     1  0\n",
       "80.00     0  1\n",
       "\n",
       "[88 rows x 2 columns]"
      ]
     },
     "execution_count": 17,
     "metadata": {},
     "output_type": "execute_result"
    }
   ],
   "source": [
    "# your code here\n",
    "pd.crosstab(titanic[\"Age\"],titanic[\"Survived\"])"
   ]
  },
  {
   "cell_type": "markdown",
   "metadata": {
    "colab_type": "text",
    "id": "Ton92qVC1b4o"
   },
   "source": [
    "Now perform the same operation for `Pclass` and `Survived`"
   ]
  },
  {
   "cell_type": "code",
   "execution_count": 18,
   "metadata": {
    "ExecuteTime": {
     "end_time": "2020-07-21T17:13:18.711177Z",
     "start_time": "2020-07-21T17:13:18.689190Z"
    },
    "colab": {},
    "colab_type": "code",
    "id": "_lQkDzYl1b4q",
    "outputId": "6f53c6bb-8183-4a40-87f2-23a2f386a152"
   },
   "outputs": [
    {
     "data": {
      "text/html": [
       "<div>\n",
       "<style scoped>\n",
       "    .dataframe tbody tr th:only-of-type {\n",
       "        vertical-align: middle;\n",
       "    }\n",
       "\n",
       "    .dataframe tbody tr th {\n",
       "        vertical-align: top;\n",
       "    }\n",
       "\n",
       "    .dataframe thead th {\n",
       "        text-align: right;\n",
       "    }\n",
       "</style>\n",
       "<table border=\"1\" class=\"dataframe\">\n",
       "  <thead>\n",
       "    <tr style=\"text-align: right;\">\n",
       "      <th>Survived</th>\n",
       "      <th>0</th>\n",
       "      <th>1</th>\n",
       "    </tr>\n",
       "    <tr>\n",
       "      <th>Pclass</th>\n",
       "      <th></th>\n",
       "      <th></th>\n",
       "    </tr>\n",
       "  </thead>\n",
       "  <tbody>\n",
       "    <tr>\n",
       "      <th>1</th>\n",
       "      <td>64</td>\n",
       "      <td>120</td>\n",
       "    </tr>\n",
       "    <tr>\n",
       "      <th>2</th>\n",
       "      <td>90</td>\n",
       "      <td>83</td>\n",
       "    </tr>\n",
       "    <tr>\n",
       "      <th>3</th>\n",
       "      <td>270</td>\n",
       "      <td>85</td>\n",
       "    </tr>\n",
       "  </tbody>\n",
       "</table>\n",
       "</div>"
      ],
      "text/plain": [
       "Survived    0    1\n",
       "Pclass            \n",
       "1          64  120\n",
       "2          90   83\n",
       "3         270   85"
      ]
     },
     "execution_count": 18,
     "metadata": {},
     "output_type": "execute_result"
    }
   ],
   "source": [
    "# your code here\n",
    "pd.crosstab(titanic[\"Pclass\"],titanic[\"Survived\"])"
   ]
  },
  {
   "cell_type": "markdown",
   "metadata": {
    "colab_type": "text",
    "id": "KCHyyzVY1b4y"
   },
   "source": [
    "What can you infer from that?"
   ]
  },
  {
   "cell_type": "code",
   "execution_count": 19,
   "metadata": {
    "ExecuteTime": {
     "end_time": "2020-07-21T17:13:18.716177Z",
     "start_time": "2020-07-21T17:13:18.713175Z"
    },
    "colab": {},
    "colab_type": "code",
    "id": "VWxi5yUt1b4z"
   },
   "outputs": [],
   "source": [
    "# your code here\n",
    "#This method is better for categorical variables"
   ]
  },
  {
   "cell_type": "markdown",
   "metadata": {
    "colab_type": "text",
    "id": "ifn_DNGX1b46"
   },
   "source": [
    "# Correlations\n",
    "\n",
    "Can you infer the same using a correlation table and a heatmap?"
   ]
  },
  {
   "cell_type": "markdown",
   "metadata": {
    "colab_type": "text",
    "id": "4mVmt4OA1b47"
   },
   "source": [
    "1. Correlation dataframe\n"
   ]
  },
  {
   "cell_type": "code",
   "execution_count": 20,
   "metadata": {
    "ExecuteTime": {
     "end_time": "2020-07-21T17:13:18.744158Z",
     "start_time": "2020-07-21T17:13:18.719173Z"
    },
    "colab": {},
    "colab_type": "code",
    "id": "THyHI_YN1b48",
    "outputId": "dc131dba-3e2d-40fa-b83d-f8c333712e7d"
   },
   "outputs": [
    {
     "data": {
      "text/html": [
       "<div>\n",
       "<style scoped>\n",
       "    .dataframe tbody tr th:only-of-type {\n",
       "        vertical-align: middle;\n",
       "    }\n",
       "\n",
       "    .dataframe tbody tr th {\n",
       "        vertical-align: top;\n",
       "    }\n",
       "\n",
       "    .dataframe thead th {\n",
       "        text-align: right;\n",
       "    }\n",
       "</style>\n",
       "<table border=\"1\" class=\"dataframe\">\n",
       "  <thead>\n",
       "    <tr style=\"text-align: right;\">\n",
       "      <th></th>\n",
       "      <th>PassengerId</th>\n",
       "      <th>Survived</th>\n",
       "      <th>Pclass</th>\n",
       "      <th>Age</th>\n",
       "      <th>SibSp</th>\n",
       "      <th>Parch</th>\n",
       "      <th>Fare</th>\n",
       "    </tr>\n",
       "  </thead>\n",
       "  <tbody>\n",
       "    <tr>\n",
       "      <th>PassengerId</th>\n",
       "      <td>1.000000</td>\n",
       "      <td>0.029526</td>\n",
       "      <td>-0.035609</td>\n",
       "      <td>0.033681</td>\n",
       "      <td>-0.082704</td>\n",
       "      <td>-0.011672</td>\n",
       "      <td>0.009655</td>\n",
       "    </tr>\n",
       "    <tr>\n",
       "      <th>Survived</th>\n",
       "      <td>0.029526</td>\n",
       "      <td>1.000000</td>\n",
       "      <td>-0.356462</td>\n",
       "      <td>-0.082446</td>\n",
       "      <td>-0.015523</td>\n",
       "      <td>0.095265</td>\n",
       "      <td>0.266100</td>\n",
       "    </tr>\n",
       "    <tr>\n",
       "      <th>Pclass</th>\n",
       "      <td>-0.035609</td>\n",
       "      <td>-0.356462</td>\n",
       "      <td>1.000000</td>\n",
       "      <td>-0.365902</td>\n",
       "      <td>0.065187</td>\n",
       "      <td>0.023666</td>\n",
       "      <td>-0.552893</td>\n",
       "    </tr>\n",
       "    <tr>\n",
       "      <th>Age</th>\n",
       "      <td>0.033681</td>\n",
       "      <td>-0.082446</td>\n",
       "      <td>-0.365902</td>\n",
       "      <td>1.000000</td>\n",
       "      <td>-0.307351</td>\n",
       "      <td>-0.187896</td>\n",
       "      <td>0.093143</td>\n",
       "    </tr>\n",
       "    <tr>\n",
       "      <th>SibSp</th>\n",
       "      <td>-0.082704</td>\n",
       "      <td>-0.015523</td>\n",
       "      <td>0.065187</td>\n",
       "      <td>-0.307351</td>\n",
       "      <td>1.000000</td>\n",
       "      <td>0.383338</td>\n",
       "      <td>0.139860</td>\n",
       "    </tr>\n",
       "    <tr>\n",
       "      <th>Parch</th>\n",
       "      <td>-0.011672</td>\n",
       "      <td>0.095265</td>\n",
       "      <td>0.023666</td>\n",
       "      <td>-0.187896</td>\n",
       "      <td>0.383338</td>\n",
       "      <td>1.000000</td>\n",
       "      <td>0.206624</td>\n",
       "    </tr>\n",
       "    <tr>\n",
       "      <th>Fare</th>\n",
       "      <td>0.009655</td>\n",
       "      <td>0.266100</td>\n",
       "      <td>-0.552893</td>\n",
       "      <td>0.093143</td>\n",
       "      <td>0.139860</td>\n",
       "      <td>0.206624</td>\n",
       "      <td>1.000000</td>\n",
       "    </tr>\n",
       "  </tbody>\n",
       "</table>\n",
       "</div>"
      ],
      "text/plain": [
       "             PassengerId  Survived    Pclass       Age     SibSp     Parch  \\\n",
       "PassengerId     1.000000  0.029526 -0.035609  0.033681 -0.082704 -0.011672   \n",
       "Survived        0.029526  1.000000 -0.356462 -0.082446 -0.015523  0.095265   \n",
       "Pclass         -0.035609 -0.356462  1.000000 -0.365902  0.065187  0.023666   \n",
       "Age             0.033681 -0.082446 -0.365902  1.000000 -0.307351 -0.187896   \n",
       "SibSp          -0.082704 -0.015523  0.065187 -0.307351  1.000000  0.383338   \n",
       "Parch          -0.011672  0.095265  0.023666 -0.187896  0.383338  1.000000   \n",
       "Fare            0.009655  0.266100 -0.552893  0.093143  0.139860  0.206624   \n",
       "\n",
       "                 Fare  \n",
       "PassengerId  0.009655  \n",
       "Survived     0.266100  \n",
       "Pclass      -0.552893  \n",
       "Age          0.093143  \n",
       "SibSp        0.139860  \n",
       "Parch        0.206624  \n",
       "Fare         1.000000  "
      ]
     },
     "execution_count": 20,
     "metadata": {},
     "output_type": "execute_result"
    }
   ],
   "source": [
    "# your code here\n",
    "titanic.corr()"
   ]
  },
  {
   "cell_type": "markdown",
   "metadata": {
    "colab_type": "text",
    "id": "0VaWBe9k1b5A"
   },
   "source": [
    "2. Correlation Heatmap"
   ]
  },
  {
   "cell_type": "code",
   "execution_count": 21,
   "metadata": {
    "ExecuteTime": {
     "end_time": "2020-07-21T17:13:19.278062Z",
     "start_time": "2020-07-21T17:13:18.747156Z"
    },
    "colab": {},
    "colab_type": "code",
    "id": "4FVcUBtI1b5A",
    "outputId": "2e69a085-98f8-46b1-c85a-4c2a1b184088",
    "scrolled": true
   },
   "outputs": [
    {
     "data": {
      "text/plain": [
       "<matplotlib.axes._subplots.AxesSubplot at 0x1e5ffde0948>"
      ]
     },
     "execution_count": 21,
     "metadata": {},
     "output_type": "execute_result"
    },
    {
     "data": {
      "image/png": "[encoded data removed]",
      "text/plain": [
       "<Figure size 432x288 with 2 Axes>"
      ]
     },
     "metadata": {
      "needs_background": "light"
     },
     "output_type": "display_data"
    }
   ],
   "source": [
    "# your code here\n",
    "sns.heatmap(titanic.corr(),annot=True)"
   ]
  },
  {
   "cell_type": "markdown",
   "metadata": {
    "colab_type": "text",
    "id": "vhBW4Z8s1b5G"
   },
   "source": [
    "Do you think age is linearly related to the variable Survived? Do you think this variable will be important in our models?"
   ]
  },
  {
   "cell_type": "code",
   "execution_count": 22,
   "metadata": {
    "ExecuteTime": {
     "end_time": "2020-07-21T17:13:19.285057Z",
     "start_time": "2020-07-21T17:13:19.281062Z"
    },
    "colab": {},
    "colab_type": "code",
    "id": "06EnSj7o1b5H"
   },
   "outputs": [],
   "source": [
    "# your code here\n",
    "# Considering the value of -0.082 there seems to be no linear correlation between age and survival"
   ]
  },
  {
   "cell_type": "markdown",
   "metadata": {
    "colab_type": "text",
    "id": "Yvmc2WfW1b5N"
   },
   "source": [
    "# Plot the distribution of the Age variable for each category of the `Survived` variable in the same plot. "
   ]
  },
  {
   "cell_type": "code",
   "execution_count": 16,
   "metadata": {
    "ExecuteTime": {
     "end_time": "2020-09-30T19:41:24.086862Z",
     "start_time": "2020-09-30T19:41:23.909865Z"
    },
    "colab": {},
    "colab_type": "code",
    "id": "76-IgN0r1b5O",
    "outputId": "270aa300-1d52-4aa0-845c-94af199a6b65"
   },
   "outputs": [
    {
     "data": {
      "text/plain": [
       "(0.0, 98.16854187931696)"
      ]
     },
     "execution_count": 16,
     "metadata": {},
     "output_type": "execute_result"
    },
    {
     "data": {
      "image/png": "[encoded data removed]",
      "text/plain": [
       "<Figure size 432x288 with 1 Axes>"
      ]
     },
     "metadata": {
      "needs_background": "light"
     },
     "output_type": "display_data"
    }
   ],
   "source": [
    "# your code here\n",
    "import matplotlib.pyplot as plt\n",
    "sns.distplot(titanic.Age[titanic[\"Survived\"]==0],label=\"Did not survive\")\n",
    "sns.distplot(titanic.Age[titanic[\"Survived\"]==1],label=\"Survived\")\n",
    "plt.legend()\n",
    "plt.xlim(0)"
   ]
  },
  {
   "cell_type": "markdown",
   "metadata": {
    "colab_type": "text",
    "id": "VwA7WIo21b5T"
   },
   "source": [
    "# Now try to plot the same distribution but break the group into \n",
    "1. Survived, less than 18 years old male \n",
    "2. NOT Survived, less than 18 years old male \n",
    "\n",
    "And plot their `Age` distributions in the same graph."
   ]
  },
  {
   "cell_type": "code",
   "execution_count": 17,
   "metadata": {
    "ExecuteTime": {
     "end_time": "2020-09-30T21:45:17.112179Z",
     "start_time": "2020-09-30T21:45:16.967179Z"
    },
    "colab": {},
    "colab_type": "code",
    "id": "r6zcdSab1b5U",
    "outputId": "8caa172e-1f4a-43da-f25a-43835ba15056"
   },
   "outputs": [
    {
     "data": {
      "text/plain": [
       "(0.0, 27.725688101336196)"
      ]
     },
     "execution_count": 17,
     "metadata": {},
     "output_type": "execute_result"
    },
    {
     "data": {
      "image/png": "[encoded data removed]",
      "text/plain": [
       "<Figure size 432x288 with 1 Axes>"
      ]
     },
     "metadata": {
      "needs_background": "light"
     },
     "output_type": "display_data"
    }
   ],
   "source": [
    "# your code here\n",
    "sns.distplot(titanic.Age[(titanic[\"Survived\"]==0)&(titanic[\"Age\"]<18)&(titanic[\"Sex\"]==\"male\")],label=\"Did not survive\")\n",
    "sns.distplot(titanic.Age[(titanic[\"Survived\"]==1)&(titanic[\"Age\"]<18)&(titanic[\"Sex\"]==\"male\")],label=\"Survived\")\n",
    "plt.legend()\n",
    "plt.xlim(0)"
   ]
  },
  {
   "cell_type": "markdown",
   "metadata": {
    "colab_type": "text",
    "id": "23jEdbpj1b5k"
   },
   "source": [
    "Do you understand this graph? What can you conclude about the variable Age? Is it important now? How does this relate to `Age`'s linear correlation coefficient? "
   ]
  },
  {
   "cell_type": "code",
   "execution_count": 25,
   "metadata": {
    "ExecuteTime": {
     "end_time": "2020-07-21T17:13:20.072602Z",
     "start_time": "2020-07-21T17:13:20.068604Z"
    },
    "colab": {},
    "colab_type": "code",
    "id": "4gkg0DIF1b5p"
   },
   "outputs": [],
   "source": [
    "# your code here\n",
    "# if we separate by gender the age becames relavant, there may be a linear correlation if we filter the data in different groups"
   ]
  },
  {
   "cell_type": "markdown",
   "metadata": {
    "colab_type": "text",
    "id": "7t3HMfcz1b5y"
   },
   "source": [
    "# For these groups above, calculate their average of survivalness.\n",
    "\n",
    "You probably observed a discrimination of Surivavalness around 9 years old. For this exercise, you need to calculate the average of survivalness for each of these groups to survive. Again, filter the dataset into two subgroups:\n",
    "\n",
    "1. Males with ages less than 9\n",
    "2. Males with ages greater than 9 and less than 18\n",
    "\n",
    "What are their average survival?"
   ]
  },
  {
   "cell_type": "code",
   "execution_count": 26,
   "metadata": {
    "ExecuteTime": {
     "end_time": "2020-07-21T17:13:20.107581Z",
     "start_time": "2020-07-21T17:13:20.075599Z"
    },
    "colab": {},
    "colab_type": "code",
    "id": "N1EYaReT1b5z",
    "outputId": "7ddf3000-7a4c-4225-cb9e-952150baed28"
   },
   "outputs": [
    {
     "name": "stdout",
     "output_type": "stream",
     "text": [
      "the first group average survival is  0.6071428571428571\n",
      "the first group average survival is  0.15384615384615385\n"
     ]
    }
   ],
   "source": [
    "# your code here\n",
    "print(\"the first group average survival is \",np.mean(titanic[(titanic[\"Sex\"]==\"male\") & (titanic[\"Age\"]<9)][\"Survived\"]))\n",
    "print(\"the first group average survival is \",np.mean(titanic[(titanic[\"Sex\"]==\"male\") & (titanic[\"Age\"]>9) & (titanic[\"Age\"]<18)][\"Survived\"]))"
   ]
  },
  {
   "cell_type": "markdown",
   "metadata": {
    "colab_type": "text",
    "id": "-x-i9E8W1b6C"
   },
   "source": [
    "*To think:* If you were told then, to predict if a 15 year old man have survived, what would you predict?\n",
    "He did not survive"
   ]
  },
  {
   "cell_type": "markdown",
   "metadata": {
    "colab_type": "text",
    "id": "5bY2kXrU1b6E"
   },
   "source": [
    "# Prepare data for our first model"
   ]
  },
  {
   "cell_type": "markdown",
   "metadata": {
    "colab_type": "text",
    "id": "ysacJZC41b6F"
   },
   "source": [
    "### Let's start simple. \n",
    "\n",
    "First create a variable named `X` containing the variables `['Pclass','Sex','Age','SibSp','Parch','Fare','Embarked']`. \n"
   ]
  },
  {
   "cell_type": "code",
   "execution_count": 27,
   "metadata": {
    "ExecuteTime": {
     "end_time": "2020-07-21T17:13:20.120575Z",
     "start_time": "2020-07-21T17:13:20.110580Z"
    },
    "colab": {},
    "colab_type": "code",
    "id": "tRPPbsVG1b6G"
   },
   "outputs": [],
   "source": [
    "X = titanic[['Pclass','Sex','Age','SibSp','Parch','Fare','Embarked']]"
   ]
  },
  {
   "cell_type": "markdown",
   "metadata": {
    "colab_type": "text",
    "id": "pRKA_PqH1b6O"
   },
   "source": [
    "Also create a pandas series containing the variable Survived. Store it in the variable `y`."
   ]
  },
  {
   "cell_type": "code",
   "execution_count": 28,
   "metadata": {
    "ExecuteTime": {
     "end_time": "2020-07-21T17:13:20.134565Z",
     "start_time": "2020-07-21T17:13:20.122573Z"
    },
    "colab": {},
    "colab_type": "code",
    "id": "kr4Hj68e1b6P"
   },
   "outputs": [],
   "source": [
    "y = titanic[\"Survived\"]"
   ]
  },
  {
   "cell_type": "markdown",
   "metadata": {
    "colab_type": "text",
    "id": "y3PUjb3_1b6U"
   },
   "source": [
    "# Dummify your dataset\n",
    "\n",
    "Create a dummy version of your `X` dataset. After obtaining the dummification of your features, you'll observe that some  You won't need both of them, so you could use the argument `drop_first=True` to get rid of the first dummy."
   ]
  },
  {
   "cell_type": "code",
   "execution_count": 29,
   "metadata": {
    "ExecuteTime": {
     "end_time": "2020-07-21T17:13:20.157552Z",
     "start_time": "2020-07-21T17:13:20.136565Z"
    },
    "colab": {},
    "colab_type": "code",
    "id": "TK21JQ_K1b6U"
   },
   "outputs": [],
   "source": [
    "X_dummy=pd.get_dummies(X,drop_first=True)"
   ]
  },
  {
   "cell_type": "markdown",
   "metadata": {
    "colab_type": "text",
    "id": "e92Dzvm51b6a"
   },
   "source": [
    "# Prepare your validation strategy\n",
    "\n",
    "We'll use the validation strategy called `holdout`. For this strategy, the idea is to hide part of your dataframe to estimate the error on a data you haven't seen before. \n",
    "\n",
    "So you'll be able to use part of your dataset to train your model and then use the never-seen part of your dataset to have a good estimate of the error when the model goes to production."
   ]
  },
  {
   "cell_type": "markdown",
   "metadata": {
    "colab_type": "text",
    "id": "cnnEBBFb1b6a"
   },
   "source": [
    "## Separate your `X` dataset into a dataset called `X_train` and another called `X_test`. Of course, also create a pandas series containing `y_train` and `y_test`. "
   ]
  },
  {
   "cell_type": "code",
   "execution_count": 30,
   "metadata": {
    "ExecuteTime": {
     "end_time": "2020-07-21T17:13:20.226512Z",
     "start_time": "2020-07-21T17:13:20.159551Z"
    },
    "colab": {},
    "colab_type": "code",
    "id": "zz5AWzDg1b6b"
   },
   "outputs": [],
   "source": [
    "from sklearn.model_selection import train_test_split\n",
    "X_train,X_test,y_train,y_test=train_test_split(X_dummy,y)"
   ]
  },
  {
   "cell_type": "markdown",
   "metadata": {
    "colab_type": "text",
    "id": "P_gR64k41b6y"
   },
   "source": [
    "# You'll be able to concat the `X_train` and `y_train`. Do the same for `X_test` and `y_test`. Put them into dataframes called `titanic_train` and `titanic_test`"
   ]
  },
  {
   "cell_type": "code",
   "execution_count": 31,
   "metadata": {
    "ExecuteTime": {
     "end_time": "2020-07-21T17:13:20.242504Z",
     "start_time": "2020-07-21T17:13:20.229512Z"
    },
    "colab": {},
    "colab_type": "code",
    "id": "UuUf6I5H1b6z",
    "scrolled": true
   },
   "outputs": [],
   "source": [
    "titanic_train = pd.concat([X_train,y_train],axis=1)\n",
    "titanic_test = pd.concat([X_test,y_test],axis=1)"
   ]
  },
  {
   "cell_type": "markdown",
   "metadata": {
    "colab_type": "text",
    "id": "dmVN7plq1b64"
   },
   "source": [
    "# And store it on your own folder."
   ]
  },
  {
   "cell_type": "code",
   "execution_count": 32,
   "metadata": {
    "ExecuteTime": {
     "end_time": "2020-07-21T17:13:20.584309Z",
     "start_time": "2020-07-21T17:13:20.246502Z"
    },
    "colab": {},
    "colab_type": "code",
    "id": "fGSX4cdO1b66"
   },
   "outputs": [],
   "source": [
    "titanic_train.to_csv('titanic_train.csv', index=False)\n",
    "titanic_test.to_csv('titanic_test.csv', index=False)"
   ]
  }
 ],
 "metadata": {
  "colab": {
   "collapsed_sections": [
    "ysacJZC41b6F"
   ],
   "name": "titanic-exploration_as.ipynb",
   "provenance": []
  },
  "hide_input": false,
  "kernelspec": {
   "display_name": "Python 3",
   "language": "python",
   "name": "python3"
  },
  "language_info": {
   "codemirror_mode": {
    "name": "ipython",
    "version": 3
   },
   "file_extension": ".py",
   "mimetype": "text/x-python",
   "name": "python",
   "nbconvert_exporter": "python",
   "pygments_lexer": "ipython3",
   "version": "3.7.3"
  },
  "toc": {
   "base_numbering": 1,
   "nav_menu": {},
   "number_sections": true,
   "sideBar": true,
   "skip_h1_title": false,
   "title_cell": "Table of Contents",
   "title_sidebar": "Contents",
   "toc_cell": false,
   "toc_position": {},
   "toc_section_display": true,
   "toc_window_display": false
  },
  "varInspector": {
   "cols": {
    "lenName": 16,
    "lenType": 16,
    "lenVar": 40
   },
   "kernels_config": {
    "python": {
     "delete_cmd_postfix": "",
     "delete_cmd_prefix": "del ",
     "library": "var_list.py",
     "varRefreshCmd": "print(var_dic_list())"
    },
    "r": {
     "delete_cmd_postfix": ") ",
     "delete_cmd_prefix": "rm(",
     "library": "var_list.r",
     "varRefreshCmd": "cat(var_dic_list()) "
    }
   },
   "types_to_exclude": [
    "module",
    "function",
    "builtin_function_or_method",
    "instance",
    "_Feature"
   ],
   "window_display": false
  }
 },
 "nbformat": 4,
 "nbformat_minor": 1
}
