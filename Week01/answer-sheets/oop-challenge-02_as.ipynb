{
 "cells": [
  {
   "cell_type": "markdown",
   "metadata": {},
   "source": [
    "# Lab - Object Oriented Programming"
   ]
  },
  {
   "cell_type": "markdown",
   "metadata": {},
   "source": [
    "# Challenge 2"
   ]
  },
  {
   "cell_type": "markdown",
   "metadata": {},
   "source": [
    "In order to understand the benefits of simple object-oriented programming, we have to build up our classes from the beginning. "
   ]
  },
  {
   "cell_type": "code",
   "execution_count": 1,
   "metadata": {
    "ExecuteTime": {
     "end_time": "2020-06-04T15:33:08.666419Z",
     "start_time": "2020-06-04T15:33:08.010749Z"
    }
   },
   "outputs": [],
   "source": [
    "import pandas as pd"
   ]
  },
  {
   "cell_type": "code",
   "execution_count": 2,
   "metadata": {
    "ExecuteTime": {
     "end_time": "2020-06-04T15:33:08.675415Z",
     "start_time": "2020-06-04T15:33:08.670416Z"
    }
   },
   "outputs": [],
   "source": [
    "import numpy as np"
   ]
  },
  {
   "cell_type": "code",
   "execution_count": null,
   "metadata": {},
   "outputs": [],
   "source": []
  },
  {
   "cell_type": "code",
   "execution_count": 3,
   "metadata": {
    "ExecuteTime": {
     "end_time": "2020-06-04T15:33:08.692403Z",
     "start_time": "2020-06-04T15:33:08.678416Z"
    }
   },
   "outputs": [],
   "source": [
    "chars = ['a', 'b', 'c','d', 'e', 'f', ' ', 'á','é','ó']\n",
    "\n",
    "def create_weird_dataframe(size=10):\n",
    "    def create_weird_colnames(size=size):\n",
    "        probs = [.2,.2,.15,.1,.1,.1,.05,.05,.025,.025]\n",
    "\n",
    "        return [''.join(\n",
    "            [(char.upper() if np.random.random() < 0.2 else char) \n",
    "                     for char in np.random.choice(chars,size=12, p=probs)]) for i in range(size)]\n",
    "    \n",
    "    data = np.random.random(size=(size,size))\n",
    "    colnames = create_weird_colnames(size)\n",
    "    return pd.DataFrame(data=data, columns=colnames)"
   ]
  },
  {
   "cell_type": "code",
   "execution_count": 4,
   "metadata": {
    "ExecuteTime": {
     "end_time": "2020-06-04T15:33:08.707396Z",
     "start_time": "2020-06-04T15:33:08.694405Z"
    }
   },
   "outputs": [],
   "source": [
    "df = create_weird_dataframe()"
   ]
  },
  {
   "cell_type": "code",
   "execution_count": 5,
   "metadata": {
    "ExecuteTime": {
     "end_time": "2020-06-04T15:33:08.758367Z",
     "start_time": "2020-06-04T15:33:08.717390Z"
    }
   },
   "outputs": [
    {
     "data": {
      "text/html": [
       "<div>\n",
       "<style scoped>\n",
       "    .dataframe tbody tr th:only-of-type {\n",
       "        vertical-align: middle;\n",
       "    }\n",
       "\n",
       "    .dataframe tbody tr th {\n",
       "        vertical-align: top;\n",
       "    }\n",
       "\n",
       "    .dataframe thead th {\n",
       "        text-align: right;\n",
       "    }\n",
       "</style>\n",
       "<table border=\"1\" class=\"dataframe\">\n",
       "  <thead>\n",
       "    <tr style=\"text-align: right;\">\n",
       "      <th></th>\n",
       "      <th>aeCfa Áddeód</th>\n",
       "      <th>CáadbeaFdbéc</th>\n",
       "      <th>dcbdbeécdaCf</th>\n",
       "      <th>eéaecbbaóa</th>\n",
       "      <th>cabecáacecAa</th>\n",
       "      <th>daceacabDaaB</th>\n",
       "      <th>ebdbbbFaaace</th>\n",
       "      <th>eác daaAfbEe</th>\n",
       "      <th>acbbbb cÁdca</th>\n",
       "      <th>aCca eáecafe</th>\n",
       "    </tr>\n",
       "  </thead>\n",
       "  <tbody>\n",
       "    <tr>\n",
       "      <th>0</th>\n",
       "      <td>0.199187</td>\n",
       "      <td>0.398402</td>\n",
       "      <td>0.975118</td>\n",
       "      <td>0.846886</td>\n",
       "      <td>0.987590</td>\n",
       "      <td>0.347504</td>\n",
       "      <td>0.937634</td>\n",
       "      <td>0.222918</td>\n",
       "      <td>0.735547</td>\n",
       "      <td>0.438256</td>\n",
       "    </tr>\n",
       "    <tr>\n",
       "      <th>1</th>\n",
       "      <td>0.453212</td>\n",
       "      <td>0.224651</td>\n",
       "      <td>0.519387</td>\n",
       "      <td>0.966593</td>\n",
       "      <td>0.292769</td>\n",
       "      <td>0.242348</td>\n",
       "      <td>0.305621</td>\n",
       "      <td>0.031690</td>\n",
       "      <td>0.081942</td>\n",
       "      <td>0.425011</td>\n",
       "    </tr>\n",
       "    <tr>\n",
       "      <th>2</th>\n",
       "      <td>0.965383</td>\n",
       "      <td>0.091156</td>\n",
       "      <td>0.265362</td>\n",
       "      <td>0.079468</td>\n",
       "      <td>0.613876</td>\n",
       "      <td>0.575571</td>\n",
       "      <td>0.702044</td>\n",
       "      <td>0.518878</td>\n",
       "      <td>0.667119</td>\n",
       "      <td>0.418099</td>\n",
       "    </tr>\n",
       "    <tr>\n",
       "      <th>3</th>\n",
       "      <td>0.672424</td>\n",
       "      <td>0.672365</td>\n",
       "      <td>0.234631</td>\n",
       "      <td>0.723158</td>\n",
       "      <td>0.877574</td>\n",
       "      <td>0.638436</td>\n",
       "      <td>0.133321</td>\n",
       "      <td>0.313445</td>\n",
       "      <td>0.873641</td>\n",
       "      <td>0.573430</td>\n",
       "    </tr>\n",
       "    <tr>\n",
       "      <th>4</th>\n",
       "      <td>0.481717</td>\n",
       "      <td>0.145632</td>\n",
       "      <td>0.348596</td>\n",
       "      <td>0.209323</td>\n",
       "      <td>0.253371</td>\n",
       "      <td>0.620669</td>\n",
       "      <td>0.719409</td>\n",
       "      <td>0.027697</td>\n",
       "      <td>0.419593</td>\n",
       "      <td>0.741562</td>\n",
       "    </tr>\n",
       "    <tr>\n",
       "      <th>5</th>\n",
       "      <td>0.959883</td>\n",
       "      <td>0.038726</td>\n",
       "      <td>0.880266</td>\n",
       "      <td>0.886011</td>\n",
       "      <td>0.190402</td>\n",
       "      <td>0.875896</td>\n",
       "      <td>0.217855</td>\n",
       "      <td>0.047598</td>\n",
       "      <td>0.950035</td>\n",
       "      <td>0.594544</td>\n",
       "    </tr>\n",
       "    <tr>\n",
       "      <th>6</th>\n",
       "      <td>0.292821</td>\n",
       "      <td>0.736027</td>\n",
       "      <td>0.612898</td>\n",
       "      <td>0.428007</td>\n",
       "      <td>0.062540</td>\n",
       "      <td>0.210433</td>\n",
       "      <td>0.533596</td>\n",
       "      <td>0.304629</td>\n",
       "      <td>0.889518</td>\n",
       "      <td>0.220318</td>\n",
       "    </tr>\n",
       "    <tr>\n",
       "      <th>7</th>\n",
       "      <td>0.684929</td>\n",
       "      <td>0.031012</td>\n",
       "      <td>0.292201</td>\n",
       "      <td>0.364370</td>\n",
       "      <td>0.773122</td>\n",
       "      <td>0.516914</td>\n",
       "      <td>0.041169</td>\n",
       "      <td>0.444118</td>\n",
       "      <td>0.115684</td>\n",
       "      <td>0.826400</td>\n",
       "    </tr>\n",
       "    <tr>\n",
       "      <th>8</th>\n",
       "      <td>0.617526</td>\n",
       "      <td>0.566558</td>\n",
       "      <td>0.057939</td>\n",
       "      <td>0.854259</td>\n",
       "      <td>0.327145</td>\n",
       "      <td>0.810291</td>\n",
       "      <td>0.279184</td>\n",
       "      <td>0.184537</td>\n",
       "      <td>0.633631</td>\n",
       "      <td>0.225516</td>\n",
       "    </tr>\n",
       "    <tr>\n",
       "      <th>9</th>\n",
       "      <td>0.608918</td>\n",
       "      <td>0.635304</td>\n",
       "      <td>0.064255</td>\n",
       "      <td>0.204148</td>\n",
       "      <td>0.518271</td>\n",
       "      <td>0.543936</td>\n",
       "      <td>0.226176</td>\n",
       "      <td>0.664690</td>\n",
       "      <td>0.901027</td>\n",
       "      <td>0.416823</td>\n",
       "    </tr>\n",
       "  </tbody>\n",
       "</table>\n",
       "</div>"
      ],
      "text/plain": [
       "   aeCfa Áddeód  CáadbeaFdbéc  dcbdbeécdaCf  eéaecbbaóa    cabecáacecAa  \\\n",
       "0      0.199187      0.398402      0.975118      0.846886      0.987590   \n",
       "1      0.453212      0.224651      0.519387      0.966593      0.292769   \n",
       "2      0.965383      0.091156      0.265362      0.079468      0.613876   \n",
       "3      0.672424      0.672365      0.234631      0.723158      0.877574   \n",
       "4      0.481717      0.145632      0.348596      0.209323      0.253371   \n",
       "5      0.959883      0.038726      0.880266      0.886011      0.190402   \n",
       "6      0.292821      0.736027      0.612898      0.428007      0.062540   \n",
       "7      0.684929      0.031012      0.292201      0.364370      0.773122   \n",
       "8      0.617526      0.566558      0.057939      0.854259      0.327145   \n",
       "9      0.608918      0.635304      0.064255      0.204148      0.518271   \n",
       "\n",
       "   daceacabDaaB  ebdbbbFaaace  eác daaAfbEe  acbbbb cÁdca  aCca eáecafe  \n",
       "0      0.347504      0.937634      0.222918      0.735547      0.438256  \n",
       "1      0.242348      0.305621      0.031690      0.081942      0.425011  \n",
       "2      0.575571      0.702044      0.518878      0.667119      0.418099  \n",
       "3      0.638436      0.133321      0.313445      0.873641      0.573430  \n",
       "4      0.620669      0.719409      0.027697      0.419593      0.741562  \n",
       "5      0.875896      0.217855      0.047598      0.950035      0.594544  \n",
       "6      0.210433      0.533596      0.304629      0.889518      0.220318  \n",
       "7      0.516914      0.041169      0.444118      0.115684      0.826400  \n",
       "8      0.810291      0.279184      0.184537      0.633631      0.225516  \n",
       "9      0.543936      0.226176      0.664690      0.901027      0.416823  "
      ]
     },
     "execution_count": 5,
     "metadata": {},
     "output_type": "execute_result"
    }
   ],
   "source": [
    "df"
   ]
  },
  {
   "cell_type": "markdown",
   "metadata": {},
   "source": [
    "## Correcting the column names"
   ]
  },
  {
   "cell_type": "markdown",
   "metadata": {},
   "source": [
    "### let's start simple: get the column names of the dataframe.\n",
    "\n",
    "Store it in a variable called `col_names`\n"
   ]
  },
  {
   "cell_type": "code",
   "execution_count": 6,
   "metadata": {
    "ExecuteTime": {
     "end_time": "2020-06-04T15:33:08.771361Z",
     "start_time": "2020-06-04T15:33:08.764363Z"
    }
   },
   "outputs": [
    {
     "data": {
      "text/plain": [
       "Index(['aeCfa Áddeód', 'CáadbeaFdbéc', 'dcbdbeécdaCf', 'eéaecbbaóa  ',\n",
       "       'cabecáacecAa', 'daceacabDaaB', 'ebdbbbFaaace', 'eác daaAfbEe',\n",
       "       'acbbbb cÁdca', 'aCca eáecafe'],\n",
       "      dtype='object')"
      ]
     },
     "execution_count": 6,
     "metadata": {},
     "output_type": "execute_result"
    }
   ],
   "source": [
    "col_names = df.columns\n",
    "col_names"
   ]
  },
  {
   "cell_type": "markdown",
   "metadata": {},
   "source": [
    "### Let's iterate through this columns and transform them into lower-case column names\n",
    "\n",
    "Create a list comprehension to do that if possible. Store it in a variable called `lower_colnames`"
   ]
  },
  {
   "cell_type": "code",
   "execution_count": 7,
   "metadata": {
    "ExecuteTime": {
     "end_time": "2020-06-04T15:33:08.784351Z",
     "start_time": "2020-06-04T15:33:08.774356Z"
    }
   },
   "outputs": [],
   "source": [
    "lower_colnames = [col.lower() for col in col_names]"
   ]
  },
  {
   "cell_type": "code",
   "execution_count": 8,
   "metadata": {
    "ExecuteTime": {
     "end_time": "2020-06-04T15:33:08.803340Z",
     "start_time": "2020-06-04T15:33:08.786350Z"
    }
   },
   "outputs": [
    {
     "data": {
      "text/plain": [
       "['aecfa áddeód',\n",
       " 'cáadbeafdbéc',\n",
       " 'dcbdbeécdacf',\n",
       " 'eéaecbbaóa  ',\n",
       " 'cabecáacecaa',\n",
       " 'daceacabdaab',\n",
       " 'ebdbbbfaaace',\n",
       " 'eác daaafbee',\n",
       " 'acbbbb cádca',\n",
       " 'acca eáecafe']"
      ]
     },
     "execution_count": 8,
     "metadata": {},
     "output_type": "execute_result"
    }
   ],
   "source": [
    "lower_colnames"
   ]
  },
  {
   "cell_type": "markdown",
   "metadata": {},
   "source": [
    "### Let's remove the spaces of these column names!\n",
    "\n",
    "Replace each column name space ` ` for an underline `_`. Again, try to use a list comprehension to do that. \n",
    "For this first task use `.replace(' ','_')` method to do that."
   ]
  },
  {
   "cell_type": "code",
   "execution_count": 9,
   "metadata": {
    "ExecuteTime": {
     "end_time": "2020-06-04T15:33:08.822332Z",
     "start_time": "2020-06-04T15:33:08.806338Z"
    }
   },
   "outputs": [
    {
     "data": {
      "text/plain": [
       "['aecfa_áddeód',\n",
       " 'cáadbeafdbéc',\n",
       " 'dcbdbeécdacf',\n",
       " 'eéaecbbaóa__',\n",
       " 'cabecáacecaa',\n",
       " 'daceacabdaab',\n",
       " 'ebdbbbfaaace',\n",
       " 'eác_daaafbee',\n",
       " 'acbbbb_cádca',\n",
       " 'acca_eáecafe']"
      ]
     },
     "execution_count": 9,
     "metadata": {},
     "output_type": "execute_result"
    }
   ],
   "source": [
    "[col.replace(' ','_') for col in lower_colnames]"
   ]
  },
  {
   "cell_type": "markdown",
   "metadata": {},
   "source": [
    "### Create a function that groups the results obtained above and return the lower case underlined names as a list\n",
    "\n",
    "Name the function `normalize_cols`. This function should receive a dataframe, get the column names of a it and return the treated list of column names."
   ]
  },
  {
   "cell_type": "code",
   "execution_count": 10,
   "metadata": {
    "ExecuteTime": {
     "end_time": "2020-06-04T15:33:08.836322Z",
     "start_time": "2020-06-04T15:33:08.826329Z"
    }
   },
   "outputs": [],
   "source": [
    "def normalize_cols(dataframe):\n",
    "    \"\"\"\n",
    "    Receive a dataframe, get its columns, put it in lower \n",
    "    case and then replace spaces by underlines.\n",
    "    \"\"\"\n",
    "    colnames = dataframe.columns\n",
    "    lower_colnames = [col.lower() for col in colnames]\n",
    "\n",
    "    return [col.replace(' ','_') for col in lower_colnames]"
   ]
  },
  {
   "cell_type": "markdown",
   "metadata": {},
   "source": [
    "### Test your results\n",
    "\n",
    "Use the following line of code to test your results. Run it several times to see some behaviors."
   ]
  },
  {
   "cell_type": "code",
   "execution_count": 11,
   "metadata": {
    "ExecuteTime": {
     "end_time": "2020-06-04T15:33:08.858311Z",
     "start_time": "2020-06-04T15:33:08.840320Z"
    }
   },
   "outputs": [
    {
     "data": {
      "text/plain": [
       "['dabbácc_ccóa',\n",
       " 'dc_db_fdabfe',\n",
       " 'bebaebacfbfb',\n",
       " 'ebed_cccfcáa',\n",
       " 'ab_bdábacbde',\n",
       " 'ádeaabcabcbe',\n",
       " 'ccaabcaábfbc',\n",
       " 'badacaeabább',\n",
       " 'aaaafbafcecc',\n",
       " '_éddcadffccó']"
      ]
     },
     "execution_count": 11,
     "metadata": {},
     "output_type": "execute_result"
    }
   ],
   "source": [
    "normalize_cols(create_weird_dataframe())"
   ]
  },
  {
   "cell_type": "markdown",
   "metadata": {},
   "source": [
    "### hmmm, we made a mistake!\n",
    "\n",
    "We've commited several mistakes by doing this. Have observed any bugs associated with our results?"
   ]
  },
  {
   "cell_type": "markdown",
   "metadata": {},
   "source": [
    "In order for us to see some problems in our results, we have to look for edge cases. \n",
    "\n",
    "For example: \n",
    "\n",
    "**Problem #1:** what if there are 2 or more following spaces? We want it to replace the spaces by several underlines or condense them into one?\n",
    "\n",
    "**Problem #2:** what if there are spaces at the beginning? Should we substitute them by underline or drop them?"
   ]
  },
  {
   "cell_type": "markdown",
   "metadata": {},
   "source": [
    "Let's correct each problem. Starting by problem 2."
   ]
  },
  {
   "cell_type": "markdown",
   "metadata": {},
   "source": [
    "## Correcting our function\n",
    "\n",
    "Instead of substituting the spaces at first place, let's remove the trailing and leading spaces!\n",
    "\n",
    "Recreate the `normalize_cols` with the solution to `Problem 2`.\n",
    "\n",
    "*Hint: Copy and paste the last `normalize_cols` function to change it.*"
   ]
  },
  {
   "cell_type": "code",
   "execution_count": 12,
   "metadata": {
    "ExecuteTime": {
     "end_time": "2020-06-04T15:33:08.872303Z",
     "start_time": "2020-06-04T15:33:08.862309Z"
    }
   },
   "outputs": [],
   "source": [
    "def normalize_cols(dataframe):\n",
    "    \"\"\"\n",
    "    Receive a dataframe, get its columns, put it in lower \n",
    "    case, strip leading and trailing spaces and then replace \n",
    "    the remaining spaces by underlines.\n",
    "    \"\"\"\n",
    "    colnames = dataframe.columns\n",
    "    lower_colnames = [col.lower().strip() for col in colnames]\n",
    "\n",
    "    return [col.replace(' ','_') for col in lower_colnames]"
   ]
  },
  {
   "cell_type": "markdown",
   "metadata": {},
   "source": [
    "### Test your results again.\n",
    "\n",
    "At least, for now, you should not have any trailing nor leading underlines."
   ]
  },
  {
   "cell_type": "code",
   "execution_count": 13,
   "metadata": {
    "ExecuteTime": {
     "end_time": "2020-06-04T15:33:08.893181Z",
     "start_time": "2020-06-04T15:33:08.875300Z"
    }
   },
   "outputs": [
    {
     "data": {
      "text/plain": [
       "['eafdae_éeób',\n",
       " 'aáaóebbdbcda',\n",
       " 'ócédaedbeeee',\n",
       " 'éabbbbáa_bbá',\n",
       " 'abbafbfbcd_c',\n",
       " 'adfab_aáfácd',\n",
       " 'cddcbc_bafb',\n",
       " 'efacdadbáed',\n",
       " 'badacfaedbób',\n",
       " 'cfecfaé_bbbb']"
      ]
     },
     "execution_count": 13,
     "metadata": {},
     "output_type": "execute_result"
    }
   ],
   "source": [
    "normalize_cols(create_weird_dataframe())"
   ]
  },
  {
   "cell_type": "markdown",
   "metadata": {},
   "source": [
    "### Correcting problem 1"
   ]
  },
  {
   "cell_type": "markdown",
   "metadata": {},
   "source": [
    "To correct problem 1, instead of using `.replace()` string method, we want to use a regular expression. Use the module `re` to substitute the pattern of `1 or more spaces` by 1 underline `_`.\n",
    "\n",
    "Test your solution on the variable below:"
   ]
  },
  {
   "cell_type": "code",
   "execution_count": 14,
   "metadata": {
    "ExecuteTime": {
     "end_time": "2020-06-04T15:33:08.906175Z",
     "start_time": "2020-06-04T15:33:08.895180Z"
    }
   },
   "outputs": [],
   "source": [
    "import re \n",
    "\n",
    "text = 'these spaces      should all be one underline'"
   ]
  },
  {
   "cell_type": "code",
   "execution_count": 15,
   "metadata": {
    "ExecuteTime": {
     "end_time": "2020-06-04T15:33:08.923166Z",
     "start_time": "2020-06-04T15:33:08.908173Z"
    }
   },
   "outputs": [
    {
     "data": {
      "text/plain": [
       "'these_spaces_should_all_be_one_underline'"
      ]
     },
     "execution_count": 15,
     "metadata": {},
     "output_type": "execute_result"
    }
   ],
   "source": [
    "re.sub('\\s+','_', text)"
   ]
  },
  {
   "cell_type": "markdown",
   "metadata": {},
   "source": [
    "### Now correct your `normalize_cols` function\n",
    "\n",
    "*Hint: Copy and paste the last `normalize_cols` function to change it.*"
   ]
  },
  {
   "cell_type": "code",
   "execution_count": 16,
   "metadata": {
    "ExecuteTime": {
     "end_time": "2020-06-04T15:33:08.937156Z",
     "start_time": "2020-06-04T15:33:08.927163Z"
    }
   },
   "outputs": [],
   "source": [
    "def normalize_cols(dataframe):\n",
    "    \"\"\"\n",
    "    Receive a dataframe, get its columns, put it in lower \n",
    "    case, strip leading and trailing spaces. The inner remaining \n",
    "    spaces are then substituted by underlines (consecutive spaces\n",
    "    are ignored).\n",
    "    \"\"\"\n",
    "    colnames = dataframe.columns\n",
    "    lower_colnames = [col.lower().strip() for col in colnames]\n",
    "\n",
    "    return [re.sub('\\s+', '_', col) for col in lower_colnames]"
   ]
  },
  {
   "cell_type": "markdown",
   "metadata": {},
   "source": [
    "### Again, test your results.\n",
    "\n",
    "Now, sometimes some column names should have smaller sizes (because you are removing consecutive spaces)"
   ]
  },
  {
   "cell_type": "code",
   "execution_count": 17,
   "metadata": {
    "ExecuteTime": {
     "end_time": "2020-06-04T15:33:08.963143Z",
     "start_time": "2020-06-04T15:33:08.941155Z"
    }
   },
   "outputs": [
    {
     "data": {
      "text/plain": [
       "['b_eeé_fcbbdb',\n",
       " 'béaábabbaedc',\n",
       " 'acbbbááaáeae',\n",
       " 'eaacdfbbadb',\n",
       " 'caccadcaóéaa',\n",
       " 'aeaá_ácdae',\n",
       " 'aabebbedbáác',\n",
       " 'áfdcbácfadcf',\n",
       " 'ebffbaáefeda',\n",
       " 'áfdófbcbcbáf']"
      ]
     },
     "execution_count": 17,
     "metadata": {},
     "output_type": "execute_result"
    }
   ],
   "source": [
    "normalize_cols(create_weird_dataframe())"
   ]
  },
  {
   "cell_type": "markdown",
   "metadata": {},
   "source": [
    "## Last step: remove accents"
   ]
  },
  {
   "cell_type": "markdown",
   "metadata": {},
   "source": [
    "The last step consists in removing accents from the strings.\n",
    "\n",
    "Import the package `unidecode` to use its module also called `unidecode` to remove accents. Test on the word below."
   ]
  },
  {
   "cell_type": "code",
   "execution_count": 18,
   "metadata": {
    "ExecuteTime": {
     "end_time": "2020-06-04T15:33:08.976133Z",
     "start_time": "2020-06-04T15:33:08.967140Z"
    }
   },
   "outputs": [],
   "source": [
    "from unidecode import unidecode"
   ]
  },
  {
   "cell_type": "code",
   "execution_count": 19,
   "metadata": {
    "ExecuteTime": {
     "end_time": "2020-06-04T15:33:08.987798Z",
     "start_time": "2020-06-04T15:33:08.978133Z"
    }
   },
   "outputs": [],
   "source": [
    "text = 'aéóúaorowó'"
   ]
  },
  {
   "cell_type": "code",
   "execution_count": 20,
   "metadata": {
    "ExecuteTime": {
     "end_time": "2020-06-04T15:33:09.007783Z",
     "start_time": "2020-06-04T15:33:08.990795Z"
    }
   },
   "outputs": [
    {
     "data": {
      "text/plain": [
       "'aeouaorowo'"
      ]
     },
     "execution_count": 20,
     "metadata": {},
     "output_type": "execute_result"
    }
   ],
   "source": [
    "unidecode(text)"
   ]
  },
  {
   "cell_type": "markdown",
   "metadata": {},
   "source": [
    "### Now remove the accents for each column name in your `normalized_cols` function.\n",
    "\n",
    "*Hint: Copy and paste the last `normalize_cols` function to change it.*"
   ]
  },
  {
   "cell_type": "code",
   "execution_count": 21,
   "metadata": {
    "ExecuteTime": {
     "end_time": "2020-06-04T15:33:09.021775Z",
     "start_time": "2020-06-04T15:33:09.010782Z"
    }
   },
   "outputs": [],
   "source": [
    "def normalize_cols(dataframe):\n",
    "    \"\"\"\n",
    "    Receive a dataframe, get its columns, put it in lower \n",
    "    case and strip leading and trailing spaces. The inner remaining \n",
    "    spaces are then substituted by underlines (consecutive spaces\n",
    "    are ignored).\n",
    "    \"\"\"\n",
    "    colnames = dataframe.columns\n",
    "    lower_colnames = [col.lower().strip() for col in colnames]\n",
    "\n",
    "    return [unidecode(re.sub('\\s+', '_', col)) for col in lower_colnames]"
   ]
  },
  {
   "cell_type": "markdown",
   "metadata": {},
   "source": [
    "### Test your results"
   ]
  },
  {
   "cell_type": "code",
   "execution_count": 22,
   "metadata": {
    "ExecuteTime": {
     "end_time": "2020-06-04T15:33:09.044763Z",
     "start_time": "2020-06-04T15:33:09.024773Z"
    }
   },
   "outputs": [
    {
     "data": {
      "text/plain": [
       "['aabddcfdfebb',\n",
       " 'a_accceaedca',\n",
       " 'b_daaadaafdc',\n",
       " 'cceebcbdfbcc',\n",
       " 'eaaabaoe_cfd',\n",
       " 'aacbeobcaafd',\n",
       " 'cacaefdacbf',\n",
       " 'afaaadfbbfoo',\n",
       " 'coaafeadefeb',\n",
       " 'odaaaaaebebb']"
      ]
     },
     "execution_count": 22,
     "metadata": {},
     "output_type": "execute_result"
    }
   ],
   "source": [
    "normalize_cols(create_weird_dataframe())"
   ]
  },
  {
   "cell_type": "markdown",
   "metadata": {},
   "source": [
    "## Good job. \n",
    "\n",
    "Right now you have a function that receives a dataframe and returns its columns names with a good formatting."
   ]
  },
  {
   "cell_type": "markdown",
   "metadata": {},
   "source": [
    "# Creating our own dataframe."
   ]
  },
  {
   "cell_type": "code",
   "execution_count": 23,
   "metadata": {
    "ExecuteTime": {
     "end_time": "2020-06-04T15:33:09.061752Z",
     "start_time": "2020-06-04T15:33:09.048764Z"
    }
   },
   "outputs": [],
   "source": [
    "from pandas import DataFrame"
   ]
  },
  {
   "cell_type": "markdown",
   "metadata": {},
   "source": [
    "A dataframe is just a simple class. It contains its own attributes and methods. \n",
    "\n",
    "When you create a pd.DataFrame() you are just instantiating the DataFrame class as an object that you can store in a variable. From this point onwards, you have access to all DataFrame class attributes (`.columns` for example) and methods (`.isna()` for example). We've been using those since always! "
   ]
  },
  {
   "cell_type": "markdown",
   "metadata": {},
   "source": [
    "If we wish, we could create our own class inheriting everything from a DataFrame class."
   ]
  },
  {
   "cell_type": "code",
   "execution_count": 24,
   "metadata": {
    "ExecuteTime": {
     "end_time": "2020-06-04T15:33:09.100730Z",
     "start_time": "2020-06-04T15:33:09.064752Z"
    }
   },
   "outputs": [],
   "source": [
    "class myDataFrame(DataFrame):\n",
    "    pass"
   ]
  },
  {
   "cell_type": "markdown",
   "metadata": {},
   "source": [
    "Instead of just creating myDataFrame, put your function inside your new inherited class, that is, transform `normalize_cols` into a method of your own DataFrame.\n",
    "\n",
    "Remember you'll have to give self as the first argument of the `normalize_cols`. So you could replace everything you once called `dataframe` inside your `normalize_cols` by `self`. \n",
    "\n",
    "At the end, return the list of the correct names."
   ]
  },
  {
   "cell_type": "code",
   "execution_count": 25,
   "metadata": {
    "ExecuteTime": {
     "end_time": "2020-06-04T15:33:09.115723Z",
     "start_time": "2020-06-04T15:33:09.103729Z"
    }
   },
   "outputs": [],
   "source": [
    "class myDataFrame(DataFrame):\n",
    "    \n",
    "    \n",
    "    def normalize_cols(self):\n",
    "        \"\"\"\n",
    "        Receive a dataframe, get its columns, put it in lower \n",
    "        case and strip leading and trailing spaces. The inner remaining \n",
    "        spaces are then substituted by underlines (consecutive spaces\n",
    "        are ignored).\n",
    "        \"\"\"\n",
    "        colnames = self.columns\n",
    "        lower_colnames = [col.lower().strip() for col in colnames]\n",
    "\n",
    "        return [unidecode(re.sub('\\s+', '_', col)) for col in lower_colnames]"
   ]
  },
  {
   "cell_type": "code",
   "execution_count": 26,
   "metadata": {
    "ExecuteTime": {
     "end_time": "2020-06-04T15:33:09.135710Z",
     "start_time": "2020-06-04T15:33:09.119719Z"
    }
   },
   "outputs": [],
   "source": [
    "df = myDataFrame(create_weird_dataframe())"
   ]
  },
  {
   "cell_type": "code",
   "execution_count": 27,
   "metadata": {
    "ExecuteTime": {
     "end_time": "2020-06-04T15:33:09.152701Z",
     "start_time": "2020-06-04T15:33:09.137709Z"
    }
   },
   "outputs": [
    {
     "data": {
      "text/plain": [
       "['de_bfcoabdbb',\n",
       " 'abcoafeadbfe',\n",
       " 'acbcebdcbdba',\n",
       " 'fbbbabebbbbf',\n",
       " 'dfafbaabobba',\n",
       " 'fbaab_bebfbe',\n",
       " 'ffbbaeacdaac',\n",
       " 'cecaafdbdcae',\n",
       " 'bcebaabaddac',\n",
       " 'bdacbaeabade']"
      ]
     },
     "execution_count": 27,
     "metadata": {},
     "output_type": "execute_result"
    }
   ],
   "source": [
    "df.normalize_cols()"
   ]
  },
  {
   "cell_type": "markdown",
   "metadata": {},
   "source": [
    "## Understanding even more the `self` argument"
   ]
  },
  {
   "cell_type": "markdown",
   "metadata": {},
   "source": [
    "Instead of returning a list containing the correct columns, you should now assign the correct columns to the `self.columns` - this will effectively replace the values of your object by the correct columns.\n",
    "\n",
    "\n",
    "Now change your method to return the dataframe itself. That is, return the `self` argument this time and see the results! \n",
    "\n",
    "```python\n",
    "class myDataFrame(DataFrame):\n",
    "    def normalize_cos(self):\n",
    "        ...\n",
    "        return self\n",
    "```"
   ]
  },
  {
   "cell_type": "code",
   "execution_count": 28,
   "metadata": {
    "ExecuteTime": {
     "end_time": "2020-06-04T15:33:09.165694Z",
     "start_time": "2020-06-04T15:33:09.154699Z"
    }
   },
   "outputs": [],
   "source": [
    "class myDataFrame(DataFrame):\n",
    "    \n",
    "    \n",
    "    def normalize_cols(self):\n",
    "        \"\"\"\n",
    "        Receive a dataframe, get its columns, put it in lower \n",
    "        case and strip leading and trailing spaces. The inner remaining \n",
    "        spaces are then substituted by underlines (consecutive spaces\n",
    "        are ignored).\n",
    "        \"\"\"\n",
    "        colnames = self.columns\n",
    "        lower_colnames = [col.lower().strip() for col in colnames]\n",
    "\n",
    "        self.columns = [unidecode(re.sub('\\s+', '_', col)) for col in lower_colnames]\n",
    "        \n",
    "        return self"
   ]
  },
  {
   "cell_type": "code",
   "execution_count": 29,
   "metadata": {
    "ExecuteTime": {
     "end_time": "2020-06-04T15:33:09.183683Z",
     "start_time": "2020-06-04T15:33:09.169693Z"
    }
   },
   "outputs": [],
   "source": [
    "df = myDataFrame(create_weird_dataframe())"
   ]
  },
  {
   "cell_type": "code",
   "execution_count": 30,
   "metadata": {
    "ExecuteTime": {
     "end_time": "2020-06-04T15:33:09.216666Z",
     "start_time": "2020-06-04T15:33:09.185682Z"
    }
   },
   "outputs": [
    {
     "data": {
      "text/html": [
       "<div>\n",
       "<style scoped>\n",
       "    .dataframe tbody tr th:only-of-type {\n",
       "        vertical-align: middle;\n",
       "    }\n",
       "\n",
       "    .dataframe tbody tr th {\n",
       "        vertical-align: top;\n",
       "    }\n",
       "\n",
       "    .dataframe thead th {\n",
       "        text-align: right;\n",
       "    }\n",
       "</style>\n",
       "<table border=\"1\" class=\"dataframe\">\n",
       "  <thead>\n",
       "    <tr style=\"text-align: right;\">\n",
       "      <th></th>\n",
       "      <th>aadcdeca_abf</th>\n",
       "      <th>baaaaabbafbc</th>\n",
       "      <th>ecaeobfbabdb</th>\n",
       "      <th>faaeafcedaeo</th>\n",
       "      <th>abaafefeafef</th>\n",
       "      <th>dbdbedcedfbb</th>\n",
       "      <th>fcbbcbccbbfa</th>\n",
       "      <th>eeadcca_dcbe</th>\n",
       "      <th>abdbabaffcfa</th>\n",
       "      <th>ocfc_cdaec_e</th>\n",
       "    </tr>\n",
       "  </thead>\n",
       "  <tbody>\n",
       "    <tr>\n",
       "      <th>0</th>\n",
       "      <td>0.992265</td>\n",
       "      <td>0.013985</td>\n",
       "      <td>0.306525</td>\n",
       "      <td>0.145396</td>\n",
       "      <td>0.699617</td>\n",
       "      <td>0.208849</td>\n",
       "      <td>0.952534</td>\n",
       "      <td>0.853373</td>\n",
       "      <td>0.737597</td>\n",
       "      <td>0.646021</td>\n",
       "    </tr>\n",
       "    <tr>\n",
       "      <th>1</th>\n",
       "      <td>0.859571</td>\n",
       "      <td>0.525799</td>\n",
       "      <td>0.555252</td>\n",
       "      <td>0.598558</td>\n",
       "      <td>0.990336</td>\n",
       "      <td>0.935121</td>\n",
       "      <td>0.935251</td>\n",
       "      <td>0.610053</td>\n",
       "      <td>0.326483</td>\n",
       "      <td>0.089921</td>\n",
       "    </tr>\n",
       "    <tr>\n",
       "      <th>2</th>\n",
       "      <td>0.967077</td>\n",
       "      <td>0.998587</td>\n",
       "      <td>0.924792</td>\n",
       "      <td>0.535307</td>\n",
       "      <td>0.041123</td>\n",
       "      <td>0.522431</td>\n",
       "      <td>0.838041</td>\n",
       "      <td>0.813770</td>\n",
       "      <td>0.949964</td>\n",
       "      <td>0.428556</td>\n",
       "    </tr>\n",
       "    <tr>\n",
       "      <th>3</th>\n",
       "      <td>0.351920</td>\n",
       "      <td>0.829183</td>\n",
       "      <td>0.340245</td>\n",
       "      <td>0.143752</td>\n",
       "      <td>0.928423</td>\n",
       "      <td>0.066436</td>\n",
       "      <td>0.921498</td>\n",
       "      <td>0.183094</td>\n",
       "      <td>0.120287</td>\n",
       "      <td>0.946927</td>\n",
       "    </tr>\n",
       "    <tr>\n",
       "      <th>4</th>\n",
       "      <td>0.890208</td>\n",
       "      <td>0.299924</td>\n",
       "      <td>0.840376</td>\n",
       "      <td>0.832451</td>\n",
       "      <td>0.929200</td>\n",
       "      <td>0.129910</td>\n",
       "      <td>0.252889</td>\n",
       "      <td>0.897594</td>\n",
       "      <td>0.376965</td>\n",
       "      <td>0.898157</td>\n",
       "    </tr>\n",
       "    <tr>\n",
       "      <th>5</th>\n",
       "      <td>0.317338</td>\n",
       "      <td>0.202602</td>\n",
       "      <td>0.280636</td>\n",
       "      <td>0.374346</td>\n",
       "      <td>0.526599</td>\n",
       "      <td>0.404235</td>\n",
       "      <td>0.473472</td>\n",
       "      <td>0.279555</td>\n",
       "      <td>0.498785</td>\n",
       "      <td>0.183660</td>\n",
       "    </tr>\n",
       "    <tr>\n",
       "      <th>6</th>\n",
       "      <td>0.715458</td>\n",
       "      <td>0.308784</td>\n",
       "      <td>0.742676</td>\n",
       "      <td>0.711486</td>\n",
       "      <td>0.459589</td>\n",
       "      <td>0.179296</td>\n",
       "      <td>0.655836</td>\n",
       "      <td>0.682297</td>\n",
       "      <td>0.470768</td>\n",
       "      <td>0.645196</td>\n",
       "    </tr>\n",
       "    <tr>\n",
       "      <th>7</th>\n",
       "      <td>0.367267</td>\n",
       "      <td>0.153887</td>\n",
       "      <td>0.444649</td>\n",
       "      <td>0.806179</td>\n",
       "      <td>0.926605</td>\n",
       "      <td>0.374438</td>\n",
       "      <td>0.496570</td>\n",
       "      <td>0.504631</td>\n",
       "      <td>0.731201</td>\n",
       "      <td>0.652302</td>\n",
       "    </tr>\n",
       "    <tr>\n",
       "      <th>8</th>\n",
       "      <td>0.914172</td>\n",
       "      <td>0.693937</td>\n",
       "      <td>0.190177</td>\n",
       "      <td>0.282466</td>\n",
       "      <td>0.008858</td>\n",
       "      <td>0.375428</td>\n",
       "      <td>0.968578</td>\n",
       "      <td>0.363458</td>\n",
       "      <td>0.687028</td>\n",
       "      <td>0.891952</td>\n",
       "    </tr>\n",
       "    <tr>\n",
       "      <th>9</th>\n",
       "      <td>0.498294</td>\n",
       "      <td>0.079079</td>\n",
       "      <td>0.277786</td>\n",
       "      <td>0.646062</td>\n",
       "      <td>0.769159</td>\n",
       "      <td>0.039017</td>\n",
       "      <td>0.830641</td>\n",
       "      <td>0.124235</td>\n",
       "      <td>0.158045</td>\n",
       "      <td>0.367933</td>\n",
       "    </tr>\n",
       "  </tbody>\n",
       "</table>\n",
       "</div>"
      ],
      "text/plain": [
       "   aadcdeca_abf  baaaaabbafbc  ecaeobfbabdb  faaeafcedaeo  abaafefeafef  \\\n",
       "0      0.992265      0.013985      0.306525      0.145396      0.699617   \n",
       "1      0.859571      0.525799      0.555252      0.598558      0.990336   \n",
       "2      0.967077      0.998587      0.924792      0.535307      0.041123   \n",
       "3      0.351920      0.829183      0.340245      0.143752      0.928423   \n",
       "4      0.890208      0.299924      0.840376      0.832451      0.929200   \n",
       "5      0.317338      0.202602      0.280636      0.374346      0.526599   \n",
       "6      0.715458      0.308784      0.742676      0.711486      0.459589   \n",
       "7      0.367267      0.153887      0.444649      0.806179      0.926605   \n",
       "8      0.914172      0.693937      0.190177      0.282466      0.008858   \n",
       "9      0.498294      0.079079      0.277786      0.646062      0.769159   \n",
       "\n",
       "   dbdbedcedfbb  fcbbcbccbbfa  eeadcca_dcbe  abdbabaffcfa  ocfc_cdaec_e  \n",
       "0      0.208849      0.952534      0.853373      0.737597      0.646021  \n",
       "1      0.935121      0.935251      0.610053      0.326483      0.089921  \n",
       "2      0.522431      0.838041      0.813770      0.949964      0.428556  \n",
       "3      0.066436      0.921498      0.183094      0.120287      0.946927  \n",
       "4      0.129910      0.252889      0.897594      0.376965      0.898157  \n",
       "5      0.404235      0.473472      0.279555      0.498785      0.183660  \n",
       "6      0.179296      0.655836      0.682297      0.470768      0.645196  \n",
       "7      0.374438      0.496570      0.504631      0.731201      0.652302  \n",
       "8      0.375428      0.968578      0.363458      0.687028      0.891952  \n",
       "9      0.039017      0.830641      0.124235      0.158045      0.367933  "
      ]
     },
     "execution_count": 30,
     "metadata": {},
     "output_type": "execute_result"
    }
   ],
   "source": [
    "df.normalize_cols()"
   ]
  }
 ],
 "metadata": {
  "hide_input": false,
  "kernelspec": {
   "display_name": "Python 3",
   "language": "python",
   "name": "python3"
  },
  "language_info": {
   "codemirror_mode": {
    "name": "ipython",
    "version": 3
   },
   "file_extension": ".py",
   "mimetype": "text/x-python",
   "name": "python",
   "nbconvert_exporter": "python",
   "pygments_lexer": "ipython3",
   "version": "3.7.4"
  },
  "toc": {
   "base_numbering": 1,
   "nav_menu": {},
   "number_sections": true,
   "sideBar": true,
   "skip_h1_title": false,
   "title_cell": "Table of Contents",
   "title_sidebar": "Contents",
   "toc_cell": false,
   "toc_position": {},
   "toc_section_display": true,
   "toc_window_display": false
  },
  "varInspector": {
   "cols": {
    "lenName": 16,
    "lenType": 16,
    "lenVar": 40
   },
   "kernels_config": {
    "python": {
     "delete_cmd_postfix": "",
     "delete_cmd_prefix": "del ",
     "library": "var_list.py",
     "varRefreshCmd": "print(var_dic_list())"
    },
    "r": {
     "delete_cmd_postfix": ") ",
     "delete_cmd_prefix": "rm(",
     "library": "var_list.r",
     "varRefreshCmd": "cat(var_dic_list()) "
    }
   },
   "types_to_exclude": [
    "module",
    "function",
    "builtin_function_or_method",
    "instance",
    "_Feature"
   ],
   "window_display": false
  }
 },
 "nbformat": 4,
 "nbformat_minor": 2
}
