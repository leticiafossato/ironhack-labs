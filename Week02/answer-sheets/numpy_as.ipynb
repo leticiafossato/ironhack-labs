{
 "cells": [
  {
   "cell_type": "markdown",
   "metadata": {},
   "source": [
    "![Ironhack logo](https://i.imgur.com/1QgrNNw.png)\n",
    "\n",
    "# Lab | Numpy\n",
    "\n",
    "## Introduction\n",
    "\n",
    "An important ability of a data scientist/data engineer is to know where and how to find information that helps you to accomplish your work. In the exercise, you will both practice the Numpy features we discussed in the lesson and learn new features by looking up documentations and references. You will work on your own but remember the teaching staff is at your service whenever you encounter problems.\n",
    "\n",
    "## Getting Started\n",
    "There are a bunch of comments which instruct what you are supposed to do step by step. Follow the order of the instructions from top to bottom. Read each instruction carefully and provide your answer beneath it. You should also test your answers to make sure your responses are correct. If one of your responses is incorrect, you may not be able to proceed because later responses may depend upon previous responses.\n",
    "\n",
    "\n",
    "## Resources\n",
    "\n",
    "Some of the questions in the assignment are not covered in our lesson. You will learn how to efficiently look up the information on your own. Below are some resources you can find the information you need.\n",
    "\n",
    "[Numpy User Guide](https://docs.scipy.org/doc/numpy/user/index.html)\n",
    "\n",
    "[Numpy Reference](https://docs.scipy.org/doc/numpy/reference/)\n",
    "\n",
    "[Google Search](https://www.google.com/search?q=how+to+use+numpy)\n",
    "\n",
    "## Additional Challenges for the Nerds\n",
    "\n",
    "If you are way ahead of your classmates and willing to accept some tough challenges about Numpy, take one or several of the following Codewar *katas*. \tYou need to already possess a good amount of knowledge in Python and statistics because you will need to write Python functions, do loops, write conditionals, and deal with matrices.\n",
    "\n",
    "* [Insert dashes](https://www.codewars.com/kata/insert-dashes)\n",
    "* [Thinkful - Logic Drills: Red and bumpy](https://www.codewars.com/kata/thinkful-logic-drills-red-and-bumpy)\n"
   ]
  },
  {
   "cell_type": "markdown",
   "metadata": {},
   "source": [
    "### 1. Import the NUMPY package under the name np."
   ]
  },
  {
   "cell_type": "code",
   "execution_count": 1,
   "metadata": {
    "ExecuteTime": {
     "end_time": "2020-06-09T13:51:13.960412Z",
     "start_time": "2020-06-09T13:51:13.718568Z"
    }
   },
   "outputs": [],
   "source": [
    "import numpy as np"
   ]
  },
  {
   "cell_type": "markdown",
   "metadata": {},
   "source": [
    "### 2. Print the NUMPY version and the configuration."
   ]
  },
  {
   "cell_type": "code",
   "execution_count": 2,
   "metadata": {
    "ExecuteTime": {
     "end_time": "2020-06-09T13:51:13.976401Z",
     "start_time": "2020-06-09T13:51:13.964408Z"
    }
   },
   "outputs": [
    {
     "data": {
      "text/plain": [
       "'1.18.1'"
      ]
     },
     "execution_count": 2,
     "metadata": {},
     "output_type": "execute_result"
    }
   ],
   "source": [
    "np.version.version"
   ]
  },
  {
   "cell_type": "code",
   "execution_count": null,
   "metadata": {
    "ExecuteTime": {
     "end_time": "2020-06-09T13:51:14.006395Z",
     "start_time": "2020-06-09T13:51:13.978399Z"
    },
    "scrolled": false
   },
   "outputs": [],
   "source": [
    "np.show_config()"
   ]
  },
  {
   "cell_type": "code",
   "execution_count": null,
   "metadata": {
    "ExecuteTime": {
     "end_time": "2020-06-09T13:51:14.021383Z",
     "start_time": "2020-06-09T13:51:14.011391Z"
    },
    "scrolled": true
   },
   "outputs": [],
   "source": [
    "# note that np.version returns a file path from the file version\n",
    "np.version"
   ]
  },
  {
   "cell_type": "markdown",
   "metadata": {},
   "source": [
    "### 3. Generate a 3x2x5 3-dimensional array with random values. Assign the array to variable \"a\"\n",
    "* Challenge: there are at least three easy ways that use numpy to generate random arrays. How many ways can you find?"
   ]
  },
  {
   "cell_type": "code",
   "execution_count": 5,
   "metadata": {
    "ExecuteTime": {
     "end_time": "2020-06-09T13:51:14.040404Z",
     "start_time": "2020-06-09T13:51:14.034371Z"
    }
   },
   "outputs": [],
   "source": [
    "# note that in a DataFrame each column represent a dimension"
   ]
  },
  {
   "cell_type": "markdown",
   "metadata": {},
   "source": [
    "### method 1: using numpy.random.randn¶\n",
    "It returns a sample (or samples) from the “uniform distribution” over [0, 1]\n",
    "\n",
    "* https://docs.scipy.org/doc/numpy/reference/generated/numpy.random.rand.html\n"
   ]
  },
  {
   "cell_type": "code",
   "execution_count": 6,
   "metadata": {
    "ExecuteTime": {
     "end_time": "2020-06-09T13:51:14.062354Z",
     "start_time": "2020-06-09T13:51:14.046364Z"
    }
   },
   "outputs": [
    {
     "data": {
      "text/plain": [
       "array([0.84357784])"
      ]
     },
     "execution_count": 6,
     "metadata": {},
     "output_type": "execute_result"
    }
   ],
   "source": [
    "# an array with 1 element\n",
    "np.random.rand(1)"
   ]
  },
  {
   "cell_type": "code",
   "execution_count": 7,
   "metadata": {
    "ExecuteTime": {
     "end_time": "2020-06-09T13:51:14.080343Z",
     "start_time": "2020-06-09T13:51:14.070351Z"
    }
   },
   "outputs": [
    {
     "data": {
      "text/plain": [
       "array([0.14174862, 0.29858063])"
      ]
     },
     "execution_count": 7,
     "metadata": {},
     "output_type": "execute_result"
    }
   ],
   "source": [
    "# an array with 2 elements \n",
    "np.random.rand(2)"
   ]
  },
  {
   "cell_type": "code",
   "execution_count": 8,
   "metadata": {
    "ExecuteTime": {
     "end_time": "2020-06-09T13:51:14.091338Z",
     "start_time": "2020-06-09T13:51:14.083340Z"
    }
   },
   "outputs": [],
   "source": [
    "# the following parameters represent the matrix's shape"
   ]
  },
  {
   "cell_type": "code",
   "execution_count": 9,
   "metadata": {
    "ExecuteTime": {
     "end_time": "2020-06-09T13:51:14.112325Z",
     "start_time": "2020-06-09T13:51:14.096334Z"
    }
   },
   "outputs": [
    {
     "data": {
      "text/plain": [
       "array([[[0.56770102, 0.28649358, 0.173129  ]],\n",
       "\n",
       "       [[0.21808276, 0.72848563, 0.59667493]]])"
      ]
     },
     "execution_count": 9,
     "metadata": {},
     "output_type": "execute_result"
    }
   ],
   "source": [
    "# an array with 3 elements in 2 dimensions\n",
    "np.random.rand(2, 1, 3)"
   ]
  },
  {
   "cell_type": "code",
   "execution_count": 10,
   "metadata": {
    "ExecuteTime": {
     "end_time": "2020-06-09T13:51:14.132316Z",
     "start_time": "2020-06-09T13:51:14.115322Z"
    }
   },
   "outputs": [
    {
     "data": {
      "text/plain": [
       "array([[[0.99561979, 0.13583569]],\n",
       "\n",
       "       [[0.99916866, 0.39868337]],\n",
       "\n",
       "       [[0.54535035, 0.0261194 ]]])"
      ]
     },
     "execution_count": 10,
     "metadata": {},
     "output_type": "execute_result"
    }
   ],
   "source": [
    "# an array with 3 dimensions with 2 elements each\n",
    "np.random.rand(3, 1, 2)"
   ]
  },
  {
   "cell_type": "code",
   "execution_count": null,
   "metadata": {},
   "outputs": [],
   "source": []
  },
  {
   "cell_type": "code",
   "execution_count": null,
   "metadata": {},
   "outputs": [],
   "source": []
  },
  {
   "cell_type": "code",
   "execution_count": null,
   "metadata": {},
   "outputs": [],
   "source": []
  },
  {
   "cell_type": "code",
   "execution_count": 11,
   "metadata": {
    "ExecuteTime": {
     "end_time": "2020-06-09T13:51:14.148305Z",
     "start_time": "2020-06-09T13:51:14.136310Z"
    }
   },
   "outputs": [
    {
     "name": "stdout",
     "output_type": "stream",
     "text": [
      "[[[0.22017856 0.88764119 0.72658821 0.23510415 0.23309436]\n",
      "  [0.78320958 0.76104241 0.92200557 0.35251785 0.66872625]]\n",
      "\n",
      " [[0.25136189 0.38656696 0.72296182 0.1101356  0.99020643]\n",
      "  [0.29111354 0.44298057 0.48520334 0.24322697 0.35593313]]\n",
      "\n",
      " [[0.84482342 0.54578201 0.27369268 0.86321989 0.58727674]\n",
      "  [0.98541693 0.77589301 0.03370206 0.32439396 0.9545534 ]]]\n"
     ]
    }
   ],
   "source": [
    "# method 1: generante random numbers passing the number of dimensions\n",
    "a = np.random.rand(3, 2, 5)\n",
    "print(a)"
   ]
  },
  {
   "cell_type": "code",
   "execution_count": 12,
   "metadata": {
    "ExecuteTime": {
     "end_time": "2020-06-09T13:51:14.168293Z",
     "start_time": "2020-06-09T13:51:14.153308Z"
    }
   },
   "outputs": [
    {
     "name": "stdout",
     "output_type": "stream",
     "text": [
      "[[[0.99699095 0.39560216 0.62386433 0.26091464 0.76939102]\n",
      "  [0.88539666 0.95737445 0.76328245 0.66878237 0.91235369]]\n",
      "\n",
      " [[0.39472089 0.84508085 0.96029453 0.10466319 0.11316267]\n",
      "  [0.73352149 0.78534497 0.35344214 0.77562133 0.02881426]]\n",
      "\n",
      " [[0.6970978  0.98910494 0.94318763 0.25913986 0.66208265]\n",
      "  [0.01764176 0.04547547 0.07069185 0.75278326 0.15424034]]]\n"
     ]
    }
   ],
   "source": [
    "# method 2\n",
    "a = np.random.random((3,2,5))\n",
    "print(a)\n"
   ]
  },
  {
   "cell_type": "code",
   "execution_count": 13,
   "metadata": {
    "ExecuteTime": {
     "end_time": "2020-06-09T13:51:14.184284Z",
     "start_time": "2020-06-09T13:51:14.172290Z"
    }
   },
   "outputs": [
    {
     "name": "stdout",
     "output_type": "stream",
     "text": [
      "[[[0.83867925 0.87382267 0.24582605 0.97958316 0.58558162]\n",
      "  [0.17977047 0.1244125  0.22491835 0.81407705 0.74723232]]\n",
      "\n",
      " [[0.05850054 0.14357927 0.4744351  0.50675259 0.00804975]\n",
      "  [0.16136561 0.82574474 0.04408009 0.98491127 0.24591901]]\n",
      "\n",
      " [[0.08132056 0.35483949 0.60468938 0.85758055 0.8509201 ]\n",
      "  [0.75682622 0.45299075 0.71279466 0.04999433 0.08725225]]]\n"
     ]
    }
   ],
   "source": [
    "# method 3\n",
    "a = np.random.random_sample((3,2,5))\n",
    "print(a)"
   ]
  },
  {
   "cell_type": "code",
   "execution_count": 14,
   "metadata": {
    "ExecuteTime": {
     "end_time": "2020-06-09T13:51:14.202272Z",
     "start_time": "2020-06-09T13:51:14.187282Z"
    }
   },
   "outputs": [
    {
     "name": "stdout",
     "output_type": "stream",
     "text": [
      "[[[0.45013111 0.59865131 0.34251233 0.45807046 0.95110193]\n",
      "  [0.10893062 0.82529559 0.8194393  0.9421153  0.71242431]]\n",
      "\n",
      " [[0.39167552 0.32619121 0.05200376 0.51279941 0.90491788]\n",
      "  [0.07056273 0.20169783 0.91742803 0.55597442 0.36208024]]\n",
      "\n",
      " [[0.56456348 0.28350581 0.23209108 0.32813382 0.3064288 ]\n",
      "  [0.44572411 0.61636921 0.5562398  0.43456474 0.94055776]]]\n"
     ]
    }
   ],
   "source": [
    "#Other method\n",
    "a = np.random.ranf((3,2,5))\n",
    "print(a)"
   ]
  },
  {
   "cell_type": "markdown",
   "metadata": {},
   "source": [
    "#### Method 2: we can also use the function np.random.randn\n",
    "It returns a sample (or samples) from the “standard normal” distribution.\n",
    "\n",
    "\n",
    "https://docs.scipy.org/doc/numpy/reference/generated/numpy.random.randn.html"
   ]
  },
  {
   "cell_type": "code",
   "execution_count": 15,
   "metadata": {
    "ExecuteTime": {
     "end_time": "2020-06-09T13:51:14.217265Z",
     "start_time": "2020-06-09T13:51:14.204270Z"
    }
   },
   "outputs": [],
   "source": [
    "# an array with 4 dimensions, each dimension with  3 arrays, and each array with 2 elements\n",
    "a = np.random.randn(3, # number of elements of 'outer' elements\n",
    "                    2, # number of arrays inside 'inner' elements\n",
    "                    5 # number of elements inside the 'inner' elements\n",
    "           )\n"
   ]
  },
  {
   "cell_type": "code",
   "execution_count": 16,
   "metadata": {
    "ExecuteTime": {
     "end_time": "2020-06-09T13:51:14.235255Z",
     "start_time": "2020-06-09T13:51:14.220262Z"
    }
   },
   "outputs": [
    {
     "name": "stdout",
     "output_type": "stream",
     "text": [
      "[[[ 0.93171459 -0.57702829 -0.25880783 -0.10006801  0.46362387]\n",
      "  [ 0.09943998 -1.40715152 -0.47992992 -1.39020338  0.13464111]]\n",
      "\n",
      " [[ 1.26782984 -0.95785409 -0.55697048  0.11377147 -1.16066617]\n",
      "  [-0.98434157 -0.5212356   0.7956859  -0.46703895  0.40780353]]\n",
      "\n",
      " [[ 0.07872914  0.5051086  -0.37602142  0.17527685  0.66651272]\n",
      "  [-1.09160435 -0.12817557 -0.16869472 -1.37376022  0.21393816]]]\n"
     ]
    }
   ],
   "source": [
    "print(a)"
   ]
  },
  {
   "cell_type": "markdown",
   "metadata": {},
   "source": [
    "### method 3\n",
    "We can also create an array of integer values using np.random.randint\n",
    "\n",
    "* check it out: https://docs.scipy.org/doc/numpy/reference/generated/numpy.random.randint.html\n"
   ]
  },
  {
   "cell_type": "code",
   "execution_count": 17,
   "metadata": {
    "ExecuteTime": {
     "end_time": "2020-06-09T13:51:14.252248Z",
     "start_time": "2020-06-09T13:51:14.237252Z"
    }
   },
   "outputs": [
    {
     "name": "stdout",
     "output_type": "stream",
     "text": [
      "[[[3 0 0 2 3]\n",
      "  [2 2 2 4 1]]\n",
      "\n",
      " [[0 1 0 4 2]\n",
      "  [4 1 3 2 2]]\n",
      "\n",
      " [[2 4 0 0 0]\n",
      "  [0 1 0 2 2]]]\n"
     ]
    }
   ],
   "source": [
    "# notice that the paramaters are different from np.random.rand and np.randm.randn\n",
    "a = np.random.randint(5, # longest number\n",
    "                      size=[\n",
    "                          # number of dimensions\n",
    "                          3,\n",
    "                          # number of arrays in the first array\n",
    "                          2, \n",
    "                          # number of elements from the second array\n",
    "                          5])\n",
    "print(a)"
   ]
  },
  {
   "cell_type": "markdown",
   "metadata": {},
   "source": [
    "### 4. Print a."
   ]
  },
  {
   "cell_type": "code",
   "execution_count": 18,
   "metadata": {
    "ExecuteTime": {
     "end_time": "2020-06-09T13:51:14.270233Z",
     "start_time": "2020-06-09T13:51:14.257244Z"
    }
   },
   "outputs": [
    {
     "name": "stdout",
     "output_type": "stream",
     "text": [
      "[[[0.94384431 0.6761689  0.48945308 0.19861991 0.31511073]\n",
      "  [0.11355712 0.91717167 0.13030967 0.53276879 0.81000779]]\n",
      "\n",
      " [[0.0379854  0.74994714 0.75892984 0.11118469 0.47539152]\n",
      "  [0.05433635 0.42071734 0.93173972 0.0327763  0.03721198]]\n",
      "\n",
      " [[0.53153679 0.36757282 0.90079861 0.17411678 0.65031526]\n",
      "  [0.23311142 0.01846718 0.21790026 0.87346036 0.78288957]]]\n"
     ]
    }
   ],
   "source": [
    "a = np.random.rand(3, 2, 5)\n",
    "print(a)"
   ]
  },
  {
   "cell_type": "markdown",
   "metadata": {},
   "source": [
    "### 5. Create a 5x2x3 3-dimensional array with all values equaling 1.\n",
    "#Assign the array to variable \"b\""
   ]
  },
  {
   "cell_type": "markdown",
   "metadata": {},
   "source": [
    "### 6. Print b."
   ]
  },
  {
   "cell_type": "code",
   "execution_count": 19,
   "metadata": {
    "ExecuteTime": {
     "end_time": "2020-06-09T13:51:14.283235Z",
     "start_time": "2020-06-09T13:51:14.273231Z"
    }
   },
   "outputs": [],
   "source": [
    "# Method 1: using np.ones()\n",
    "\n",
    "b = np.ones((5,2,3))"
   ]
  },
  {
   "cell_type": "code",
   "execution_count": 20,
   "metadata": {
    "ExecuteTime": {
     "end_time": "2020-06-09T13:51:14.308212Z",
     "start_time": "2020-06-09T13:51:14.290232Z"
    }
   },
   "outputs": [
    {
     "data": {
      "text/plain": [
       "array([[[1., 1., 1.],\n",
       "        [1., 1., 1.]],\n",
       "\n",
       "       [[1., 1., 1.],\n",
       "        [1., 1., 1.]],\n",
       "\n",
       "       [[1., 1., 1.],\n",
       "        [1., 1., 1.]],\n",
       "\n",
       "       [[1., 1., 1.],\n",
       "        [1., 1., 1.]],\n",
       "\n",
       "       [[1., 1., 1.],\n",
       "        [1., 1., 1.]]])"
      ]
     },
     "execution_count": 20,
     "metadata": {},
     "output_type": "execute_result"
    }
   ],
   "source": [
    "b"
   ]
  },
  {
   "cell_type": "code",
   "execution_count": 21,
   "metadata": {
    "ExecuteTime": {
     "end_time": "2020-06-09T13:51:14.321204Z",
     "start_time": "2020-06-09T13:51:14.312212Z"
    }
   },
   "outputs": [],
   "source": [
    "# Method 2: using np.full()\n",
    "\n",
    "b = np.full(\n",
    "    # matrix dimention\n",
    "    (5,2,3), \n",
    "    # element to fill the matrix\n",
    "    1)"
   ]
  },
  {
   "cell_type": "code",
   "execution_count": 22,
   "metadata": {
    "ExecuteTime": {
     "end_time": "2020-06-09T13:51:14.338195Z",
     "start_time": "2020-06-09T13:51:14.324204Z"
    }
   },
   "outputs": [
    {
     "name": "stdout",
     "output_type": "stream",
     "text": [
      "[[[1 1 1]\n",
      "  [1 1 1]]\n",
      "\n",
      " [[1 1 1]\n",
      "  [1 1 1]]\n",
      "\n",
      " [[1 1 1]\n",
      "  [1 1 1]]\n",
      "\n",
      " [[1 1 1]\n",
      "  [1 1 1]]\n",
      "\n",
      " [[1 1 1]\n",
      "  [1 1 1]]]\n"
     ]
    }
   ],
   "source": [
    "print(b)"
   ]
  },
  {
   "cell_type": "code",
   "execution_count": 23,
   "metadata": {
    "ExecuteTime": {
     "end_time": "2020-06-09T13:51:14.356184Z",
     "start_time": "2020-06-09T13:51:14.341195Z"
    },
    "scrolled": true
   },
   "outputs": [
    {
     "data": {
      "text/plain": [
       "(5, 2, 3)"
      ]
     },
     "execution_count": 23,
     "metadata": {},
     "output_type": "execute_result"
    }
   ],
   "source": [
    "b.shape"
   ]
  },
  {
   "cell_type": "markdown",
   "metadata": {},
   "source": [
    "### 7. Do a and b have the same size? How do you prove that in Python code?"
   ]
  },
  {
   "cell_type": "markdown",
   "metadata": {},
   "source": [
    "__Method 1__: manually compare the size of each array using the method size()"
   ]
  },
  {
   "cell_type": "code",
   "execution_count": 24,
   "metadata": {
    "ExecuteTime": {
     "end_time": "2020-06-09T13:51:14.372175Z",
     "start_time": "2020-06-09T13:51:14.360182Z"
    }
   },
   "outputs": [
    {
     "data": {
      "text/plain": [
       "True"
      ]
     },
     "execution_count": 24,
     "metadata": {},
     "output_type": "execute_result"
    }
   ],
   "source": [
    "# comparing the size of arrays 'a' and 'b'\n",
    "a.size == b.size"
   ]
  },
  {
   "cell_type": "markdown",
   "metadata": {},
   "source": [
    "__Method 2:__ Now let's build a function to compare the sizes"
   ]
  },
  {
   "cell_type": "code",
   "execution_count": 25,
   "metadata": {
    "ExecuteTime": {
     "end_time": "2020-06-09T13:51:14.390177Z",
     "start_time": "2020-06-09T13:51:14.377177Z"
    }
   },
   "outputs": [],
   "source": [
    "def compare_arrays(array_1, array_2):\n",
    "    if array_1.size == array_2.size:\n",
    "        return('Arrays with the same size')\n",
    "    else:\n",
    "        return('Arrays with different sizes')"
   ]
  },
  {
   "cell_type": "code",
   "execution_count": 26,
   "metadata": {
    "ExecuteTime": {
     "end_time": "2020-06-09T13:51:14.414151Z",
     "start_time": "2020-06-09T13:51:14.398161Z"
    }
   },
   "outputs": [
    {
     "data": {
      "text/plain": [
       "'Arrays with the same size'"
      ]
     },
     "execution_count": 26,
     "metadata": {},
     "output_type": "execute_result"
    }
   ],
   "source": [
    "# After calling the function we can see that 'a' and 'b' have the same size\n",
    "compare_arrays(a,b)"
   ]
  },
  {
   "cell_type": "markdown",
   "metadata": {},
   "source": [
    "### 8. Are you able to add a and b? Why or why not?"
   ]
  },
  {
   "cell_type": "code",
   "execution_count": 27,
   "metadata": {
    "ExecuteTime": {
     "end_time": "2020-06-09T13:51:14.428145Z",
     "start_time": "2020-06-09T13:51:14.417151Z"
    }
   },
   "outputs": [],
   "source": [
    "# Before perform any array operation, let's check the array's shape"
   ]
  },
  {
   "cell_type": "code",
   "execution_count": 28,
   "metadata": {
    "ExecuteTime": {
     "end_time": "2020-06-09T13:51:14.446134Z",
     "start_time": "2020-06-09T13:51:14.432142Z"
    }
   },
   "outputs": [
    {
     "data": {
      "text/plain": [
       "(3, 2, 5)"
      ]
     },
     "execution_count": 28,
     "metadata": {},
     "output_type": "execute_result"
    }
   ],
   "source": [
    "a.shape"
   ]
  },
  {
   "cell_type": "code",
   "execution_count": 29,
   "metadata": {
    "ExecuteTime": {
     "end_time": "2020-06-09T13:51:14.460125Z",
     "start_time": "2020-06-09T13:51:14.449133Z"
    }
   },
   "outputs": [
    {
     "data": {
      "text/plain": [
       "(5, 2, 3)"
      ]
     },
     "execution_count": 29,
     "metadata": {},
     "output_type": "execute_result"
    }
   ],
   "source": [
    "b.shape"
   ]
  },
  {
   "cell_type": "markdown",
   "metadata": {},
   "source": [
    "* In order to perform operations using arrays, they have to have the same shape"
   ]
  },
  {
   "cell_type": "code",
   "execution_count": 30,
   "metadata": {
    "ExecuteTime": {
     "end_time": "2020-06-09T13:51:14.566088Z",
     "start_time": "2020-06-09T13:51:14.462124Z"
    }
   },
   "outputs": [
    {
     "ename": "ValueError",
     "evalue": "operands could not be broadcast together with shapes (3,2,5) (5,2,3) ",
     "output_type": "error",
     "traceback": [
      "\u001b[1;31m---------------------------------------------------------------------------\u001b[0m",
      "\u001b[1;31mValueError\u001b[0m                                Traceback (most recent call last)",
      "\u001b[1;32m<ipython-input-30-0073c181daa8>\u001b[0m in \u001b[0;36m<module>\u001b[1;34m\u001b[0m\n\u001b[0;32m      1\u001b[0m \u001b[1;31m# trying to add 'a' to 'b' using the 'plus' operator\u001b[0m\u001b[1;33m\u001b[0m\u001b[1;33m\u001b[0m\u001b[1;33m\u001b[0m\u001b[0m\n\u001b[0;32m      2\u001b[0m \u001b[1;31m# It won't work as they have different shapes\u001b[0m\u001b[1;33m\u001b[0m\u001b[1;33m\u001b[0m\u001b[1;33m\u001b[0m\u001b[0m\n\u001b[1;32m----> 3\u001b[1;33m \u001b[0ma\u001b[0m \u001b[1;33m+\u001b[0m \u001b[0mb\u001b[0m\u001b[1;33m\u001b[0m\u001b[1;33m\u001b[0m\u001b[0m\n\u001b[0m",
      "\u001b[1;31mValueError\u001b[0m: operands could not be broadcast together with shapes (3,2,5) (5,2,3) "
     ]
    }
   ],
   "source": [
    "# trying to add 'a' to 'b' using the 'plus' operator\n",
    "# It won't work as they have different shapes\n",
    "a + b"
   ]
  },
  {
   "cell_type": "code",
   "execution_count": 31,
   "metadata": {
    "ExecuteTime": {
     "end_time": "2020-06-09T13:51:28.168696Z",
     "start_time": "2020-06-09T13:51:28.153693Z"
    }
   },
   "outputs": [
    {
     "ename": "ValueError",
     "evalue": "operands could not be broadcast together with shapes (3,2,5) (5,2,3) ",
     "output_type": "error",
     "traceback": [
      "\u001b[1;31m---------------------------------------------------------------------------\u001b[0m",
      "\u001b[1;31mValueError\u001b[0m                                Traceback (most recent call last)",
      "\u001b[1;32m<ipython-input-31-43926454c7b2>\u001b[0m in \u001b[0;36m<module>\u001b[1;34m\u001b[0m\n\u001b[0;32m      1\u001b[0m \u001b[1;31m# the same error will rase if we use the add() numpy's method\u001b[0m\u001b[1;33m\u001b[0m\u001b[1;33m\u001b[0m\u001b[1;33m\u001b[0m\u001b[0m\n\u001b[1;32m----> 2\u001b[1;33m \u001b[0mnp\u001b[0m\u001b[1;33m.\u001b[0m\u001b[0madd\u001b[0m\u001b[1;33m(\u001b[0m\u001b[0ma\u001b[0m\u001b[1;33m,\u001b[0m \u001b[0mb\u001b[0m\u001b[1;33m)\u001b[0m\u001b[1;33m\u001b[0m\u001b[1;33m\u001b[0m\u001b[0m\n\u001b[0m",
      "\u001b[1;31mValueError\u001b[0m: operands could not be broadcast together with shapes (3,2,5) (5,2,3) "
     ]
    }
   ],
   "source": [
    "# the same error will rase if we use the add() numpy's method\n",
    "np.add(a, b)"
   ]
  },
  {
   "cell_type": "markdown",
   "metadata": {},
   "source": [
    "### 9. Transpose b so that it has the same structure of a (i.e. become a 3x2x5 array). Assign the transposed array to varialbe \"c\"."
   ]
  },
  {
   "cell_type": "code",
   "execution_count": 32,
   "metadata": {
    "ExecuteTime": {
     "end_time": "2020-06-09T13:51:29.402976Z",
     "start_time": "2020-06-09T13:51:29.396982Z"
    }
   },
   "outputs": [],
   "source": [
    "# Method 1: transpose the data\n",
    "c = np.transpose(b,\n",
    "                 # define the data axis\n",
    "                 (2,1,0))"
   ]
  },
  {
   "cell_type": "code",
   "execution_count": 33,
   "metadata": {
    "ExecuteTime": {
     "end_time": "2020-06-09T13:51:29.920683Z",
     "start_time": "2020-06-09T13:51:29.914687Z"
    }
   },
   "outputs": [
    {
     "name": "stdout",
     "output_type": "stream",
     "text": [
      "[[[1 1 1 1 1]\n",
      "  [1 1 1 1 1]]\n",
      "\n",
      " [[1 1 1 1 1]\n",
      "  [1 1 1 1 1]]\n",
      "\n",
      " [[1 1 1 1 1]\n",
      "  [1 1 1 1 1]]]\n"
     ]
    }
   ],
   "source": [
    "print(c)"
   ]
  },
  {
   "cell_type": "code",
   "execution_count": 34,
   "metadata": {
    "ExecuteTime": {
     "end_time": "2020-06-09T13:51:30.009634Z",
     "start_time": "2020-06-09T13:51:30.002637Z"
    }
   },
   "outputs": [],
   "source": [
    "# Method 2:\n",
    "# using reshape function to transform the matrix structure\n",
    "c = b.reshape((3, 2, 5))"
   ]
  },
  {
   "cell_type": "code",
   "execution_count": 35,
   "metadata": {
    "ExecuteTime": {
     "end_time": "2020-06-09T13:51:30.219513Z",
     "start_time": "2020-06-09T13:51:30.211515Z"
    }
   },
   "outputs": [
    {
     "data": {
      "text/plain": [
       "(3, 2, 5)"
      ]
     },
     "execution_count": 35,
     "metadata": {},
     "output_type": "execute_result"
    }
   ],
   "source": [
    "c.shape"
   ]
  },
  {
   "cell_type": "code",
   "execution_count": 36,
   "metadata": {
    "ExecuteTime": {
     "end_time": "2020-06-09T13:51:31.329875Z",
     "start_time": "2020-06-09T13:51:31.323880Z"
    }
   },
   "outputs": [
    {
     "name": "stdout",
     "output_type": "stream",
     "text": [
      "[[[1 1 1 1 1]\n",
      "  [1 1 1 1 1]]\n",
      "\n",
      " [[1 1 1 1 1]\n",
      "  [1 1 1 1 1]]\n",
      "\n",
      " [[1 1 1 1 1]\n",
      "  [1 1 1 1 1]]]\n"
     ]
    }
   ],
   "source": [
    "print(c)"
   ]
  },
  {
   "cell_type": "markdown",
   "metadata": {},
   "source": [
    "### 10. Try to add a and c. Now it should work. Assign the sum to varialbe \"d\". But why does it work now?"
   ]
  },
  {
   "cell_type": "code",
   "execution_count": 37,
   "metadata": {
    "ExecuteTime": {
     "end_time": "2020-06-09T13:51:32.486216Z",
     "start_time": "2020-06-09T13:51:32.481218Z"
    }
   },
   "outputs": [],
   "source": [
    "# Method 1: use + as a way to concat arrays 'a' and 'c'\n",
    "d_m1 = a + c"
   ]
  },
  {
   "cell_type": "code",
   "execution_count": 38,
   "metadata": {
    "ExecuteTime": {
     "end_time": "2020-06-09T13:51:32.948952Z",
     "start_time": "2020-06-09T13:51:32.943955Z"
    }
   },
   "outputs": [
    {
     "data": {
      "text/plain": [
       "(3, 2, 5)"
      ]
     },
     "execution_count": 38,
     "metadata": {},
     "output_type": "execute_result"
    }
   ],
   "source": [
    "d_m1.shape"
   ]
  },
  {
   "cell_type": "code",
   "execution_count": 39,
   "metadata": {
    "ExecuteTime": {
     "end_time": "2020-06-09T13:51:33.116859Z",
     "start_time": "2020-06-09T13:51:33.108860Z"
    }
   },
   "outputs": [
    {
     "data": {
      "text/plain": [
       "array([[[1.94384431, 1.6761689 , 1.48945308, 1.19861991, 1.31511073],\n",
       "        [1.11355712, 1.91717167, 1.13030967, 1.53276879, 1.81000779]],\n",
       "\n",
       "       [[1.0379854 , 1.74994714, 1.75892984, 1.11118469, 1.47539152],\n",
       "        [1.05433635, 1.42071734, 1.93173972, 1.0327763 , 1.03721198]],\n",
       "\n",
       "       [[1.53153679, 1.36757282, 1.90079861, 1.17411678, 1.65031526],\n",
       "        [1.23311142, 1.01846718, 1.21790026, 1.87346036, 1.78288957]]])"
      ]
     },
     "execution_count": 39,
     "metadata": {},
     "output_type": "execute_result"
    }
   ],
   "source": [
    "d_m1"
   ]
  },
  {
   "cell_type": "code",
   "execution_count": 40,
   "metadata": {
    "ExecuteTime": {
     "end_time": "2020-06-09T13:51:33.708520Z",
     "start_time": "2020-06-09T13:51:33.704519Z"
    }
   },
   "outputs": [],
   "source": [
    "# Method 2: use the method add() from numpy\n",
    "d = np.add(a, c)"
   ]
  },
  {
   "cell_type": "code",
   "execution_count": 41,
   "metadata": {
    "ExecuteTime": {
     "end_time": "2020-06-09T13:51:34.722939Z",
     "start_time": "2020-06-09T13:51:34.713951Z"
    }
   },
   "outputs": [
    {
     "data": {
      "text/plain": [
       "(3, 2, 5)"
      ]
     },
     "execution_count": 41,
     "metadata": {},
     "output_type": "execute_result"
    }
   ],
   "source": [
    "d.shape"
   ]
  },
  {
   "cell_type": "code",
   "execution_count": 42,
   "metadata": {
    "ExecuteTime": {
     "end_time": "2020-06-09T13:51:35.441530Z",
     "start_time": "2020-06-09T13:51:35.435533Z"
    }
   },
   "outputs": [
    {
     "data": {
      "text/plain": [
       "array([[[1.94384431, 1.6761689 , 1.48945308, 1.19861991, 1.31511073],\n",
       "        [1.11355712, 1.91717167, 1.13030967, 1.53276879, 1.81000779]],\n",
       "\n",
       "       [[1.0379854 , 1.74994714, 1.75892984, 1.11118469, 1.47539152],\n",
       "        [1.05433635, 1.42071734, 1.93173972, 1.0327763 , 1.03721198]],\n",
       "\n",
       "       [[1.53153679, 1.36757282, 1.90079861, 1.17411678, 1.65031526],\n",
       "        [1.23311142, 1.01846718, 1.21790026, 1.87346036, 1.78288957]]])"
      ]
     },
     "execution_count": 42,
     "metadata": {},
     "output_type": "execute_result"
    }
   ],
   "source": [
    "d"
   ]
  },
  {
   "cell_type": "code",
   "execution_count": 43,
   "metadata": {
    "ExecuteTime": {
     "end_time": "2020-06-09T13:51:35.995212Z",
     "start_time": "2020-06-09T13:51:35.988217Z"
    }
   },
   "outputs": [
    {
     "data": {
      "text/plain": [
       "array([[[ True,  True,  True,  True,  True],\n",
       "        [ True,  True,  True,  True,  True]],\n",
       "\n",
       "       [[ True,  True,  True,  True,  True],\n",
       "        [ True,  True,  True,  True,  True]],\n",
       "\n",
       "       [[ True,  True,  True,  True,  True],\n",
       "        [ True,  True,  True,  True,  True]]])"
      ]
     },
     "execution_count": 43,
     "metadata": {},
     "output_type": "execute_result"
    }
   ],
   "source": [
    "# compare d_m1 to d\n",
    "#they're equal\n",
    "d_m1 == d"
   ]
  },
  {
   "cell_type": "markdown",
   "metadata": {},
   "source": [
    "### 11. Print a and d. Notice the difference and relation of the two array in terms of the values? Explain."
   ]
  },
  {
   "cell_type": "code",
   "execution_count": 44,
   "metadata": {
    "ExecuteTime": {
     "end_time": "2020-06-09T13:51:36.564895Z",
     "start_time": "2020-06-09T13:51:36.559891Z"
    }
   },
   "outputs": [
    {
     "name": "stdout",
     "output_type": "stream",
     "text": [
      "[[[0.94384431 0.6761689  0.48945308 0.19861991 0.31511073]\n",
      "  [0.11355712 0.91717167 0.13030967 0.53276879 0.81000779]]\n",
      "\n",
      " [[0.0379854  0.74994714 0.75892984 0.11118469 0.47539152]\n",
      "  [0.05433635 0.42071734 0.93173972 0.0327763  0.03721198]]\n",
      "\n",
      " [[0.53153679 0.36757282 0.90079861 0.17411678 0.65031526]\n",
      "  [0.23311142 0.01846718 0.21790026 0.87346036 0.78288957]]]\n"
     ]
    }
   ],
   "source": [
    "print(a)"
   ]
  },
  {
   "cell_type": "code",
   "execution_count": 45,
   "metadata": {
    "ExecuteTime": {
     "end_time": "2020-06-09T13:51:37.743216Z",
     "start_time": "2020-06-09T13:51:37.737220Z"
    }
   },
   "outputs": [
    {
     "name": "stdout",
     "output_type": "stream",
     "text": [
      "[[[1.94384431 1.6761689  1.48945308 1.19861991 1.31511073]\n",
      "  [1.11355712 1.91717167 1.13030967 1.53276879 1.81000779]]\n",
      "\n",
      " [[1.0379854  1.74994714 1.75892984 1.11118469 1.47539152]\n",
      "  [1.05433635 1.42071734 1.93173972 1.0327763  1.03721198]]\n",
      "\n",
      " [[1.53153679 1.36757282 1.90079861 1.17411678 1.65031526]\n",
      "  [1.23311142 1.01846718 1.21790026 1.87346036 1.78288957]]]\n"
     ]
    }
   ],
   "source": [
    "print(d)\n",
    "#the values in d are equal to the a values + 1 in the corresponding positions  "
   ]
  },
  {
   "cell_type": "markdown",
   "metadata": {},
   "source": [
    "### 12. Multiply a and c. Assign the result to e."
   ]
  },
  {
   "cell_type": "code",
   "execution_count": 46,
   "metadata": {
    "ExecuteTime": {
     "end_time": "2020-06-09T13:51:38.775645Z",
     "start_time": "2020-06-09T13:51:38.771631Z"
    }
   },
   "outputs": [],
   "source": [
    "# Method 1: using * to multiply values\n",
    "e_m1 = a * c"
   ]
  },
  {
   "cell_type": "code",
   "execution_count": 47,
   "metadata": {
    "ExecuteTime": {
     "end_time": "2020-06-09T13:51:39.015458Z",
     "start_time": "2020-06-09T13:51:39.008463Z"
    }
   },
   "outputs": [
    {
     "data": {
      "text/plain": [
       "(3, 2, 5)"
      ]
     },
     "execution_count": 47,
     "metadata": {},
     "output_type": "execute_result"
    }
   ],
   "source": [
    "e_m1.shape"
   ]
  },
  {
   "cell_type": "code",
   "execution_count": 48,
   "metadata": {
    "ExecuteTime": {
     "end_time": "2020-06-09T13:51:39.428255Z",
     "start_time": "2020-06-09T13:51:39.422275Z"
    }
   },
   "outputs": [
    {
     "data": {
      "text/plain": [
       "array([[[0.94384431, 0.6761689 , 0.48945308, 0.19861991, 0.31511073],\n",
       "        [0.11355712, 0.91717167, 0.13030967, 0.53276879, 0.81000779]],\n",
       "\n",
       "       [[0.0379854 , 0.74994714, 0.75892984, 0.11118469, 0.47539152],\n",
       "        [0.05433635, 0.42071734, 0.93173972, 0.0327763 , 0.03721198]],\n",
       "\n",
       "       [[0.53153679, 0.36757282, 0.90079861, 0.17411678, 0.65031526],\n",
       "        [0.23311142, 0.01846718, 0.21790026, 0.87346036, 0.78288957]]])"
      ]
     },
     "execution_count": 48,
     "metadata": {},
     "output_type": "execute_result"
    }
   ],
   "source": [
    "e_m1"
   ]
  },
  {
   "cell_type": "code",
   "execution_count": 49,
   "metadata": {
    "ExecuteTime": {
     "end_time": "2020-06-09T13:51:39.643134Z",
     "start_time": "2020-06-09T13:51:39.639141Z"
    }
   },
   "outputs": [],
   "source": [
    "# Method 2: use the multiply() method from numpy\n",
    "e = np.multiply(a, c)"
   ]
  },
  {
   "cell_type": "code",
   "execution_count": 50,
   "metadata": {
    "ExecuteTime": {
     "end_time": "2020-06-09T13:51:39.864007Z",
     "start_time": "2020-06-09T13:51:39.859009Z"
    }
   },
   "outputs": [
    {
     "data": {
      "text/plain": [
       "(3, 2, 5)"
      ]
     },
     "execution_count": 50,
     "metadata": {},
     "output_type": "execute_result"
    }
   ],
   "source": [
    "e.shape"
   ]
  },
  {
   "cell_type": "code",
   "execution_count": 51,
   "metadata": {
    "ExecuteTime": {
     "end_time": "2020-06-09T13:51:40.462664Z",
     "start_time": "2020-06-09T13:51:40.455671Z"
    }
   },
   "outputs": [
    {
     "data": {
      "text/plain": [
       "array([[[0.94384431, 0.6761689 , 0.48945308, 0.19861991, 0.31511073],\n",
       "        [0.11355712, 0.91717167, 0.13030967, 0.53276879, 0.81000779]],\n",
       "\n",
       "       [[0.0379854 , 0.74994714, 0.75892984, 0.11118469, 0.47539152],\n",
       "        [0.05433635, 0.42071734, 0.93173972, 0.0327763 , 0.03721198]],\n",
       "\n",
       "       [[0.53153679, 0.36757282, 0.90079861, 0.17411678, 0.65031526],\n",
       "        [0.23311142, 0.01846718, 0.21790026, 0.87346036, 0.78288957]]])"
      ]
     },
     "execution_count": 51,
     "metadata": {},
     "output_type": "execute_result"
    }
   ],
   "source": [
    "e"
   ]
  },
  {
   "cell_type": "code",
   "execution_count": 52,
   "metadata": {
    "ExecuteTime": {
     "end_time": "2020-06-09T13:51:40.564609Z",
     "start_time": "2020-06-09T13:51:40.558611Z"
    }
   },
   "outputs": [
    {
     "data": {
      "text/plain": [
       "array([[[ True,  True,  True,  True,  True],\n",
       "        [ True,  True,  True,  True,  True]],\n",
       "\n",
       "       [[ True,  True,  True,  True,  True],\n",
       "        [ True,  True,  True,  True,  True]],\n",
       "\n",
       "       [[ True,  True,  True,  True,  True],\n",
       "        [ True,  True,  True,  True,  True]]])"
      ]
     },
     "execution_count": 52,
     "metadata": {},
     "output_type": "execute_result"
    }
   ],
   "source": [
    "# comparing the results from method 1 and method 2 -- they're equal\n",
    "e_m1 == e"
   ]
  },
  {
   "cell_type": "markdown",
   "metadata": {},
   "source": [
    "### 13. Does e equal to a? Why or why not?"
   ]
  },
  {
   "cell_type": "code",
   "execution_count": 53,
   "metadata": {
    "ExecuteTime": {
     "end_time": "2020-06-09T13:51:41.647990Z",
     "start_time": "2020-06-09T13:51:41.637995Z"
    }
   },
   "outputs": [
    {
     "data": {
      "text/plain": [
       "array([[[ True,  True,  True,  True,  True],\n",
       "        [ True,  True,  True,  True,  True]],\n",
       "\n",
       "       [[ True,  True,  True,  True,  True],\n",
       "        [ True,  True,  True,  True,  True]],\n",
       "\n",
       "       [[ True,  True,  True,  True,  True],\n",
       "        [ True,  True,  True,  True,  True]]])"
      ]
     },
     "execution_count": 53,
     "metadata": {},
     "output_type": "execute_result"
    }
   ],
   "source": [
    "# yes, array 'e' is equal to 'a' because they have equal values and shape\n",
    "#since all the values in c were 1 the multiplication results are the same\n",
    "e == a"
   ]
  },
  {
   "cell_type": "code",
   "execution_count": 54,
   "metadata": {
    "ExecuteTime": {
     "end_time": "2020-06-09T13:51:41.827611Z",
     "start_time": "2020-06-09T13:51:41.821616Z"
    }
   },
   "outputs": [
    {
     "data": {
      "text/plain": [
       "(3, 2, 5)"
      ]
     },
     "execution_count": 54,
     "metadata": {},
     "output_type": "execute_result"
    }
   ],
   "source": [
    "e.shape"
   ]
  },
  {
   "cell_type": "code",
   "execution_count": 55,
   "metadata": {
    "ExecuteTime": {
     "end_time": "2020-06-09T13:51:42.956052Z",
     "start_time": "2020-06-09T13:51:42.947060Z"
    }
   },
   "outputs": [
    {
     "data": {
      "text/plain": [
       "(3, 2, 5)"
      ]
     },
     "execution_count": 55,
     "metadata": {},
     "output_type": "execute_result"
    }
   ],
   "source": [
    "a.shape"
   ]
  },
  {
   "cell_type": "markdown",
   "metadata": {},
   "source": [
    "### 14. Identify the max, min, and mean values in d. Assign those values to variables \"d_max\", \"d_min\", and \"d_mean\""
   ]
  },
  {
   "cell_type": "code",
   "execution_count": 56,
   "metadata": {
    "ExecuteTime": {
     "end_time": "2020-06-09T13:51:43.608885Z",
     "start_time": "2020-06-09T13:51:43.604874Z"
    }
   },
   "outputs": [],
   "source": [
    "# use the methods max(), min(), and mean() from numpy"
   ]
  },
  {
   "cell_type": "code",
   "execution_count": 57,
   "metadata": {
    "ExecuteTime": {
     "end_time": "2020-06-09T13:51:43.708835Z",
     "start_time": "2020-06-09T13:51:43.704834Z"
    }
   },
   "outputs": [
    {
     "name": "stdout",
     "output_type": "stream",
     "text": [
      "1.943844311704622\n"
     ]
    }
   ],
   "source": [
    "d_max = d.max()\n",
    "print(d_max)"
   ]
  },
  {
   "cell_type": "code",
   "execution_count": 58,
   "metadata": {
    "ExecuteTime": {
     "end_time": "2020-06-09T13:51:44.043185Z",
     "start_time": "2020-06-09T13:51:44.034192Z"
    }
   },
   "outputs": [
    {
     "name": "stdout",
     "output_type": "stream",
     "text": [
      "1.0184671811104282\n"
     ]
    }
   ],
   "source": [
    "d_min = d.min()\n",
    "print(d_min)"
   ]
  },
  {
   "cell_type": "code",
   "execution_count": 59,
   "metadata": {
    "ExecuteTime": {
     "end_time": "2020-06-09T13:51:44.255064Z",
     "start_time": "2020-06-09T13:51:44.249068Z"
    }
   },
   "outputs": [
    {
     "name": "stdout",
     "output_type": "stream",
     "text": [
      "1.4495800433689014\n"
     ]
    }
   ],
   "source": [
    "d_mean = d.mean()\n",
    "print(d_mean)"
   ]
  },
  {
   "cell_type": "markdown",
   "metadata": {},
   "source": [
    "### 15. Now we want to label the values in d. First create an empty array \"f\" with the same shape (i.e. 3x2x5) as d using `np.empty`."
   ]
  },
  {
   "cell_type": "code",
   "execution_count": 60,
   "metadata": {
    "ExecuteTime": {
     "end_time": "2020-06-09T13:51:45.972783Z",
     "start_time": "2020-06-09T13:51:45.966787Z"
    }
   },
   "outputs": [],
   "source": [
    "# calling the empty function fom numpy\n",
    "f = np.empty([3,2,5])"
   ]
  },
  {
   "cell_type": "code",
   "execution_count": 61,
   "metadata": {
    "ExecuteTime": {
     "end_time": "2020-06-09T13:51:46.550203Z",
     "start_time": "2020-06-09T13:51:46.544208Z"
    }
   },
   "outputs": [
    {
     "data": {
      "text/plain": [
       "array([[[0.94384431, 0.6761689 , 0.48945308, 0.19861991, 0.31511073],\n",
       "        [0.11355712, 0.91717167, 0.13030967, 0.53276879, 0.81000779]],\n",
       "\n",
       "       [[0.0379854 , 0.74994714, 0.75892984, 0.11118469, 0.47539152],\n",
       "        [0.05433635, 0.42071734, 0.93173972, 0.0327763 , 0.03721198]],\n",
       "\n",
       "       [[0.53153679, 0.36757282, 0.90079861, 0.17411678, 0.65031526],\n",
       "        [0.23311142, 0.01846718, 0.21790026, 0.87346036, 0.78288957]]])"
      ]
     },
     "execution_count": 61,
     "metadata": {},
     "output_type": "execute_result"
    }
   ],
   "source": [
    "f"
   ]
  },
  {
   "cell_type": "markdown",
   "metadata": {},
   "source": [
    "\n",
    "### 16. Populate the values in f. For each value in d, if it's larger than d_min but smaller than d_mean, assign 25 to the corresponding value in f.\n",
    "If a value in d is larger than d_mean but smaller than d_max, assign 75 to the corresponding value in f.\n",
    "If a value equals to d_mean, assign 50 to the corresponding value in f.\n",
    "Assign 0 to the corresponding value(s) in f for d_min in d.\n",
    "Assign 100 to the corresponding value(s) in f for d_max in d.\n",
    "In the end, f should have only the following values: 0, 25, 50, 75, and 100.\n",
    "Note: you don't have to use Numpy in this question.\n"
   ]
  },
  {
   "cell_type": "code",
   "execution_count": 62,
   "metadata": {
    "ExecuteTime": {
     "end_time": "2020-06-09T13:51:49.152785Z",
     "start_time": "2020-06-09T13:51:49.137794Z"
    }
   },
   "outputs": [
    {
     "name": "stdout",
     "output_type": "stream",
     "text": [
      "[[[100.  75.  75.  25.  25.]\n",
      "  [ 25.  75.  25.  75.  75.]]\n",
      "\n",
      " [[ 25.  75.  75.  25.  75.]\n",
      "  [ 25.  25.  75.  25.  25.]]\n",
      "\n",
      " [[ 75.  25.  75.  25.  75.]\n",
      "  [ 25.   0.  25.  75.  75.]]]\n"
     ]
    }
   ],
   "source": [
    "for i in range(3):\n",
    "    for j in range(2):\n",
    "        for k in range(5):\n",
    "\n",
    "            if d[i,j,k]>d_min and d[i,j,k]<d_mean:\n",
    "                f[i,j,k]=25\n",
    "            elif d[i,j,k]>d_mean and d[i,j,k]<d_max:\n",
    "                f[i,j,k]=75\n",
    "            elif d[i,j,k]==d_mean:\n",
    "                f[i,j,k]=50\n",
    "            elif d[i,j,k]==d_min:\n",
    "                f[i,j,k]=0\n",
    "            elif d[i,j,k]==d_max:\n",
    "                f[i,j,k]=100\n",
    "\n",
    "print(f)"
   ]
  },
  {
   "cell_type": "markdown",
   "metadata": {},
   "source": [
    "### 17. Print d and f. Do you have your expected f?\n",
    "For instance, if your *d* is:\n",
    "```python\n",
    "[[[1.85836099, 1.67064465, 1.62576044, 1.40243961, 1.88454931],\n",
    "  [1.75354326, 1.69403643, 1.36729252, 1.61415071, 1.12104981]],\n",
    "\n",
    "[[1.72201435, 1.1862918 , 1.87078449, 1.7726778 , 1.88180042],\n",
    "  [1.44747908, 1.31673383, 1.02000951, 1.52218947, 1.97066381]],\n",
    "\n",
    "[[1.79129243, 1.74983003, 1.96028037, 1.85166831, 1.65450881],\n",
    " [1.18068344, 1.9587381 , 1.00656599, 1.93402165, 1.73514584]]]\n",
    "```\n",
    "Your *f* should be:\n",
    "```python\n",
    "[[[ 75.  75.  75.  25.  75.]\n",
    "  [ 75.  75.  25.  25.  25.]]\n",
    "\n",
    " [[ 75.  25.  75.  75.  75.]\n",
    "  [ 25.  25.  25.  25. 100.]]\n",
    "\n",
    " [[ 75.  75.  75.  75.  75.]\n",
    "  [ 25.  75.   0.  75.  75.]]]\n",
    "```"
   ]
  },
  {
   "cell_type": "code",
   "execution_count": 63,
   "metadata": {
    "ExecuteTime": {
     "end_time": "2020-06-09T13:51:51.627018Z",
     "start_time": "2020-06-09T13:51:51.622028Z"
    }
   },
   "outputs": [
    {
     "name": "stdout",
     "output_type": "stream",
     "text": [
      "[[[1.94384431 1.6761689  1.48945308 1.19861991 1.31511073]\n",
      "  [1.11355712 1.91717167 1.13030967 1.53276879 1.81000779]]\n",
      "\n",
      " [[1.0379854  1.74994714 1.75892984 1.11118469 1.47539152]\n",
      "  [1.05433635 1.42071734 1.93173972 1.0327763  1.03721198]]\n",
      "\n",
      " [[1.53153679 1.36757282 1.90079861 1.17411678 1.65031526]\n",
      "  [1.23311142 1.01846718 1.21790026 1.87346036 1.78288957]]]\n"
     ]
    }
   ],
   "source": [
    "# your code\n",
    "print(d)"
   ]
  },
  {
   "cell_type": "code",
   "execution_count": 64,
   "metadata": {
    "ExecuteTime": {
     "end_time": "2020-06-09T13:51:53.402058Z",
     "start_time": "2020-06-09T13:51:53.396062Z"
    }
   },
   "outputs": [
    {
     "name": "stdout",
     "output_type": "stream",
     "text": [
      "[[[100.  75.  75.  25.  25.]\n",
      "  [ 25.  75.  25.  75.  75.]]\n",
      "\n",
      " [[ 25.  75.  75.  25.  75.]\n",
      "  [ 25.  25.  75.  25.  25.]]\n",
      "\n",
      " [[ 75.  25.  75.  25.  75.]\n",
      "  [ 25.   0.  25.  75.  75.]]]\n"
     ]
    }
   ],
   "source": [
    "print(f)"
   ]
  },
  {
   "cell_type": "markdown",
   "metadata": {},
   "source": [
    "### 18. Bonus question: instead of using numbers (i.e. 0, 25, 50, 75, and 100), how to use string values \n",
    "```python\n",
    "[[['D' 'D' 'D' 'B' 'D']\n",
    "  ['D' 'D' 'B' 'B' 'B']]\n",
    "\n",
    " [['D' 'B' 'D' 'D' 'D']\n",
    "  ['B' 'B' 'B' 'B' 'E']]\n",
    "\n",
    " [['D' 'D' 'D' 'D' 'D']\n",
    "  ['B' 'D' 'A' 'D' 'D']]]\n",
    "```\n",
    "**Note**: you don't have to use Numpy in this question."
   ]
  },
  {
   "cell_type": "code",
   "execution_count": 65,
   "metadata": {
    "ExecuteTime": {
     "end_time": "2020-06-09T13:51:54.413211Z",
     "start_time": "2020-06-09T13:51:54.399220Z"
    }
   },
   "outputs": [
    {
     "name": "stdout",
     "output_type": "stream",
     "text": [
      "[[['E' 'D' 'D' 'B' 'B']\n",
      "  ['B' 'D' 'B' 'D' 'D']]\n",
      "\n",
      " [['B' 'D' 'D' 'B' 'D']\n",
      "  ['B' 'B' 'D' 'B' 'B']]\n",
      "\n",
      " [['D' 'B' 'D' 'B' 'D']\n",
      "  ['B' 'A' 'B' 'D' 'D']]]\n"
     ]
    }
   ],
   "source": [
    "f = f.astype(str)\n",
    "for i in range(3):\n",
    "    for j in range(2):\n",
    "        for k in range(5):\n",
    "\n",
    "            if d[i,j,k]>d_min and d[i,j,k]<d_mean:\n",
    "                f[i,j,k]=\"B\"\n",
    "            elif d[i,j,k]>d_mean and d[i,j,k]<d_max:\n",
    "                f[i,j,k]=\"D\"\n",
    "            elif d[i,j,k]==d_mean:\n",
    "                f[i,j,k]=\"C\"\n",
    "            elif d[i,j,k]==d_min:\n",
    "                f[i,j,k]=\"A\"\n",
    "            elif d[i,j,k]==d_max:\n",
    "                f[i,j,k]=\"E\"\n",
    "\n",
    "print(f) "
   ]
  },
  {
   "cell_type": "code",
   "execution_count": null,
   "metadata": {},
   "outputs": [],
   "source": []
  }
 ],
 "metadata": {
  "hide_input": false,
  "kernelspec": {
   "display_name": "Python 3",
   "language": "python",
   "name": "python3"
  },
  "language_info": {
   "codemirror_mode": {
    "name": "ipython",
    "version": 3
   },
   "file_extension": ".py",
   "mimetype": "text/x-python",
   "name": "python",
   "nbconvert_exporter": "python",
   "pygments_lexer": "ipython3",
   "version": "3.7.4"
  },
  "toc": {
   "base_numbering": 1,
   "nav_menu": {},
   "number_sections": true,
   "sideBar": true,
   "skip_h1_title": false,
   "title_cell": "Table of Contents",
   "title_sidebar": "Contents",
   "toc_cell": false,
   "toc_position": {},
   "toc_section_display": true,
   "toc_window_display": false
  },
  "varInspector": {
   "cols": {
    "lenName": 16,
    "lenType": 16,
    "lenVar": 40
   },
   "kernels_config": {
    "python": {
     "delete_cmd_postfix": "",
     "delete_cmd_prefix": "del ",
     "library": "var_list.py",
     "varRefreshCmd": "print(var_dic_list())"
    },
    "r": {
     "delete_cmd_postfix": ") ",
     "delete_cmd_prefix": "rm(",
     "library": "var_list.r",
     "varRefreshCmd": "cat(var_dic_list()) "
    }
   },
   "types_to_exclude": [
    "module",
    "function",
    "builtin_function_or_method",
    "instance",
    "_Feature"
   ],
   "window_display": false
  }
 },
 "nbformat": 4,
 "nbformat_minor": 2
}
