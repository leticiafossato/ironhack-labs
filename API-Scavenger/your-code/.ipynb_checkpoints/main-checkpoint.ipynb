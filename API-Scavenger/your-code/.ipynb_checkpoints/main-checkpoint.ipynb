{
 "cells": [
  {
   "cell_type": "markdown",
   "metadata": {
    "colab_type": "text",
    "id": "wn9cH2KuhPQm"
   },
   "source": [
    "# API Scavenger Game\n",
    "\n",
    "## Challenge 1: Fork Languages\n",
    "\n",
    "You will find out how many programming languages are used among all the forks created from the main lab repo of your bootcamp."
   ]
  },
  {
   "cell_type": "code",
   "execution_count": 2,
   "metadata": {
    "colab": {},
    "colab_type": "code",
    "id": "CISPmeFPhPQt"
   },
   "outputs": [],
   "source": [
    "# import libraries here\n",
    "import pandas as pd\n",
    "import requests"
   ]
  },
  {
   "cell_type": "markdown",
   "metadata": {
    "colab_type": "text",
    "id": "kHZG8N7hhU1w"
   },
   "source": [
    "Assuming the main lab repo is ironhack-datalabs/mad-oct-2018, you will:\n",
    "\n",
    "#### 1. Obtain the full list of forks created from the main lab repo via Github API."
   ]
  },
  {
   "cell_type": "markdown",
   "metadata": {
    "colab_type": "text",
    "id": "X6JuENLGhPQ9"
   },
   "source": [
    "To list forks, we can use the GET method. As explained in the GitHub API documentation, we need to make the request to: GET /repos/:owner/:repo/forks."
   ]
  },
  {
   "cell_type": "code",
   "execution_count": 10,
   "metadata": {
    "colab": {},
    "colab_type": "code",
    "id": "II5D8CkQhPQ_"
   },
   "outputs": [
    {
     "data": {
      "text/html": [
       "<div>\n",
       "<style scoped>\n",
       "    .dataframe tbody tr th:only-of-type {\n",
       "        vertical-align: middle;\n",
       "    }\n",
       "\n",
       "    .dataframe tbody tr th {\n",
       "        vertical-align: top;\n",
       "    }\n",
       "\n",
       "    .dataframe thead th {\n",
       "        text-align: right;\n",
       "    }\n",
       "</style>\n",
       "<table border=\"1\" class=\"dataframe\">\n",
       "  <thead>\n",
       "    <tr style=\"text-align: right;\">\n",
       "      <th></th>\n",
       "      <th>id</th>\n",
       "      <th>node_id</th>\n",
       "      <th>name</th>\n",
       "      <th>full_name</th>\n",
       "      <th>private</th>\n",
       "      <th>html_url</th>\n",
       "      <th>description</th>\n",
       "      <th>fork</th>\n",
       "      <th>url</th>\n",
       "      <th>forks_url</th>\n",
       "      <th>...</th>\n",
       "      <th>owner.events_url</th>\n",
       "      <th>owner.received_events_url</th>\n",
       "      <th>owner.type</th>\n",
       "      <th>owner.site_admin</th>\n",
       "      <th>license.key</th>\n",
       "      <th>license.name</th>\n",
       "      <th>license.spdx_id</th>\n",
       "      <th>license.url</th>\n",
       "      <th>license.node_id</th>\n",
       "      <th>license</th>\n",
       "    </tr>\n",
       "  </thead>\n",
       "  <tbody>\n",
       "    <tr>\n",
       "      <th>0</th>\n",
       "      <td>290246887</td>\n",
       "      <td>MDEwOlJlcG9zaXRvcnkyOTAyNDY4ODc=</td>\n",
       "      <td>mad-oct-2018</td>\n",
       "      <td>Brunadiasmiguel/mad-oct-2018</td>\n",
       "      <td>False</td>\n",
       "      <td>https://github.com/Brunadiasmiguel/mad-oct-2018</td>\n",
       "      <td>Student labs for Ironhack data analytics bootcamp</td>\n",
       "      <td>True</td>\n",
       "      <td>https://api.github.com/repos/Brunadiasmiguel/m...</td>\n",
       "      <td>https://api.github.com/repos/Brunadiasmiguel/m...</td>\n",
       "      <td>...</td>\n",
       "      <td>https://api.github.com/users/Brunadiasmiguel/e...</td>\n",
       "      <td>https://api.github.com/users/Brunadiasmiguel/r...</td>\n",
       "      <td>User</td>\n",
       "      <td>False</td>\n",
       "      <td>unlicense</td>\n",
       "      <td>The Unlicense</td>\n",
       "      <td>Unlicense</td>\n",
       "      <td>https://api.github.com/licenses/unlicense</td>\n",
       "      <td>MDc6TGljZW5zZTE1</td>\n",
       "      <td>NaN</td>\n",
       "    </tr>\n",
       "    <tr>\n",
       "      <th>1</th>\n",
       "      <td>281180827</td>\n",
       "      <td>MDEwOlJlcG9zaXRvcnkyODExODA4Mjc=</td>\n",
       "      <td>mad-oct-2018</td>\n",
       "      <td>Spurda/mad-oct-2018</td>\n",
       "      <td>False</td>\n",
       "      <td>https://github.com/Spurda/mad-oct-2018</td>\n",
       "      <td>Student labs for Ironhack data analytics bootcamp</td>\n",
       "      <td>True</td>\n",
       "      <td>https://api.github.com/repos/Spurda/mad-oct-2018</td>\n",
       "      <td>https://api.github.com/repos/Spurda/mad-oct-20...</td>\n",
       "      <td>...</td>\n",
       "      <td>https://api.github.com/users/Spurda/events{/pr...</td>\n",
       "      <td>https://api.github.com/users/Spurda/received_e...</td>\n",
       "      <td>User</td>\n",
       "      <td>False</td>\n",
       "      <td>unlicense</td>\n",
       "      <td>The Unlicense</td>\n",
       "      <td>Unlicense</td>\n",
       "      <td>https://api.github.com/licenses/unlicense</td>\n",
       "      <td>MDc6TGljZW5zZTE1</td>\n",
       "      <td>NaN</td>\n",
       "    </tr>\n",
       "    <tr>\n",
       "      <th>2</th>\n",
       "      <td>220066216</td>\n",
       "      <td>MDEwOlJlcG9zaXRvcnkyMjAwNjYyMTY=</td>\n",
       "      <td>mad-oct-2018</td>\n",
       "      <td>ToniPons97/mad-oct-2018</td>\n",
       "      <td>False</td>\n",
       "      <td>https://github.com/ToniPons97/mad-oct-2018</td>\n",
       "      <td>Student labs for Ironhack data analytics bootcamp</td>\n",
       "      <td>True</td>\n",
       "      <td>https://api.github.com/repos/ToniPons97/mad-oc...</td>\n",
       "      <td>https://api.github.com/repos/ToniPons97/mad-oc...</td>\n",
       "      <td>...</td>\n",
       "      <td>https://api.github.com/users/ToniPons97/events...</td>\n",
       "      <td>https://api.github.com/users/ToniPons97/receiv...</td>\n",
       "      <td>User</td>\n",
       "      <td>False</td>\n",
       "      <td>unlicense</td>\n",
       "      <td>The Unlicense</td>\n",
       "      <td>Unlicense</td>\n",
       "      <td>https://api.github.com/licenses/unlicense</td>\n",
       "      <td>MDc6TGljZW5zZTE1</td>\n",
       "      <td>NaN</td>\n",
       "    </tr>\n",
       "    <tr>\n",
       "      <th>3</th>\n",
       "      <td>204100911</td>\n",
       "      <td>MDEwOlJlcG9zaXRvcnkyMDQxMDA5MTE=</td>\n",
       "      <td>mad-oct-2018</td>\n",
       "      <td>rsennes/mad-oct-2018</td>\n",
       "      <td>False</td>\n",
       "      <td>https://github.com/rsennes/mad-oct-2018</td>\n",
       "      <td>Student labs for Ironhack data analytics bootcamp</td>\n",
       "      <td>True</td>\n",
       "      <td>https://api.github.com/repos/rsennes/mad-oct-2018</td>\n",
       "      <td>https://api.github.com/repos/rsennes/mad-oct-2...</td>\n",
       "      <td>...</td>\n",
       "      <td>https://api.github.com/users/rsennes/events{/p...</td>\n",
       "      <td>https://api.github.com/users/rsennes/received_...</td>\n",
       "      <td>User</td>\n",
       "      <td>False</td>\n",
       "      <td>unlicense</td>\n",
       "      <td>The Unlicense</td>\n",
       "      <td>Unlicense</td>\n",
       "      <td>https://api.github.com/licenses/unlicense</td>\n",
       "      <td>MDc6TGljZW5zZTE1</td>\n",
       "      <td>NaN</td>\n",
       "    </tr>\n",
       "    <tr>\n",
       "      <th>4</th>\n",
       "      <td>200138127</td>\n",
       "      <td>MDEwOlJlcG9zaXRvcnkyMDAxMzgxMjc=</td>\n",
       "      <td>mad-oct-2018</td>\n",
       "      <td>gggfaria/mad-oct-2018</td>\n",
       "      <td>False</td>\n",
       "      <td>https://github.com/gggfaria/mad-oct-2018</td>\n",
       "      <td>Student labs for Ironhack data analytics bootcamp</td>\n",
       "      <td>True</td>\n",
       "      <td>https://api.github.com/repos/gggfaria/mad-oct-...</td>\n",
       "      <td>https://api.github.com/repos/gggfaria/mad-oct-...</td>\n",
       "      <td>...</td>\n",
       "      <td>https://api.github.com/users/gggfaria/events{/...</td>\n",
       "      <td>https://api.github.com/users/gggfaria/received...</td>\n",
       "      <td>User</td>\n",
       "      <td>False</td>\n",
       "      <td>unlicense</td>\n",
       "      <td>The Unlicense</td>\n",
       "      <td>Unlicense</td>\n",
       "      <td>https://api.github.com/licenses/unlicense</td>\n",
       "      <td>MDc6TGljZW5zZTE1</td>\n",
       "      <td>NaN</td>\n",
       "    </tr>\n",
       "  </tbody>\n",
       "</table>\n",
       "<p>5 rows × 95 columns</p>\n",
       "</div>"
      ],
      "text/plain": [
       "          id                           node_id          name  \\\n",
       "0  290246887  MDEwOlJlcG9zaXRvcnkyOTAyNDY4ODc=  mad-oct-2018   \n",
       "1  281180827  MDEwOlJlcG9zaXRvcnkyODExODA4Mjc=  mad-oct-2018   \n",
       "2  220066216  MDEwOlJlcG9zaXRvcnkyMjAwNjYyMTY=  mad-oct-2018   \n",
       "3  204100911  MDEwOlJlcG9zaXRvcnkyMDQxMDA5MTE=  mad-oct-2018   \n",
       "4  200138127  MDEwOlJlcG9zaXRvcnkyMDAxMzgxMjc=  mad-oct-2018   \n",
       "\n",
       "                      full_name  private  \\\n",
       "0  Brunadiasmiguel/mad-oct-2018    False   \n",
       "1           Spurda/mad-oct-2018    False   \n",
       "2       ToniPons97/mad-oct-2018    False   \n",
       "3          rsennes/mad-oct-2018    False   \n",
       "4         gggfaria/mad-oct-2018    False   \n",
       "\n",
       "                                          html_url  \\\n",
       "0  https://github.com/Brunadiasmiguel/mad-oct-2018   \n",
       "1           https://github.com/Spurda/mad-oct-2018   \n",
       "2       https://github.com/ToniPons97/mad-oct-2018   \n",
       "3          https://github.com/rsennes/mad-oct-2018   \n",
       "4         https://github.com/gggfaria/mad-oct-2018   \n",
       "\n",
       "                                         description  fork  \\\n",
       "0  Student labs for Ironhack data analytics bootcamp  True   \n",
       "1  Student labs for Ironhack data analytics bootcamp  True   \n",
       "2  Student labs for Ironhack data analytics bootcamp  True   \n",
       "3  Student labs for Ironhack data analytics bootcamp  True   \n",
       "4  Student labs for Ironhack data analytics bootcamp  True   \n",
       "\n",
       "                                                 url  \\\n",
       "0  https://api.github.com/repos/Brunadiasmiguel/m...   \n",
       "1   https://api.github.com/repos/Spurda/mad-oct-2018   \n",
       "2  https://api.github.com/repos/ToniPons97/mad-oc...   \n",
       "3  https://api.github.com/repos/rsennes/mad-oct-2018   \n",
       "4  https://api.github.com/repos/gggfaria/mad-oct-...   \n",
       "\n",
       "                                           forks_url  ...  \\\n",
       "0  https://api.github.com/repos/Brunadiasmiguel/m...  ...   \n",
       "1  https://api.github.com/repos/Spurda/mad-oct-20...  ...   \n",
       "2  https://api.github.com/repos/ToniPons97/mad-oc...  ...   \n",
       "3  https://api.github.com/repos/rsennes/mad-oct-2...  ...   \n",
       "4  https://api.github.com/repos/gggfaria/mad-oct-...  ...   \n",
       "\n",
       "                                    owner.events_url  \\\n",
       "0  https://api.github.com/users/Brunadiasmiguel/e...   \n",
       "1  https://api.github.com/users/Spurda/events{/pr...   \n",
       "2  https://api.github.com/users/ToniPons97/events...   \n",
       "3  https://api.github.com/users/rsennes/events{/p...   \n",
       "4  https://api.github.com/users/gggfaria/events{/...   \n",
       "\n",
       "                           owner.received_events_url owner.type  \\\n",
       "0  https://api.github.com/users/Brunadiasmiguel/r...       User   \n",
       "1  https://api.github.com/users/Spurda/received_e...       User   \n",
       "2  https://api.github.com/users/ToniPons97/receiv...       User   \n",
       "3  https://api.github.com/users/rsennes/received_...       User   \n",
       "4  https://api.github.com/users/gggfaria/received...       User   \n",
       "\n",
       "  owner.site_admin license.key   license.name license.spdx_id  \\\n",
       "0            False   unlicense  The Unlicense       Unlicense   \n",
       "1            False   unlicense  The Unlicense       Unlicense   \n",
       "2            False   unlicense  The Unlicense       Unlicense   \n",
       "3            False   unlicense  The Unlicense       Unlicense   \n",
       "4            False   unlicense  The Unlicense       Unlicense   \n",
       "\n",
       "                                 license.url   license.node_id license  \n",
       "0  https://api.github.com/licenses/unlicense  MDc6TGljZW5zZTE1     NaN  \n",
       "1  https://api.github.com/licenses/unlicense  MDc6TGljZW5zZTE1     NaN  \n",
       "2  https://api.github.com/licenses/unlicense  MDc6TGljZW5zZTE1     NaN  \n",
       "3  https://api.github.com/licenses/unlicense  MDc6TGljZW5zZTE1     NaN  \n",
       "4  https://api.github.com/licenses/unlicense  MDc6TGljZW5zZTE1     NaN  \n",
       "\n",
       "[5 rows x 95 columns]"
      ]
     },
     "execution_count": 10,
     "metadata": {},
     "output_type": "execute_result"
    }
   ],
   "source": [
    "# your code here\n",
    "requests.get('https://api.github.com/repos/ironhack-datalabs/mad-oct-2018/forks')\n",
    "response=requests.get('https://api.github.com/repos/ironhack-datalabs/mad-oct-2018/forks')\n",
    "response.json()\n",
    "df = pd.json_normalize(response.json())\n",
    "df.head()"
   ]
  },
  {
   "cell_type": "markdown",
   "metadata": {
    "colab_type": "text",
    "id": "ZMyRu0p6hPRI"
   },
   "source": [
    "#### 2. Loop the JSON response to find out the language attribute of each fork. Use an array to store the language attributes of each fork.\n",
    "Hint: Each language should appear only once in your array.\n",
    "Print the language array. It should be something like: [\"Python\", \"Jupyter Notebook\", \"HTML\"]"
   ]
  },
  {
   "cell_type": "code",
   "execution_count": 13,
   "metadata": {
    "colab": {},
    "colab_type": "code",
    "id": "2UwZRhw4hPRL"
   },
   "outputs": [
    {
     "data": {
      "text/plain": [
       "{'HTML', 'Jupyter Notebook', None}"
      ]
     },
     "execution_count": 13,
     "metadata": {},
     "output_type": "execute_result"
    }
   ],
   "source": [
    "# your code here\n",
    "\n",
    "set(list(df['language']))"
   ]
  },
  {
   "cell_type": "markdown",
   "metadata": {
    "colab_type": "text",
    "id": "uWWh1AbLhPRU"
   },
   "source": [
    "## Challenge 2: Count Commits\n",
    "Count how many commits were made in the month of january of 2019.\n",
    "\n",
    "Hints: \n",
    "- https://developer.github.com/v3/repos/commits/#list-commits-on-a-repository\n",
    "\n",
    "- GET /repos/:owner/:repo/commits\n",
    "\n",
    "#### 1. Obtain all the commits made in January 2019 via API, which is a JSON array that contains multiple commit objects."
   ]
  },
  {
   "cell_type": "code",
   "execution_count": 14,
   "metadata": {
    "colab": {},
    "colab_type": "code",
    "id": "fvBVJbQvhPRW"
   },
   "outputs": [
    {
     "data": {
      "text/html": [
       "<div>\n",
       "<style scoped>\n",
       "    .dataframe tbody tr th:only-of-type {\n",
       "        vertical-align: middle;\n",
       "    }\n",
       "\n",
       "    .dataframe tbody tr th {\n",
       "        vertical-align: top;\n",
       "    }\n",
       "\n",
       "    .dataframe thead th {\n",
       "        text-align: right;\n",
       "    }\n",
       "</style>\n",
       "<table border=\"1\" class=\"dataframe\">\n",
       "  <thead>\n",
       "    <tr style=\"text-align: right;\">\n",
       "      <th></th>\n",
       "      <th>sha</th>\n",
       "      <th>node_id</th>\n",
       "      <th>url</th>\n",
       "      <th>html_url</th>\n",
       "      <th>comments_url</th>\n",
       "      <th>parents</th>\n",
       "      <th>commit.author.name</th>\n",
       "      <th>commit.author.email</th>\n",
       "      <th>commit.author.date</th>\n",
       "      <th>commit.committer.name</th>\n",
       "      <th>...</th>\n",
       "      <th>committer.following_url</th>\n",
       "      <th>committer.gists_url</th>\n",
       "      <th>committer.starred_url</th>\n",
       "      <th>committer.subscriptions_url</th>\n",
       "      <th>committer.organizations_url</th>\n",
       "      <th>committer.repos_url</th>\n",
       "      <th>committer.events_url</th>\n",
       "      <th>committer.received_events_url</th>\n",
       "      <th>committer.type</th>\n",
       "      <th>committer.site_admin</th>\n",
       "    </tr>\n",
       "  </thead>\n",
       "  <tbody>\n",
       "    <tr>\n",
       "      <th>0</th>\n",
       "      <td>1638e5506e6947b77bfe78761d345476ae80d017</td>\n",
       "      <td>MDY6Q29tbWl0MTUzNzIwODA0OjE2MzhlNTUwNmU2OTQ3Yj...</td>\n",
       "      <td>https://api.github.com/repos/ironhack-datalabs...</td>\n",
       "      <td>https://github.com/ironhack-datalabs/mad-oct-2...</td>\n",
       "      <td>https://api.github.com/repos/ironhack-datalabs...</td>\n",
       "      <td>[{'sha': 'f332b5e6fcea965dc80f62220d7ee1457b04...</td>\n",
       "      <td>Marc Pomar</td>\n",
       "      <td>marc@faable.com</td>\n",
       "      <td>2019-08-19T11:11:36Z</td>\n",
       "      <td>Marc Pomar</td>\n",
       "      <td>...</td>\n",
       "      <td>https://api.github.com/users/boyander/followin...</td>\n",
       "      <td>https://api.github.com/users/boyander/gists{/g...</td>\n",
       "      <td>https://api.github.com/users/boyander/starred{...</td>\n",
       "      <td>https://api.github.com/users/boyander/subscrip...</td>\n",
       "      <td>https://api.github.com/users/boyander/orgs</td>\n",
       "      <td>https://api.github.com/users/boyander/repos</td>\n",
       "      <td>https://api.github.com/users/boyander/events{/...</td>\n",
       "      <td>https://api.github.com/users/boyander/received...</td>\n",
       "      <td>User</td>\n",
       "      <td>False</td>\n",
       "    </tr>\n",
       "    <tr>\n",
       "      <th>1</th>\n",
       "      <td>f332b5e6fcea965dc80f62220d7ee1457b04b90d</td>\n",
       "      <td>MDY6Q29tbWl0MTUzNzIwODA0OmYzMzJiNWU2ZmNlYTk2NW...</td>\n",
       "      <td>https://api.github.com/repos/ironhack-datalabs...</td>\n",
       "      <td>https://github.com/ironhack-datalabs/mad-oct-2...</td>\n",
       "      <td>https://api.github.com/repos/ironhack-datalabs...</td>\n",
       "      <td>[{'sha': '4c048c3efc18cf9d50e34c76919c8049ee7f...</td>\n",
       "      <td>ta-data-bcn</td>\n",
       "      <td>47005065+ta-data-bcn@users.noreply.github.com</td>\n",
       "      <td>2019-03-07T15:49:16Z</td>\n",
       "      <td>GitHub</td>\n",
       "      <td>...</td>\n",
       "      <td>https://api.github.com/users/web-flow/followin...</td>\n",
       "      <td>https://api.github.com/users/web-flow/gists{/g...</td>\n",
       "      <td>https://api.github.com/users/web-flow/starred{...</td>\n",
       "      <td>https://api.github.com/users/web-flow/subscrip...</td>\n",
       "      <td>https://api.github.com/users/web-flow/orgs</td>\n",
       "      <td>https://api.github.com/users/web-flow/repos</td>\n",
       "      <td>https://api.github.com/users/web-flow/events{/...</td>\n",
       "      <td>https://api.github.com/users/web-flow/received...</td>\n",
       "      <td>User</td>\n",
       "      <td>False</td>\n",
       "    </tr>\n",
       "    <tr>\n",
       "      <th>2</th>\n",
       "      <td>4c048c3efc18cf9d50e34c76919c8049ee7f2dbd</td>\n",
       "      <td>MDY6Q29tbWl0MTUzNzIwODA0OjRjMDQ4YzNlZmMxOGNmOW...</td>\n",
       "      <td>https://api.github.com/repos/ironhack-datalabs...</td>\n",
       "      <td>https://github.com/ironhack-datalabs/mad-oct-2...</td>\n",
       "      <td>https://api.github.com/repos/ironhack-datalabs...</td>\n",
       "      <td>[{'sha': '41e09d4fbf64bacb2fdfe7d90cdd0cd71bd2...</td>\n",
       "      <td>ta-data-bcn</td>\n",
       "      <td>47005065+ta-data-bcn@users.noreply.github.com</td>\n",
       "      <td>2019-03-07T15:38:52Z</td>\n",
       "      <td>GitHub</td>\n",
       "      <td>...</td>\n",
       "      <td>https://api.github.com/users/web-flow/followin...</td>\n",
       "      <td>https://api.github.com/users/web-flow/gists{/g...</td>\n",
       "      <td>https://api.github.com/users/web-flow/starred{...</td>\n",
       "      <td>https://api.github.com/users/web-flow/subscrip...</td>\n",
       "      <td>https://api.github.com/users/web-flow/orgs</td>\n",
       "      <td>https://api.github.com/users/web-flow/repos</td>\n",
       "      <td>https://api.github.com/users/web-flow/events{/...</td>\n",
       "      <td>https://api.github.com/users/web-flow/received...</td>\n",
       "      <td>User</td>\n",
       "      <td>False</td>\n",
       "    </tr>\n",
       "    <tr>\n",
       "      <th>3</th>\n",
       "      <td>41e09d4fbf64bacb2fdfe7d90cdd0cd71bd24310</td>\n",
       "      <td>MDY6Q29tbWl0MTUzNzIwODA0OjQxZTA5ZDRmYmY2NGJhY2...</td>\n",
       "      <td>https://api.github.com/repos/ironhack-datalabs...</td>\n",
       "      <td>https://github.com/ironhack-datalabs/mad-oct-2...</td>\n",
       "      <td>https://api.github.com/repos/ironhack-datalabs...</td>\n",
       "      <td>[{'sha': '750eb91e4535c14ec4bf03f60cb5756a1c93...</td>\n",
       "      <td>Tony Ojeda</td>\n",
       "      <td>tojeda@districtdatalabs.com</td>\n",
       "      <td>2019-01-18T18:28:33Z</td>\n",
       "      <td>Tony Ojeda</td>\n",
       "      <td>...</td>\n",
       "      <td>https://api.github.com/users/ojedatony1616/fol...</td>\n",
       "      <td>https://api.github.com/users/ojedatony1616/gis...</td>\n",
       "      <td>https://api.github.com/users/ojedatony1616/sta...</td>\n",
       "      <td>https://api.github.com/users/ojedatony1616/sub...</td>\n",
       "      <td>https://api.github.com/users/ojedatony1616/orgs</td>\n",
       "      <td>https://api.github.com/users/ojedatony1616/repos</td>\n",
       "      <td>https://api.github.com/users/ojedatony1616/eve...</td>\n",
       "      <td>https://api.github.com/users/ojedatony1616/rec...</td>\n",
       "      <td>User</td>\n",
       "      <td>False</td>\n",
       "    </tr>\n",
       "    <tr>\n",
       "      <th>4</th>\n",
       "      <td>750eb91e4535c14ec4bf03f60cb5756a1c93f68f</td>\n",
       "      <td>MDY6Q29tbWl0MTUzNzIwODA0Ojc1MGViOTFlNDUzNWMxNG...</td>\n",
       "      <td>https://api.github.com/repos/ironhack-datalabs...</td>\n",
       "      <td>https://github.com/ironhack-datalabs/mad-oct-2...</td>\n",
       "      <td>https://api.github.com/repos/ironhack-datalabs...</td>\n",
       "      <td>[{'sha': '4a8cc3cb64821cb58182a3a94be38f17d27a...</td>\n",
       "      <td>Michal Monselise</td>\n",
       "      <td>michal.monselise@gmail.com</td>\n",
       "      <td>2019-01-17T21:59:35Z</td>\n",
       "      <td>Michal Monselise</td>\n",
       "      <td>...</td>\n",
       "      <td>https://api.github.com/users/michalmonselise/f...</td>\n",
       "      <td>https://api.github.com/users/michalmonselise/g...</td>\n",
       "      <td>https://api.github.com/users/michalmonselise/s...</td>\n",
       "      <td>https://api.github.com/users/michalmonselise/s...</td>\n",
       "      <td>https://api.github.com/users/michalmonselise/orgs</td>\n",
       "      <td>https://api.github.com/users/michalmonselise/r...</td>\n",
       "      <td>https://api.github.com/users/michalmonselise/e...</td>\n",
       "      <td>https://api.github.com/users/michalmonselise/r...</td>\n",
       "      <td>User</td>\n",
       "      <td>False</td>\n",
       "    </tr>\n",
       "  </tbody>\n",
       "</table>\n",
       "<p>5 rows × 57 columns</p>\n",
       "</div>"
      ],
      "text/plain": [
       "                                        sha  \\\n",
       "0  1638e5506e6947b77bfe78761d345476ae80d017   \n",
       "1  f332b5e6fcea965dc80f62220d7ee1457b04b90d   \n",
       "2  4c048c3efc18cf9d50e34c76919c8049ee7f2dbd   \n",
       "3  41e09d4fbf64bacb2fdfe7d90cdd0cd71bd24310   \n",
       "4  750eb91e4535c14ec4bf03f60cb5756a1c93f68f   \n",
       "\n",
       "                                             node_id  \\\n",
       "0  MDY6Q29tbWl0MTUzNzIwODA0OjE2MzhlNTUwNmU2OTQ3Yj...   \n",
       "1  MDY6Q29tbWl0MTUzNzIwODA0OmYzMzJiNWU2ZmNlYTk2NW...   \n",
       "2  MDY6Q29tbWl0MTUzNzIwODA0OjRjMDQ4YzNlZmMxOGNmOW...   \n",
       "3  MDY6Q29tbWl0MTUzNzIwODA0OjQxZTA5ZDRmYmY2NGJhY2...   \n",
       "4  MDY6Q29tbWl0MTUzNzIwODA0Ojc1MGViOTFlNDUzNWMxNG...   \n",
       "\n",
       "                                                 url  \\\n",
       "0  https://api.github.com/repos/ironhack-datalabs...   \n",
       "1  https://api.github.com/repos/ironhack-datalabs...   \n",
       "2  https://api.github.com/repos/ironhack-datalabs...   \n",
       "3  https://api.github.com/repos/ironhack-datalabs...   \n",
       "4  https://api.github.com/repos/ironhack-datalabs...   \n",
       "\n",
       "                                            html_url  \\\n",
       "0  https://github.com/ironhack-datalabs/mad-oct-2...   \n",
       "1  https://github.com/ironhack-datalabs/mad-oct-2...   \n",
       "2  https://github.com/ironhack-datalabs/mad-oct-2...   \n",
       "3  https://github.com/ironhack-datalabs/mad-oct-2...   \n",
       "4  https://github.com/ironhack-datalabs/mad-oct-2...   \n",
       "\n",
       "                                        comments_url  \\\n",
       "0  https://api.github.com/repos/ironhack-datalabs...   \n",
       "1  https://api.github.com/repos/ironhack-datalabs...   \n",
       "2  https://api.github.com/repos/ironhack-datalabs...   \n",
       "3  https://api.github.com/repos/ironhack-datalabs...   \n",
       "4  https://api.github.com/repos/ironhack-datalabs...   \n",
       "\n",
       "                                             parents commit.author.name  \\\n",
       "0  [{'sha': 'f332b5e6fcea965dc80f62220d7ee1457b04...         Marc Pomar   \n",
       "1  [{'sha': '4c048c3efc18cf9d50e34c76919c8049ee7f...        ta-data-bcn   \n",
       "2  [{'sha': '41e09d4fbf64bacb2fdfe7d90cdd0cd71bd2...        ta-data-bcn   \n",
       "3  [{'sha': '750eb91e4535c14ec4bf03f60cb5756a1c93...         Tony Ojeda   \n",
       "4  [{'sha': '4a8cc3cb64821cb58182a3a94be38f17d27a...   Michal Monselise   \n",
       "\n",
       "                             commit.author.email    commit.author.date  \\\n",
       "0                                marc@faable.com  2019-08-19T11:11:36Z   \n",
       "1  47005065+ta-data-bcn@users.noreply.github.com  2019-03-07T15:49:16Z   \n",
       "2  47005065+ta-data-bcn@users.noreply.github.com  2019-03-07T15:38:52Z   \n",
       "3                    tojeda@districtdatalabs.com  2019-01-18T18:28:33Z   \n",
       "4                     michal.monselise@gmail.com  2019-01-17T21:59:35Z   \n",
       "\n",
       "  commit.committer.name  ...  \\\n",
       "0            Marc Pomar  ...   \n",
       "1                GitHub  ...   \n",
       "2                GitHub  ...   \n",
       "3            Tony Ojeda  ...   \n",
       "4      Michal Monselise  ...   \n",
       "\n",
       "                             committer.following_url  \\\n",
       "0  https://api.github.com/users/boyander/followin...   \n",
       "1  https://api.github.com/users/web-flow/followin...   \n",
       "2  https://api.github.com/users/web-flow/followin...   \n",
       "3  https://api.github.com/users/ojedatony1616/fol...   \n",
       "4  https://api.github.com/users/michalmonselise/f...   \n",
       "\n",
       "                                 committer.gists_url  \\\n",
       "0  https://api.github.com/users/boyander/gists{/g...   \n",
       "1  https://api.github.com/users/web-flow/gists{/g...   \n",
       "2  https://api.github.com/users/web-flow/gists{/g...   \n",
       "3  https://api.github.com/users/ojedatony1616/gis...   \n",
       "4  https://api.github.com/users/michalmonselise/g...   \n",
       "\n",
       "                               committer.starred_url  \\\n",
       "0  https://api.github.com/users/boyander/starred{...   \n",
       "1  https://api.github.com/users/web-flow/starred{...   \n",
       "2  https://api.github.com/users/web-flow/starred{...   \n",
       "3  https://api.github.com/users/ojedatony1616/sta...   \n",
       "4  https://api.github.com/users/michalmonselise/s...   \n",
       "\n",
       "                         committer.subscriptions_url  \\\n",
       "0  https://api.github.com/users/boyander/subscrip...   \n",
       "1  https://api.github.com/users/web-flow/subscrip...   \n",
       "2  https://api.github.com/users/web-flow/subscrip...   \n",
       "3  https://api.github.com/users/ojedatony1616/sub...   \n",
       "4  https://api.github.com/users/michalmonselise/s...   \n",
       "\n",
       "                         committer.organizations_url  \\\n",
       "0         https://api.github.com/users/boyander/orgs   \n",
       "1         https://api.github.com/users/web-flow/orgs   \n",
       "2         https://api.github.com/users/web-flow/orgs   \n",
       "3    https://api.github.com/users/ojedatony1616/orgs   \n",
       "4  https://api.github.com/users/michalmonselise/orgs   \n",
       "\n",
       "                                 committer.repos_url  \\\n",
       "0        https://api.github.com/users/boyander/repos   \n",
       "1        https://api.github.com/users/web-flow/repos   \n",
       "2        https://api.github.com/users/web-flow/repos   \n",
       "3   https://api.github.com/users/ojedatony1616/repos   \n",
       "4  https://api.github.com/users/michalmonselise/r...   \n",
       "\n",
       "                                committer.events_url  \\\n",
       "0  https://api.github.com/users/boyander/events{/...   \n",
       "1  https://api.github.com/users/web-flow/events{/...   \n",
       "2  https://api.github.com/users/web-flow/events{/...   \n",
       "3  https://api.github.com/users/ojedatony1616/eve...   \n",
       "4  https://api.github.com/users/michalmonselise/e...   \n",
       "\n",
       "                       committer.received_events_url committer.type  \\\n",
       "0  https://api.github.com/users/boyander/received...           User   \n",
       "1  https://api.github.com/users/web-flow/received...           User   \n",
       "2  https://api.github.com/users/web-flow/received...           User   \n",
       "3  https://api.github.com/users/ojedatony1616/rec...           User   \n",
       "4  https://api.github.com/users/michalmonselise/r...           User   \n",
       "\n",
       "  committer.site_admin  \n",
       "0                False  \n",
       "1                False  \n",
       "2                False  \n",
       "3                False  \n",
       "4                False  \n",
       "\n",
       "[5 rows x 57 columns]"
      ]
     },
     "execution_count": 14,
     "metadata": {},
     "output_type": "execute_result"
    }
   ],
   "source": [
    "# your code here\n",
    "requests.get('https://api.github.com/repos/ironhack-datalabs/mad-oct-2018/commits')\n",
    "response=requests.get('https://api.github.com/repos/ironhack-datalabs/mad-oct-2018/commits')\n",
    "response.json()\n",
    "df = pd.json_normalize(response.json())\n",
    "df.head()"
   ]
  },
  {
   "cell_type": "markdown",
   "metadata": {
    "colab_type": "text",
    "id": "cp1aYfRShPRb"
   },
   "source": [
    "#### 2. Count how many commit objects are contained in the array."
   ]
  },
  {
   "cell_type": "code",
   "execution_count": 20,
   "metadata": {
    "colab": {},
    "colab_type": "code",
    "id": "guNZQxx4hPTT"
   },
   "outputs": [
    {
     "data": {
      "text/plain": [
       "30"
      ]
     },
     "execution_count": 20,
     "metadata": {},
     "output_type": "execute_result"
    }
   ],
   "source": [
    "# your code here\n",
    "df.shape[0]"
   ]
  },
  {
   "cell_type": "markdown",
   "metadata": {
    "colab_type": "text",
    "id": "cr6YdvCvhPTZ"
   },
   "source": [
    "## Challenge 3: Hidden Cold Joke\n",
    "\n",
    "Using Python, call Github API to find out the cold joke contained in the 24 secret files in the following repo:\n",
    "\n",
    "https://github.com/ironhack-datalabs/scavenger\n",
    "\n",
    "The filenames of the secret files contain .scavengerhunt and they are scattered in different directories of this repo. The secret files are named from .0001.scavengerhunt to .0024.scavengerhunt. They are scattered randomly throughout this repo. You need to search for these files by calling the Github API, not searching the local files on your computer.\n",
    "\n",
    "#### 1. Find the secret files."
   ]
  },
  {
   "cell_type": "code",
   "execution_count": 31,
   "metadata": {
    "colab": {},
    "colab_type": "code",
    "id": "96VAucMUhPTb"
   },
   "outputs": [
    {
     "ename": "AttributeError",
     "evalue": "'Response' object has no attribute 'get'",
     "output_type": "error",
     "traceback": [
      "\u001b[1;31m---------------------------------------------------------------------------\u001b[0m",
      "\u001b[1;31mAttributeError\u001b[0m                            Traceback (most recent call last)",
      "\u001b[1;32m<ipython-input-31-dd04d85deac0>\u001b[0m in \u001b[0;36m<module>\u001b[1;34m\u001b[0m\n\u001b[0;32m      1\u001b[0m \u001b[1;31m# your code here\u001b[0m\u001b[1;33m\u001b[0m\u001b[1;33m\u001b[0m\u001b[1;33m\u001b[0m\u001b[0m\n\u001b[1;32m----> 2\u001b[1;33m \u001b[0mresponse\u001b[0m\u001b[1;33m=\u001b[0m\u001b[0mrequests\u001b[0m\u001b[1;33m.\u001b[0m\u001b[0mget\u001b[0m\u001b[1;33m(\u001b[0m\u001b[1;34m'https://api.github.com/repos/ironhack-datalabs/scavenger/contents'\u001b[0m\u001b[1;33m)\u001b[0m\u001b[1;33m\u001b[0m\u001b[1;33m\u001b[0m\u001b[0m\n\u001b[0m\u001b[0;32m      3\u001b[0m \u001b[0mresponse\u001b[0m\u001b[1;33m.\u001b[0m\u001b[0mjson\u001b[0m\u001b[1;33m(\u001b[0m\u001b[1;33m)\u001b[0m\u001b[1;33m\u001b[0m\u001b[1;33m\u001b[0m\u001b[0m\n",
      "\u001b[1;31mAttributeError\u001b[0m: 'Response' object has no attribute 'get'"
     ]
    }
   ],
   "source": [
    "# your code here\n",
    "response=requests.get('https://api.github.com/repos/ironhack-datalabs/scavenger/contents/')\n",
    "response.json()"
   ]
  },
  {
   "cell_type": "markdown",
   "metadata": {
    "colab_type": "text",
    "id": "Jm7O1IHFhPTi"
   },
   "source": [
    "#### 2.  Sort the filenames ascendingly."
   ]
  },
  {
   "cell_type": "code",
   "execution_count": 0,
   "metadata": {
    "colab": {},
    "colab_type": "code",
    "id": "KOAB6TkZhPTk"
   },
   "outputs": [],
   "source": [
    "# your code here"
   ]
  },
  {
   "cell_type": "markdown",
   "metadata": {
    "colab_type": "text",
    "id": "GqwqQnvShPTt"
   },
   "source": [
    "#### 3. Read the content of each secret files into an array of strings.\n",
    "Since the response is encoded, you will need to send the following information in the header of your request:\n",
    "````python\n",
    "headers = {'Accept': 'application/vnd.github.v3.raw'}\n",
    "````"
   ]
  },
  {
   "cell_type": "code",
   "execution_count": 0,
   "metadata": {
    "colab": {},
    "colab_type": "code",
    "id": "nxcnG4d0hPT0"
   },
   "outputs": [],
   "source": [
    "# your code here"
   ]
  },
  {
   "cell_type": "markdown",
   "metadata": {
    "colab_type": "text",
    "id": "A-h4Qz7ahPT7"
   },
   "source": [
    "#### 4. Concatenate the strings in the array separating each two with a whitespace."
   ]
  },
  {
   "cell_type": "code",
   "execution_count": 0,
   "metadata": {
    "colab": {},
    "colab_type": "code",
    "id": "nYWRSxrZhPT9"
   },
   "outputs": [],
   "source": [
    "# your code here"
   ]
  },
  {
   "cell_type": "markdown",
   "metadata": {
    "colab_type": "text",
    "id": "M1mXl3TEhPUA"
   },
   "source": [
    "#### 5. Print out the joke."
   ]
  },
  {
   "cell_type": "code",
   "execution_count": 0,
   "metadata": {
    "colab": {},
    "colab_type": "code",
    "id": "_JoQ4h2_hPUF"
   },
   "outputs": [],
   "source": [
    "# your code here"
   ]
  }
 ],
 "metadata": {
  "colab": {
   "name": "main.ipynb",
   "provenance": []
  },
  "kernelspec": {
   "display_name": "Python 3",
   "language": "python",
   "name": "python3"
  },
  "language_info": {
   "codemirror_mode": {
    "name": "ipython",
    "version": 3
   },
   "file_extension": ".py",
   "mimetype": "text/x-python",
   "name": "python",
   "nbconvert_exporter": "python",
   "pygments_lexer": "ipython3",
   "version": "3.8.3"
  },
  "toc": {
   "base_numbering": 1,
   "nav_menu": {},
   "number_sections": true,
   "sideBar": true,
   "skip_h1_title": false,
   "title_cell": "Table of Contents",
   "title_sidebar": "Contents",
   "toc_cell": false,
   "toc_position": {},
   "toc_section_display": true,
   "toc_window_display": false
  },
  "varInspector": {
   "cols": {
    "lenName": 16,
    "lenType": 16,
    "lenVar": 40
   },
   "kernels_config": {
    "python": {
     "delete_cmd_postfix": "",
     "delete_cmd_prefix": "del ",
     "library": "var_list.py",
     "varRefreshCmd": "print(var_dic_list())"
    },
    "r": {
     "delete_cmd_postfix": ") ",
     "delete_cmd_prefix": "rm(",
     "library": "var_list.r",
     "varRefreshCmd": "cat(var_dic_list()) "
    }
   },
   "types_to_exclude": [
    "module",
    "function",
    "builtin_function_or_method",
    "instance",
    "_Feature"
   ],
   "window_display": false
  }
 },
 "nbformat": 4,
 "nbformat_minor": 1
}
