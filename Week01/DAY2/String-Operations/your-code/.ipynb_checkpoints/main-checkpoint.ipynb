{
 "cells": [
  {
   "cell_type": "markdown",
   "metadata": {
    "colab_type": "text",
    "id": "Smya68K_kUJz"
   },
   "source": [
    "# Before your start:\n",
    "- Read the README.md file\n",
    "- Comment as much as you can and use the resources in the README.md file\n",
    "- Happy learning!"
   ]
  },
  {
   "cell_type": "code",
   "execution_count": 1,
   "metadata": {
    "colab": {},
    "colab_type": "code",
    "id": "UmpfHHYjkUJ0"
   },
   "outputs": [],
   "source": [
    "import re"
   ]
  },
  {
   "cell_type": "markdown",
   "metadata": {
    "colab_type": "text",
    "id": "yLuALiyCkUJ3"
   },
   "source": [
    "# Challenge 1 - Combining Strings\n",
    "\n",
    "Combining strings is an important skill to acquire. There are multiple ways of combining strings in Python, as well as combining strings with variables. We will explore this in the first challenge. In the cell below, combine the strings in the list and add spaces between the strings (do not add a space after the last string). Insert a period after the last string."
   ]
  },
  {
   "cell_type": "code",
   "execution_count": 2,
   "metadata": {
    "colab": {},
    "colab_type": "code",
    "id": "n0LxSL1tkUJ4"
   },
   "outputs": [
    {
     "name": "stdout",
     "output_type": "stream",
     "text": [
      "Durante un tiempo no estuvo segura de si su marido era su marido.\n"
     ]
    }
   ],
   "source": [
    "str_list = ['Durante', 'un', 'tiempo', 'no', 'estuvo', 'segura', 'de', 'si', 'su', 'marido', 'era', 'su', 'marido']\n",
    "# Your code here:\n",
    "print(\" \".join(str_list)+\".\")\n"
   ]
  },
  {
   "cell_type": "markdown",
   "metadata": {
    "colab_type": "text",
    "id": "jjnjuDhbkUJ6"
   },
   "source": [
    "In the cell below, use the list of strings to create a grocery list. Start the list with the string `Grocery list: ` and include a comma and a space between each item except for the last one. Include a period at the end. Only include foods in the list that start with the letter 'b' and ensure all foods are lower case."
   ]
  },
  {
   "cell_type": "code",
   "execution_count": 3,
   "metadata": {
    "colab": {},
    "colab_type": "code",
    "id": "D9EWG-9YkUJ6"
   },
   "outputs": [
    {
     "name": "stdout",
     "output_type": "stream",
     "text": [
      "Grocery_list: bananas, bread, brownie mix, broccoli.\n"
     ]
    }
   ],
   "source": [
    "food_list = ['Bananas', 'Chocolate', 'bread', 'diapers', 'Ice Cream', 'Brownie Mix', 'broccoli']\n",
    "# Your code here:\n",
    "comma_and_space=\", \"\n",
    "lista=[]\n",
    "for i in range(len(food_list)):\n",
    "    if ((food_list[i].startswith('b')==True)|(food_list[i].startswith('B')==True)):\n",
    "        lista.append(food_list[i])\n",
    "food_string=(comma_and_space).join(lista).lower()+\".\"\n",
    "print(\"Grocery_list:\", food_string)\n"
   ]
  },
  {
   "cell_type": "markdown",
   "metadata": {
    "colab_type": "text",
    "id": "r-7puDW_kUJ8"
   },
   "source": [
    "In the cell below, write a function that computes the area of a circle using its radius. Compute the area of the circle and insert the radius and the area between the two strings. Make sure to include spaces between the variable and the strings. \n",
    "\n",
    "Note: You can use the techniques we have learned so far or use f-strings. F-strings allow us to embed code inside strings. You can read more about f-strings [here](https://www.python.org/dev/peps/pep-0498/)."
   ]
  },
  {
   "cell_type": "code",
   "execution_count": 4,
   "metadata": {
    "colab": {},
    "colab_type": "code",
    "id": "dEpQOL59kUJ9"
   },
   "outputs": [
    {
     "name": "stdout",
     "output_type": "stream",
     "text": [
      "The area of the circle with radius: 4.5 is: 63.615375\n"
     ]
    }
   ],
   "source": [
    "string1 = \"The area of the circle with radius:\"\n",
    "string2  = \"is:\"\n",
    "radius = 4.5\n",
    "\n",
    "def area(x):\n",
    "    \"\"\"\n",
    "    This function takes a radius and returns the area of a circle. \n",
    "    \n",
    "    Input: Float\n",
    "    Output: Float\n",
    "    \n",
    "    Sample input: 5.0\n",
    "    Sample Output: 78.53981633\n",
    "    \"\"\"\n",
    "    pi = 3.1415\n",
    "    \n",
    "    # Your code here:\n",
    "    area_circulo=pi*((x)**2)\n",
    "    return area_circulo\n",
    "\n",
    "area(radius)\n",
    "    \n",
    "# Your output string here:\n",
    "print(string1+\" \"+str(radius)+\" \"+string2+\" \"+str(area(radius)))"
   ]
  },
  {
   "cell_type": "markdown",
   "metadata": {
    "colab_type": "text",
    "id": "5wUx1N0gkUJ_"
   },
   "source": [
    "# Challenge 2 - Splitting Strings\n",
    "\n",
    "We have first looked at combining strings into one long string. There are times where we need to do the opposite and split the string into smaller components for further analysis. \n",
    "\n",
    "In the cell below, split the string into a list of strings using the space delimiter. Count the frequency of each word in the string in a dictionary. Strip the periods, line breaks and commas from the text. Make sure to remove empty strings from your dictionary."
   ]
  },
  {
   "cell_type": "code",
   "execution_count": 5,
   "metadata": {
    "colab": {},
    "colab_type": "code",
    "id": "5kCqHBEUkUKA"
   },
   "outputs": [
    {
     "name": "stdout",
     "output_type": "stream",
     "text": [
      "{'Some': 2, 'say': 3, 'the': 1, 'world': 1, 'will': 1, 'end': 1, 'in': 2, 'fire,': 1, 'ice.': 1, 'From': 1, 'what': 1, 'I’ve': 1, 'tasted': 1, 'of': 2, 'desire': 1, 'I': 3, 'hold': 1, 'with': 1, 'those': 1, 'who': 1, 'favor': 1, 'fire.': 1, 'But': 1, 'if': 1, 'it': 1, 'had': 1, 'to': 1, 'perish': 1, 'twice,': 1, 'think': 1, 'know': 1, 'enough': 1, 'hate': 1, 'To': 1, 'that': 1, 'for': 1, 'destruction': 1, 'ice': 1, 'Is': 1, 'also': 1, 'great': 1, 'And': 1, 'would': 1, 'suffice.': 1}\n"
     ]
    }
   ],
   "source": [
    "import re\n",
    "\n",
    "poem = \"\"\"Some say the world will end in fire,\n",
    "Some say in ice.\n",
    "From what I’ve tasted of desire\n",
    "I hold with those who favor fire.\n",
    "But if it had to perish twice,\n",
    "I think I know enough of hate\n",
    "To say that for destruction ice\n",
    "Is also great\n",
    "And would suffice.\"\"\"\n",
    "\n",
    "# Your code here:\n",
    "\n",
    "#Strip the periods, line breaks and commas from the text\n",
    "pattern='[\\n\\.\\,]'\n",
    "re.sub(pattern,'',poem)\n",
    "\n",
    "#Count the frequency of each word in the string in a dictionary.\n",
    "poem=poem.split()\n",
    "dicty = {x:poem.count(x) for x in poem}\n",
    "print(dicty)"
   ]
  },
  {
   "cell_type": "code",
   "execution_count": 6,
   "metadata": {},
   "outputs": [
    {
     "name": "stdout",
     "output_type": "stream",
     "text": [
      "{'Some': 2, 'say': 3, 'the': 1, 'world': 1, 'will': 1, 'end': 1, 'in': 2, 'fire,': 1, 'ice.': 1, 'From': 1, 'what': 1, 'I’ve': 1, 'tasted': 1, 'of': 2, 'desire': 1, 'I': 3, 'hold': 1, 'with': 1, 'those': 1, 'who': 1, 'favor': 1, 'fire.': 1, 'But': 1, 'if': 1, 'it': 1, 'had': 1, 'to': 1, 'perish': 1, 'twice,': 1, 'think': 1, 'know': 1, 'enough': 1, 'hate': 1, 'To': 1, 'that': 1, 'for': 1, 'destruction': 1, 'ice': 1, 'Is': 1, 'also': 1, 'great': 1, 'And': 1, 'would': 1, 'suffice.': 1}\n"
     ]
    }
   ],
   "source": [
    "i = ['apple','red','apple','red','red','pear']\n",
    "d = {x:i.count(x) for x in i}\n",
    "d = {x:poem.count(x) for x in poem}\n",
    "print(d)"
   ]
  },
  {
   "cell_type": "markdown",
   "metadata": {
    "colab_type": "text",
    "id": "84q3YtTEkUKC"
   },
   "source": [
    "In the cell below, find all the words that appear in the text and do not appear in the blacklist. You must parse the string but can choose any data structure you wish for the words that do not appear in the blacklist. Remove all non letter characters and convert all words to lower case."
   ]
  },
  {
   "cell_type": "code",
   "execution_count": 7,
   "metadata": {
    "colab": {},
    "colab_type": "code",
    "id": "Xx0iP3skkUKE"
   },
   "outputs": [
    {
     "name": "stdout",
     "output_type": "stream",
     "text": [
      "['i', 'was', 'angry', 'with', 'my', 'friend;', 'i', 'told', 'my', 'wrath,', 'my', 'wrath', 'did', 'end.', 'i', 'was', 'angry', 'with', 'my', 'foe:', 'i', 'told', 'it', 'not,', 'my', 'wrath', 'did', 'grow.', 'i', 'waterd', 'it', 'in', 'fears,', 'night', '&', 'morning', 'with', 'my', 'tears:', 'i', 'sunned', 'it', 'with', 'smiles,', 'with', 'soft', 'deceitful', 'wiles.', 'it', 'grew', 'both', 'day', 'night.', 'till', 'it', 'bore', 'an', 'apple', 'bright.', 'my', 'foe', 'beheld', 'it', 'shine,', 'he', 'knew', 'that', 'it', 'was', 'mine.', 'into', 'my', 'garden', 'stole,', 'when', 'the', 'night', 'had', 'veild', 'the', 'pole;', 'in', 'the', 'morning', 'glad', 'i', 'see;', 'my', 'foe', 'outstretched', 'beneath', 'the', 'tree.', 'i', 'was', 'angry', 'with', 'my', 'friend;', 'i', 'told', 'my', 'wrath,', 'my', 'wrath', 'did', 'end.', 'i', 'was', 'angry', 'with', 'my', 'foe:', 'i', 'told', 'it', 'not,', 'my', 'wrath', 'did', 'grow.', 'and', 'i', 'waterd', 'it', 'in', 'fears,', 'night', '&', 'morning', 'with', 'my', 'tears:', 'and', 'i', 'sunned', 'it', 'with', 'smiles,', 'and', 'with', 'soft', 'deceitful', 'wiles.', 'and', 'it', 'grew', 'both', 'day', 'and', 'night.', 'till', 'it', 'bore', 'an', 'apple', 'bright.', 'and', 'my', 'foe', 'beheld', 'it', 'shine,', 'and', 'he', 'knew', 'that', 'it', 'was', 'mine.', 'and', 'into', 'my', 'garden', 'stole,', 'when', 'the', 'night', 'had', 'veild', 'the', 'pole;', 'in', 'the', 'morning', 'glad', 'i', 'see;', 'my', 'foe', 'outstretched', 'beneath', 'the', 'tree.', 'i', 'was', 'angry', 'with', 'my', 'friend;', 'i', 'told', 'my', 'wrath,', 'my', 'wrath', 'did', 'end.', 'i', 'was', 'angry', 'with', 'my', 'foe:', 'i', 'told', 'it', 'not,', 'my', 'wrath', 'did', 'grow.', 'and', 'i', 'waterd', 'it', 'in', 'fears,', 'night', '&', 'morning', 'with', 'my', 'tears:', 'and', 'i', 'sunned', 'it', 'with', 'smiles,', 'and', 'with', 'soft', 'deceitful', 'wiles.', 'and', 'it', 'grew', 'both', 'day', 'and', 'night.', 'till', 'it', 'bore', 'apple', 'bright.', 'and', 'my', 'foe', 'beheld', 'it', 'shine,', 'and', 'he', 'knew', 'that', 'it', 'was', 'mine.', 'and', 'into', 'my', 'garden', 'stole,', 'when', 'the', 'night', 'had', 'veild', 'the', 'pole;', 'in', 'the', 'morning', 'glad', 'i', 'see;', 'my', 'foe', 'outstretched', 'beneath', 'the', 'tree.', 'i', 'was', 'angry', 'with', 'my', 'friend;', 'i', 'told', 'my', 'wrath,', 'my', 'wrath', 'did', 'end.', 'i', 'was', 'angry', 'with', 'my', 'foe:', 'i', 'told', 'it', 'not,', 'my', 'wrath', 'did', 'grow.', 'and', 'i', 'waterd', 'it', 'in', 'fears,', 'night', '&', 'morning', 'with', 'my', 'tears:', 'and', 'i', 'sunned', 'it', 'with', 'smiles,', 'and', 'with', 'soft', 'deceitful', 'wiles.', 'and', 'it', 'grew', 'both', 'day', 'and', 'night.', 'till', 'it', 'bore', 'an', 'apple', 'bright.', 'and', 'my', 'foe', 'beheld', 'it', 'shine,', 'and', 'he', 'knew', 'that', 'it', 'was', 'mine.', 'and', 'into', 'my', 'garden', 'stole,', 'when', 'the', 'night', 'had', 'veild', 'the', 'pole;', 'in', 'the', 'morning', 'glad', 'i', 'see;', 'my', 'foe', 'outstretched', 'beneath', 'the', 'tree.', 'i', 'was', 'angry', 'with', 'my', 'friend;', 'i', 'told', 'my', 'wrath,', 'my', 'wrath', 'did', 'end.', 'i', 'was', 'angry', 'with', 'my', 'foe:', 'i', 'told', 'it', 'not,', 'my', 'wrath', 'did', 'grow.', 'and', 'i', 'waterd', 'it', 'in', 'fears,', 'night', '&', 'morning', 'with', 'my', 'tears:', 'and', 'i', 'sunned', 'it', 'with', 'smiles,', 'and', 'with', 'soft', 'deceitful', 'wiles.', 'and', 'it', 'grew', 'both', 'day', 'and', 'night.', 'till', 'it', 'bore', 'an', 'apple', 'bright.', 'and', 'my', 'foe', 'beheld', 'it', 'shine,', 'and', 'he', 'knew', 'that', 'it', 'was', 'mine.', 'and', 'into', 'my', 'garden', 'stole,', 'when', 'night', 'had', 'veild', 'pole;', 'in', 'morning', 'glad', 'i', 'see;', 'my', 'foe', 'outstretched', 'beneath', 'tree.', 'i', 'was', 'angry', 'with', 'my', 'friend;', 'i', 'told', 'my', 'wrath,', 'my', 'wrath', 'did', 'end.', 'i', 'was', 'angry', 'with', 'my', 'foe:', 'i', 'told', 'it', 'not,', 'my', 'wrath', 'did', 'grow.', 'and', 'i', 'waterd', 'it', 'fears,', 'night', '&', 'morning', 'with', 'my', 'tears:', 'and', 'i', 'sunned', 'it', 'with', 'smiles,', 'and', 'with', 'soft', 'deceitful', 'wiles.', 'and', 'it', 'grew', 'both', 'day', 'and', 'night.', 'till', 'it', 'bore', 'an', 'apple', 'bright.', 'and', 'my', 'foe', 'beheld', 'it', 'shine,', 'and', 'he', 'knew', 'that', 'it', 'was', 'mine.', 'and', 'into', 'my', 'garden', 'stole,', 'when', 'the', 'night', 'had', 'veild', 'the', 'pole;', 'the', 'morning', 'glad', 'i', 'see;', 'my', 'foe', 'outstretched', 'beneath', 'the', 'tree.', 'i', 'was', 'angry', 'with', 'my', 'friend;', 'i', 'told', 'my', 'wrath,', 'my', 'wrath', 'did', 'end.', 'i', 'was', 'angry', 'with', 'my', 'foe:', 'i', 'told', 'not,', 'my', 'wrath', 'did', 'grow.', 'and', 'i', 'waterd', 'in', 'fears,', 'night', '&', 'morning', 'with', 'my', 'tears:', 'and', 'i', 'sunned', 'with', 'smiles,', 'and', 'with', 'soft', 'deceitful', 'wiles.', 'and', 'grew', 'both', 'day', 'and', 'night.', 'till', 'bore', 'an', 'apple', 'bright.', 'and', 'my', 'foe', 'beheld', 'shine,', 'and', 'he', 'knew', 'that', 'was', 'mine.', 'and', 'into', 'my', 'garden', 'stole,', 'when', 'the', 'night', 'had', 'veild', 'the', 'pole;', 'in', 'the', 'morning', 'glad', 'i', 'see;', 'my', 'foe', 'outstretched', 'beneath', 'the', 'tree.']\n"
     ]
    }
   ],
   "source": [
    "blacklist = ['and', 'as', 'an', 'a', 'the', 'in', 'it']\n",
    "\n",
    "poem = \"\"\"I was angry with my friend; \n",
    "I told my wrath, my wrath did end.\n",
    "I was angry with my foe: \n",
    "I told it not, my wrath did grow. \n",
    "\n",
    "And I waterd it in fears,\n",
    "Night & morning with my tears: \n",
    "And I sunned it with smiles,\n",
    "And with soft deceitful wiles. \n",
    "\n",
    "And it grew both day and night. \n",
    "Till it bore an apple bright. \n",
    "And my foe beheld it shine,\n",
    "And he knew that it was mine. \n",
    "\n",
    "And into my garden stole, \n",
    "When the night had veild the pole; \n",
    "In the morning glad I see; \n",
    "My foe outstretched beneath the tree.\"\"\"\n",
    "\n",
    "# Your code here:\n",
    "list=[]\n",
    "poem2=(poem.lower()).split()\n",
    "for index in range(len(blacklist)):\n",
    "    for index2 in range(len(poem2)):\n",
    "        if(poem2[index2]!=blacklist[index]):\n",
    "            list.append(poem2[index2])\n",
    "print(list)\n"
   ]
  },
  {
   "cell_type": "markdown",
   "metadata": {
    "colab_type": "text",
    "id": "LKji8o7ayAba"
   },
   "source": [
    "# Regex\n",
    "\n",
    "Obtain a list containing all phone numbers in the text below:\n",
    "\n",
    "Note: there should be 5 of them.\n"
   ]
  },
  {
   "cell_type": "code",
   "execution_count": 8,
   "metadata": {
    "colab": {},
    "colab_type": "code",
    "id": "wM4v-225yBNP"
   },
   "outputs": [
    {
     "name": "stdout",
     "output_type": "stream",
     "text": [
      "['9789-0984', '4222-0901', '4312-5701', '9413 1383', '8993-1031']\n"
     ]
    }
   ],
   "source": [
    "import re\n",
    "text = \"\"\"\n",
    "Henry's phone number is 9789-0984\n",
    "Darlene's phone number is 4222-0901\n",
    "Andrew's phone number is 4312-5701\n",
    "James' phone number is 9413 1383\n",
    "Erica's phone number is 8993-1031\n",
    "\"\"\"\n",
    "\n",
    "oi=\"Henry's phone number is 9789-0984\"\n",
    "# Your code here\n",
    "phone = re.findall('\\d\\d\\d\\d[ -]\\d\\d\\d\\d', text)\n",
    "print(phone)"
   ]
  },
  {
   "cell_type": "markdown",
   "metadata": {
    "colab_type": "text",
    "id": "N7UZNc5lxSzZ"
   },
   "source": [
    "\n",
    "In the cell below, filter the list provided and return all elements of the list containing a number. To filter the list, use the re.search function. Check if the function does not return None. You can read more about the re.search function here."
   ]
  },
  {
   "cell_type": "code",
   "execution_count": 9,
   "metadata": {
    "colab": {},
    "colab_type": "code",
    "id": "EzUBZKGqxX-A"
   },
   "outputs": [
    {
     "name": "stdout",
     "output_type": "stream",
     "text": [
      "The element: JANE don't contain a number\n",
      "\n",
      "List Filtered: ['123abc', 'abc123', 'JohnSmith1', 'ABBY4']\n"
     ]
    }
   ],
   "source": [
    "data = ['123abc', 'abc123', 'JohnSmith1', 'ABBY4', 'JANE']\n",
    "\n",
    "# Your code here:\n",
    "data_filter=[]\n",
    "for i in data:\n",
    "    match=re.search('\\d',i)\n",
    "    if match:\n",
    "        data_filter.append(i)\n",
    "    else:\n",
    "        print(\"The element:\",i,\"don't contain a number\\n\")\n",
    "\n",
    "print(\"List Filtered:\",data_filter)\n"
   ]
  },
  {
   "cell_type": "markdown",
   "metadata": {
    "colab_type": "text",
    "id": "A2T86JzMwoLT"
   },
   "source": [
    "# Bonus Challenge - Regular Expressions \n",
    "\n",
    "In the cell below, filter the list provided to keep only strings containing at least one digit and at least one lower case letter. As in the previous question, use the `re.search` function and check that the result is not `None`.\n",
    "\n",
    "To read more about regular expressions, check out [this link](https://developers.google.com/edu/python/regular-expressions)."
   ]
  },
  {
   "cell_type": "code",
   "execution_count": 10,
   "metadata": {
    "colab": {},
    "colab_type": "code",
    "id": "rcVk3Gabwomy"
   },
   "outputs": [
    {
     "name": "stdout",
     "output_type": "stream",
     "text": [
      "The element: JANE don't attend any condition.\n",
      "\n",
      "List Filtered: ['123abc', 'abc123', 'JohnSmith1', 'ABBY4']\n"
     ]
    }
   ],
   "source": [
    "data = ['123abc', 'abc123', 'JohnSmith1', 'ABBY4', 'JANE']\n",
    "# Your code here:\n",
    "\n",
    "data_filter=[]\n",
    "for i in data:\n",
    "    match=re.search('[a-z\\d]',i)\n",
    "    if match:\n",
    "        data_filter.append(i)\n",
    "    else:\n",
    "        print(\"The element:\",i,\"don't attend any condition.\\n\")\n",
    "\n",
    "print(\"List Filtered:\",data_filter)\n"
   ]
  },
  {
   "cell_type": "markdown",
   "metadata": {
    "colab_type": "text",
    "id": "RTzGOO_Hxj5C"
   },
   "source": [
    "# Bonus for Nerds\n",
    "Given a list of reviews, a list of keywords and an integer k. Find the most popular k keywords in order of most to least frequently mentioned.\n",
    "\n",
    "The comparison of strings is case-insensitive. Multiple occurances of a keyword in a review should be considred as a single mention.\n",
    "\n",
    "Example Input:"
   ]
  },
  {
   "cell_type": "markdown",
   "metadata": {
    "colab_type": "text",
    "id": "Q_gsUz83xpGj"
   },
   "source": [
    "```python\n",
    "k = 2\n",
    "keywords = [\"anacell\", \"cetracular\", \"betacellular\"]\n",
    "reviews = [\n",
    "  \"Anacell provides the best services in the city whereas betacellular is the best of the world\",\n",
    "  \"cetracular has awesome services, cetracular is good, cetracular is awesome!\",\n",
    "  \"Best services provided by anacell, everyone should use anacell\",\n",
    "  \"Wow, betacellular services are good.\",\n",
    "]\n",
    "\n",
    "Expected Output:\n",
    "\n",
    "[\"anacell\", \"betacellular\"]\n",
    "\n",
    "# Explanation:\n",
    "# \"anacell\" and \"betacellular\" are occuring in 2 different reviews and \"cetracular\" is only occuring in 1 review, despite having so many repetitions.\n",
    "# The order doesnt matter for now\n",
    "\n",
    "```"
   ]
  },
  {
   "cell_type": "code",
   "execution_count": 32,
   "metadata": {
    "colab": {},
    "colab_type": "code",
    "id": "wn2ai6_6xl0P"
   },
   "outputs": [
    {
     "name": "stdout",
     "output_type": "stream",
     "text": [
      "['anacell', 'betacellular']\n"
     ]
    }
   ],
   "source": [
    "k = 2\n",
    "keywords = [\"anacell\", \"cetracular\", \"betacellular\"]\n",
    "reviews = [\n",
    "  \"Anacell provides the best services in the city whereas betacellular is the best of the world\",\n",
    "  \"cetracular has awesome services, cetracular is good, cetracular is awesome!\",\n",
    "  \"Best services provided by anacell, everyone should use anacell\",\n",
    "  \"Betacellular  Wow, betacellular services are good.\",\n",
    "]\n",
    "\n",
    "#Primeiro passo, analisar cada elemento de keyword que está inserido em cada frase da lista reviews:\n",
    "lista_lower=[]\n",
    "lista_upper=[]\n",
    "for a in range(len(reviews)):\n",
    "    for i in range(len(keywords)):\n",
    "        if (keywords[i]) in reviews[a]:\n",
    "            search=re.findall(keywords[i],reviews[a])\n",
    "            lista_lower.append(search) #cria uma lista com o elemento de keyword presente em cada sentença de review\n",
    "            \n",
    "        elif (keywords[i].capitalize()) in reviews[a]:\n",
    "                search2=re.findall(keywords[i].capitalize(),reviews[a])\n",
    "                lista_upper.append(search2) #cria outra lista porém levando em consideração a primeira letra maiúscula        \n",
    "                \n",
    "#Contagem da ocorrência das keywords em diferentes sentenças:\n",
    "a=0\n",
    "b=0\n",
    "c=0\n",
    "\n",
    "for h in range(len(lista_lower)):\n",
    "    if 'anacell' in lista_lower[h]:\n",
    "        a=a+1\n",
    "    elif 'betacellular' in lista_lower[h]:\n",
    "        b=b+1\n",
    "    elif 'cetracular' in lista_lower[h]:\n",
    "        c=c+1\n",
    "        \n",
    "for g in range(len(lista_upper)):\n",
    "    if 'Anacell' in lista_upper[g]:\n",
    "        a=a+1\n",
    "    if 'Betacellular' in lista_upper[g]:\n",
    "        b=b+1\n",
    "    if 'Cetracular' in lista_upper[g]:\n",
    "        c=c+1\n",
    "\n",
    "#Adiciona os dois elementos mais frequentes na lista:\n",
    "answer=[]\n",
    "if a>=b | a>=c:\n",
    "    answer.append('anacell')  \n",
    "if b>=a | b>=c:\n",
    "    answer.append('betacellular')  \n",
    "if c>=a | c>=b:\n",
    "    answer.append('betacellular')\n",
    "print(answer)\n"
   ]
  }
 ],
 "metadata": {
  "colab": {
   "collapsed_sections": [],
   "name": "main.ipynb",
   "provenance": []
  },
  "kernelspec": {
   "display_name": "Python 3",
   "language": "python",
   "name": "python3"
  },
  "language_info": {
   "codemirror_mode": {
    "name": "ipython",
    "version": 3
   },
   "file_extension": ".py",
   "mimetype": "text/x-python",
   "name": "python",
   "nbconvert_exporter": "python",
   "pygments_lexer": "ipython3",
   "version": "3.8.5"
  },
  "toc": {
   "base_numbering": 1,
   "nav_menu": {},
   "number_sections": true,
   "sideBar": true,
   "skip_h1_title": false,
   "title_cell": "Table of Contents",
   "title_sidebar": "Contents",
   "toc_cell": false,
   "toc_position": {},
   "toc_section_display": true,
   "toc_window_display": false
  },
  "varInspector": {
   "cols": {
    "lenName": 16,
    "lenType": 16,
    "lenVar": 40
   },
   "kernels_config": {
    "python": {
     "delete_cmd_postfix": "",
     "delete_cmd_prefix": "del ",
     "library": "var_list.py",
     "varRefreshCmd": "print(var_dic_list())"
    },
    "r": {
     "delete_cmd_postfix": ") ",
     "delete_cmd_prefix": "rm(",
     "library": "var_list.r",
     "varRefreshCmd": "cat(var_dic_list()) "
    }
   },
   "types_to_exclude": [
    "module",
    "function",
    "builtin_function_or_method",
    "instance",
    "_Feature"
   ],
   "window_display": false
  }
 },
 "nbformat": 4,
 "nbformat_minor": 1
}
